{
  "nbformat": 4,
  "nbformat_minor": 0,
  "metadata": {
    "colab": {
      "name": "Music Classifier Nov 16.ipynb",
      "provenance": [],
      "collapsed_sections": [],
      "include_colab_link": true
    },
    "kernelspec": {
      "name": "python3",
      "display_name": "Python 3"
    },
    "language_info": {
      "name": "python"
    },
    "accelerator": "GPU"
  },
  "cells": [
    {
      "cell_type": "markdown",
      "metadata": {
        "id": "view-in-github",
        "colab_type": "text"
      },
      "source": [
        "<a href=\"https://colab.research.google.com/github/jiahao303/music-classifier/blob/main/Music_Classifier_Dec_1_Ver2.ipynb\" target=\"_parent\"><img src=\"https://colab.research.google.com/assets/colab-badge.svg\" alt=\"Open In Colab\"/></a>"
      ]
    },
    {
      "cell_type": "markdown",
      "metadata": {
        "id": "Jn0fLy2QgX0x"
      },
      "source": [
        "# Music Classifier\n",
        "We are aiming to create a machine learning model finally to classify the genre of a song. The model will be able to classify the genre by reviewing the lyrics and the song's spotify ID. Now let's get started by looking at the machine learning pipeline!\n",
        "\n",
        "## Techniques\n",
        "Our model would take in both the lyrics and feature values of the song, which is called the **mixed data features**. Thus, we would like to do classification in a dataset containing both **text** and **numbers**.\n",
        "\n",
        "### Key Tools\n",
        "- Labeled data sets.\n",
        "- The Keras functional API (alternative to Sequential API).\n",
        "- Spotify Web API."
      ]
    },
    {
      "cell_type": "markdown",
      "metadata": {
        "id": "vy3CvKsMc1rq"
      },
      "source": [
        "## Data Preparation\n",
        "\n"
      ]
    },
    {
      "cell_type": "code",
      "metadata": {
        "id": "frFtCOMNgWzi"
      },
      "source": [
        "import numpy as np\n",
        "import pandas as pd\n",
        "import tensorflow as tf\n",
        "import re\n",
        "import string\n",
        "\n",
        "from tensorflow.keras import layers\n",
        "from tensorflow.keras import losses\n",
        "\n",
        "from tensorflow.keras.layers.experimental.preprocessing import TextVectorization\n",
        "from tensorflow.keras.layers.experimental.preprocessing import StringLookup\n",
        "from tensorflow import keras\n",
        "\n",
        "\n",
        "from sklearn.model_selection import train_test_split\n",
        "from sklearn.preprocessing import LabelEncoder\n",
        "\n",
        "# for embedding viz\n",
        "import plotly.express as px \n",
        "import plotly.io as pio\n",
        "pio.templates.default = \"plotly_white\""
      ],
      "execution_count": null,
      "outputs": []
    },
    {
      "cell_type": "markdown",
      "metadata": {
        "id": "gSd_fFAI6aym"
      },
      "source": [
        "First, we read in the music dataset downloaded from Kaggle [Music Dataset: 1950 to 2019](https://www.kaggle.com/saurabhshahane/music-dataset-1950-to-2019) and get an inspection on one of the lyrics."
      ]
    },
    {
      "cell_type": "code",
      "metadata": {
        "id": "Gh9jT5prhzFg"
      },
      "source": [
        "url = 'https://raw.githubusercontent.com/jiahao303/music-classifier/main/tcc_ceds_music.csv'\n",
        "\n",
        "df = pd.read_csv(url)\n",
        "df.head()"
      ],
      "execution_count": null,
      "outputs": []
    },
    {
      "cell_type": "code",
      "metadata": {
        "colab": {
          "base_uri": "https://localhost:8080/",
          "height": 86
        },
        "id": "zz5cxFImgzxI",
        "outputId": "8f3f07ab-975e-4f13-8f6b-56df3edd30ba"
      },
      "source": [
        "\n",
        "df = df.drop(\"Unnamed: 0\", axis =1)\n",
        "df.at[5,\"lyrics\"]"
      ],
      "execution_count": null,
      "outputs": [
        {
          "output_type": "execute_result",
          "data": {
            "application/vnd.google.colaboratory.intrinsic+json": {
              "type": "string"
            },
            "text/plain": [
              "'convoy light dead ahead merchantmen trump diesels hammer oily kill grind knuckle white eye alight slam hatch deadly night cunning chicken lair hound hell devil care run silent run deep final prayer warriors secret sleep merchantman nightmare silent death lie wait run silent run deep sink final sleep chill hearts fight open ocean wonder lethal silver fish boat shiver cast millions play killer victim fool obey order rehearse lifeboat shatter hull tear black smell burn jones eye watch crosswire tube ready medal chest weeks dead like rest run silent run deep final prayer warriors secret sleep merchantman nightmare'"
            ]
          },
          "metadata": {},
          "execution_count": 5
        }
      ]
    },
    {
      "cell_type": "markdown",
      "metadata": {
        "id": "_wOh8qj1g6zh"
      },
      "source": [
        "We found that most of the neutral words such as pronouns (i.e. we, you, I) and auxiliaries are omitted since they have no use for the sentiment identifying.\n",
        "\n",
        "Also, we want to focus on music that are recently released, so we filter out the songs released before 2000."
      ]
    },
    {
      "cell_type": "code",
      "metadata": {
        "id": "Q883p112UMlS"
      },
      "source": [
        "df = df[df[\"release_date\"] > 2000]"
      ],
      "execution_count": null,
      "outputs": []
    },
    {
      "cell_type": "markdown",
      "metadata": {
        "id": "M2LxdCWxdE7m"
      },
      "source": [
        "## Data Visualization"
      ]
    },
    {
      "cell_type": "markdown",
      "metadata": {
        "id": "vIKOHBkpUJri"
      },
      "source": [
        "Now let's visualize the data and get a sense of how feature values affect the genre classification."
      ]
    },
    {
      "cell_type": "code",
      "metadata": {
        "id": "XHgMYji-UZ5j"
      },
      "source": [
        ""
      ],
      "execution_count": null,
      "outputs": []
    },
    {
      "cell_type": "code",
      "metadata": {
        "id": "RRDPm0nIUaBt"
      },
      "source": [
        ""
      ],
      "execution_count": null,
      "outputs": []
    },
    {
      "cell_type": "markdown",
      "metadata": {
        "id": "NCTw9rWpKHlX"
      },
      "source": [
        "## Modeling: Classifying Genre with Lyrics and Feature Scalar Values\n",
        "We want to use both the lyrics of the song and feature values such as `danceability`, `energy`, `loudness`, `acousticness`, `instrumentalness`, and `valence` to predict the genre of the song."
      ]
    },
    {
      "cell_type": "markdown",
      "metadata": {
        "id": "OzSuhi1UKvLQ"
      },
      "source": [
        "First, let's take a look at the values in `genre` ."
      ]
    },
    {
      "cell_type": "code",
      "metadata": {
        "id": "u5IJIWS_QIEb",
        "colab": {
          "base_uri": "https://localhost:8080/"
        },
        "outputId": "a5fb4c6b-aaee-4000-e505-ef702a02c62b"
      },
      "source": [
        "df.groupby(\"genre\").size()"
      ],
      "execution_count": null,
      "outputs": [
        {
          "output_type": "execute_result",
          "data": {
            "text/plain": [
              "genre\n",
              "blues      1634\n",
              "country    1308\n",
              "hip hop     861\n",
              "jazz       1356\n",
              "pop        2199\n",
              "reggae     1242\n",
              "rock       1429\n",
              "dtype: int64"
            ]
          },
          "metadata": {},
          "execution_count": 7
        }
      ]
    },
    {
      "cell_type": "markdown",
      "metadata": {
        "id": "IiTVi3ElQX3l"
      },
      "source": [
        "Then, we implement the categorical encoding for the `genre` column. This step will help us to build the model in the future."
      ]
    },
    {
      "cell_type": "code",
      "metadata": {
        "id": "b8YXHBzQQewm"
      },
      "source": [
        "le2 = LabelEncoder()\n",
        "le2.fit_transform(df[\"genre\"])\n",
        "num_genres = len(df[\"genre\"].unique())\n",
        "le_name_mapping = dict(zip(le2.classes_, le2.transform(le2.classes_)))\n",
        "print(le_name_mapping)"
      ],
      "execution_count": null,
      "outputs": []
    },
    {
      "cell_type": "markdown",
      "metadata": {
        "id": "MtKrJ5BXemlO"
      },
      "source": [
        "Now we are ready to construct a `Tensorflow` Dataset. \n",
        "We define the scalars, which will be the predictive data for our model."
      ]
    },
    {
      "cell_type": "code",
      "metadata": {
        "id": "pPOuVCuUelrf"
      },
      "source": [
        "scalars = ['danceability',\n",
        "           \"energy\",\n",
        "           \"loudness\",\n",
        "           'acousticness', \n",
        "           'instrumentalness', \n",
        "           'valence']        "
      ],
      "execution_count": null,
      "outputs": []
    },
    {
      "cell_type": "markdown",
      "metadata": {
        "id": "8cqmV-4uexfu"
      },
      "source": [
        "Our model is going to use `lyrics` and `scalars` as the predictive data and `genre` as the target data.\n",
        "\n",
        "Since we have multiple inputs, we are going to construct our `Dataset` from a tuple of dictionaries. The first dictionary is going to specify the different components in the predictor data, while the second dictionary is going to specify the components of the target data."
      ]
    },
    {
      "cell_type": "code",
      "metadata": {
        "id": "j9lCle_rerTC"
      },
      "source": [
        "data = tf.data.Dataset.from_tensor_slices(\n",
        "    (\n",
        "        {\n",
        "            \"lyrics\" : df[[\"lyrics\"]], \n",
        "            \"scalars\" : df[scalars]\n",
        "        }, \n",
        "        {\n",
        "            \"genre\" : df[[\"genre\"]]\n",
        "        }\n",
        "    )\n",
        ")"
      ],
      "execution_count": null,
      "outputs": []
    },
    {
      "cell_type": "code",
      "metadata": {
        "colab": {
          "base_uri": "https://localhost:8080/",
          "height": 419
        },
        "id": "0dR9rbBCHVzn",
        "outputId": "fceeb074-34a7-49f9-d9d0-5b6ff376004d"
      },
      "source": [
        "df[[\"lyrics\"]]"
      ],
      "execution_count": null,
      "outputs": [
        {
          "output_type": "execute_result",
          "data": {
            "text/html": [
              "<div>\n",
              "<style scoped>\n",
              "    .dataframe tbody tr th:only-of-type {\n",
              "        vertical-align: middle;\n",
              "    }\n",
              "\n",
              "    .dataframe tbody tr th {\n",
              "        vertical-align: top;\n",
              "    }\n",
              "\n",
              "    .dataframe thead th {\n",
              "        text-align: right;\n",
              "    }\n",
              "</style>\n",
              "<table border=\"1\" class=\"dataframe\">\n",
              "  <thead>\n",
              "    <tr style=\"text-align: right;\">\n",
              "      <th></th>\n",
              "      <th>lyrics</th>\n",
              "    </tr>\n",
              "  </thead>\n",
              "  <tbody>\n",
              "    <tr>\n",
              "      <th>4843</th>\n",
              "      <td>yeah thinkin thoughts mind gonna finger gonna ...</td>\n",
              "    </tr>\n",
              "    <tr>\n",
              "      <th>4844</th>\n",
              "      <td>want learn reach grab cause everybody want bab...</td>\n",
              "    </tr>\n",
              "    <tr>\n",
              "      <th>4845</th>\n",
              "      <td>head head head head head head head head head h...</td>\n",
              "    </tr>\n",
              "    <tr>\n",
              "      <th>4846</th>\n",
              "      <td>mechakucha odotte sawago sawago headbanger yea...</td>\n",
              "    </tr>\n",
              "    <tr>\n",
              "      <th>4847</th>\n",
              "      <td>want come cause room drink half beer right thi...</td>\n",
              "    </tr>\n",
              "    <tr>\n",
              "      <th>...</th>\n",
              "      <td>...</td>\n",
              "    </tr>\n",
              "    <tr>\n",
              "      <th>28367</th>\n",
              "      <td>cause fuck leave scar tick tock clock come kno...</td>\n",
              "    </tr>\n",
              "    <tr>\n",
              "      <th>28368</th>\n",
              "      <td>minks things chain ring braclets yap fame come...</td>\n",
              "    </tr>\n",
              "    <tr>\n",
              "      <th>28369</th>\n",
              "      <td>get ban get ban stick crack relax plan attack ...</td>\n",
              "    </tr>\n",
              "    <tr>\n",
              "      <th>28370</th>\n",
              "      <td>check check yeah yeah hear thing call switch g...</td>\n",
              "    </tr>\n",
              "    <tr>\n",
              "      <th>28371</th>\n",
              "      <td>remix killer alive remix thriller trap bitch s...</td>\n",
              "    </tr>\n",
              "  </tbody>\n",
              "</table>\n",
              "<p>10029 rows × 1 columns</p>\n",
              "</div>"
            ],
            "text/plain": [
              "                                                  lyrics\n",
              "4843   yeah thinkin thoughts mind gonna finger gonna ...\n",
              "4844   want learn reach grab cause everybody want bab...\n",
              "4845   head head head head head head head head head h...\n",
              "4846   mechakucha odotte sawago sawago headbanger yea...\n",
              "4847   want come cause room drink half beer right thi...\n",
              "...                                                  ...\n",
              "28367  cause fuck leave scar tick tock clock come kno...\n",
              "28368  minks things chain ring braclets yap fame come...\n",
              "28369  get ban get ban stick crack relax plan attack ...\n",
              "28370  check check yeah yeah hear thing call switch g...\n",
              "28371  remix killer alive remix thriller trap bitch s...\n",
              "\n",
              "[10029 rows x 1 columns]"
            ]
          },
          "metadata": {},
          "execution_count": 9
        }
      ]
    },
    {
      "cell_type": "markdown",
      "metadata": {
        "id": "INOszMYGfFpD"
      },
      "source": [
        "We perform train/test/validation split. For each of the three split of `Datasets`, we are going to *batch* them into small chunks of data, which helps with training runtime later. "
      ]
    },
    {
      "cell_type": "code",
      "metadata": {
        "id": "G8dJS5zse2lP",
        "colab": {
          "base_uri": "https://localhost:8080/"
        },
        "outputId": "2af959a1-b58c-47f3-d929-e79949e342a8"
      },
      "source": [
        "print(len(data), data)\n",
        "\n",
        "data = data.shuffle(buffer_size = len(data))\n",
        "\n",
        "train_size = int(0.7*len(data))\n",
        "val_size   = int(0.1*len(data))\n",
        "\n",
        "train = data.take(train_size).batch(20)\n",
        "val   = data.skip(train_size).take(val_size).batch(20)\n",
        "test  = data.skip(train_size + val_size).batch(20)\n",
        "\n",
        "len(train), len(val), len(test)"
      ],
      "execution_count": null,
      "outputs": [
        {
          "output_type": "stream",
          "name": "stdout",
          "text": [
            "10029 <TensorSliceDataset shapes: ({lyrics: (1,), scalars: (6,)}, {genre: (1,)}), types: ({lyrics: tf.string, scalars: tf.float64}, {genre: tf.int64})>\n"
          ]
        },
        {
          "output_type": "execute_result",
          "data": {
            "text/plain": [
              "(351, 51, 101)"
            ]
          },
          "metadata": {},
          "execution_count": 11
        }
      ]
    },
    {
      "cell_type": "markdown",
      "metadata": {
        "id": "QzOj5hb21mc5"
      },
      "source": [
        "In the following text processing, we use Keras TextVectorization() method to convert the text into vectors and convert the inputs to Keras objects."
      ]
    },
    {
      "cell_type": "code",
      "metadata": {
        "id": "W34_KfNCiCuT"
      },
      "source": [
        "size_vocabulary = 2000\n",
        "\n",
        "vectorize_layer = TextVectorization(\n",
        "    standardize=\"lower_and_strip_punctuation\",\n",
        "    max_tokens= size_vocabulary, # only consider this many words\n",
        "    output_mode='int',\n",
        "    output_sequence_length=500) \n",
        "\n",
        "vectorize_layer.adapt(train.map(lambda x, y: x[\"lyrics\"]))"
      ],
      "execution_count": null,
      "outputs": []
    },
    {
      "cell_type": "code",
      "metadata": {
        "id": "Z4YL16VWfsyU"
      },
      "source": [
        "scalars_input = keras.Input(\n",
        "    shape = (len(scalars),), \n",
        "    name = \"scalars\",\n",
        "    dtype = \"float64\"\n",
        ")"
      ],
      "execution_count": null,
      "outputs": []
    },
    {
      "cell_type": "code",
      "metadata": {
        "id": "aYNqF4Ihil3K"
      },
      "source": [
        "lyrics_input = keras.Input(\n",
        "    shape = (1,), \n",
        "    name = \"lyrics\",\n",
        "    dtype = \"string\"\n",
        ")"
      ],
      "execution_count": null,
      "outputs": []
    },
    {
      "cell_type": "code",
      "metadata": {
        "colab": {
          "base_uri": "https://localhost:8080/"
        },
        "id": "R5GhI_0MeM6c",
        "outputId": "01a3b184-c00a-4034-ec24-03e45ea48702"
      },
      "source": [
        "print(scalars_input)"
      ],
      "execution_count": null,
      "outputs": [
        {
          "output_type": "stream",
          "name": "stdout",
          "text": [
            "KerasTensor(type_spec=TensorSpec(shape=(None, 6), dtype=tf.float64, name='scalars'), name='scalars', description=\"created by layer 'scalars'\")\n"
          ]
        }
      ]
    },
    {
      "cell_type": "code",
      "metadata": {
        "colab": {
          "base_uri": "https://localhost:8080/"
        },
        "id": "3gKyRwLKeUQv",
        "outputId": "5f3178e8-19b1-4efb-94d1-bed86136c6d6"
      },
      "source": [
        "print(lyrics_input)"
      ],
      "execution_count": null,
      "outputs": [
        {
          "output_type": "stream",
          "name": "stdout",
          "text": [
            "KerasTensor(type_spec=TensorSpec(shape=(None, 1), dtype=tf.string, name='lyrics'), name='lyrics', description=\"created by layer 'lyrics'\")\n"
          ]
        }
      ]
    },
    {
      "cell_type": "code",
      "metadata": {
        "id": "u7mrSBV9i3_z"
      },
      "source": [
        "lyrics_features = vectorize_layer(lyrics_input)\n",
        "lyrics_features = layers.Embedding(size_vocabulary, 7, name = \"embedding\")(lyrics_features)\n",
        "lyrics_features = layers.Dropout(0.2)(lyrics_features)\n",
        "lyrics_features = layers.GlobalAveragePooling1D()(lyrics_features)\n",
        "lyrics_features = layers.Dropout(0.2)(lyrics_features)\n",
        "lyrics_features = layers.Dense(64, activation='relu')(lyrics_features)"
      ],
      "execution_count": null,
      "outputs": []
    },
    {
      "cell_type": "code",
      "metadata": {
        "id": "-0k9Ll44f1-z"
      },
      "source": [
        "scalar_features = layers.Dense(64, activation='relu')(scalars_input)"
      ],
      "execution_count": null,
      "outputs": []
    },
    {
      "cell_type": "markdown",
      "metadata": {
        "id": "1o4f-7SGpl_K"
      },
      "source": [
        "In the following part, we are going to concatenate the output derived from lyrics pipeline and scalars pipeline. "
      ]
    },
    {
      "cell_type": "code",
      "metadata": {
        "id": "d-pW_HKjp22r"
      },
      "source": [
        "main = layers.concatenate([lyrics_features, scalar_features], axis = 1)\n",
        "main = layers.Dense(256, activation='relu')(main)\n",
        "main = layers.Dense(64, activation='relu')(main)\n",
        "main = layers.Dense(32, activation='relu')(main)\n",
        "output = layers.Dense(num_genres, name = \"genre\", activation = 'softmax')(main)"
      ],
      "execution_count": null,
      "outputs": []
    },
    {
      "cell_type": "code",
      "metadata": {
        "id": "ougbhQfJgBkP"
      },
      "source": [
        "model = keras.Model(\n",
        "    inputs = [lyrics_input, scalars_input],\n",
        "    outputs = output\n",
        ")"
      ],
      "execution_count": null,
      "outputs": []
    },
    {
      "cell_type": "markdown",
      "metadata": {
        "id": "jeZjByEMgxHL"
      },
      "source": [
        "So far, we have successfully built the model. Use the `plot_model()` function to take a look at the visualized structure of the model."
      ]
    },
    {
      "cell_type": "code",
      "metadata": {
        "id": "oLKFjZq1g9e2",
        "colab": {
          "base_uri": "https://localhost:8080/",
          "height": 1000
        },
        "outputId": "80cd7df4-45a4-4337-918c-7a3332a516f5"
      },
      "source": [
        "keras.utils.plot_model(model)"
      ],
      "execution_count": null,
      "outputs": [
        {
          "output_type": "execute_result",
          "data": {
            "image/png": "[encoded data removed]",
            "text/plain": [
              "<IPython.core.display.Image object>"
            ]
          },
          "metadata": {},
          "execution_count": 17
        }
      ]
    },
    {
      "cell_type": "markdown",
      "metadata": {
        "id": "6AduQ6YIhI3G"
      },
      "source": [
        "Then, we train and evaluate the model."
      ]
    },
    {
      "cell_type": "code",
      "metadata": {
        "id": "U6cbmdFghClO"
      },
      "source": [
        "model.compile(optimizer = \"adam\",\n",
        "              loss = losses.SparseCategoricalCrossentropy(from_logits=False),\n",
        "              metrics=['accuracy']\n",
        ")"
      ],
      "execution_count": null,
      "outputs": []
    },
    {
      "cell_type": "code",
      "metadata": {
        "id": "GdXDWLiChPUj",
        "colab": {
          "base_uri": "https://localhost:8080/"
        },
        "outputId": "72d4ff30-7e4f-4633-bcbb-3b7b592b0d0c"
      },
      "source": [
        "history = model.fit(train, \n",
        "                    validation_data=val,\n",
        "                    epochs = 120, \n",
        "                    verbose = True)"
      ],
      "execution_count": null,
      "outputs": [
        {
          "output_type": "stream",
          "name": "stdout",
          "text": [
            "Epoch 1/60\n",
            "351/351 [==============================] - 3s 7ms/step - loss: 1.7517 - accuracy: 0.3011 - val_loss: 1.6091 - val_accuracy: 0.3533\n",
            "Epoch 2/60\n",
            "351/351 [==============================] - 2s 7ms/step - loss: 1.5903 - accuracy: 0.3623 - val_loss: 1.5632 - val_accuracy: 0.3713\n",
            "Epoch 3/60\n",
            "351/351 [==============================] - 2s 6ms/step - loss: 1.5433 - accuracy: 0.3843 - val_loss: 1.4895 - val_accuracy: 0.4082\n",
            "Epoch 4/60\n",
            "351/351 [==============================] - 2s 6ms/step - loss: 1.4934 - accuracy: 0.4178 - val_loss: 1.4757 - val_accuracy: 0.4331\n",
            "Epoch 5/60\n",
            "351/351 [==============================] - 2s 6ms/step - loss: 1.4312 - accuracy: 0.4449 - val_loss: 1.3636 - val_accuracy: 0.5000\n",
            "Epoch 6/60\n",
            "351/351 [==============================] - 2s 6ms/step - loss: 1.3827 - accuracy: 0.4762 - val_loss: 1.2812 - val_accuracy: 0.5369\n",
            "Epoch 7/60\n",
            "351/351 [==============================] - 2s 6ms/step - loss: 1.3427 - accuracy: 0.4902 - val_loss: 1.3195 - val_accuracy: 0.5240\n",
            "Epoch 8/60\n",
            "351/351 [==============================] - 2s 6ms/step - loss: 1.3132 - accuracy: 0.5075 - val_loss: 1.2724 - val_accuracy: 0.5170\n",
            "Epoch 9/60\n",
            "351/351 [==============================] - 2s 6ms/step - loss: 1.2877 - accuracy: 0.5239 - val_loss: 1.1998 - val_accuracy: 0.5599\n",
            "Epoch 10/60\n",
            "351/351 [==============================] - 2s 6ms/step - loss: 1.2623 - accuracy: 0.5299 - val_loss: 1.2377 - val_accuracy: 0.5349\n",
            "Epoch 11/60\n",
            "351/351 [==============================] - 2s 6ms/step - loss: 1.2373 - accuracy: 0.5433 - val_loss: 1.1712 - val_accuracy: 0.5649\n",
            "Epoch 12/60\n",
            "351/351 [==============================] - 2s 6ms/step - loss: 1.2215 - accuracy: 0.5540 - val_loss: 1.0737 - val_accuracy: 0.6098\n",
            "Epoch 13/60\n",
            "351/351 [==============================] - 2s 5ms/step - loss: 1.1810 - accuracy: 0.5651 - val_loss: 1.1337 - val_accuracy: 0.5848\n",
            "Epoch 14/60\n",
            "351/351 [==============================] - 2s 6ms/step - loss: 1.1620 - accuracy: 0.5769 - val_loss: 1.1151 - val_accuracy: 0.5928\n",
            "Epoch 15/60\n",
            "351/351 [==============================] - 2s 6ms/step - loss: 1.1373 - accuracy: 0.5859 - val_loss: 1.0600 - val_accuracy: 0.6248\n",
            "Epoch 16/60\n",
            "351/351 [==============================] - 2s 6ms/step - loss: 1.1413 - accuracy: 0.5819 - val_loss: 1.0714 - val_accuracy: 0.6158\n",
            "Epoch 17/60\n",
            "351/351 [==============================] - 2s 6ms/step - loss: 1.1257 - accuracy: 0.5887 - val_loss: 1.0254 - val_accuracy: 0.6238\n",
            "Epoch 18/60\n",
            "351/351 [==============================] - 2s 6ms/step - loss: 1.1080 - accuracy: 0.5962 - val_loss: 1.0075 - val_accuracy: 0.6537\n",
            "Epoch 19/60\n",
            "351/351 [==============================] - 2s 6ms/step - loss: 1.1012 - accuracy: 0.5957 - val_loss: 0.9440 - val_accuracy: 0.6607\n",
            "Epoch 20/60\n",
            "351/351 [==============================] - 2s 6ms/step - loss: 1.0847 - accuracy: 0.6026 - val_loss: 1.0130 - val_accuracy: 0.6188\n",
            "Epoch 21/60\n",
            "351/351 [==============================] - 2s 6ms/step - loss: 1.0730 - accuracy: 0.6071 - val_loss: 0.9722 - val_accuracy: 0.6447\n",
            "Epoch 22/60\n",
            "351/351 [==============================] - 2s 6ms/step - loss: 1.0604 - accuracy: 0.6114 - val_loss: 0.9758 - val_accuracy: 0.6387\n",
            "Epoch 23/60\n",
            "351/351 [==============================] - 2s 6ms/step - loss: 1.0683 - accuracy: 0.6080 - val_loss: 1.0369 - val_accuracy: 0.6228\n",
            "Epoch 24/60\n",
            "351/351 [==============================] - 2s 6ms/step - loss: 1.0565 - accuracy: 0.6151 - val_loss: 1.0334 - val_accuracy: 0.6218\n",
            "Epoch 25/60\n",
            "351/351 [==============================] - 2s 6ms/step - loss: 1.0260 - accuracy: 0.6323 - val_loss: 0.9564 - val_accuracy: 0.6647\n",
            "Epoch 26/60\n",
            "351/351 [==============================] - 2s 5ms/step - loss: 1.0413 - accuracy: 0.6255 - val_loss: 0.9327 - val_accuracy: 0.6707\n",
            "Epoch 27/60\n",
            "351/351 [==============================] - 2s 5ms/step - loss: 1.0372 - accuracy: 0.6229 - val_loss: 0.9707 - val_accuracy: 0.6637\n",
            "Epoch 28/60\n",
            "351/351 [==============================] - 2s 5ms/step - loss: 1.0380 - accuracy: 0.6158 - val_loss: 0.9699 - val_accuracy: 0.6617\n",
            "Epoch 29/60\n",
            "351/351 [==============================] - 2s 5ms/step - loss: 1.0191 - accuracy: 0.6235 - val_loss: 0.9299 - val_accuracy: 0.6766\n",
            "Epoch 30/60\n",
            "351/351 [==============================] - 2s 5ms/step - loss: 1.0232 - accuracy: 0.6302 - val_loss: 0.9678 - val_accuracy: 0.6367\n",
            "Epoch 31/60\n",
            "351/351 [==============================] - 2s 5ms/step - loss: 1.0114 - accuracy: 0.6329 - val_loss: 0.9915 - val_accuracy: 0.6487\n",
            "Epoch 32/60\n",
            "351/351 [==============================] - 2s 6ms/step - loss: 1.0078 - accuracy: 0.6285 - val_loss: 0.9213 - val_accuracy: 0.6737\n",
            "Epoch 33/60\n",
            "351/351 [==============================] - 2s 6ms/step - loss: 0.9988 - accuracy: 0.6442 - val_loss: 0.8966 - val_accuracy: 0.6786\n",
            "Epoch 34/60\n",
            "351/351 [==============================] - 2s 6ms/step - loss: 0.9928 - accuracy: 0.6385 - val_loss: 0.9234 - val_accuracy: 0.6497\n",
            "Epoch 35/60\n",
            "351/351 [==============================] - 2s 6ms/step - loss: 0.9917 - accuracy: 0.6390 - val_loss: 0.9037 - val_accuracy: 0.6707\n",
            "Epoch 36/60\n",
            "351/351 [==============================] - 2s 6ms/step - loss: 0.9756 - accuracy: 0.6400 - val_loss: 0.9246 - val_accuracy: 0.6737\n",
            "Epoch 37/60\n",
            "351/351 [==============================] - 2s 6ms/step - loss: 0.9880 - accuracy: 0.6293 - val_loss: 0.9019 - val_accuracy: 0.6916\n",
            "Epoch 38/60\n",
            "351/351 [==============================] - 2s 6ms/step - loss: 0.9906 - accuracy: 0.6358 - val_loss: 0.8801 - val_accuracy: 0.6846\n",
            "Epoch 39/60\n",
            "351/351 [==============================] - 2s 6ms/step - loss: 0.9711 - accuracy: 0.6469 - val_loss: 0.9083 - val_accuracy: 0.6687\n",
            "Epoch 40/60\n",
            "351/351 [==============================] - 2s 5ms/step - loss: 0.9691 - accuracy: 0.6510 - val_loss: 0.8402 - val_accuracy: 0.7166\n",
            "Epoch 41/60\n",
            "351/351 [==============================] - 2s 5ms/step - loss: 0.9714 - accuracy: 0.6523 - val_loss: 0.8341 - val_accuracy: 0.6986\n",
            "Epoch 42/60\n",
            "351/351 [==============================] - 2s 6ms/step - loss: 0.9585 - accuracy: 0.6483 - val_loss: 0.8776 - val_accuracy: 0.6737\n",
            "Epoch 43/60\n",
            "351/351 [==============================] - 2s 6ms/step - loss: 0.9544 - accuracy: 0.6479 - val_loss: 0.9143 - val_accuracy: 0.6916\n",
            "Epoch 44/60\n",
            "351/351 [==============================] - 2s 6ms/step - loss: 0.9667 - accuracy: 0.6470 - val_loss: 0.8603 - val_accuracy: 0.6986\n",
            "Epoch 45/60\n",
            "351/351 [==============================] - 2s 6ms/step - loss: 0.9488 - accuracy: 0.6548 - val_loss: 0.8247 - val_accuracy: 0.7146\n",
            "Epoch 46/60\n",
            "351/351 [==============================] - 2s 6ms/step - loss: 0.9377 - accuracy: 0.6521 - val_loss: 0.8046 - val_accuracy: 0.6986\n",
            "Epoch 47/60\n",
            "351/351 [==============================] - 2s 6ms/step - loss: 0.9372 - accuracy: 0.6614 - val_loss: 0.8470 - val_accuracy: 0.7006\n",
            "Epoch 48/60\n",
            "351/351 [==============================] - 2s 6ms/step - loss: 0.9282 - accuracy: 0.6648 - val_loss: 0.8416 - val_accuracy: 0.7076\n",
            "Epoch 49/60\n",
            "351/351 [==============================] - 2s 6ms/step - loss: 0.9320 - accuracy: 0.6574 - val_loss: 0.8359 - val_accuracy: 0.7056\n",
            "Epoch 50/60\n",
            "351/351 [==============================] - 2s 6ms/step - loss: 0.9394 - accuracy: 0.6574 - val_loss: 0.8888 - val_accuracy: 0.6836\n",
            "Epoch 51/60\n",
            "351/351 [==============================] - 2s 6ms/step - loss: 0.9253 - accuracy: 0.6591 - val_loss: 0.7554 - val_accuracy: 0.7345\n",
            "Epoch 52/60\n",
            "351/351 [==============================] - 2s 6ms/step - loss: 0.9222 - accuracy: 0.6658 - val_loss: 0.7597 - val_accuracy: 0.7206\n",
            "Epoch 53/60\n",
            "351/351 [==============================] - 2s 5ms/step - loss: 0.9226 - accuracy: 0.6605 - val_loss: 0.8177 - val_accuracy: 0.7106\n",
            "Epoch 54/60\n",
            "351/351 [==============================] - 2s 5ms/step - loss: 0.9203 - accuracy: 0.6701 - val_loss: 0.7889 - val_accuracy: 0.7076\n",
            "Epoch 55/60\n",
            "351/351 [==============================] - 2s 5ms/step - loss: 0.9178 - accuracy: 0.6644 - val_loss: 0.8246 - val_accuracy: 0.7116\n",
            "Epoch 56/60\n",
            "351/351 [==============================] - 2s 5ms/step - loss: 0.9244 - accuracy: 0.6647 - val_loss: 0.8006 - val_accuracy: 0.7136\n",
            "Epoch 57/60\n",
            "351/351 [==============================] - 2s 6ms/step - loss: 0.9118 - accuracy: 0.6642 - val_loss: 0.8888 - val_accuracy: 0.6796\n",
            "Epoch 58/60\n",
            "351/351 [==============================] - 2s 6ms/step - loss: 0.9102 - accuracy: 0.6702 - val_loss: 0.7624 - val_accuracy: 0.7365\n",
            "Epoch 59/60\n",
            "351/351 [==============================] - 2s 5ms/step - loss: 0.8918 - accuracy: 0.6744 - val_loss: 0.7942 - val_accuracy: 0.7186\n",
            "Epoch 60/60\n",
            "351/351 [==============================] - 2s 6ms/step - loss: 0.8930 - accuracy: 0.6748 - val_loss: 0.7364 - val_accuracy: 0.7355\n"
          ]
        }
      ]
    },
    {
      "cell_type": "code",
      "metadata": {
        "id": "RvoMBSDthmUy",
        "colab": {
          "base_uri": "https://localhost:8080/",
          "height": 312
        },
        "outputId": "e55b89bf-9ae2-43a7-f7ef-2066b05c6daf"
      },
      "source": [
        "from matplotlib import pyplot as plt\n",
        "\n",
        "# summarize history for accuracy\n",
        "plt.plot(history.history[\"accuracy\"], label = \"training\")\n",
        "plt.plot(history.history[\"val_accuracy\"], label = \"validation\")\n",
        "plt.title(\"Model Accuracy\")\n",
        "plt.xlabel(\"Epoch\")\n",
        "plt.ylabel(\"Accuracy\")\n",
        "plt.legend([\"training\",\"validation\"], loc = \"upper left\")\n"
      ],
      "execution_count": null,
      "outputs": [
        {
          "output_type": "execute_result",
          "data": {
            "text/plain": [
              "<matplotlib.legend.Legend at 0x7f00f255ee10>"
            ]
          },
          "metadata": {},
          "execution_count": 22
        },
        {
          "output_type": "display_data",
          "data": {
            "image/png": "[encoded data removed]",
            "text/plain": [
              "<Figure size 432x288 with 1 Axes>"
            ]
          },
          "metadata": {
            "needs_background": "light"
          }
        }
      ]
    },
    {
      "cell_type": "code",
      "metadata": {
        "id": "Ly0G9eJtarge",
        "colab": {
          "base_uri": "https://localhost:8080/",
          "height": 295
        },
        "outputId": "f0c8706c-b314-4c30-8ca1-51ed88f11e53"
      },
      "source": [
        "# summarize history for loss\n",
        "plt.plot(history.history['loss'])\n",
        "plt.plot(history.history['val_loss'])\n",
        "plt.title('Model Loss')\n",
        "plt.ylabel('Loss')\n",
        "plt.xlabel('Epoch')\n",
        "plt.legend(['training', 'testing'], loc='upper left')\n",
        "plt.show()"
      ],
      "execution_count": null,
      "outputs": [
        {
          "output_type": "display_data",
          "data": {
            "image/png": "[encoded data removed]",
            "text/plain": [
              "<Figure size 432x288 with 1 Axes>"
            ]
          },
          "metadata": {
            "needs_background": "light"
          }
        }
      ]
    },
    {
      "cell_type": "markdown",
      "metadata": {
        "id": "JqcXEKqMXtCE"
      },
      "source": [
        "Observing the training history, we can see that the validation accuracy stablizes around **80%** and the loss gradually decreases."
      ]
    },
    {
      "cell_type": "markdown",
      "metadata": {
        "id": "Aq2pBOibCQv2"
      },
      "source": [
        "## Saving the model\n",
        "Finally, we save the trained model from Google Colab to the Google Drive using the following code. "
      ]
    },
    {
      "cell_type": "code",
      "metadata": {
        "colab": {
          "base_uri": "https://localhost:8080/"
        },
        "id": "VvFpoHO8BigB",
        "outputId": "08629678-419a-4b9d-833e-6f8173caef5e"
      },
      "source": [
        "from google.colab import drive\n",
        "drive.mount('/content/gdrive')\n",
        "import os\n",
        "model.save('/content/gdrive/MyDrive/fake_model4', save_format='tf')"
      ],
      "execution_count": null,
      "outputs": [
        {
          "output_type": "stream",
          "name": "stdout",
          "text": [
            "Drive already mounted at /content/gdrive; to attempt to forcibly remount, call drive.mount(\"/content/gdrive\", force_remount=True).\n",
            "INFO:tensorflow:Assets written to: /content/gdrive/MyDrive/fake_model4/assets\n"
          ]
        }
      ]
    },
    {
      "cell_type": "code",
      "metadata": {
        "colab": {
          "base_uri": "https://localhost:8080/"
        },
        "id": "D2kdJNPNEdEw",
        "outputId": "73818388-413f-4dfc-c3df-41f222278ec0"
      },
      "source": [
        "from google.colab import drive\n",
        "drive.mount('/content/drive')"
      ],
      "execution_count": null,
      "outputs": [
        {
          "output_type": "stream",
          "name": "stdout",
          "text": [
            "Drive already mounted at /content/drive; to attempt to forcibly remount, call drive.mount(\"/content/drive\", force_remount=True).\n"
          ]
        }
      ]
    }
  ]
}