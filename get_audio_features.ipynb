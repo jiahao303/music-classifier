{
 "cells": [
  {
   "cell_type": "markdown",
   "id": "08b8a61d",
   "metadata": {},
   "source": [
    "In this blog post, we are going to use Spotify Web API to help us get the audio features (i.e. danceablity, loudness,etc.) of an user-specified song on Spotify. These audio features are helpful to genre identification."
   ]
  },
  {
   "cell_type": "code",
   "execution_count": 8,
   "id": "42adc089",
   "metadata": {},
   "outputs": [],
   "source": [
    "import spotipy\n",
    "import spotipy.oauth2\n",
    "import requests\n",
    "import pandas as pd"
   ]
  },
  {
   "cell_type": "markdown",
   "id": "2ce47fd0",
   "metadata": {},
   "source": [
    "First we’ll use our Client ID and Client Secret to generate an access token so we can pull data from Spotify’s API. I figured out how to do this using the help of this [blog post](https://stmorse.github.io/journal/spotify-api.html).\n",
    "\n",
    "We define a function for repeated use of getting track features for a certain audio. The function requires the track_id of a song from the user input. According to [Web API docs](https://developer.spotify.com/documentation/web-api/) and this blog post, we can get track id by:\n",
    "1. Click to the three dots next to the artist name/album/track title\n",
    "2. Click 'Share'\n",
    "3. Click 'Copy Song Link' from the second menu\n",
    "4. The id is at the very end of the URL; that is, the URL is in the form of \"https://open.spotify.com/track/\"+id\""
   ]
  },
  {
   "cell_type": "code",
   "execution_count": 9,
   "id": "e11a4176",
   "metadata": {},
   "outputs": [],
   "source": [
    "def get_track_features(track_id):\n",
    "    \"\"\"\n",
    "    Access the input of a song's Spotify ID,\n",
    "    output the features in a dataframe\n",
    "    \"\"\"\n",
    "    # use Client ID and Client Secret for Spotify Developer\n",
    "    CLIENT_ID = \"8e256a7b32f845ec9aebf81ae0feadb4\"\n",
    "    CLIENT_SECRET = '928d1a35600041eea6c69f97205fac6c'\n",
    "    \n",
    "    AUTH_URL = 'https://accounts.spotify.com/api/token'\n",
    "\n",
    "    # POST\n",
    "    auth_response = requests.post(AUTH_URL, {\n",
    "        'grant_type': 'client_credentials',\n",
    "        'client_id': CLIENT_ID,\n",
    "        'client_secret': CLIENT_SECRET,\n",
    "    })\n",
    "\n",
    "    # convert the response to JSON\n",
    "    auth_response_data = auth_response.json()\n",
    "\n",
    "    # save the access token\n",
    "    access_token = auth_response_data['access_token']\n",
    "    \n",
    "    headers = {\n",
    "        'Authorization': 'Bearer {token}'.format(token=access_token)\n",
    "    }\n",
    "    \n",
    "    # base URL of all Spotify API endpoints\n",
    "    BASE_URL = 'https://api.spotify.com/v1/'\n",
    "\n",
    "    # Track ID from the URI\n",
    "    track_id = track_id\n",
    "\n",
    "    # actual GET request with proper header\n",
    "    r = requests.get(BASE_URL + 'audio-features/' + track_id, headers=headers)\n",
    "    r = r.json()\n",
    "    \n",
    "    # r is a dictionary with our desired feature and values\n",
    "    # transform the dictionary into a dataframe\n",
    "    # drop the unnecessary columns\n",
    "    features = pd.DataFrame(r,index = [0])\n",
    "    features = features.drop([\"uri\",\"track_href\",\"analysis_url\"],axis = 1)\n",
    "    \n",
    "    return features"
   ]
  },
  {
   "cell_type": "code",
   "execution_count": 10,
   "id": "54311e22",
   "metadata": {},
   "outputs": [
    {
     "data": {
      "text/html": [
       "<div>\n",
       "<style scoped>\n",
       "    .dataframe tbody tr th:only-of-type {\n",
       "        vertical-align: middle;\n",
       "    }\n",
       "\n",
       "    .dataframe tbody tr th {\n",
       "        vertical-align: top;\n",
       "    }\n",
       "\n",
       "    .dataframe thead th {\n",
       "        text-align: right;\n",
       "    }\n",
       "</style>\n",
       "<table border=\"1\" class=\"dataframe\">\n",
       "  <thead>\n",
       "    <tr style=\"text-align: right;\">\n",
       "      <th></th>\n",
       "      <th>danceability</th>\n",
       "      <th>energy</th>\n",
       "      <th>key</th>\n",
       "      <th>loudness</th>\n",
       "      <th>mode</th>\n",
       "      <th>speechiness</th>\n",
       "      <th>acousticness</th>\n",
       "      <th>instrumentalness</th>\n",
       "      <th>liveness</th>\n",
       "      <th>valence</th>\n",
       "      <th>tempo</th>\n",
       "      <th>type</th>\n",
       "      <th>id</th>\n",
       "      <th>duration_ms</th>\n",
       "      <th>time_signature</th>\n",
       "    </tr>\n",
       "  </thead>\n",
       "  <tbody>\n",
       "    <tr>\n",
       "      <th>0</th>\n",
       "      <td>0.788</td>\n",
       "      <td>0.859</td>\n",
       "      <td>2</td>\n",
       "      <td>-2.724</td>\n",
       "      <td>1</td>\n",
       "      <td>0.0856</td>\n",
       "      <td>0.281</td>\n",
       "      <td>0</td>\n",
       "      <td>0.0424</td>\n",
       "      <td>0.822</td>\n",
       "      <td>141.02</td>\n",
       "      <td>audio_features</td>\n",
       "      <td>75MNhvTCCKsST3YqqUiU9r</td>\n",
       "      <td>207853</td>\n",
       "      <td>4</td>\n",
       "    </tr>\n",
       "  </tbody>\n",
       "</table>\n",
       "</div>"
      ],
      "text/plain": [
       "   danceability  energy  key  loudness  mode  speechiness  acousticness  \\\n",
       "0         0.788   0.859    2    -2.724     1       0.0856         0.281   \n",
       "\n",
       "   instrumentalness  liveness  valence   tempo            type  \\\n",
       "0                 0    0.0424    0.822  141.02  audio_features   \n",
       "\n",
       "                       id  duration_ms  time_signature  \n",
       "0  75MNhvTCCKsST3YqqUiU9r       207853               4  "
      ]
     },
     "execution_count": 10,
     "metadata": {},
     "output_type": "execute_result"
    }
   ],
   "source": [
    "get_track_features(\"75MNhvTCCKsST3YqqUiU9r?si=0d2972b96c474633\")"
   ]
  },
  {
   "cell_type": "code",
   "execution_count": null,
   "id": "3dad0fe6",
   "metadata": {},
   "outputs": [],
   "source": []
  }
 ],
 "metadata": {
  "kernelspec": {
   "display_name": "Python 3",
   "language": "python",
   "name": "python3"
  },
  "language_info": {
   "codemirror_mode": {
    "name": "ipython",
    "version": 3
   },
   "file_extension": ".py",
   "mimetype": "text/x-python",
   "name": "python",
   "nbconvert_exporter": "python",
   "pygments_lexer": "ipython3",
   "version": "3.8.8"
  }
 },
 "nbformat": 4,
 "nbformat_minor": 5
}
