{
  "nbformat": 4,
  "nbformat_minor": 0,
  "metadata": {
    "colab": {
      "name": "Music Classifier Nov 16.ipynb",
      "provenance": [],
      "collapsed_sections": [],
      "authorship_tag": "ABX9TyPjvp2oklSXNjpZhDr2bFV4",
      "include_colab_link": true
    },
    "kernelspec": {
      "name": "python3",
      "display_name": "Python 3"
    },
    "language_info": {
      "name": "python"
    }
  },
  "cells": [
    {
      "cell_type": "markdown",
      "metadata": {
        "id": "view-in-github",
        "colab_type": "text"
      },
      "source": [
        "<a href=\"https://colab.research.google.com/github/jiahao303/music-classifier/blob/main/Music_Classifier_Nov_16.ipynb\" target=\"_parent\"><img src=\"https://colab.research.google.com/assets/colab-badge.svg\" alt=\"Open In Colab\"/></a>"
      ]
    },
    {
      "cell_type": "markdown",
      "metadata": {
        "id": "Jn0fLy2QgX0x"
      },
      "source": [
        "# Music Classifier Step 3: Tensorflow Datasets"
      ]
    },
    {
      "cell_type": "code",
      "metadata": {
        "id": "frFtCOMNgWzi"
      },
      "source": [
        "import numpy as np\n",
        "import pandas as pd\n",
        "import tensorflow as tf\n",
        "import re\n",
        "import string\n",
        "\n",
        "from tensorflow.keras import layers\n",
        "from tensorflow.keras import losses\n",
        "\n",
        "from tensorflow.keras.layers.experimental.preprocessing import TextVectorization\n",
        "from tensorflow.keras.layers.experimental.preprocessing import StringLookup\n",
        "\n",
        "from sklearn.model_selection import train_test_split\n",
        "from sklearn.preprocessing import LabelEncoder"
      ],
      "execution_count": 13,
      "outputs": []
    },
    {
      "cell_type": "markdown",
      "metadata": {
        "id": "_wOh8qj1g6zh"
      },
      "source": [
        "First, we get an inspection on one of the lyrics. We found that most of the neutral words such as pronouns (i.e. we, you, I) and auxiliaries are omitted since they have no use for the sentiment identifying."
      ]
    },
    {
      "cell_type": "code",
      "metadata": {
        "id": "Gh9jT5prhzFg"
      },
      "source": [
        "\n",
        "url = 'https://raw.githubusercontent.com/jiahao303/music-classifier/main/tcc_ceds_music.csv'\n",
        "\n",
        "df = pd.read_csv(url)"
      ],
      "execution_count": 9,
      "outputs": []
    },
    {
      "cell_type": "code",
      "metadata": {
        "colab": {
          "base_uri": "https://localhost:8080/",
          "height": 87
        },
        "id": "zz5cxFImgzxI",
        "outputId": "53c057e1-d3ba-4e68-9a64-b53f63c47e79"
      },
      "source": [
        "\n",
        "df = df.drop([\"Unnamed: 0\", \"release_date\"], axis =1)\n",
        "df.at[5,\"lyrics\"]"
      ],
      "execution_count": 10,
      "outputs": [
        {
          "output_type": "execute_result",
          "data": {
            "application/vnd.google.colaboratory.intrinsic+json": {
              "type": "string"
            },
            "text/plain": [
              "'convoy light dead ahead merchantmen trump diesels hammer oily kill grind knuckle white eye alight slam hatch deadly night cunning chicken lair hound hell devil care run silent run deep final prayer warriors secret sleep merchantman nightmare silent death lie wait run silent run deep sink final sleep chill hearts fight open ocean wonder lethal silver fish boat shiver cast millions play killer victim fool obey order rehearse lifeboat shatter hull tear black smell burn jones eye watch crosswire tube ready medal chest weeks dead like rest run silent run deep final prayer warriors secret sleep merchantman nightmare'"
            ]
          },
          "metadata": {},
          "execution_count": 10
        }
      ]
    },
    {
      "cell_type": "markdown",
      "metadata": {
        "id": "G2ADdARahGB7"
      },
      "source": [
        "Get the dataframe resorted, only keep the lyrics column and the sentiment/topic column."
      ]
    },
    {
      "cell_type": "code",
      "metadata": {
        "colab": {
          "base_uri": "https://localhost:8080/",
          "height": 424
        },
        "id": "RgPLI_hPhFTL",
        "outputId": "a51d03fd-2c1e-4822-fef9-b1a42fcfdd5a"
      },
      "source": [
        "sentiment = df[[\"topic\", \"lyrics\"]]\n",
        "sentiment"
      ],
      "execution_count": 11,
      "outputs": [
        {
          "output_type": "execute_result",
          "data": {
            "text/html": [
              "<div>\n",
              "<style scoped>\n",
              "    .dataframe tbody tr th:only-of-type {\n",
              "        vertical-align: middle;\n",
              "    }\n",
              "\n",
              "    .dataframe tbody tr th {\n",
              "        vertical-align: top;\n",
              "    }\n",
              "\n",
              "    .dataframe thead th {\n",
              "        text-align: right;\n",
              "    }\n",
              "</style>\n",
              "<table border=\"1\" class=\"dataframe\">\n",
              "  <thead>\n",
              "    <tr style=\"text-align: right;\">\n",
              "      <th></th>\n",
              "      <th>topic</th>\n",
              "      <th>lyrics</th>\n",
              "    </tr>\n",
              "  </thead>\n",
              "  <tbody>\n",
              "    <tr>\n",
              "      <th>0</th>\n",
              "      <td>sadness</td>\n",
              "      <td>hold time feel break feel untrue convince spea...</td>\n",
              "    </tr>\n",
              "    <tr>\n",
              "      <th>1</th>\n",
              "      <td>world/life</td>\n",
              "      <td>believe drop rain fall grow believe darkest ni...</td>\n",
              "    </tr>\n",
              "    <tr>\n",
              "      <th>2</th>\n",
              "      <td>music</td>\n",
              "      <td>sweetheart send letter goodbye secret feel bet...</td>\n",
              "    </tr>\n",
              "    <tr>\n",
              "      <th>3</th>\n",
              "      <td>romantic</td>\n",
              "      <td>kiss lips want stroll charm mambo chacha merin...</td>\n",
              "    </tr>\n",
              "    <tr>\n",
              "      <th>4</th>\n",
              "      <td>romantic</td>\n",
              "      <td>till darling till matter know till dream live ...</td>\n",
              "    </tr>\n",
              "    <tr>\n",
              "      <th>...</th>\n",
              "      <td>...</td>\n",
              "      <td>...</td>\n",
              "    </tr>\n",
              "    <tr>\n",
              "      <th>28367</th>\n",
              "      <td>obscene</td>\n",
              "      <td>cause fuck leave scar tick tock clock come kno...</td>\n",
              "    </tr>\n",
              "    <tr>\n",
              "      <th>28368</th>\n",
              "      <td>obscene</td>\n",
              "      <td>minks things chain ring braclets yap fame come...</td>\n",
              "    </tr>\n",
              "    <tr>\n",
              "      <th>28369</th>\n",
              "      <td>obscene</td>\n",
              "      <td>get ban get ban stick crack relax plan attack ...</td>\n",
              "    </tr>\n",
              "    <tr>\n",
              "      <th>28370</th>\n",
              "      <td>obscene</td>\n",
              "      <td>check check yeah yeah hear thing call switch g...</td>\n",
              "    </tr>\n",
              "    <tr>\n",
              "      <th>28371</th>\n",
              "      <td>obscene</td>\n",
              "      <td>remix killer alive remix thriller trap bitch s...</td>\n",
              "    </tr>\n",
              "  </tbody>\n",
              "</table>\n",
              "<p>28372 rows × 2 columns</p>\n",
              "</div>"
            ],
            "text/plain": [
              "            topic                                             lyrics\n",
              "0         sadness  hold time feel break feel untrue convince spea...\n",
              "1      world/life  believe drop rain fall grow believe darkest ni...\n",
              "2           music  sweetheart send letter goodbye secret feel bet...\n",
              "3        romantic  kiss lips want stroll charm mambo chacha merin...\n",
              "4        romantic  till darling till matter know till dream live ...\n",
              "...           ...                                                ...\n",
              "28367     obscene  cause fuck leave scar tick tock clock come kno...\n",
              "28368     obscene  minks things chain ring braclets yap fame come...\n",
              "28369     obscene  get ban get ban stick crack relax plan attack ...\n",
              "28370     obscene  check check yeah yeah hear thing call switch g...\n",
              "28371     obscene  remix killer alive remix thriller trap bitch s...\n",
              "\n",
              "[28372 rows x 2 columns]"
            ]
          },
          "metadata": {},
          "execution_count": 11
        }
      ]
    },
    {
      "cell_type": "markdown",
      "metadata": {
        "id": "GWRrq0hBjtI0"
      },
      "source": [
        "Our task will be to teach an algorithm to classify lyrics by predicting the topic based on the text of the lyrics."
      ]
    },
    {
      "cell_type": "code",
      "metadata": {
        "colab": {
          "base_uri": "https://localhost:8080/"
        },
        "id": "9PbKxFxWjhO7",
        "outputId": "8e59ca34-9602-4b75-99f7-06b4447b2afe"
      },
      "source": [
        "sentiment.groupby(\"topic\").size()"
      ],
      "execution_count": 15,
      "outputs": [
        {
          "output_type": "execute_result",
          "data": {
            "text/plain": [
              "topic\n",
              "feelings       612\n",
              "music         2303\n",
              "night/time    1825\n",
              "obscene       4882\n",
              "romantic      1524\n",
              "sadness       6096\n",
              "violence      5710\n",
              "world/life    5420\n",
              "dtype: int64"
            ]
          },
          "metadata": {},
          "execution_count": 15
        }
      ]
    },
    {
      "cell_type": "markdown",
      "metadata": {
        "id": "nOUNdaJ3jmHb"
      },
      "source": [
        "Encode the \"topic\" column values with integers."
      ]
    },
    {
      "cell_type": "code",
      "metadata": {
        "colab": {
          "base_uri": "https://localhost:8080/",
          "height": 310
        },
        "id": "PNnMm3a7jlDX",
        "outputId": "c2808366-236b-45cf-95c9-b9f04df77eb1"
      },
      "source": [
        "le = LabelEncoder()\n",
        "sentiment[\"topic\"] = le.fit_transform(sentiment[\"topic\"])\n",
        "sentiment.head()"
      ],
      "execution_count": 16,
      "outputs": [
        {
          "output_type": "stream",
          "name": "stderr",
          "text": [
            "/usr/local/lib/python3.7/dist-packages/ipykernel_launcher.py:2: SettingWithCopyWarning: \n",
            "A value is trying to be set on a copy of a slice from a DataFrame.\n",
            "Try using .loc[row_indexer,col_indexer] = value instead\n",
            "\n",
            "See the caveats in the documentation: https://pandas.pydata.org/pandas-docs/stable/user_guide/indexing.html#returning-a-view-versus-a-copy\n",
            "  \n"
          ]
        },
        {
          "output_type": "execute_result",
          "data": {
            "text/html": [
              "<div>\n",
              "<style scoped>\n",
              "    .dataframe tbody tr th:only-of-type {\n",
              "        vertical-align: middle;\n",
              "    }\n",
              "\n",
              "    .dataframe tbody tr th {\n",
              "        vertical-align: top;\n",
              "    }\n",
              "\n",
              "    .dataframe thead th {\n",
              "        text-align: right;\n",
              "    }\n",
              "</style>\n",
              "<table border=\"1\" class=\"dataframe\">\n",
              "  <thead>\n",
              "    <tr style=\"text-align: right;\">\n",
              "      <th></th>\n",
              "      <th>topic</th>\n",
              "      <th>lyrics</th>\n",
              "    </tr>\n",
              "  </thead>\n",
              "  <tbody>\n",
              "    <tr>\n",
              "      <th>0</th>\n",
              "      <td>5</td>\n",
              "      <td>hold time feel break feel untrue convince spea...</td>\n",
              "    </tr>\n",
              "    <tr>\n",
              "      <th>1</th>\n",
              "      <td>7</td>\n",
              "      <td>believe drop rain fall grow believe darkest ni...</td>\n",
              "    </tr>\n",
              "    <tr>\n",
              "      <th>2</th>\n",
              "      <td>1</td>\n",
              "      <td>sweetheart send letter goodbye secret feel bet...</td>\n",
              "    </tr>\n",
              "    <tr>\n",
              "      <th>3</th>\n",
              "      <td>4</td>\n",
              "      <td>kiss lips want stroll charm mambo chacha merin...</td>\n",
              "    </tr>\n",
              "    <tr>\n",
              "      <th>4</th>\n",
              "      <td>4</td>\n",
              "      <td>till darling till matter know till dream live ...</td>\n",
              "    </tr>\n",
              "  </tbody>\n",
              "</table>\n",
              "</div>"
            ],
            "text/plain": [
              "   topic                                             lyrics\n",
              "0      5  hold time feel break feel untrue convince spea...\n",
              "1      7  believe drop rain fall grow believe darkest ni...\n",
              "2      1  sweetheart send letter goodbye secret feel bet...\n",
              "3      4  kiss lips want stroll charm mambo chacha merin...\n",
              "4      4  till darling till matter know till dream live ..."
            ]
          },
          "metadata": {},
          "execution_count": 16
        }
      ]
    },
    {
      "cell_type": "markdown",
      "metadata": {
        "id": "Q7xR8fUdjySe"
      },
      "source": [
        "Inspect which integers correspond to which classes using the classes_ attribute of the encoder."
      ]
    },
    {
      "cell_type": "code",
      "metadata": {
        "colab": {
          "base_uri": "https://localhost:8080/"
        },
        "id": "Llsh7OFUj0Oa",
        "outputId": "b44ebce3-cfac-4144-d57a-cd17d446d3bb"
      },
      "source": [
        "le.classes_"
      ],
      "execution_count": 17,
      "outputs": [
        {
          "output_type": "execute_result",
          "data": {
            "text/plain": [
              "array(['feelings', 'music', 'night/time', 'obscene', 'romantic',\n",
              "       'sadness', 'violence', 'world/life'], dtype=object)"
            ]
          },
          "metadata": {},
          "execution_count": 17
        }
      ]
    },
    {
      "cell_type": "code",
      "metadata": {
        "id": "VYGx3cTAgpbL"
      },
      "source": [
        "data = tf.data.Dataset.from_tensor_slices((sentiment[\"topic\"],sentiment[\"lyrics\"]))"
      ],
      "execution_count": 18,
      "outputs": []
    },
    {
      "cell_type": "markdown",
      "metadata": {
        "id": "wcjcQwWvkLeZ"
      },
      "source": [
        "Iterate over the data values."
      ]
    },
    {
      "cell_type": "code",
      "metadata": {
        "colab": {
          "base_uri": "https://localhost:8080/"
        },
        "id": "yJCBUSuXj-bo",
        "outputId": "a884b829-6435-4953-d2ea-67d0f22c3b32"
      },
      "source": [
        "for topic,lyrics in data.take(5):\n",
        "    print(topic)\n",
        "    print(lyrics)\n",
        "    print(\"\")"
      ],
      "execution_count": 19,
      "outputs": [
        {
          "output_type": "stream",
          "name": "stdout",
          "text": [
            "tf.Tensor(5, shape=(), dtype=int64)\n",
            "tf.Tensor(b'hold time feel break feel untrue convince speak voice tear try hold hurt try forgive okay play break string feel heart want feel tell real truth hurt lie worse anymore little turn dust play house ruin run leave save like chase train late late tear try hold hurt try forgive okay play break string feel heart want feel tell real truth hurt lie worse anymore little run leave save like chase train know late late play break string feel heart want feel tell real truth hurt lie worse anymore little know little hold time feel', shape=(), dtype=string)\n",
            "\n",
            "tf.Tensor(7, shape=(), dtype=int64)\n",
            "tf.Tensor(b'believe drop rain fall grow believe darkest night candle glow believe go astray come believe believe believe smallest prayer hear believe great hear word time hear bear baby touch leaf believe believe believe lord heaven guide sin hide believe calvary die pierce believe death rise meet heaven loud amen know believe', shape=(), dtype=string)\n",
            "\n",
            "tf.Tensor(1, shape=(), dtype=int64)\n",
            "tf.Tensor(b'sweetheart send letter goodbye secret feel better wake dream think real false emotions feel heartaches hang long blue get bluer song remember cloudy hair', shape=(), dtype=string)\n",
            "\n",
            "tf.Tensor(4, shape=(), dtype=int64)\n",
            "tf.Tensor(b'kiss lips want stroll charm mambo chacha meringue heaven arm japan brag geisha care long uncle eye starry sort gleam like million dollar dream come true everybody wish steal heart away guess try eye starry sort gleam like million dollar dream come true kiss lips want stroll charm japan brag geisha care long uncle', shape=(), dtype=string)\n",
            "\n",
            "tf.Tensor(4, shape=(), dtype=int64)\n",
            "tf.Tensor(b'till darling till matter know till dream live apart know hearts till world free oceans cross mountains climb know gain loss pray loss time till dream till memory till hold till oceans cross mountains climb know gain loss pray loss time till dream till memory till hold till', shape=(), dtype=string)\n",
            "\n"
          ]
        }
      ]
    },
    {
      "cell_type": "markdown",
      "metadata": {
        "id": "pfjlwVbXkPRJ"
      },
      "source": [
        "We have created a special TensorFlow Dataset.\n",
        "Now, we will split it into training, validation, and testing sets."
      ]
    },
    {
      "cell_type": "code",
      "metadata": {
        "id": "Egz1f66FkTgJ"
      },
      "source": [
        "data = data.shuffle(buffer_size = len(data))"
      ],
      "execution_count": 20,
      "outputs": []
    },
    {
      "cell_type": "code",
      "metadata": {
        "id": "HBPEjPi0kYMl"
      },
      "source": [
        "train_size = int(0.7*len(data))\n",
        "val_size   = int(0.1*len(data))\n",
        "\n",
        "train = data.take(train_size)\n",
        "val   = data.skip(train_size).take(val_size)\n",
        "test  = data.skip(train_size + val_size)"
      ],
      "execution_count": 21,
      "outputs": []
    },
    {
      "cell_type": "code",
      "metadata": {
        "colab": {
          "base_uri": "https://localhost:8080/"
        },
        "id": "dd09aTdPkdkd",
        "outputId": "4130a5dc-13e2-402a-8103-e842331e9a27"
      },
      "source": [
        "len(train), len(val), len(test)"
      ],
      "execution_count": 22,
      "outputs": [
        {
          "output_type": "execute_result",
          "data": {
            "text/plain": [
              "(19860, 2837, 5675)"
            ]
          },
          "metadata": {},
          "execution_count": 22
        }
      ]
    },
    {
      "cell_type": "code",
      "metadata": {
        "id": "p5C5nc5EkpBj"
      },
      "source": [
        ""
      ],
      "execution_count": null,
      "outputs": []
    }
  ]
}