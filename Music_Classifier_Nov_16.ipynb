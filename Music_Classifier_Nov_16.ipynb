{
  "nbformat": 4,
  "nbformat_minor": 0,
  "metadata": {
    "colab": {
      "name": "Music Classifier Nov 16.ipynb",
      "provenance": [],
      "collapsed_sections": [],
      "include_colab_link": true
    },
    "kernelspec": {
      "name": "python3",
      "display_name": "Python 3"
    },
    "language_info": {
      "name": "python"
    },
    "accelerator": "GPU"
  },
  "cells": [
    {
      "cell_type": "markdown",
      "metadata": {
        "id": "view-in-github",
        "colab_type": "text"
      },
      "source": [
        "<a href=\"https://colab.research.google.com/github/jiahao303/music-classifier/blob/main/Music_Classifier_Nov_16.ipynb\" target=\"_parent\"><img src=\"https://colab.research.google.com/assets/colab-badge.svg\" alt=\"Open In Colab\"/></a>"
      ]
    },
    {
      "cell_type": "markdown",
      "metadata": {
        "id": "Jn0fLy2QgX0x"
      },
      "source": [
        "# Music Classifier Step 3: Tensorflow Datasets"
      ]
    },
    {
      "cell_type": "code",
      "metadata": {
        "id": "frFtCOMNgWzi"
      },
      "source": [
        "import numpy as np\n",
        "import pandas as pd\n",
        "import tensorflow as tf\n",
        "import re\n",
        "import string\n",
        "\n",
        "from tensorflow.keras import layers\n",
        "from tensorflow.keras import losses\n",
        "\n",
        "from tensorflow.keras.layers.experimental.preprocessing import TextVectorization\n",
        "from tensorflow.keras.layers.experimental.preprocessing import StringLookup\n",
        "\n",
        "from sklearn.model_selection import train_test_split\n",
        "from sklearn.preprocessing import LabelEncoder\n",
        "\n",
        "# for embedding viz\n",
        "import plotly.express as px \n",
        "import plotly.io as pio\n",
        "pio.templates.default = \"plotly_white\""
      ],
      "execution_count": 1,
      "outputs": []
    },
    {
      "cell_type": "markdown",
      "metadata": {
        "id": "_wOh8qj1g6zh"
      },
      "source": [
        "First, we get an inspection on one of the lyrics. We found that most of the neutral words such as pronouns (i.e. we, you, I) and auxiliaries are omitted since they have no use for the sentiment identifying."
      ]
    },
    {
      "cell_type": "code",
      "metadata": {
        "id": "Gh9jT5prhzFg"
      },
      "source": [
        "\n",
        "url = 'https://raw.githubusercontent.com/jiahao303/music-classifier/main/tcc_ceds_music.csv'\n",
        "\n",
        "df = pd.read_csv(url)"
      ],
      "execution_count": 2,
      "outputs": []
    },
    {
      "cell_type": "code",
      "metadata": {
        "colab": {
          "base_uri": "https://localhost:8080/",
          "height": 86
        },
        "id": "zz5cxFImgzxI",
        "outputId": "848553cb-8144-4d4c-d83a-de509e20600c"
      },
      "source": [
        "\n",
        "df = df.drop([\"Unnamed: 0\", \"release_date\"], axis =1)\n",
        "df.at[5,\"lyrics\"]"
      ],
      "execution_count": 3,
      "outputs": [
        {
          "output_type": "execute_result",
          "data": {
            "application/vnd.google.colaboratory.intrinsic+json": {
              "type": "string"
            },
            "text/plain": [
              "'convoy light dead ahead merchantmen trump diesels hammer oily kill grind knuckle white eye alight slam hatch deadly night cunning chicken lair hound hell devil care run silent run deep final prayer warriors secret sleep merchantman nightmare silent death lie wait run silent run deep sink final sleep chill hearts fight open ocean wonder lethal silver fish boat shiver cast millions play killer victim fool obey order rehearse lifeboat shatter hull tear black smell burn jones eye watch crosswire tube ready medal chest weeks dead like rest run silent run deep final prayer warriors secret sleep merchantman nightmare'"
            ]
          },
          "metadata": {},
          "execution_count": 3
        }
      ]
    },
    {
      "cell_type": "markdown",
      "metadata": {
        "id": "G2ADdARahGB7"
      },
      "source": [
        "Get the dataframe resorted, only keep the lyrics column and the sentiment/topic column."
      ]
    },
    {
      "cell_type": "code",
      "metadata": {
        "colab": {
          "base_uri": "https://localhost:8080/",
          "height": 419
        },
        "id": "RgPLI_hPhFTL",
        "outputId": "abd938de-0e4c-4aa9-d665-fd2db4e29759"
      },
      "source": [
        "sentiment = df[[\"lyrics\", \"topic\"]]\n",
        "sentiment"
      ],
      "execution_count": 4,
      "outputs": [
        {
          "output_type": "execute_result",
          "data": {
            "text/html": [
              "<div>\n",
              "<style scoped>\n",
              "    .dataframe tbody tr th:only-of-type {\n",
              "        vertical-align: middle;\n",
              "    }\n",
              "\n",
              "    .dataframe tbody tr th {\n",
              "        vertical-align: top;\n",
              "    }\n",
              "\n",
              "    .dataframe thead th {\n",
              "        text-align: right;\n",
              "    }\n",
              "</style>\n",
              "<table border=\"1\" class=\"dataframe\">\n",
              "  <thead>\n",
              "    <tr style=\"text-align: right;\">\n",
              "      <th></th>\n",
              "      <th>lyrics</th>\n",
              "      <th>topic</th>\n",
              "    </tr>\n",
              "  </thead>\n",
              "  <tbody>\n",
              "    <tr>\n",
              "      <th>0</th>\n",
              "      <td>hold time feel break feel untrue convince spea...</td>\n",
              "      <td>sadness</td>\n",
              "    </tr>\n",
              "    <tr>\n",
              "      <th>1</th>\n",
              "      <td>believe drop rain fall grow believe darkest ni...</td>\n",
              "      <td>world/life</td>\n",
              "    </tr>\n",
              "    <tr>\n",
              "      <th>2</th>\n",
              "      <td>sweetheart send letter goodbye secret feel bet...</td>\n",
              "      <td>music</td>\n",
              "    </tr>\n",
              "    <tr>\n",
              "      <th>3</th>\n",
              "      <td>kiss lips want stroll charm mambo chacha merin...</td>\n",
              "      <td>romantic</td>\n",
              "    </tr>\n",
              "    <tr>\n",
              "      <th>4</th>\n",
              "      <td>till darling till matter know till dream live ...</td>\n",
              "      <td>romantic</td>\n",
              "    </tr>\n",
              "    <tr>\n",
              "      <th>...</th>\n",
              "      <td>...</td>\n",
              "      <td>...</td>\n",
              "    </tr>\n",
              "    <tr>\n",
              "      <th>28367</th>\n",
              "      <td>cause fuck leave scar tick tock clock come kno...</td>\n",
              "      <td>obscene</td>\n",
              "    </tr>\n",
              "    <tr>\n",
              "      <th>28368</th>\n",
              "      <td>minks things chain ring braclets yap fame come...</td>\n",
              "      <td>obscene</td>\n",
              "    </tr>\n",
              "    <tr>\n",
              "      <th>28369</th>\n",
              "      <td>get ban get ban stick crack relax plan attack ...</td>\n",
              "      <td>obscene</td>\n",
              "    </tr>\n",
              "    <tr>\n",
              "      <th>28370</th>\n",
              "      <td>check check yeah yeah hear thing call switch g...</td>\n",
              "      <td>obscene</td>\n",
              "    </tr>\n",
              "    <tr>\n",
              "      <th>28371</th>\n",
              "      <td>remix killer alive remix thriller trap bitch s...</td>\n",
              "      <td>obscene</td>\n",
              "    </tr>\n",
              "  </tbody>\n",
              "</table>\n",
              "<p>28372 rows × 2 columns</p>\n",
              "</div>"
            ],
            "text/plain": [
              "                                                  lyrics       topic\n",
              "0      hold time feel break feel untrue convince spea...     sadness\n",
              "1      believe drop rain fall grow believe darkest ni...  world/life\n",
              "2      sweetheart send letter goodbye secret feel bet...       music\n",
              "3      kiss lips want stroll charm mambo chacha merin...    romantic\n",
              "4      till darling till matter know till dream live ...    romantic\n",
              "...                                                  ...         ...\n",
              "28367  cause fuck leave scar tick tock clock come kno...     obscene\n",
              "28368  minks things chain ring braclets yap fame come...     obscene\n",
              "28369  get ban get ban stick crack relax plan attack ...     obscene\n",
              "28370  check check yeah yeah hear thing call switch g...     obscene\n",
              "28371  remix killer alive remix thriller trap bitch s...     obscene\n",
              "\n",
              "[28372 rows x 2 columns]"
            ]
          },
          "metadata": {},
          "execution_count": 4
        }
      ]
    },
    {
      "cell_type": "markdown",
      "metadata": {
        "id": "GWRrq0hBjtI0"
      },
      "source": [
        "Our task will be to teach an algorithm to classify lyrics by predicting the topic based on the text of the lyrics."
      ]
    },
    {
      "cell_type": "code",
      "metadata": {
        "colab": {
          "base_uri": "https://localhost:8080/"
        },
        "id": "9PbKxFxWjhO7",
        "outputId": "a20b838e-4111-4146-8d24-57d4041e809c"
      },
      "source": [
        "sentiment.groupby(\"topic\").size()"
      ],
      "execution_count": 5,
      "outputs": [
        {
          "output_type": "execute_result",
          "data": {
            "text/plain": [
              "topic\n",
              "feelings       612\n",
              "music         2303\n",
              "night/time    1825\n",
              "obscene       4882\n",
              "romantic      1524\n",
              "sadness       6096\n",
              "violence      5710\n",
              "world/life    5420\n",
              "dtype: int64"
            ]
          },
          "metadata": {},
          "execution_count": 5
        }
      ]
    },
    {
      "cell_type": "markdown",
      "metadata": {
        "id": "nOUNdaJ3jmHb"
      },
      "source": [
        "Encode the \"topic\" column values with integers."
      ]
    },
    {
      "cell_type": "code",
      "metadata": {
        "colab": {
          "base_uri": "https://localhost:8080/",
          "height": 340
        },
        "id": "PNnMm3a7jlDX",
        "outputId": "2b1495e5-b9d5-488d-fc42-dd33ff07abca"
      },
      "source": [
        "le = LabelEncoder()\n",
        "sentiment[\"topic\"] = le.fit_transform(sentiment[\"topic\"])\n",
        "sentiment.head()"
      ],
      "execution_count": 6,
      "outputs": [
        {
          "output_type": "stream",
          "name": "stderr",
          "text": [
            "/usr/local/lib/python3.7/dist-packages/ipykernel_launcher.py:2: SettingWithCopyWarning:\n",
            "\n",
            "\n",
            "A value is trying to be set on a copy of a slice from a DataFrame.\n",
            "Try using .loc[row_indexer,col_indexer] = value instead\n",
            "\n",
            "See the caveats in the documentation: https://pandas.pydata.org/pandas-docs/stable/user_guide/indexing.html#returning-a-view-versus-a-copy\n",
            "\n"
          ]
        },
        {
          "output_type": "execute_result",
          "data": {
            "text/html": [
              "<div>\n",
              "<style scoped>\n",
              "    .dataframe tbody tr th:only-of-type {\n",
              "        vertical-align: middle;\n",
              "    }\n",
              "\n",
              "    .dataframe tbody tr th {\n",
              "        vertical-align: top;\n",
              "    }\n",
              "\n",
              "    .dataframe thead th {\n",
              "        text-align: right;\n",
              "    }\n",
              "</style>\n",
              "<table border=\"1\" class=\"dataframe\">\n",
              "  <thead>\n",
              "    <tr style=\"text-align: right;\">\n",
              "      <th></th>\n",
              "      <th>lyrics</th>\n",
              "      <th>topic</th>\n",
              "    </tr>\n",
              "  </thead>\n",
              "  <tbody>\n",
              "    <tr>\n",
              "      <th>0</th>\n",
              "      <td>hold time feel break feel untrue convince spea...</td>\n",
              "      <td>5</td>\n",
              "    </tr>\n",
              "    <tr>\n",
              "      <th>1</th>\n",
              "      <td>believe drop rain fall grow believe darkest ni...</td>\n",
              "      <td>7</td>\n",
              "    </tr>\n",
              "    <tr>\n",
              "      <th>2</th>\n",
              "      <td>sweetheart send letter goodbye secret feel bet...</td>\n",
              "      <td>1</td>\n",
              "    </tr>\n",
              "    <tr>\n",
              "      <th>3</th>\n",
              "      <td>kiss lips want stroll charm mambo chacha merin...</td>\n",
              "      <td>4</td>\n",
              "    </tr>\n",
              "    <tr>\n",
              "      <th>4</th>\n",
              "      <td>till darling till matter know till dream live ...</td>\n",
              "      <td>4</td>\n",
              "    </tr>\n",
              "  </tbody>\n",
              "</table>\n",
              "</div>"
            ],
            "text/plain": [
              "                                              lyrics  topic\n",
              "0  hold time feel break feel untrue convince spea...      5\n",
              "1  believe drop rain fall grow believe darkest ni...      7\n",
              "2  sweetheart send letter goodbye secret feel bet...      1\n",
              "3  kiss lips want stroll charm mambo chacha merin...      4\n",
              "4  till darling till matter know till dream live ...      4"
            ]
          },
          "metadata": {},
          "execution_count": 6
        }
      ]
    },
    {
      "cell_type": "markdown",
      "metadata": {
        "id": "Q7xR8fUdjySe"
      },
      "source": [
        "Inspect which integers correspond to which classes using the classes_ attribute of the encoder."
      ]
    },
    {
      "cell_type": "code",
      "metadata": {
        "colab": {
          "base_uri": "https://localhost:8080/"
        },
        "id": "Llsh7OFUj0Oa",
        "outputId": "2e605219-93ab-4baa-a51d-560d8ff8e7e9"
      },
      "source": [
        "le.classes_"
      ],
      "execution_count": 7,
      "outputs": [
        {
          "output_type": "execute_result",
          "data": {
            "text/plain": [
              "array(['feelings', 'music', 'night/time', 'obscene', 'romantic',\n",
              "       'sadness', 'violence', 'world/life'], dtype=object)"
            ]
          },
          "metadata": {},
          "execution_count": 7
        }
      ]
    },
    {
      "cell_type": "code",
      "metadata": {
        "id": "VYGx3cTAgpbL"
      },
      "source": [
        "data = tf.data.Dataset.from_tensor_slices((sentiment[\"topic\"],sentiment[\"lyrics\"]))"
      ],
      "execution_count": 8,
      "outputs": []
    },
    {
      "cell_type": "markdown",
      "metadata": {
        "id": "wcjcQwWvkLeZ"
      },
      "source": [
        "Iterate over the data values."
      ]
    },
    {
      "cell_type": "code",
      "metadata": {
        "colab": {
          "base_uri": "https://localhost:8080/"
        },
        "id": "yJCBUSuXj-bo",
        "outputId": "af8f9357-6084-4e02-ba42-47be3602dd29"
      },
      "source": [
        "for lyrics,topic in data.take(5):\n",
        "    print(lyrics)\n",
        "    print(topic)\n",
        "    print(\"\")"
      ],
      "execution_count": 9,
      "outputs": [
        {
          "output_type": "stream",
          "name": "stdout",
          "text": [
            "tf.Tensor(5, shape=(), dtype=int64)\n",
            "tf.Tensor(b'hold time feel break feel untrue convince speak voice tear try hold hurt try forgive okay play break string feel heart want feel tell real truth hurt lie worse anymore little turn dust play house ruin run leave save like chase train late late tear try hold hurt try forgive okay play break string feel heart want feel tell real truth hurt lie worse anymore little run leave save like chase train know late late play break string feel heart want feel tell real truth hurt lie worse anymore little know little hold time feel', shape=(), dtype=string)\n",
            "\n",
            "tf.Tensor(7, shape=(), dtype=int64)\n",
            "tf.Tensor(b'believe drop rain fall grow believe darkest night candle glow believe go astray come believe believe believe smallest prayer hear believe great hear word time hear bear baby touch leaf believe believe believe lord heaven guide sin hide believe calvary die pierce believe death rise meet heaven loud amen know believe', shape=(), dtype=string)\n",
            "\n",
            "tf.Tensor(1, shape=(), dtype=int64)\n",
            "tf.Tensor(b'sweetheart send letter goodbye secret feel better wake dream think real false emotions feel heartaches hang long blue get bluer song remember cloudy hair', shape=(), dtype=string)\n",
            "\n",
            "tf.Tensor(4, shape=(), dtype=int64)\n",
            "tf.Tensor(b'kiss lips want stroll charm mambo chacha meringue heaven arm japan brag geisha care long uncle eye starry sort gleam like million dollar dream come true everybody wish steal heart away guess try eye starry sort gleam like million dollar dream come true kiss lips want stroll charm japan brag geisha care long uncle', shape=(), dtype=string)\n",
            "\n",
            "tf.Tensor(4, shape=(), dtype=int64)\n",
            "tf.Tensor(b'till darling till matter know till dream live apart know hearts till world free oceans cross mountains climb know gain loss pray loss time till dream till memory till hold till oceans cross mountains climb know gain loss pray loss time till dream till memory till hold till', shape=(), dtype=string)\n",
            "\n"
          ]
        }
      ]
    },
    {
      "cell_type": "markdown",
      "metadata": {
        "id": "pfjlwVbXkPRJ"
      },
      "source": [
        "We have created a special TensorFlow Dataset.\n",
        "Now, we will split it into training, validation, and testing sets."
      ]
    },
    {
      "cell_type": "code",
      "metadata": {
        "id": "Egz1f66FkTgJ"
      },
      "source": [
        "data = data.shuffle(buffer_size = len(data))"
      ],
      "execution_count": 10,
      "outputs": []
    },
    {
      "cell_type": "code",
      "metadata": {
        "id": "HBPEjPi0kYMl"
      },
      "source": [
        "train_size = int(0.7*len(data))\n",
        "val_size   = int(0.1*len(data))\n",
        "\n",
        "train = data.take(train_size)\n",
        "val   = data.skip(train_size).take(val_size)\n",
        "test  = data.skip(train_size + val_size)"
      ],
      "execution_count": 11,
      "outputs": []
    },
    {
      "cell_type": "code",
      "metadata": {
        "colab": {
          "base_uri": "https://localhost:8080/"
        },
        "id": "dd09aTdPkdkd",
        "outputId": "b5105d42-76f2-414c-fd30-663dc3cafa8b"
      },
      "source": [
        "len(train), len(val), len(test)"
      ],
      "execution_count": 12,
      "outputs": [
        {
          "output_type": "execute_result",
          "data": {
            "text/plain": [
              "(19860, 2837, 5675)"
            ]
          },
          "metadata": {},
          "execution_count": 12
        }
      ]
    },
    {
      "cell_type": "code",
      "metadata": {
        "id": "p5C5nc5EkpBj"
      },
      "source": [
        "def standardization(input_data):\n",
        "    lowercase = tf.strings.lower(input_data)\n",
        "    no_punctuation = tf.strings.regex_replace(lowercase,\n",
        "                                  '[%s]' % re.escape(string.punctuation),'')\n",
        "    return no_punctuation"
      ],
      "execution_count": 13,
      "outputs": []
    },
    {
      "cell_type": "code",
      "metadata": {
        "id": "dCuiaUA1z2Kk"
      },
      "source": [
        "max_tokens = 2000\n",
        "# each headline will be a vector of length 40\n",
        "sequence_length = 40\n",
        "\n",
        "vectorize_layer = TextVectorization(\n",
        "    max_tokens = max_tokens,\n",
        "    standardize=standardization,\n",
        "    output_mode='int',\n",
        "    output_sequence_length=sequence_length)"
      ],
      "execution_count": 14,
      "outputs": []
    },
    {
      "cell_type": "markdown",
      "metadata": {
        "id": "P_YUaGzMz7PD"
      },
      "source": [
        "We need to adapt the vectorization layer to the lyrics. In the adaptation process, the vectorization layer learns what words are common in the lyrics."
      ]
    },
    {
      "cell_type": "code",
      "metadata": {
        "id": "i13F4dzQz8o6"
      },
      "source": [
        "lyrics = train.map(lambda x, y: y)\n",
        "vectorize_layer.adapt(lyrics)"
      ],
      "execution_count": 15,
      "outputs": []
    },
    {
      "cell_type": "markdown",
      "metadata": {
        "id": "1pgR2lOA0-hN"
      },
      "source": [
        "we define a helper function that operates on our Datasets. Note that our Dataset consists of a bunch of tuples of the form (topic, lyrics) for each data observation. Our helper function therefore accepts and returns two variables."
      ]
    },
    {
      "cell_type": "code",
      "metadata": {
        "id": "aYW_D3Cc0tdP"
      },
      "source": [
        "def vectorize_headline(label, text):\n",
        "    text = tf.expand_dims(text, -1)\n",
        "    return vectorize_layer(text), [label]\n",
        "\n",
        "train_vec = train.map(vectorize_headline)\n",
        "val_vec   = val.map(vectorize_headline)\n",
        "test_vec  = test.map(vectorize_headline)"
      ],
      "execution_count": 16,
      "outputs": []
    },
    {
      "cell_type": "markdown",
      "metadata": {
        "id": "0owLDvL_RhsI"
      },
      "source": [
        "Let's take a look at a vectorized piece of text."
      ]
    },
    {
      "cell_type": "code",
      "metadata": {
        "colab": {
          "base_uri": "https://localhost:8080/"
        },
        "id": "GLdQFezkRa9D",
        "outputId": "ca2fdf2d-f293-49e8-f7f5-fca40b34a302"
      },
      "source": [
        "list(train_vec.take(2))"
      ],
      "execution_count": 17,
      "outputs": [
        {
          "output_type": "execute_result",
          "data": {
            "text/plain": [
              "[(<tf.Tensor: shape=(1, 40), dtype=int64, numpy=\n",
              "  array([[  17,   17,   17,   82,   31,    4,   31,    4,   31,  216,  392,\n",
              "           856,  357,   46, 1317,  327,   75,   40,   20,  596,  141,   75,\n",
              "            71,   31,  216,    9,  230,    5,   49,    5,    5,   22,   63,\n",
              "           472,   31,    0,    0,    0,    0,    0]])>,\n",
              "  <tf.Tensor: shape=(1,), dtype=int64, numpy=array([2])>),\n",
              " (<tf.Tensor: shape=(1, 40), dtype=int64, numpy=\n",
              "  array([[1633,    1, 1633,    1,    1,    1,   12,    1, 1633,    1,    1,\n",
              "            56,    8,   56,   92,    1,  114,   11,  114,  114,  114, 1103,\n",
              "            56,   96,   96,  321,   24,  160,   99,   99,   99,    1,   56,\n",
              "           134,   96,   16,   11,    1, 1379,  117]])>,\n",
              "  <tf.Tensor: shape=(1,), dtype=int64, numpy=array([5])>)]"
            ]
          },
          "metadata": {},
          "execution_count": 17
        }
      ]
    },
    {
      "cell_type": "markdown",
      "metadata": {
        "id": "hJZp1LlAR0iL"
      },
      "source": [
        "## Modeling"
      ]
    },
    {
      "cell_type": "code",
      "metadata": {
        "id": "wBvMMG8KR2rg"
      },
      "source": [
        "model = tf.keras.Sequential([\n",
        "  layers.Embedding(max_tokens, output_dim = 8, name=\"embedding\"),\n",
        "  layers.Dropout(0.2),\n",
        "  layers.GlobalAveragePooling1D(),\n",
        "  layers.Dropout(0.2),\n",
        "  layers.Dense(8)]\n",
        ")"
      ],
      "execution_count": 18,
      "outputs": []
    },
    {
      "cell_type": "code",
      "metadata": {
        "id": "Y-bPjGbPR5oS"
      },
      "source": [
        "model.compile(loss=losses.SparseCategoricalCrossentropy(from_logits=True),\n",
        "              optimizer='adam', \n",
        "              metrics=['accuracy'])"
      ],
      "execution_count": 19,
      "outputs": []
    },
    {
      "cell_type": "code",
      "metadata": {
        "colab": {
          "base_uri": "https://localhost:8080/"
        },
        "id": "7g1M2nJnUQ5w",
        "outputId": "30ac1734-9f04-43bf-b463-9889440942e4"
      },
      "source": [
        "history = model.fit(train_vec, epochs = 10, validation_data = val_vec)"
      ],
      "execution_count": 20,
      "outputs": [
        {
          "output_type": "stream",
          "name": "stdout",
          "text": [
            "Epoch 1/10\n",
            "19860/19860 [==============================] - 104s 5ms/step - loss: 1.2120 - accuracy: 0.6213 - val_loss: 0.6995 - val_accuracy: 0.8075\n",
            "Epoch 2/10\n",
            "19860/19860 [==============================] - 101s 5ms/step - loss: 0.6583 - accuracy: 0.7920 - val_loss: 0.4573 - val_accuracy: 0.8629\n",
            "Epoch 3/10\n",
            "19860/19860 [==============================] - 102s 5ms/step - loss: 0.5401 - accuracy: 0.8262 - val_loss: 0.3731 - val_accuracy: 0.8900\n",
            "Epoch 4/10\n",
            "19860/19860 [==============================] - 105s 5ms/step - loss: 0.4873 - accuracy: 0.8414 - val_loss: 0.3411 - val_accuracy: 0.8943\n",
            "Epoch 5/10\n",
            "19860/19860 [==============================] - 103s 5ms/step - loss: 0.4720 - accuracy: 0.8451 - val_loss: 0.2991 - val_accuracy: 0.9073\n",
            "Epoch 6/10\n",
            "19860/19860 [==============================] - 103s 5ms/step - loss: 0.4477 - accuracy: 0.8482 - val_loss: 0.2850 - val_accuracy: 0.9158\n",
            "Epoch 7/10\n",
            "19860/19860 [==============================] - 99s 5ms/step - loss: 0.4482 - accuracy: 0.8528 - val_loss: 0.3041 - val_accuracy: 0.9048\n",
            "Epoch 8/10\n",
            "19860/19860 [==============================] - 102s 5ms/step - loss: 0.4313 - accuracy: 0.8547 - val_loss: 0.2840 - val_accuracy: 0.9076\n",
            "Epoch 9/10\n",
            "19860/19860 [==============================] - 100s 5ms/step - loss: 0.4294 - accuracy: 0.8590 - val_loss: 0.2699 - val_accuracy: 0.9151\n",
            "Epoch 10/10\n",
            "19860/19860 [==============================] - 99s 5ms/step - loss: 0.4240 - accuracy: 0.8595 - val_loss: 0.2450 - val_accuracy: 0.9235\n"
          ]
        }
      ]
    },
    {
      "cell_type": "code",
      "metadata": {
        "colab": {
          "base_uri": "https://localhost:8080/",
          "height": 296
        },
        "id": "aUneiOLt2LEI",
        "outputId": "de0fa03a-ebe4-42cc-ba06-2f28d21174bb"
      },
      "source": [
        "from matplotlib import pyplot as plt\n",
        "plt.plot(history.history[\"accuracy\"], label = \"training\")\n",
        "plt.plot(history.history[\"val_accuracy\"], label = \"validation\")\n",
        "plt.gca().set(xlabel = \"epoch\", ylabel = \"accuracy\")\n",
        "plt.legend()"
      ],
      "execution_count": 21,
      "outputs": [
        {
          "output_type": "execute_result",
          "data": {
            "text/plain": [
              "<matplotlib.legend.Legend at 0x7f0d204158d0>"
            ]
          },
          "metadata": {},
          "execution_count": 21
        },
        {
          "output_type": "display_data",
          "data": {
            "image/png": "[encoded data removed]",
            "text/plain": [
              "<Figure size 432x288 with 1 Axes>"
            ]
          },
          "metadata": {
            "needs_background": "light"
          }
        }
      ]
    }
  ]
}