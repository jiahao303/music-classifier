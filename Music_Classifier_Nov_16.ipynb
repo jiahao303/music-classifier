{
  "nbformat": 4,
  "nbformat_minor": 0,
  "metadata": {
    "colab": {
      "name": "Music Classifier Nov 16.ipynb",
      "provenance": [],
      "collapsed_sections": [],
      "include_colab_link": true
    },
    "kernelspec": {
      "name": "python3",
      "display_name": "Python 3"
    },
    "language_info": {
      "name": "python"
    },
    "accelerator": "GPU"
  },
  "cells": [
    {
      "cell_type": "markdown",
      "metadata": {
        "id": "view-in-github",
        "colab_type": "text"
      },
      "source": [
        "<a href=\"https://colab.research.google.com/github/jiahao303/music-classifier/blob/main/Music_Classifier_Nov_16.ipynb\" target=\"_parent\"><img src=\"https://colab.research.google.com/assets/colab-badge.svg\" alt=\"Open In Colab\"/></a>"
      ]
    },
    {
      "cell_type": "markdown",
      "metadata": {
        "id": "Jn0fLy2QgX0x"
      },
      "source": [
        "# Music Classifier Step 3: Tensorflow Datasets"
      ]
    },
    {
      "cell_type": "code",
      "metadata": {
        "id": "frFtCOMNgWzi"
      },
      "source": [
        "import numpy as np\n",
        "import pandas as pd\n",
        "import tensorflow as tf\n",
        "import re\n",
        "import string\n",
        "\n",
        "from tensorflow.keras import layers\n",
        "from tensorflow.keras import losses\n",
        "\n",
        "from tensorflow.keras.layers.experimental.preprocessing import TextVectorization\n",
        "from tensorflow.keras.layers.experimental.preprocessing import StringLookup\n",
        "\n",
        "from sklearn.model_selection import train_test_split\n",
        "from sklearn.preprocessing import LabelEncoder\n",
        "\n",
        "# for embedding viz\n",
        "import plotly.express as px \n",
        "import plotly.io as pio\n",
        "pio.templates.default = \"plotly_white\""
      ],
      "execution_count": 1,
      "outputs": []
    },
    {
      "cell_type": "markdown",
      "metadata": {
        "id": "gSd_fFAI6aym"
      },
      "source": [
        "First, we read in the data downloaded from Kaggle and get an inspection on one of the lyrics."
      ]
    },
    {
      "cell_type": "code",
      "metadata": {
        "id": "Gh9jT5prhzFg"
      },
      "source": [
        "\n",
        "url = 'https://raw.githubusercontent.com/jiahao303/music-classifier/main/tcc_ceds_music.csv'\n",
        "\n",
        "df = pd.read_csv(url)"
      ],
      "execution_count": 2,
      "outputs": []
    },
    {
      "cell_type": "code",
      "metadata": {
        "colab": {
          "base_uri": "https://localhost:8080/",
          "height": 86
        },
        "id": "zz5cxFImgzxI",
        "outputId": "1abc0729-7afb-4870-d67d-24d634b83b49"
      },
      "source": [
        "\n",
        "df = df.drop(\"Unnamed: 0\", axis =1)\n",
        "df.at[5,\"lyrics\"]"
      ],
      "execution_count": 3,
      "outputs": [
        {
          "output_type": "execute_result",
          "data": {
            "application/vnd.google.colaboratory.intrinsic+json": {
              "type": "string"
            },
            "text/plain": [
              "'convoy light dead ahead merchantmen trump diesels hammer oily kill grind knuckle white eye alight slam hatch deadly night cunning chicken lair hound hell devil care run silent run deep final prayer warriors secret sleep merchantman nightmare silent death lie wait run silent run deep sink final sleep chill hearts fight open ocean wonder lethal silver fish boat shiver cast millions play killer victim fool obey order rehearse lifeboat shatter hull tear black smell burn jones eye watch crosswire tube ready medal chest weeks dead like rest run silent run deep final prayer warriors secret sleep merchantman nightmare'"
            ]
          },
          "metadata": {},
          "execution_count": 3
        }
      ]
    },
    {
      "cell_type": "markdown",
      "metadata": {
        "id": "_wOh8qj1g6zh"
      },
      "source": [
        "We found that most of the neutral words such as pronouns (i.e. we, you, I) and auxiliaries are omitted since they have no use for the sentiment identifying.\n",
        "\n",
        "Also, we want to focus on music that are recently released, so we filter out the songs released before 2000."
      ]
    },
    {
      "cell_type": "code",
      "metadata": {
        "id": "Q883p112UMlS"
      },
      "source": [
        "df = df[df[\"release_date\"] > 2000]"
      ],
      "execution_count": 4,
      "outputs": []
    },
    {
      "cell_type": "markdown",
      "metadata": {
        "id": "G2ADdARahGB7"
      },
      "source": [
        "Now we get the dataframe resorted and only keep the lyrics column and the sentiment/topic column."
      ]
    },
    {
      "cell_type": "code",
      "metadata": {
        "colab": {
          "base_uri": "https://localhost:8080/",
          "height": 419
        },
        "id": "RgPLI_hPhFTL",
        "outputId": "1d8dbd38-0527-4b58-ff2b-946bce6a62fd"
      },
      "source": [
        "sentiment = df[[\"lyrics\", \"topic\"]]\n",
        "sentiment"
      ],
      "execution_count": 5,
      "outputs": [
        {
          "output_type": "execute_result",
          "data": {
            "text/html": [
              "<div>\n",
              "<style scoped>\n",
              "    .dataframe tbody tr th:only-of-type {\n",
              "        vertical-align: middle;\n",
              "    }\n",
              "\n",
              "    .dataframe tbody tr th {\n",
              "        vertical-align: top;\n",
              "    }\n",
              "\n",
              "    .dataframe thead th {\n",
              "        text-align: right;\n",
              "    }\n",
              "</style>\n",
              "<table border=\"1\" class=\"dataframe\">\n",
              "  <thead>\n",
              "    <tr style=\"text-align: right;\">\n",
              "      <th></th>\n",
              "      <th>lyrics</th>\n",
              "      <th>topic</th>\n",
              "    </tr>\n",
              "  </thead>\n",
              "  <tbody>\n",
              "    <tr>\n",
              "      <th>4843</th>\n",
              "      <td>yeah thinkin thoughts mind gonna finger gonna ...</td>\n",
              "      <td>obscene</td>\n",
              "    </tr>\n",
              "    <tr>\n",
              "      <th>4844</th>\n",
              "      <td>want learn reach grab cause everybody want bab...</td>\n",
              "      <td>obscene</td>\n",
              "    </tr>\n",
              "    <tr>\n",
              "      <th>4845</th>\n",
              "      <td>head head head head head head head head head h...</td>\n",
              "      <td>violence</td>\n",
              "    </tr>\n",
              "    <tr>\n",
              "      <th>4846</th>\n",
              "      <td>mechakucha odotte sawago sawago headbanger yea...</td>\n",
              "      <td>obscene</td>\n",
              "    </tr>\n",
              "    <tr>\n",
              "      <th>4847</th>\n",
              "      <td>want come cause room drink half beer right thi...</td>\n",
              "      <td>night/time</td>\n",
              "    </tr>\n",
              "    <tr>\n",
              "      <th>...</th>\n",
              "      <td>...</td>\n",
              "      <td>...</td>\n",
              "    </tr>\n",
              "    <tr>\n",
              "      <th>28367</th>\n",
              "      <td>cause fuck leave scar tick tock clock come kno...</td>\n",
              "      <td>obscene</td>\n",
              "    </tr>\n",
              "    <tr>\n",
              "      <th>28368</th>\n",
              "      <td>minks things chain ring braclets yap fame come...</td>\n",
              "      <td>obscene</td>\n",
              "    </tr>\n",
              "    <tr>\n",
              "      <th>28369</th>\n",
              "      <td>get ban get ban stick crack relax plan attack ...</td>\n",
              "      <td>obscene</td>\n",
              "    </tr>\n",
              "    <tr>\n",
              "      <th>28370</th>\n",
              "      <td>check check yeah yeah hear thing call switch g...</td>\n",
              "      <td>obscene</td>\n",
              "    </tr>\n",
              "    <tr>\n",
              "      <th>28371</th>\n",
              "      <td>remix killer alive remix thriller trap bitch s...</td>\n",
              "      <td>obscene</td>\n",
              "    </tr>\n",
              "  </tbody>\n",
              "</table>\n",
              "<p>10029 rows × 2 columns</p>\n",
              "</div>"
            ],
            "text/plain": [
              "                                                  lyrics       topic\n",
              "4843   yeah thinkin thoughts mind gonna finger gonna ...     obscene\n",
              "4844   want learn reach grab cause everybody want bab...     obscene\n",
              "4845   head head head head head head head head head h...    violence\n",
              "4846   mechakucha odotte sawago sawago headbanger yea...     obscene\n",
              "4847   want come cause room drink half beer right thi...  night/time\n",
              "...                                                  ...         ...\n",
              "28367  cause fuck leave scar tick tock clock come kno...     obscene\n",
              "28368  minks things chain ring braclets yap fame come...     obscene\n",
              "28369  get ban get ban stick crack relax plan attack ...     obscene\n",
              "28370  check check yeah yeah hear thing call switch g...     obscene\n",
              "28371  remix killer alive remix thriller trap bitch s...     obscene\n",
              "\n",
              "[10029 rows x 2 columns]"
            ]
          },
          "metadata": {},
          "execution_count": 5
        }
      ]
    },
    {
      "cell_type": "markdown",
      "metadata": {
        "id": "GWRrq0hBjtI0"
      },
      "source": [
        "Our task will be to teach an algorithm to classify lyrics by predicting the topic based on the text of the lyrics."
      ]
    },
    {
      "cell_type": "code",
      "metadata": {
        "colab": {
          "base_uri": "https://localhost:8080/"
        },
        "id": "9PbKxFxWjhO7",
        "outputId": "c004a0f1-5d74-4e5f-ecfc-8366310f01bd"
      },
      "source": [
        "sentiment.groupby(\"topic\").size()"
      ],
      "execution_count": 6,
      "outputs": [
        {
          "output_type": "execute_result",
          "data": {
            "text/plain": [
              "topic\n",
              "feelings       193\n",
              "music          515\n",
              "night/time     575\n",
              "obscene       2562\n",
              "romantic       276\n",
              "sadness       1874\n",
              "violence      2373\n",
              "world/life    1661\n",
              "dtype: int64"
            ]
          },
          "metadata": {},
          "execution_count": 6
        }
      ]
    },
    {
      "cell_type": "markdown",
      "metadata": {
        "id": "nOUNdaJ3jmHb"
      },
      "source": [
        "Encode the \"topic\" column values with integers."
      ]
    },
    {
      "cell_type": "code",
      "metadata": {
        "colab": {
          "base_uri": "https://localhost:8080/",
          "height": 340
        },
        "id": "PNnMm3a7jlDX",
        "outputId": "a812f904-ccea-48f5-dc27-4832229777c3"
      },
      "source": [
        "le = LabelEncoder()\n",
        "sentiment[\"topic\"] = le.fit_transform(sentiment[\"topic\"])\n",
        "sentiment.head()"
      ],
      "execution_count": 7,
      "outputs": [
        {
          "output_type": "stream",
          "name": "stderr",
          "text": [
            "/usr/local/lib/python3.7/dist-packages/ipykernel_launcher.py:2: SettingWithCopyWarning:\n",
            "\n",
            "\n",
            "A value is trying to be set on a copy of a slice from a DataFrame.\n",
            "Try using .loc[row_indexer,col_indexer] = value instead\n",
            "\n",
            "See the caveats in the documentation: https://pandas.pydata.org/pandas-docs/stable/user_guide/indexing.html#returning-a-view-versus-a-copy\n",
            "\n"
          ]
        },
        {
          "output_type": "execute_result",
          "data": {
            "text/html": [
              "<div>\n",
              "<style scoped>\n",
              "    .dataframe tbody tr th:only-of-type {\n",
              "        vertical-align: middle;\n",
              "    }\n",
              "\n",
              "    .dataframe tbody tr th {\n",
              "        vertical-align: top;\n",
              "    }\n",
              "\n",
              "    .dataframe thead th {\n",
              "        text-align: right;\n",
              "    }\n",
              "</style>\n",
              "<table border=\"1\" class=\"dataframe\">\n",
              "  <thead>\n",
              "    <tr style=\"text-align: right;\">\n",
              "      <th></th>\n",
              "      <th>lyrics</th>\n",
              "      <th>topic</th>\n",
              "    </tr>\n",
              "  </thead>\n",
              "  <tbody>\n",
              "    <tr>\n",
              "      <th>4843</th>\n",
              "      <td>yeah thinkin thoughts mind gonna finger gonna ...</td>\n",
              "      <td>3</td>\n",
              "    </tr>\n",
              "    <tr>\n",
              "      <th>4844</th>\n",
              "      <td>want learn reach grab cause everybody want bab...</td>\n",
              "      <td>3</td>\n",
              "    </tr>\n",
              "    <tr>\n",
              "      <th>4845</th>\n",
              "      <td>head head head head head head head head head h...</td>\n",
              "      <td>6</td>\n",
              "    </tr>\n",
              "    <tr>\n",
              "      <th>4846</th>\n",
              "      <td>mechakucha odotte sawago sawago headbanger yea...</td>\n",
              "      <td>3</td>\n",
              "    </tr>\n",
              "    <tr>\n",
              "      <th>4847</th>\n",
              "      <td>want come cause room drink half beer right thi...</td>\n",
              "      <td>2</td>\n",
              "    </tr>\n",
              "  </tbody>\n",
              "</table>\n",
              "</div>"
            ],
            "text/plain": [
              "                                                 lyrics  topic\n",
              "4843  yeah thinkin thoughts mind gonna finger gonna ...      3\n",
              "4844  want learn reach grab cause everybody want bab...      3\n",
              "4845  head head head head head head head head head h...      6\n",
              "4846  mechakucha odotte sawago sawago headbanger yea...      3\n",
              "4847  want come cause room drink half beer right thi...      2"
            ]
          },
          "metadata": {},
          "execution_count": 7
        }
      ]
    },
    {
      "cell_type": "markdown",
      "metadata": {
        "id": "Q7xR8fUdjySe"
      },
      "source": [
        "Inspect which integers correspond to which classes using the classes_ attribute of the encoder."
      ]
    },
    {
      "cell_type": "code",
      "metadata": {
        "colab": {
          "base_uri": "https://localhost:8080/"
        },
        "id": "Llsh7OFUj0Oa",
        "outputId": "4e89801e-09c5-47bc-ca10-ec9df1660748"
      },
      "source": [
        "le.classes_"
      ],
      "execution_count": 8,
      "outputs": [
        {
          "output_type": "execute_result",
          "data": {
            "text/plain": [
              "array(['feelings', 'music', 'night/time', 'obscene', 'romantic',\n",
              "       'sadness', 'violence', 'world/life'], dtype=object)"
            ]
          },
          "metadata": {},
          "execution_count": 8
        }
      ]
    },
    {
      "cell_type": "code",
      "metadata": {
        "id": "VYGx3cTAgpbL"
      },
      "source": [
        "data = tf.data.Dataset.from_tensor_slices((sentiment[\"topic\"],sentiment[\"lyrics\"]))"
      ],
      "execution_count": 9,
      "outputs": []
    },
    {
      "cell_type": "markdown",
      "metadata": {
        "id": "wcjcQwWvkLeZ"
      },
      "source": [
        "Iterate over the data values."
      ]
    },
    {
      "cell_type": "code",
      "metadata": {
        "colab": {
          "base_uri": "https://localhost:8080/"
        },
        "id": "yJCBUSuXj-bo",
        "outputId": "e9642d12-2b51-4670-ec7d-4e9280b7534e"
      },
      "source": [
        "for lyrics,topic in data.take(5):\n",
        "    print(lyrics)\n",
        "    print(topic)\n",
        "    print(\"\")"
      ],
      "execution_count": 10,
      "outputs": [
        {
          "output_type": "stream",
          "name": "stdout",
          "text": [
            "tf.Tensor(3, shape=(), dtype=int64)\n",
            "tf.Tensor(b'yeah thinkin thoughts mind gonna finger gonna raise smilin thinkin thoughts give somethin give nothin write songs write week sleep thing dream thing need cause city everybody know fuckin true know wouldn understand doin everythin think thinkin thoughts mind gonna finger gonna raise smilin thinkin thoughts move people space write album song hear gotta feel cause city everybody know fuckin true know wouldn understand doin everythin think thinkin thoughts mind gonna finger gonna raise smilin thinkin thoughts yeah thinkin thoughts brain gonna dancin till legs start break smilin bein fake thinkin thoughts thinkin thoughts', shape=(), dtype=string)\n",
            "\n",
            "tf.Tensor(3, shape=(), dtype=int64)\n",
            "tf.Tensor(b'want learn reach grab cause everybody want baby shoot star baby heart break need play monastic blow cause everybody want barely know heart break photograph photograph photograph cause everybody want dream barely heart break photograph photograph photograph blow reject draw plan reerect draw plan reerect draw plan reerect', shape=(), dtype=string)\n",
            "\n",
            "tf.Tensor(6, shape=(), dtype=int64)\n",
            "tf.Tensor(b'head head head head head head head head head head head head head head wall cave live live wall cave live live wall cave true wall cave turn world away head head head head head trap maze head know head head easy head head head head head head head wall cave live live wall cave live live wall cave live live wall cave live live head head live live live live live live live live', shape=(), dtype=string)\n",
            "\n",
            "tf.Tensor(3, shape=(), dtype=int64)\n",
            "tf.Tensor(b'mechakucha odotte sawago sawago headbanger yeah gimme shit gimme shit gimme shit gimme shit puttin hottest round tell motherfuckers stop listen lastin round want nigga come biggie biggie bounce know swswswitch style holla people sing people gather round people jump freak freak freak freak freak freak freak getcha getcha getcha getcha getcha freak freak freak freak freak freak freak freak getcha getcha getcha getcha getcha freak chick people know timbaland years dilly drilly wanna battle nigga know holla feel lemme throw maut mujhko people come sweat radio shake like freak freak freak freak freak freak freak getcha getcha getcha getcha getcha freak freak freak freak freak freak freak freak getcha getcha getcha getcha getcha freak quiet shhh hush mouth silence spit hahchoo face open mouth taste holla stoppin copy write copy sloppily come close know feel know hear loud scream loud proud blow people play outta cause best crazy style freak freak freak freak freak freak freak getcha getcha getcha getcha getcha freak freak freak freak freak freak freak freak getcha getcha getcha getcha getcha freak ichi', shape=(), dtype=string)\n",
            "\n",
            "tf.Tensor(2, shape=(), dtype=int64)\n",
            "tf.Tensor(b'want come cause room drink half beer right thing night matter time measurable imagination kind tonight best gun turn eighty degrees find add right line sell appease sleep lie twice time time time feel alive feel cause know hasn change nineteen school wait light corner sound exchange', shape=(), dtype=string)\n",
            "\n"
          ]
        }
      ]
    },
    {
      "cell_type": "markdown",
      "metadata": {
        "id": "pfjlwVbXkPRJ"
      },
      "source": [
        "We have created a special TensorFlow Dataset.\n",
        "Now, we will split it into training, validation, and testing sets."
      ]
    },
    {
      "cell_type": "code",
      "metadata": {
        "id": "Egz1f66FkTgJ"
      },
      "source": [
        "data = data.shuffle(buffer_size = len(data))"
      ],
      "execution_count": 11,
      "outputs": []
    },
    {
      "cell_type": "code",
      "metadata": {
        "id": "HBPEjPi0kYMl"
      },
      "source": [
        "train_size = int(0.7*len(data))\n",
        "val_size   = int(0.1*len(data))\n",
        "\n",
        "train = data.take(train_size)\n",
        "val   = data.skip(train_size).take(val_size)\n",
        "test  = data.skip(train_size + val_size)"
      ],
      "execution_count": 12,
      "outputs": []
    },
    {
      "cell_type": "code",
      "metadata": {
        "colab": {
          "base_uri": "https://localhost:8080/"
        },
        "id": "dd09aTdPkdkd",
        "outputId": "9ec4d73a-80a3-42f5-8197-13543c556f63"
      },
      "source": [
        "len(train), len(val), len(test)"
      ],
      "execution_count": 13,
      "outputs": [
        {
          "output_type": "execute_result",
          "data": {
            "text/plain": [
              "(7020, 1002, 2007)"
            ]
          },
          "metadata": {},
          "execution_count": 13
        }
      ]
    },
    {
      "cell_type": "code",
      "metadata": {
        "id": "p5C5nc5EkpBj"
      },
      "source": [
        "def standardization(input_data):\n",
        "    lowercase = tf.strings.lower(input_data)\n",
        "    no_punctuation = tf.strings.regex_replace(lowercase,\n",
        "                                  '[%s]' % re.escape(string.punctuation),'')\n",
        "    return no_punctuation"
      ],
      "execution_count": 14,
      "outputs": []
    },
    {
      "cell_type": "code",
      "metadata": {
        "id": "dCuiaUA1z2Kk"
      },
      "source": [
        "max_tokens = 2000\n",
        "# each headline will be a vector of length 40\n",
        "sequence_length = 40\n",
        "\n",
        "vectorize_layer = TextVectorization(\n",
        "    max_tokens = max_tokens,\n",
        "    standardize=standardization,\n",
        "    output_mode='int',\n",
        "    output_sequence_length=sequence_length)"
      ],
      "execution_count": 15,
      "outputs": []
    },
    {
      "cell_type": "markdown",
      "metadata": {
        "id": "P_YUaGzMz7PD"
      },
      "source": [
        "We need to adapt the vectorization layer to the lyrics. In the adaptation process, the vectorization layer learns what words are common in the lyrics."
      ]
    },
    {
      "cell_type": "code",
      "metadata": {
        "id": "i13F4dzQz8o6"
      },
      "source": [
        "lyrics = train.map(lambda x, y: y)\n",
        "vectorize_layer.adapt(lyrics)"
      ],
      "execution_count": 16,
      "outputs": []
    },
    {
      "cell_type": "markdown",
      "metadata": {
        "id": "1pgR2lOA0-hN"
      },
      "source": [
        "We define a helper function that operates on our Datasets. Note that our Dataset consists of a bunch of tuples of the form (topic, lyrics) for each data observation. Our helper function therefore accepts and returns two variables."
      ]
    },
    {
      "cell_type": "code",
      "metadata": {
        "id": "aYW_D3Cc0tdP"
      },
      "source": [
        "def vectorize_headline(label, text):\n",
        "    text = tf.expand_dims(text, -1)\n",
        "    return vectorize_layer(text), [label]\n",
        "\n",
        "train_vec = train.map(vectorize_headline)\n",
        "val_vec   = val.map(vectorize_headline)\n",
        "test_vec  = test.map(vectorize_headline)"
      ],
      "execution_count": 17,
      "outputs": []
    },
    {
      "cell_type": "markdown",
      "metadata": {
        "id": "0owLDvL_RhsI"
      },
      "source": [
        "Let's take a look at a vectorized piece of text."
      ]
    },
    {
      "cell_type": "code",
      "metadata": {
        "colab": {
          "base_uri": "https://localhost:8080/"
        },
        "id": "GLdQFezkRa9D",
        "outputId": "a7c1c0e5-3228-4200-c789-8bef430e4b98"
      },
      "source": [
        "list(train_vec.take(2))"
      ],
      "execution_count": 18,
      "outputs": [
        {
          "output_type": "execute_result",
          "data": {
            "text/plain": [
              "[(<tf.Tensor: shape=(1, 40), dtype=int64, numpy=\n",
              "  array([[  1,  71, 142, 846, 693, 937,  83, 164,  18, 890, 606, 111,  90,\n",
              "          151,   1, 687, 115,  30,  51, 323, 171, 782,  15, 295,  54, 132,\n",
              "            1,  71,   1,  71, 142, 846, 693, 937,  83, 164,  18, 890, 606,\n",
              "          111]])>, <tf.Tensor: shape=(1,), dtype=int64, numpy=array([7])>),\n",
              " (<tf.Tensor: shape=(1, 40), dtype=int64, numpy=\n",
              "  array([[187, 120, 163, 245, 169, 141, 224,  80,  39,   1, 329, 334, 156,\n",
              "           61, 434, 351,  18, 234,   1,   4, 234,   1,   4,   1,  12, 255,\n",
              "           68, 202, 825, 212, 169, 141, 224,  80, 318,   1, 383, 340, 842,\n",
              "          405]])>, <tf.Tensor: shape=(1,), dtype=int64, numpy=array([2])>)]"
            ]
          },
          "metadata": {},
          "execution_count": 18
        }
      ]
    },
    {
      "cell_type": "markdown",
      "metadata": {
        "id": "lmjvyoLy7jKX"
      },
      "source": [
        "Great! Now our data are ready for TensorFlow to understand! We have represented each of our lyrics as numerical vectors."
      ]
    },
    {
      "cell_type": "markdown",
      "metadata": {
        "id": "hJZp1LlAR0iL"
      },
      "source": [
        "## Modeling\n",
        "Let's now construct a machine learning model out of some layers. This model is going to have a few new components\n",
        "- `layers.Embedding()` which turns positive integers (indices) into dense vectors of fixed size.\n",
        "- `layers.Dropout()` which deals with overfitting by ensuring that the model doesn't fit too close.\n",
        "- `layers.GlobalAveragePooling1D()` \n",
        "- `layers.Dense()` which forms the prediction."
      ]
    },
    {
      "cell_type": "code",
      "metadata": {
        "id": "wBvMMG8KR2rg"
      },
      "source": [
        "model = tf.keras.Sequential([\n",
        "  layers.Embedding(max_tokens, output_dim = 8, name=\"embedding\"),\n",
        "  layers.Dropout(0.2),\n",
        "  layers.GlobalAveragePooling1D(),\n",
        "  layers.Dropout(0.2),\n",
        "  layers.Dense(8) # we have 8 topics] \n",
        ")"
      ],
      "execution_count": 19,
      "outputs": []
    },
    {
      "cell_type": "code",
      "metadata": {
        "id": "Y-bPjGbPR5oS"
      },
      "source": [
        "model.compile(loss=losses.SparseCategoricalCrossentropy(from_logits=True),\n",
        "              optimizer='adam', \n",
        "              metrics=['accuracy'])"
      ],
      "execution_count": 20,
      "outputs": []
    },
    {
      "cell_type": "code",
      "metadata": {
        "colab": {
          "base_uri": "https://localhost:8080/"
        },
        "id": "7g1M2nJnUQ5w",
        "outputId": "154e3bb4-3039-4c11-9663-681d433e2725"
      },
      "source": [
        "history = model.fit(train_vec, epochs = 30, validation_data = val_vec)"
      ],
      "execution_count": 21,
      "outputs": [
        {
          "output_type": "stream",
          "name": "stdout",
          "text": [
            "Epoch 1/30\n",
            "7020/7020 [==============================] - 41s 6ms/step - loss: 1.6194 - accuracy: 0.4282 - val_loss: 1.3021 - val_accuracy: 0.6567\n",
            "Epoch 2/30\n",
            "7020/7020 [==============================] - 40s 6ms/step - loss: 1.1009 - accuracy: 0.6722 - val_loss: 0.8150 - val_accuracy: 0.7565\n",
            "Epoch 3/30\n",
            "7020/7020 [==============================] - 40s 6ms/step - loss: 0.8006 - accuracy: 0.7513 - val_loss: 0.5916 - val_accuracy: 0.8194\n",
            "Epoch 4/30\n",
            "7020/7020 [==============================] - 39s 6ms/step - loss: 0.6706 - accuracy: 0.7909 - val_loss: 0.5270 - val_accuracy: 0.8483\n",
            "Epoch 5/30\n",
            "7020/7020 [==============================] - 40s 6ms/step - loss: 0.5835 - accuracy: 0.8185 - val_loss: 0.4528 - val_accuracy: 0.8553\n",
            "Epoch 6/30\n",
            "7020/7020 [==============================] - 39s 6ms/step - loss: 0.5273 - accuracy: 0.8299 - val_loss: 0.3887 - val_accuracy: 0.8952\n",
            "Epoch 7/30\n",
            "7020/7020 [==============================] - 41s 6ms/step - loss: 0.5042 - accuracy: 0.8383 - val_loss: 0.3738 - val_accuracy: 0.8942\n",
            "Epoch 8/30\n",
            "7020/7020 [==============================] - 40s 6ms/step - loss: 0.4780 - accuracy: 0.8452 - val_loss: 0.3309 - val_accuracy: 0.9052\n",
            "Epoch 9/30\n",
            "7020/7020 [==============================] - 39s 6ms/step - loss: 0.4431 - accuracy: 0.8575 - val_loss: 0.3210 - val_accuracy: 0.9192\n",
            "Epoch 10/30\n",
            "7020/7020 [==============================] - 40s 6ms/step - loss: 0.4241 - accuracy: 0.8667 - val_loss: 0.3035 - val_accuracy: 0.9132\n",
            "Epoch 11/30\n",
            "7020/7020 [==============================] - 40s 6ms/step - loss: 0.3926 - accuracy: 0.8717 - val_loss: 0.2514 - val_accuracy: 0.9182\n",
            "Epoch 12/30\n",
            "7020/7020 [==============================] - 40s 6ms/step - loss: 0.4046 - accuracy: 0.8688 - val_loss: 0.2533 - val_accuracy: 0.9291\n",
            "Epoch 13/30\n",
            "7020/7020 [==============================] - 40s 6ms/step - loss: 0.3803 - accuracy: 0.8791 - val_loss: 0.2198 - val_accuracy: 0.9391\n",
            "Epoch 14/30\n",
            "7020/7020 [==============================] - 40s 6ms/step - loss: 0.3774 - accuracy: 0.8775 - val_loss: 0.2334 - val_accuracy: 0.9232\n",
            "Epoch 15/30\n",
            "7020/7020 [==============================] - 41s 6ms/step - loss: 0.3469 - accuracy: 0.8873 - val_loss: 0.2335 - val_accuracy: 0.9271\n",
            "Epoch 16/30\n",
            "7020/7020 [==============================] - 40s 6ms/step - loss: 0.3516 - accuracy: 0.8838 - val_loss: 0.2196 - val_accuracy: 0.9321\n",
            "Epoch 17/30\n",
            "7020/7020 [==============================] - 40s 6ms/step - loss: 0.3425 - accuracy: 0.8876 - val_loss: 0.2040 - val_accuracy: 0.9381\n",
            "Epoch 18/30\n",
            "7020/7020 [==============================] - 40s 6ms/step - loss: 0.3333 - accuracy: 0.8873 - val_loss: 0.2101 - val_accuracy: 0.9431\n",
            "Epoch 19/30\n",
            "7020/7020 [==============================] - 40s 6ms/step - loss: 0.3284 - accuracy: 0.8925 - val_loss: 0.2128 - val_accuracy: 0.9361\n",
            "Epoch 20/30\n",
            "7020/7020 [==============================] - 40s 6ms/step - loss: 0.3323 - accuracy: 0.8897 - val_loss: 0.1738 - val_accuracy: 0.9511\n",
            "Epoch 21/30\n",
            "7020/7020 [==============================] - 40s 6ms/step - loss: 0.3165 - accuracy: 0.8973 - val_loss: 0.1762 - val_accuracy: 0.9481\n",
            "Epoch 22/30\n",
            "7020/7020 [==============================] - 41s 6ms/step - loss: 0.3141 - accuracy: 0.8970 - val_loss: 0.1445 - val_accuracy: 0.9551\n",
            "Epoch 23/30\n",
            "7020/7020 [==============================] - 40s 6ms/step - loss: 0.3130 - accuracy: 0.8940 - val_loss: 0.1437 - val_accuracy: 0.9621\n",
            "Epoch 24/30\n",
            "7020/7020 [==============================] - 40s 6ms/step - loss: 0.2976 - accuracy: 0.8996 - val_loss: 0.1726 - val_accuracy: 0.9481\n",
            "Epoch 25/30\n",
            "7020/7020 [==============================] - 40s 6ms/step - loss: 0.3004 - accuracy: 0.9010 - val_loss: 0.1590 - val_accuracy: 0.9571\n",
            "Epoch 26/30\n",
            "7020/7020 [==============================] - 39s 6ms/step - loss: 0.2952 - accuracy: 0.9046 - val_loss: 0.1724 - val_accuracy: 0.9441\n",
            "Epoch 27/30\n",
            "7020/7020 [==============================] - 39s 6ms/step - loss: 0.2952 - accuracy: 0.9020 - val_loss: 0.1579 - val_accuracy: 0.9481\n",
            "Epoch 28/30\n",
            "7020/7020 [==============================] - 39s 6ms/step - loss: 0.2986 - accuracy: 0.9023 - val_loss: 0.1437 - val_accuracy: 0.9631\n",
            "Epoch 29/30\n",
            "7020/7020 [==============================] - 39s 6ms/step - loss: 0.2877 - accuracy: 0.8993 - val_loss: 0.1410 - val_accuracy: 0.9591\n",
            "Epoch 30/30\n",
            "7020/7020 [==============================] - 40s 6ms/step - loss: 0.2933 - accuracy: 0.9014 - val_loss: 0.1582 - val_accuracy: 0.9541\n"
          ]
        }
      ]
    },
    {
      "cell_type": "markdown",
      "metadata": {
        "id": "BTOacpNR8ldj"
      },
      "source": [
        "Let's plot the training history of our model using `matplotlib`."
      ]
    },
    {
      "cell_type": "code",
      "metadata": {
        "colab": {
          "base_uri": "https://localhost:8080/",
          "height": 296
        },
        "id": "aUneiOLt2LEI",
        "outputId": "84c58de6-69a1-4499-b50c-05f45237492f"
      },
      "source": [
        "from matplotlib import pyplot as plt\n",
        "plt.plot(history.history[\"accuracy\"], label = \"training\")\n",
        "plt.plot(history.history[\"val_accuracy\"], label = \"validation\")\n",
        "plt.gca().set(xlabel = \"epoch\", ylabel = \"accuracy\")\n",
        "plt.legend()"
      ],
      "execution_count": 22,
      "outputs": [
        {
          "output_type": "execute_result",
          "data": {
            "text/plain": [
              "<matplotlib.legend.Legend at 0x7f7e203e3890>"
            ]
          },
          "metadata": {},
          "execution_count": 22
        },
        {
          "output_type": "display_data",
          "data": {
            "image/png": "[encoded data removed]",
            "text/plain": [
              "<Figure size 432x288 with 1 Axes>"
            ]
          },
          "metadata": {
            "needs_background": "light"
          }
        }
      ]
    },
    {
      "cell_type": "markdown",
      "metadata": {
        "id": "FsJQPuFY8xlr"
      },
      "source": [
        "Awesome! We can observe that the validation accuracy stabilizes around 95% level, which is a pretty decent number. We also note that the test accuracy is less than the validation accuracy, so our model does not suffer from the overfitting issue."
      ]
    },
    {
      "cell_type": "markdown",
      "metadata": {
        "id": "pCbLRUZztVXD"
      },
      "source": [
        "## Visualizing Word Embeddings\n",
        "A word embedding refers to a representation of a word in a vector space. The general aim of a word embedding is to create a representation such that words with related meanings are close to each other in a vector space, while words with different meanings are farther apart.\n",
        "\n",
        "Let's take a look at the embedding layer to see how our own model represents words in a vector space."
      ]
    },
    {
      "cell_type": "code",
      "metadata": {
        "id": "WSPeUTq8tsX_"
      },
      "source": [
        "weights = model.get_layer('embedding').get_weights()[0] # get the weights from the embedding layer\n",
        "vocab = vectorize_layer.get_vocabulary()                # get the vocabulary from our data prep for later"
      ],
      "execution_count": 23,
      "outputs": []
    },
    {
      "cell_type": "code",
      "metadata": {
        "id": "OpPViboOulaA",
        "outputId": "1f7e4fb7-6f86-4c35-a585-0cf6662eae52",
        "colab": {
          "base_uri": "https://localhost:8080/"
        }
      },
      "source": [
        "weights"
      ],
      "execution_count": 33,
      "outputs": [
        {
          "output_type": "execute_result",
          "data": {
            "text/plain": [
              "array([[ 0.04846526,  0.01882868,  0.09138936, ..., -0.02367672,\n",
              "        -0.03207614, -0.03416238],\n",
              "       [ 0.09520737,  0.00399377,  0.0297223 , ..., -0.0840168 ,\n",
              "        -0.05809384, -0.10808388],\n",
              "       [ 0.59387535, -0.46688464,  0.1888416 , ...,  0.19389632,\n",
              "        -0.52531785,  0.800327  ],\n",
              "       ...,\n",
              "       [ 0.66111225, -1.1573776 ,  1.2146763 , ...,  0.37410682,\n",
              "        -0.0849893 ,  0.96064997],\n",
              "       [-0.39609978,  0.48705488, -0.47816548, ...,  0.8280586 ,\n",
              "        -0.7435364 ,  0.8066341 ],\n",
              "       [ 0.98836124, -1.655913  ,  1.5442748 , ...,  1.1423501 ,\n",
              "        -1.7237687 ,  1.7112501 ]], dtype=float32)"
            ]
          },
          "metadata": {},
          "execution_count": 33
        }
      ]
    },
    {
      "cell_type": "markdown",
      "metadata": {
        "id": "yqGJm7CTvxwp"
      },
      "source": [
        "We chose to create a 8-dimensional embedding when constructing our model as there are 8 different topics for the lyrics. To plot in 2 dimensions, we need to reduce the data to a 2d representation. A very simple and standard approach is the principal component analysis (PCA)."
      ]
    },
    {
      "cell_type": "code",
      "metadata": {
        "id": "cnMepZAVvpgQ"
      },
      "source": [
        "from sklearn.decomposition import PCA\n",
        "pca = PCA(n_components=2)\n",
        "weights = pca.fit_transform(weights)"
      ],
      "execution_count": 34,
      "outputs": []
    },
    {
      "cell_type": "markdown",
      "metadata": {
        "id": "Itvyx8UOyQXo"
      },
      "source": [
        "Now we can make a dataframe from our results."
      ]
    },
    {
      "cell_type": "code",
      "metadata": {
        "id": "FYHuHsK8x-p8",
        "outputId": "c6e273e8-a4bd-4090-a506-a1282aca6b78",
        "colab": {
          "base_uri": "https://localhost:8080/",
          "height": 419
        }
      },
      "source": [
        "embedding_df = pd.DataFrame({\n",
        "    'word' : vocab, \n",
        "    'x0'   : weights[:,0],\n",
        "    'x1'   : weights[:,1]\n",
        "})\n",
        "embedding_df"
      ],
      "execution_count": 38,
      "outputs": [
        {
          "output_type": "execute_result",
          "data": {
            "text/html": [
              "<div>\n",
              "<style scoped>\n",
              "    .dataframe tbody tr th:only-of-type {\n",
              "        vertical-align: middle;\n",
              "    }\n",
              "\n",
              "    .dataframe tbody tr th {\n",
              "        vertical-align: top;\n",
              "    }\n",
              "\n",
              "    .dataframe thead th {\n",
              "        text-align: right;\n",
              "    }\n",
              "</style>\n",
              "<table border=\"1\" class=\"dataframe\">\n",
              "  <thead>\n",
              "    <tr style=\"text-align: right;\">\n",
              "      <th></th>\n",
              "      <th>word</th>\n",
              "      <th>x0</th>\n",
              "      <th>x1</th>\n",
              "    </tr>\n",
              "  </thead>\n",
              "  <tbody>\n",
              "    <tr>\n",
              "      <th>0</th>\n",
              "      <td></td>\n",
              "      <td>-0.269578</td>\n",
              "      <td>-0.486498</td>\n",
              "    </tr>\n",
              "    <tr>\n",
              "      <th>1</th>\n",
              "      <td>[UNK]</td>\n",
              "      <td>-0.289521</td>\n",
              "      <td>-0.568359</td>\n",
              "    </tr>\n",
              "    <tr>\n",
              "      <th>2</th>\n",
              "      <td>like</td>\n",
              "      <td>0.992955</td>\n",
              "      <td>-0.348335</td>\n",
              "    </tr>\n",
              "    <tr>\n",
              "      <th>3</th>\n",
              "      <td>know</td>\n",
              "      <td>0.217841</td>\n",
              "      <td>-0.538148</td>\n",
              "    </tr>\n",
              "    <tr>\n",
              "      <th>4</th>\n",
              "      <td>time</td>\n",
              "      <td>-0.332891</td>\n",
              "      <td>-1.368437</td>\n",
              "    </tr>\n",
              "    <tr>\n",
              "      <th>...</th>\n",
              "      <td>...</td>\n",
              "      <td>...</td>\n",
              "      <td>...</td>\n",
              "    </tr>\n",
              "    <tr>\n",
              "      <th>1995</th>\n",
              "      <td>mix</td>\n",
              "      <td>3.286369</td>\n",
              "      <td>-0.491409</td>\n",
              "    </tr>\n",
              "    <tr>\n",
              "      <th>1996</th>\n",
              "      <td>lend</td>\n",
              "      <td>0.314136</td>\n",
              "      <td>-2.259532</td>\n",
              "    </tr>\n",
              "    <tr>\n",
              "      <th>1997</th>\n",
              "      <td>layin</td>\n",
              "      <td>1.719992</td>\n",
              "      <td>0.028728</td>\n",
              "    </tr>\n",
              "    <tr>\n",
              "      <th>1998</th>\n",
              "      <td>language</td>\n",
              "      <td>0.010849</td>\n",
              "      <td>0.349938</td>\n",
              "    </tr>\n",
              "    <tr>\n",
              "      <th>1999</th>\n",
              "      <td>kush</td>\n",
              "      <td>3.823002</td>\n",
              "      <td>0.014908</td>\n",
              "    </tr>\n",
              "  </tbody>\n",
              "</table>\n",
              "<p>2000 rows × 3 columns</p>\n",
              "</div>"
            ],
            "text/plain": [
              "          word        x0        x1\n",
              "0              -0.269578 -0.486498\n",
              "1        [UNK] -0.289521 -0.568359\n",
              "2         like  0.992955 -0.348335\n",
              "3         know  0.217841 -0.538148\n",
              "4         time -0.332891 -1.368437\n",
              "...        ...       ...       ...\n",
              "1995       mix  3.286369 -0.491409\n",
              "1996      lend  0.314136 -2.259532\n",
              "1997     layin  1.719992  0.028728\n",
              "1998  language  0.010849  0.349938\n",
              "1999      kush  3.823002  0.014908\n",
              "\n",
              "[2000 rows x 3 columns]"
            ]
          },
          "metadata": {},
          "execution_count": 38
        }
      ]
    },
    {
      "cell_type": "code",
      "metadata": {
        "id": "-KXaOC8RybDe",
        "outputId": "ba1268e2-d5c8-49aa-ff71-2fe719cee0ed",
        "colab": {
          "base_uri": "https://localhost:8080/",
          "height": 542
        }
      },
      "source": [
        "import plotly.express as px \n",
        "fig = px.scatter(embedding_df, \n",
        "                 x = \"x0\", \n",
        "                 y = \"x1\", \n",
        "                 size = list(np.ones(len(embedding_df))),\n",
        "                 size_max = 2,\n",
        "                 hover_name = \"word\")\n",
        "\n",
        "fig.show()"
      ],
      "execution_count": 39,
      "outputs": [
        {
          "output_type": "display_data",
          "data": {
            "text/html": [
              "<html>\n",
              "<head><meta charset=\"utf-8\" /></head>\n",
              "<body>\n",
              "    <div>\n",
              "            <script src=\"https://cdnjs.cloudflare.com/ajax/libs/mathjax/2.7.5/MathJax.js?config=TeX-AMS-MML_SVG\"></script><script type=\"text/javascript\">if (window.MathJax) {MathJax.Hub.Config({SVG: {font: \"STIX-Web\"}});}</script>\n",
              "                <script type=\"text/javascript\">window.PlotlyConfig = {MathJaxConfig: 'local'};</script>\n",
              "        <script src=\"https://cdn.plot.ly/plotly-latest.min.js\"></script>    \n",
              "            <div id=\"a35a8cc6-878a-470c-b23c-b97d45ada785\" class=\"plotly-graph-div\" style=\"height:525px; width:100%;\"></div>\n",
              "            <script type=\"text/javascript\">\n",
              "                \n",
              "                    window.PLOTLYENV=window.PLOTLYENV || {};\n",
              "                    \n",
              "                if (document.getElementById(\"a35a8cc6-878a-470c-b23c-b97d45ada785\")) {\n",
              "                    Plotly.newPlot(\n",
              "                        'a35a8cc6-878a-470c-b23c-b97d45ada785',\n",
              "                        [{\"hoverlabel\": {\"namelength\": 0}, \"hovertemplate\": \"<b>%{hovertext}</b><br><br>x0=%{x}<br>x1=%{y}<br>size=%{marker.size}\", \"hovertext\": [\"\", \"[UNK]\", \"like\", \"know\", \"time\", \"come\", \"yeah\", \"feel\", \"cause\", \"life\", \"away\", \"want\", \"go\", \"right\", \"leave\", \"heart\", \"tell\", \"baby\", \"live\", \"need\", \"think\", \"break\", \"gonna\", \"wanna\", \"good\", \"hold\", \"look\", \"fuck\", \"night\", \"fall\", \"world\", \"mind\", \"long\", \"hand\", \"hear\", \"say\", \"head\", \"better\", \"shit\", \"lose\", \"home\", \"girl\", \"eye\", \"stay\", \"little\", \"play\", \"bitch\", \"walk\", \"believe\", \"turn\", \"money\", \"stand\", \"change\", \"start\", \"sing\", \"things\", \"face\", \"dream\", \"gotta\", \"take\", \"inside\", \"stop\", \"place\", \"nigga\", \"hard\", \"tonight\", \"light\", \"black\", \"people\", \"bring\", \"fight\", \"thing\", \"get\", \"real\", \"watch\", \"tear\", \"word\", \"kill\", \"days\", \"talk\", \"wish\", \"try\", \"wait\", \"give\", \"bout\", \"song\", \"forget\", \"sleep\", \"mean\", \"wrong\", \"high\", \"beat\", \"soul\", \"niggas\", \"save\", \"line\", \"sound\", \"pain\", \"burn\", \"party\", \"cold\", \"free\", \"hell\", \"work\", \"remember\", \"open\", \"miss\", \"love\", \"close\", \"drink\", \"blood\", \"make\", \"blue\", \"hurt\", \"game\", \"kiss\", \"hide\", \"damn\", \"roll\", \"lonely\", \"grind\", \"dead\", \"alive\", \"shoot\", \"care\", \"lyric\", \"today\", \"fear\", \"call\", \"learn\", \"ready\", \"pull\", \"true\", \"throw\", \"breathe\", \"run\", \"smoke\", \"commercial\", \"dance\", \"see\", \"catch\", \"listen\", \"grow\", \"sweet\", \"step\", \"help\", \"best\", \"body\", \"lie\", \"drop\", \"everybody\", \"morning\", \"forever\", \"blow\", \"road\", \"lord\", \"matter\", \"hate\", \"wall\", \"deep\", \"rain\", \"till\", \"somebody\", \"ride\", \"reason\", \"music\", \"door\", \"maybe\", \"follow\", \"young\", \"truth\", \"touch\", \"strong\", \"scar\", \"crazy\", \"keep\", \"die\", \"smile\", \"waste\", \"white\", \"dark\", \"friends\", \"fool\", \"cry\", \"speak\", \"guess\", \"spend\", \"alright\", \"nothin\", \"shake\", \"house\", \"fade\", \"promise\", \"apart\", \"write\", \"death\", \"feet\", \"years\", \"rest\", \"begin\", \"straight\", \"sick\", \"scream\", \"arm\", \"whoa\", \"stick\", \"mouth\", \"devil\", \"woah\", \"goin\", \"kick\", \"water\", \"pass\", \"gettin\", \"past\", \"lead\", \"lookin\", \"pray\", \"moment\", \"livin\", \"sure\", \"tire\", \"round\", \"rise\", \"late\", \"control\", \"ring\", \"piece\", \"voice\", \"friend\", \"wonder\", \"comin\", \"understand\", \"tryna\", \"fine\", \"drive\", \"check\", \"star\", \"pick\", \"reach\", \"woman\", \"wind\", \"bone\", \"room\", \"build\", \"slow\", \"hang\", \"breath\", \"stone\", \"heaven\", \"blame\", \"tomorrow\", \"club\", \"goodbye\", \"city\", \"fast\", \"push\", \"easy\", \"blind\", \"thank\", \"plan\", \"fuckin\", \"girls\", \"bleed\", \"power\", \"cross\", \"choose\", \"summer\", \"talkin\", \"skin\", \"afraid\", \"phone\", \"kind\", \"couldn\", \"trust\", \"tight\", \"move\", \"floor\", \"bear\", \"soon\", \"tryin\", \"beautiful\", \"wear\", \"lock\", \"streets\", \"doin\", \"raise\", \"kid\", \"send\", \"clear\", \"worry\", \"hearts\", \"shine\", \"count\", \"happen\", \"teach\", \"hole\", \"brain\", \"fake\", \"shut\", \"lips\", \"sell\", \"street\", \"steal\", \"mama\", \"different\", \"ones\", \"knees\", \"pussy\", \"picture\", \"flow\", \"gold\", \"outside\", \"felt\", \"evil\", \"pretty\", \"moon\", \"land\", \"finally\", \"knock\", \"shame\", \"peace\", \"outta\", \"finger\", \"ghost\", \"feelin\", \"belong\", \"somethin\", \"swear\", \"second\", \"ohoh\", \"search\", \"end\", \"chain\", \"block\", \"boys\", \"bless\", \"meet\", \"songs\", \"point\", \"loud\", \"slowly\", \"memories\", \"sign\", \"tongue\", \"drown\", \"earth\", \"ways\", \"okay\", \"clean\", \"taste\", \"mistake\", \"gyal\", \"dear\", \"pay\", \"paper\", \"bury\", \"nights\", \"wasn\", \"minute\", \"half\", \"number\", \"style\", \"simple\", \"babe\", \"rhyme\", \"neck\", \"perfect\", \"track\", \"river\", \"yesterday\", \"wouldn\", \"mother\", \"deal\", \"read\", \"doubt\", \"cover\", \"slip\", \"cool\", \"ball\", \"awake\", \"sorry\", \"safe\", \"laugh\", \"dirty\", \"tree\", \"trouble\", \"space\", \"million\", \"gimme\", \"answer\", \"anymore\", \"wide\", \"year\", \"single\", \"future\", \"everyday\", \"darling\", \"crack\", \"radio\", \"great\", \"family\", \"weed\", \"share\", \"rule\", \"bottle\", \"hop\", \"story\", \"heavy\", \"darkness\", \"brother\", \"thinkin\", \"jump\", \"closer\", \"drinkin\", \"memory\", \"wake\", \"longer\", \"bust\", \"thoughts\", \"cash\", \"wave\", \"mess\", \"band\", \"hair\", \"thousand\", \"show\", \"crawl\", \"sayin\", \"drug\", \"ask\", \"hood\", \"oooh\", \"repeat\", \"forgive\", \"train\", \"realize\", \"flame\", \"spit\", \"pour\", \"silence\", \"let\", \"paint\", \"couple\", \"sight\", \"school\", \"grab\", \"fell\", \"hoe\", \"warm\", \"green\", \"wild\", \"type\", \"remain\", \"pocket\", \"window\", \"heat\", \"youth\", \"runnin\", \"cloud\", \"sense\", \"edge\", \"dont\", \"ahead\", \"child\", \"shout\", \"record\", \"nice\", \"swing\", \"fail\", \"survive\", \"bind\", \"father\", \"question\", \"pride\", \"bite\", \"crowd\", \"country\", \"lay\", \"figure\", \"weak\", \"glass\", \"grave\", \"crash\", \"fill\", \"color\", \"bend\", \"human\", \"welcome\", \"probably\", \"freak\", \"state\", \"shoe\", \"middle\", \"holy\", \"dust\", \"race\", \"mirror\", \"suck\", \"lift\", \"clock\", \"children\", \"twist\", \"soldier\", \"shin\", \"momma\", \"makin\", \"flip\", \"dress\", \"trap\", \"kinda\", \"playin\", \"near\", \"diamonds\", \"spot\", \"regret\", \"pretend\", \"chill\", \"force\", \"sink\", \"shoulder\", \"root\", \"respect\", \"quit\", \"fee\", \"daddy\", \"spin\", \"ocean\", \"lady\", \"fly\", \"rock\", \"quick\", \"pack\", \"drag\", \"boom\", \"wing\", \"south\", \"buy\", \"battle\", \"wine\", \"waitin\", \"lean\", \"gun\", \"winter\", \"fame\", \"sit\", \"sweat\", \"higher\", \"heal\", \"fault\", \"dope\", \"freeze\", \"strength\", \"funny\", \"escape\", \"dollar\", \"corner\", \"chest\", \"suppose\", \"someday\", \"clothe\", \"weight\", \"treat\", \"motherfucker\", \"hook\", \"hello\", \"strike\", \"problem\", \"favorite\", \"circle\", \"lover\", \"ladies\", \"fact\", \"brand\", \"struggle\", \"luck\", \"draw\", \"bomb\", \"crew\", \"sorrow\", \"america\", \"stack\", \"small\", \"pressure\", \"fresh\", \"bang\", \"wrap\", \"instead\", \"drift\", \"whisper\", \"stronger\", \"queen\", \"lovin\", \"book\", \"babylon\", \"walkin\", \"shawty\", \"harder\", \"drum\", \"scene\", \"master\", \"load\", \"imagine\", \"spread\", \"sky\", \"fate\", \"crown\", \"whip\", \"sand\", \"bright\", \"tick\", \"spirit\", \"seat\", \"news\", \"hours\", \"curse\", \"takin\", \"sittin\", \"have\", \"disappear\", \"dare\", \"shots\", \"paradise\", \"lick\", \"climb\", \"warn\", \"truck\", \"trigger\", \"test\", \"remind\", \"return\", \"preach\", \"bass\", \"boss\", \"women\", \"rush\", \"magic\", \"dirt\", \"business\", \"teeth\", \"gang\", \"freedom\", \"crime\", \"beer\", \"praise\", \"waan\", \"path\", \"worst\", \"mountain\", \"hit\", \"decide\", \"surround\", \"short\", \"demons\", \"chase\", \"swallow\", \"quiet\", \"insane\", \"desire\", \"shadow\", \"prove\", \"lately\", \"choke\", \"snow\", \"later\", \"givin\", \"trick\", \"travel\", \"team\", \"suffer\", \"hour\", \"double\", \"thang\", \"switch\", \"self\", \"hiphop\", \"clap\", \"bullet\", \"beg\", \"bank\", \"tall\", \"surrender\", \"poor\", \"machine\", \"loose\", \"tie\", \"ohohoh\", \"lovers\", \"wreck\", \"view\", \"twice\", \"surprise\", \"stare\", \"spring\", \"message\", \"forward\", \"wife\", \"wicked\", \"whiskey\", \"wheel\", \"vein\", \"judge\", \"ghetto\", \"church\", \"reality\", \"pound\", \"pop\", \"doors\", \"week\", \"stuff\", \"string\", \"letter\", \"fallin\", \"creep\", \"soft\", \"smokin\", \"naked\", \"history\", \"faster\", \"bigger\", \"barely\", \"ship\", \"handle\", \"greatest\", \"ease\", \"cop\", \"beach\", \"vision\", \"tune\", \"steady\", \"damage\", \"rockin\", \"hollow\", \"final\", \"dumb\", \"crush\", \"brothers\", \"beneath\", \"wire\", \"strange\", \"sin\", \"plus\", \"bother\", \"beast\", \"tough\", \"seven\", \"pump\", \"field\", \"stage\", \"shall\", \"proud\", \"murder\", \"liquor\", \"energy\", \"cost\", \"asleep\", \"midnight\", \"loneliness\", \"knife\", \"bitter\", \"haters\", \"vibe\", \"ridin\", \"release\", \"prison\", \"main\", \"hat\", \"explain\", \"bridge\", \"problems\", \"older\", \"motion\", \"homie\", \"enemy\", \"cut\", \"underneath\", \"stupid\", \"seek\", \"rope\", \"feat\", \"chick\", \"cast\", \"silent\", \"shade\", \"misery\", \"foot\", \"finish\", \"coast\", \"secret\", \"noise\", \"nation\", \"happiness\", \"amaze\", \"tide\", \"rappers\", \"notice\", \"cars\", \"ash\", \"worse\", \"thrill\", \"slave\", \"enemies\", \"distance\", \"carry\", \"trippin\", \"mountains\", \"jail\", \"haunt\", \"fair\", \"christmas\", \"choice\", \"zone\", \"table\", \"smell\", \"food\", \"flesh\", \"surely\", \"silver\", \"season\", \"protect\", \"guitar\", \"east\", \"comfort\", \"card\", \"workin\", \"lungs\", \"guide\", \"form\", \"california\", \"angels\", \"super\", \"seed\", \"nasty\", \"kingdom\", \"hill\", \"destroy\", \"bird\", \"beauty\", \"weather\", \"trade\", \"tellin\", \"store\", \"note\", \"class\", \"thats\", \"folks\", \"early\", \"difference\", \"bubble\", \"swim\", \"souls\", \"prayer\", \"burnin\", \"boat\", \"bling\", \"act\", \"stress\", \"shouldn\", \"sail\", \"rough\", \"rid\", \"hustle\", \"find\", \"sippin\", \"rap\", \"niggaz\", \"lesson\", \"gather\", \"date\", \"attention\", \"anybody\", \"special\", \"slide\", \"secrets\", \"motherfuckers\", \"echo\", \"deserve\", \"butterfly\", \"spill\", \"singin\", \"rome\", \"numb\", \"movin\", \"flash\", \"create\", \"calm\", \"saint\", \"hopeless\", \"hatin\", \"grand\", \"golden\", \"gift\", \"bare\", \"bar\", \"weekend\", \"undo\", \"pimp\", \"join\", \"expect\", \"shape\", \"refuse\", \"pills\", \"mornin\", \"melt\", \"liar\", \"highway\", \"cheap\", \"wander\", \"steel\", \"speed\", \"snap\", \"romance\", \"joke\", \"doctor\", \"brave\", \"spell\", \"solo\", \"purple\", \"nail\", \"lonesome\", \"level\", \"hail\", \"habit\", \"focus\", \"fever\", \"boot\", \"needle\", \"homies\", \"goodnight\", \"flower\", \"float\", \"callin\", \"bounce\", \"attack\", \"snake\", \"represent\", \"police\", \"nature\", \"killin\", \"guy\", \"dawg\", \"york\", \"strangers\", \"squeeze\", \"sexy\", \"poppin\", \"nuff\", \"nose\", \"horse\", \"hangin\", \"hammer\", \"friday\", \"flag\", \"ache\", \"suit\", \"pure\", \"precious\", \"mighty\", \"deeper\", \"bullshit\", \"blade\", \"press\", \"order\", \"name\", \"miracle\", \"jeans\", \"busy\", \"admit\", \"action\", \"trash\", \"shed\", \"settle\", \"hungry\", \"groove\", \"erase\", \"crib\", \"course\", \"confuse\", \"bore\", \"blast\", \"win\", \"sunday\", \"saturday\", \"mood\", \"lovely\", \"gain\", \"excuse\", \"coke\", \"claim\", \"ballin\", \"wonderful\", \"visions\", \"smash\", \"proof\", \"poison\", \"plain\", \"lifetime\", \"dude\", \"dog\", \"cryin\", \"bambalam\", \"army\", \"aren\", \"american\", \"alarm\", \"roads\", \"rewind\", \"pleasure\", \"key\", \"holdin\", \"grip\", \"dough\", \"dollars\", \"will\", \"unknown\", \"toe\", \"tattoo\", \"shatter\", \"losin\", \"leavin\", \"imma\", \"danger\", \"benz\", \"wound\", \"thug\", \"stumble\", \"north\", \"lightning\", \"honest\", \"heel\", \"daylight\", \"blunt\", \"blowin\", \"bell\", \"woods\", \"wise\", \"tail\", \"station\", \"madness\", \"list\", \"cruel\", \"bwoy\", \"trip\", \"stranger\", \"set\", \"serve\", \"rip\", \"ordinary\", \"grey\", \"glow\", \"desperate\", \"conquer\", \"compare\", \"violence\", \"thief\", \"sister\", \"seal\", \"satisfy\", \"ruin\", \"roof\", \"haffi\", \"famous\", \"addict\", \"actin\", \"squad\", \"smooth\", \"sinner\", \"neva\", \"generation\", \"even\", \"complain\", \"buzz\", \"bullets\", \"bread\", \"arrive\", \"worship\", \"slap\", \"satan\", \"roar\", \"offer\", \"months\", \"hurry\", \"hotel\", \"girlfriend\", \"frame\", \"fence\", \"diss\", \"clip\", \"cell\", \"wrist\", \"whoaoh\", \"uhhuh\", \"softly\", \"sadness\", \"rhythm\", \"rage\", \"movie\", \"motherfucking\", \"motherfuckin\", \"louder\", \"guilty\", \"champagne\", \"burden\", \"wipe\", \"vain\", \"separate\", \"scratch\", \"put\", \"overcome\", \"ohhh\", \"hurricane\", \"gangster\", \"fire\", \"embrace\", \"drip\", \"disguise\", \"disease\", \"darlin\", \"cigarette\", \"ceiling\", \"breeze\", \"boogie\", \"watchin\", \"thunder\", \"shift\", \"remedy\", \"impossible\", \"hmmm\", \"heartache\", \"gucci\", \"drama\", \"drain\", \"dice\", \"bill\", \"underground\", \"sugar\", \"shop\", \"screen\", \"relax\", \"plane\", \"piss\", \"metal\", \"jealous\", \"ignore\", \"goddamn\", \"garden\", \"design\", \"cock\", \"wash\", \"strip\", \"shirt\", \"score\", \"ohhhh\", \"mystery\", \"moments\", \"minutes\", \"cure\", \"crave\", \"bull\", \"reggae\", \"quarter\", \"person\", \"mission\", \"eat\", \"dive\", \"direction\", \"cheek\", \"chair\", \"blaze\", \"arrowheads\", \"split\", \"punk\", \"monkey\", \"kings\", \"humble\", \"hardest\", \"hallelujah\", \"fist\", \"ears\", \"divide\", \"desert\", \"aside\", \"throne\", \"telephone\", \"spark\", \"situation\", \"rebel\", \"post\", \"plug\", \"part\", \"march\", \"kitchen\", \"gangsta\", \"foreign\", \"fold\", \"flex\", \"enter\", \"destiny\", \"dangerous\", \"company\", \"careful\", \"betray\", \"windows\", \"sleepin\", \"sacrifice\", \"forgiveness\", \"fit\", \"downtown\", \"county\", \"cook\", \"certain\", \"camera\", \"cage\", \"brick\", \"attitude\", \"sunrise\", \"reveal\", \"replace\", \"prepare\", \"plant\", \"match\", \"divine\", \"cheat\", \"booty\", \"ting\", \"sweeter\", \"revolution\", \"player\", \"pant\", \"killer\", \"island\", \"hero\", \"heartbeat\", \"haha\", \"funk\", \"foolish\", \"coffee\", \"stain\", \"shore\", \"sheet\", \"rapper\", \"keepin\", \"hotter\", \"grass\", \"dread\", \"colour\", \"code\", \"cake\", \"breakin\", \"baddest\", \"back\", \"agree\", \"wisdom\", \"truly\", \"throat\", \"stretch\", \"screw\", \"rent\", \"pistol\", \"park\", \"original\", \"monster\", \"mention\", \"legs\", \"laughter\", \"lake\", \"havin\", \"funky\", \"flood\", \"exactly\", \"endless\", \"dime\", \"crumble\", \"couch\", \"connect\", \"cocaine\", \"chop\", \"charm\", \"charge\", \"celebrate\", \"afford\", \"weigh\", \"torture\", \"ticket\", \"suddenly\", \"stories\", \"program\", \"passion\", \"monday\", \"lala\", \"kickin\", \"highest\", \"gear\", \"depend\", \"darkest\", \"chicks\", \"bruise\", \"appear\", \"video\", \"smack\", \"risk\", \"recognize\", \"plate\", \"joint\", \"innocence\", \"eagle\", \"defeat\", \"complicate\", \"candle\", \"beef\", \"animal\", \"whistle\", \"texas\", \"pill\", \"pepper\", \"palm\", \"neighbor\", \"mask\", \"link\", \"jungle\", \"journey\", \"flight\", \"condition\", \"bump\", \"weren\", \"weep\", \"weary\", \"sweep\", \"selassie\", \"rivers\", \"rescue\", \"rack\", \"lighter\", \"harm\", \"grade\", \"gate\", \"dutty\", \"drivin\", \"buckle\", \"wolves\", \"witness\", \"wassup\", \"ugly\", \"turnin\", \"sweetheart\", \"strap\", \"static\", \"simply\", \"silly\", \"savior\", \"planet\", \"model\", \"mister\", \"lazy\", \"innocent\", \"halfway\", \"greed\", \"forth\", \"daughter\", \"creation\", \"clown\", \"castle\", \"belly\", \"anytime\", \"whine\", \"upside\", \"therapy\", \"sunset\", \"sober\", \"shoulda\", \"shakin\", \"religion\", \"rainy\", \"punch\", \"pool\", \"nerve\", \"mental\", \"mass\", \"hollywood\", \"fantasy\", \"easier\", \"cream\", \"common\", \"collide\", \"college\", \"click\", \"blah\", \"birth\", \"bag\", \"throwin\", \"spoil\", \"soak\", \"roses\", \"reflection\", \"purpose\", \"haile\", \"gut\", \"gently\", \"frighten\", \"easily\", \"deliver\", \"dancin\", \"cadillac\", \"bunch\", \"beepbap\", \"beam\", \"batter\", \"accept\", \"youths\", \"yellow\", \"war\", \"treasure\", \"thee\", \"swag\", \"sneak\", \"shelter\", \"script\", \"salt\", \"sake\", \"rastafari\", \"juice\", \"idea\", \"coulda\", \"cheer\", \"cave\", \"brighter\", \"yiggy\", \"yell\", \"traffic\", \"toss\", \"sinners\", \"shock\", \"righteous\", \"reign\", \"important\", \"guarantee\", \"colder\", \"artist\", \"alabama\", \"weezy\", \"unto\", \"thread\", \"swell\", \"summertime\", \"sons\", \"shower\", \"resist\", \"nearly\", \"lack\", \"hype\", \"hush\", \"hittin\", \"heroes\", \"fruit\", \"fix\", \"explode\", \"everytime\", \"enjoy\", \"daily\", \"crook\", \"conversation\", \"concern\", \"chillin\", \"cat\", \"bus\", \"breed\", \"allow\", \"able\", \"wishin\", \"skrrt\", \"pimpin\", \"monsters\", \"large\", \"hesitate\", \"guard\", \"government\", \"frown\", \"feed\", \"exist\", \"dyin\", \"dig\", \"concrete\", \"center\", \"tangle\", \"suffocate\", \"solid\", \"smart\", \"sip\", \"sigh\", \"position\", \"plenty\", \"neighborhood\", \"moonlight\", \"lower\", \"iron\", \"image\", \"defend\", \"deck\", \"culture\", \"consume\", \"conscience\", \"confess\", \"ching\", \"cali\", \"base\", \"anger\", \"worlds\", \"whats\", \"wavy\", \"tone\", \"stream\", \"size\", \"sharp\", \"seas\", \"science\", \"range\", \"pole\", \"marry\", \"limit\", \"label\", \"knowin\", \"knockin\", \"fashion\", \"cyaa\", \"cowboy\", \"court\", \"confusion\", \"coat\", \"clue\", \"awful\", \"angry\", \"afternoon\", \"absolutely\", \"younger\", \"victim\", \"role\", \"redneck\", \"rasta\", \"puppa\", \"porch\", \"peep\", \"justice\", \"hypnotize\", \"holler\", \"false\", \"devour\", \"complete\", \"backwards\", \"album\", \"whore\", \"whatcha\", \"violent\", \"sword\", \"support\", \"standin\", \"stab\", \"showin\", \"savage\", \"sack\", \"rust\", \"ooooh\", \"natural\", \"nananana\", \"maker\", \"lyin\", \"loss\", \"hunnid\", \"heartbreak\", \"gravity\", \"fore\", \"flat\", \"extra\", \"eternity\", \"constant\", \"cocky\", \"cheese\", \"chance\", \"ancient\", \"tour\", \"tooth\", \"sway\", \"suicide\", \"shotgun\", \"roam\", \"recall\", \"ought\", \"maze\", \"mane\", \"lot\", \"jammin\", \"inch\", \"hips\", \"goodbyes\", \"gods\", \"glock\", \"gamble\", \"fuel\", \"flaw\", \"fish\", \"firm\", \"claw\", \"butt\", \"bedroom\", \"apple\", \"weakness\", \"venom\", \"trail\", \"thugs\", \"sudden\", \"stomp\", \"stall\", \"spare\", \"pushin\", \"pity\", \"mississippi\", \"medicine\", \"lame\", \"lace\", \"hardly\", \"greater\", \"expose\", \"dinner\", \"cuyah\", \"continue\", \"chicken\", \"bathroom\", \"awhile\", \"await\", \"weapon\", \"vacation\", \"universe\", \"tshirt\", \"stock\", \"stake\", \"sheep\", \"rude\", \"receive\", \"practice\", \"millions\", \"knowledge\", \"knee\", \"jones\", \"jazz\", \"jacket\", \"highs\", \"goodness\", \"electric\", \"dudes\", \"deceive\", \"cute\", \"curtain\", \"closet\", \"chrome\", \"bustin\", \"borrow\", \"bible\", \"trunk\", \"terrible\", \"stray\", \"spliff\", \"society\", \"satellite\", \"rainbow\", \"puttin\", \"pree\", \"noose\", \"misunderstand\", \"mile\", \"meat\", \"hatred\", \"grin\", \"grill\", \"glue\", \"fan\", \"destruction\", \"demon\", \"degrees\", \"decisions\", \"dash\", \"cling\", \"champion\", \"button\", \"boyfriend\", \"barrel\", \"zion\", \"uhoh\", \"tower\", \"text\", \"tender\", \"tape\", \"stayin\", \"starve\", \"southern\", \"slice\", \"sleeve\", \"slam\", \"shootin\", \"riot\", \"public\", \"project\", \"preacher\", \"platinum\", \"phase\", \"patient\", \"oceans\", \"missin\", \"likkle\", \"lessons\", \"knot\", \"jamaica\", \"jackpot\", \"gutter\", \"gentle\", \"forsake\", \"familiar\", \"emptiness\", \"dizzy\", \"deny\", \"cyan\", \"cruise\", \"collect\", \"chant\", \"bricks\", \"amen\", \"abuse\", \"woulda\", \"tragedy\", \"thankful\", \"temper\", \"surface\", \"square\", \"slippin\", \"slay\", \"side\", \"shelf\", \"shackle\", \"present\", \"pardon\", \"linger\", \"leather\", \"league\", \"last\", \"invite\", \"horizon\", \"helpless\", \"gwan\", \"glitter\", \"excite\", \"empire\", \"discover\", \"deadly\", \"corruption\", \"constantly\", \"command\", \"collar\", \"choir\", \"brush\", \"brooklyn\", \"bloody\", \"beware\", \"behold\", \"award\", \"advice\", \"whoop\", \"whoo\", \"unite\", \"trump\", \"thirst\", \"thieve\", \"shimmy\", \"restless\", \"raver\", \"rappin\", \"passin\", \"moan\", \"lullaby\", \"judgement\", \"illusion\", \"howl\", \"getaway\", \"equal\", \"dome\", \"distant\", \"decision\", \"corrupt\", \"cooler\", \"clearly\", \"cigarettes\", \"burst\", \"bringin\", \"bold\", \"astray\", \"wack\", \"usually\", \"teacher\", \"speakers\", \"shinin\", \"sellin\", \"selfish\", \"scare\", \"pipe\", \"pillow\", \"perfectly\", \"parade\", \"outlaw\", \"nut\", \"neon\", \"jumpin\", \"involve\", \"holla\", \"guilt\", \"grant\", \"ganja\", \"finna\", \"depart\", \"core\", \"coffin\", \"chew\", \"chasin\", \"broad\", \"branch\", \"bowl\", \"board\", \"awaken\", \"askin\", \"age\", \"victory\", \"tip\", \"sisters\", \"screamin\", \"rubber\", \"rocket\", \"puzzle\", \"psycho\", \"private\", \"princess\", \"positive\", \"pose\", \"pink\", \"peaceful\", \"panic\", \"nanana\", \"marijuana\", \"lipstick\", \"jewel\", \"intentions\", \"hunger\", \"heavens\", \"getcha\", \"flyin\", \"denial\", \"define\", \"cup\", \"completely\", \"clique\", \"appreciate\", \"wealth\", \"wastin\", \"uncle\", \"tremble\", \"tool\", \"tat\", \"stir\", \"starry\", \"spray\", \"solution\", \"sirens\", \"profit\", \"powerful\", \"possible\", \"paranoid\", \"paralyze\", \"mend\", \"maintain\", \"lemme\", \"legend\", \"laws\", \"lalalala\", \"kanye\", \"inspiration\", \"hella\", \"hazy\", \"global\", \"fully\", \"fragile\", \"fifth\", \"favor\", \"depression\", \"chat\", \"blink\", \"bein\", \"average\", \"applause\", \"worm\", \"weird\", \"wed\", \"valley\", \"unfold\", \"thou\", \"thirsty\", \"target\", \"stash\", \"spendin\", \"solve\", \"skull\", \"shove\", \"rag\", \"puppy\", \"prey\", \"powder\", \"pile\", \"pearl\", \"partner\", \"nightmare\", \"nervous\", \"low\", \"kneel\", \"impress\", \"humanity\", \"horn\", \"gorgeous\", \"gaze\", \"fightin\", \"feather\", \"farther\", \"especially\", \"doom\", \"disconnect\", \"disaster\", \"despite\", \"degree\", \"courage\", \"content\", \"belt\", \"be\", \"wooh\", \"witch\", \"unruly\", \"tread\", \"totally\", \"toast\", \"tennessee\", \"teardrops\", \"sympathy\", \"sucker\", \"september\", \"seein\", \"sacred\", \"retreat\", \"relate\", \"quickly\", \"pullin\", \"pin\", \"pair\", \"orleans\", \"month\", \"mash\", \"mankind\", \"listenin\", \"kissin\", \"hundreds\", \"honestly\", \"heights\", \"gwaan\", \"guap\", \"frontin\", \"film\", \"facts\", \"emotion\", \"dragon\", \"digital\", \"coupe\", \"carve\", \"billion\", \"bake\", \"zero\", \"wonderland\", \"weapons\", \"useless\", \"unwind\", \"triple\", \"top\", \"tease\", \"tale\", \"supersonic\", \"storm\", \"sport\", \"shovel\", \"santa\", \"rotten\", \"reputation\", \"realest\", \"papa\", \"otherness\", \"odds\", \"mix\", \"lend\", \"layin\", \"language\", \"kush\"], \"legendgroup\": \"\", \"marker\": {\"color\": \"#636efa\", \"size\": [1.0, 1.0, 1.0, 1.0, 1.0, 1.0, 1.0, 1.0, 1.0, 1.0, 1.0, 1.0, 1.0, 1.0, 1.0, 1.0, 1.0, 1.0, 1.0, 1.0, 1.0, 1.0, 1.0, 1.0, 1.0, 1.0, 1.0, 1.0, 1.0, 1.0, 1.0, 1.0, 1.0, 1.0, 1.0, 1.0, 1.0, 1.0, 1.0, 1.0, 1.0, 1.0, 1.0, 1.0, 1.0, 1.0, 1.0, 1.0, 1.0, 1.0, 1.0, 1.0, 1.0, 1.0, 1.0, 1.0, 1.0, 1.0, 1.0, 1.0, 1.0, 1.0, 1.0, 1.0, 1.0, 1.0, 1.0, 1.0, 1.0, 1.0, 1.0, 1.0, 1.0, 1.0, 1.0, 1.0, 1.0, 1.0, 1.0, 1.0, 1.0, 1.0, 1.0, 1.0, 1.0, 1.0, 1.0, 1.0, 1.0, 1.0, 1.0, 1.0, 1.0, 1.0, 1.0, 1.0, 1.0, 1.0, 1.0, 1.0, 1.0, 1.0, 1.0, 1.0, 1.0, 1.0, 1.0, 1.0, 1.0, 1.0, 1.0, 1.0, 1.0, 1.0, 1.0, 1.0, 1.0, 1.0, 1.0, 1.0, 1.0, 1.0, 1.0, 1.0, 1.0, 1.0, 1.0, 1.0, 1.0, 1.0, 1.0, 1.0, 1.0, 1.0, 1.0, 1.0, 1.0, 1.0, 1.0, 1.0, 1.0, 1.0, 1.0, 1.0, 1.0, 1.0, 1.0, 1.0, 1.0, 1.0, 1.0, 1.0, 1.0, 1.0, 1.0, 1.0, 1.0, 1.0, 1.0, 1.0, 1.0, 1.0, 1.0, 1.0, 1.0, 1.0, 1.0, 1.0, 1.0, 1.0, 1.0, 1.0, 1.0, 1.0, 1.0, 1.0, 1.0, 1.0, 1.0, 1.0, 1.0, 1.0, 1.0, 1.0, 1.0, 1.0, 1.0, 1.0, 1.0, 1.0, 1.0, 1.0, 1.0, 1.0, 1.0, 1.0, 1.0, 1.0, 1.0, 1.0, 1.0, 1.0, 1.0, 1.0, 1.0, 1.0, 1.0, 1.0, 1.0, 1.0, 1.0, 1.0, 1.0, 1.0, 1.0, 1.0, 1.0, 1.0, 1.0, 1.0, 1.0, 1.0, 1.0, 1.0, 1.0, 1.0, 1.0, 1.0, 1.0, 1.0, 1.0, 1.0, 1.0, 1.0, 1.0, 1.0, 1.0, 1.0, 1.0, 1.0, 1.0, 1.0, 1.0, 1.0, 1.0, 1.0, 1.0, 1.0, 1.0, 1.0, 1.0, 1.0, 1.0, 1.0, 1.0, 1.0, 1.0, 1.0, 1.0, 1.0, 1.0, 1.0, 1.0, 1.0, 1.0, 1.0, 1.0, 1.0, 1.0, 1.0, 1.0, 1.0, 1.0, 1.0, 1.0, 1.0, 1.0, 1.0, 1.0, 1.0, 1.0, 1.0, 1.0, 1.0, 1.0, 1.0, 1.0, 1.0, 1.0, 1.0, 1.0, 1.0, 1.0, 1.0, 1.0, 1.0, 1.0, 1.0, 1.0, 1.0, 1.0, 1.0, 1.0, 1.0, 1.0, 1.0, 1.0, 1.0, 1.0, 1.0, 1.0, 1.0, 1.0, 1.0, 1.0, 1.0, 1.0, 1.0, 1.0, 1.0, 1.0, 1.0, 1.0, 1.0, 1.0, 1.0, 1.0, 1.0, 1.0, 1.0, 1.0, 1.0, 1.0, 1.0, 1.0, 1.0, 1.0, 1.0, 1.0, 1.0, 1.0, 1.0, 1.0, 1.0, 1.0, 1.0, 1.0, 1.0, 1.0, 1.0, 1.0, 1.0, 1.0, 1.0, 1.0, 1.0, 1.0, 1.0, 1.0, 1.0, 1.0, 1.0, 1.0, 1.0, 1.0, 1.0, 1.0, 1.0, 1.0, 1.0, 1.0, 1.0, 1.0, 1.0, 1.0, 1.0, 1.0, 1.0, 1.0, 1.0, 1.0, 1.0, 1.0, 1.0, 1.0, 1.0, 1.0, 1.0, 1.0, 1.0, 1.0, 1.0, 1.0, 1.0, 1.0, 1.0, 1.0, 1.0, 1.0, 1.0, 1.0, 1.0, 1.0, 1.0, 1.0, 1.0, 1.0, 1.0, 1.0, 1.0, 1.0, 1.0, 1.0, 1.0, 1.0, 1.0, 1.0, 1.0, 1.0, 1.0, 1.0, 1.0, 1.0, 1.0, 1.0, 1.0, 1.0, 1.0, 1.0, 1.0, 1.0, 1.0, 1.0, 1.0, 1.0, 1.0, 1.0, 1.0, 1.0, 1.0, 1.0, 1.0, 1.0, 1.0, 1.0, 1.0, 1.0, 1.0, 1.0, 1.0, 1.0, 1.0, 1.0, 1.0, 1.0, 1.0, 1.0, 1.0, 1.0, 1.0, 1.0, 1.0, 1.0, 1.0, 1.0, 1.0, 1.0, 1.0, 1.0, 1.0, 1.0, 1.0, 1.0, 1.0, 1.0, 1.0, 1.0, 1.0, 1.0, 1.0, 1.0, 1.0, 1.0, 1.0, 1.0, 1.0, 1.0, 1.0, 1.0, 1.0, 1.0, 1.0, 1.0, 1.0, 1.0, 1.0, 1.0, 1.0, 1.0, 1.0, 1.0, 1.0, 1.0, 1.0, 1.0, 1.0, 1.0, 1.0, 1.0, 1.0, 1.0, 1.0, 1.0, 1.0, 1.0, 1.0, 1.0, 1.0, 1.0, 1.0, 1.0, 1.0, 1.0, 1.0, 1.0, 1.0, 1.0, 1.0, 1.0, 1.0, 1.0, 1.0, 1.0, 1.0, 1.0, 1.0, 1.0, 1.0, 1.0, 1.0, 1.0, 1.0, 1.0, 1.0, 1.0, 1.0, 1.0, 1.0, 1.0, 1.0, 1.0, 1.0, 1.0, 1.0, 1.0, 1.0, 1.0, 1.0, 1.0, 1.0, 1.0, 1.0, 1.0, 1.0, 1.0, 1.0, 1.0, 1.0, 1.0, 1.0, 1.0, 1.0, 1.0, 1.0, 1.0, 1.0, 1.0, 1.0, 1.0, 1.0, 1.0, 1.0, 1.0, 1.0, 1.0, 1.0, 1.0, 1.0, 1.0, 1.0, 1.0, 1.0, 1.0, 1.0, 1.0, 1.0, 1.0, 1.0, 1.0, 1.0, 1.0, 1.0, 1.0, 1.0, 1.0, 1.0, 1.0, 1.0, 1.0, 1.0, 1.0, 1.0, 1.0, 1.0, 1.0, 1.0, 1.0, 1.0, 1.0, 1.0, 1.0, 1.0, 1.0, 1.0, 1.0, 1.0, 1.0, 1.0, 1.0, 1.0, 1.0, 1.0, 1.0, 1.0, 1.0, 1.0, 1.0, 1.0, 1.0, 1.0, 1.0, 1.0, 1.0, 1.0, 1.0, 1.0, 1.0, 1.0, 1.0, 1.0, 1.0, 1.0, 1.0, 1.0, 1.0, 1.0, 1.0, 1.0, 1.0, 1.0, 1.0, 1.0, 1.0, 1.0, 1.0, 1.0, 1.0, 1.0, 1.0, 1.0, 1.0, 1.0, 1.0, 1.0, 1.0, 1.0, 1.0, 1.0, 1.0, 1.0, 1.0, 1.0, 1.0, 1.0, 1.0, 1.0, 1.0, 1.0, 1.0, 1.0, 1.0, 1.0, 1.0, 1.0, 1.0, 1.0, 1.0, 1.0, 1.0, 1.0, 1.0, 1.0, 1.0, 1.0, 1.0, 1.0, 1.0, 1.0, 1.0, 1.0, 1.0, 1.0, 1.0, 1.0, 1.0, 1.0, 1.0, 1.0, 1.0, 1.0, 1.0, 1.0, 1.0, 1.0, 1.0, 1.0, 1.0, 1.0, 1.0, 1.0, 1.0, 1.0, 1.0, 1.0, 1.0, 1.0, 1.0, 1.0, 1.0, 1.0, 1.0, 1.0, 1.0, 1.0, 1.0, 1.0, 1.0, 1.0, 1.0, 1.0, 1.0, 1.0, 1.0, 1.0, 1.0, 1.0, 1.0, 1.0, 1.0, 1.0, 1.0, 1.0, 1.0, 1.0, 1.0, 1.0, 1.0, 1.0, 1.0, 1.0, 1.0, 1.0, 1.0, 1.0, 1.0, 1.0, 1.0, 1.0, 1.0, 1.0, 1.0, 1.0, 1.0, 1.0, 1.0, 1.0, 1.0, 1.0, 1.0, 1.0, 1.0, 1.0, 1.0, 1.0, 1.0, 1.0, 1.0, 1.0, 1.0, 1.0, 1.0, 1.0, 1.0, 1.0, 1.0, 1.0, 1.0, 1.0, 1.0, 1.0, 1.0, 1.0, 1.0, 1.0, 1.0, 1.0, 1.0, 1.0, 1.0, 1.0, 1.0, 1.0, 1.0, 1.0, 1.0, 1.0, 1.0, 1.0, 1.0, 1.0, 1.0, 1.0, 1.0, 1.0, 1.0, 1.0, 1.0, 1.0, 1.0, 1.0, 1.0, 1.0, 1.0, 1.0, 1.0, 1.0, 1.0, 1.0, 1.0, 1.0, 1.0, 1.0, 1.0, 1.0, 1.0, 1.0, 1.0, 1.0, 1.0, 1.0, 1.0, 1.0, 1.0, 1.0, 1.0, 1.0, 1.0, 1.0, 1.0, 1.0, 1.0, 1.0, 1.0, 1.0, 1.0, 1.0, 1.0, 1.0, 1.0, 1.0, 1.0, 1.0, 1.0, 1.0, 1.0, 1.0, 1.0, 1.0, 1.0, 1.0, 1.0, 1.0, 1.0, 1.0, 1.0, 1.0, 1.0, 1.0, 1.0, 1.0, 1.0, 1.0, 1.0, 1.0, 1.0, 1.0, 1.0, 1.0, 1.0, 1.0, 1.0, 1.0, 1.0, 1.0, 1.0, 1.0, 1.0, 1.0, 1.0, 1.0, 1.0, 1.0, 1.0, 1.0, 1.0, 1.0, 1.0, 1.0, 1.0, 1.0, 1.0, 1.0, 1.0, 1.0, 1.0, 1.0, 1.0, 1.0, 1.0, 1.0, 1.0, 1.0, 1.0, 1.0, 1.0, 1.0, 1.0, 1.0, 1.0, 1.0, 1.0, 1.0, 1.0, 1.0, 1.0, 1.0, 1.0, 1.0, 1.0, 1.0, 1.0, 1.0, 1.0, 1.0, 1.0, 1.0, 1.0, 1.0, 1.0, 1.0, 1.0, 1.0, 1.0, 1.0, 1.0, 1.0, 1.0, 1.0, 1.0, 1.0, 1.0, 1.0, 1.0, 1.0, 1.0, 1.0, 1.0, 1.0, 1.0, 1.0, 1.0, 1.0, 1.0, 1.0, 1.0, 1.0, 1.0, 1.0, 1.0, 1.0, 1.0, 1.0, 1.0, 1.0, 1.0, 1.0, 1.0, 1.0, 1.0, 1.0, 1.0, 1.0, 1.0, 1.0, 1.0, 1.0, 1.0, 1.0, 1.0, 1.0, 1.0, 1.0, 1.0, 1.0, 1.0, 1.0, 1.0, 1.0, 1.0, 1.0, 1.0, 1.0, 1.0, 1.0, 1.0, 1.0, 1.0, 1.0, 1.0, 1.0, 1.0, 1.0, 1.0, 1.0, 1.0, 1.0, 1.0, 1.0, 1.0, 1.0, 1.0, 1.0, 1.0, 1.0, 1.0, 1.0, 1.0, 1.0, 1.0, 1.0, 1.0, 1.0, 1.0, 1.0, 1.0, 1.0, 1.0, 1.0, 1.0, 1.0, 1.0, 1.0, 1.0, 1.0, 1.0, 1.0, 1.0, 1.0, 1.0, 1.0, 1.0, 1.0, 1.0, 1.0, 1.0, 1.0, 1.0, 1.0, 1.0, 1.0, 1.0, 1.0, 1.0, 1.0, 1.0, 1.0, 1.0, 1.0, 1.0, 1.0, 1.0, 1.0, 1.0, 1.0, 1.0, 1.0, 1.0, 1.0, 1.0, 1.0, 1.0, 1.0, 1.0, 1.0, 1.0, 1.0, 1.0, 1.0, 1.0, 1.0, 1.0, 1.0, 1.0, 1.0, 1.0, 1.0, 1.0, 1.0, 1.0, 1.0, 1.0, 1.0, 1.0, 1.0, 1.0, 1.0, 1.0, 1.0, 1.0, 1.0, 1.0, 1.0, 1.0, 1.0, 1.0, 1.0, 1.0, 1.0, 1.0, 1.0, 1.0, 1.0, 1.0, 1.0, 1.0, 1.0, 1.0, 1.0, 1.0, 1.0, 1.0, 1.0, 1.0, 1.0, 1.0, 1.0, 1.0, 1.0, 1.0, 1.0, 1.0, 1.0, 1.0, 1.0, 1.0, 1.0, 1.0, 1.0, 1.0, 1.0, 1.0, 1.0, 1.0, 1.0, 1.0, 1.0, 1.0, 1.0, 1.0, 1.0, 1.0, 1.0, 1.0, 1.0, 1.0, 1.0, 1.0, 1.0, 1.0, 1.0, 1.0, 1.0, 1.0, 1.0, 1.0, 1.0, 1.0, 1.0, 1.0, 1.0, 1.0, 1.0, 1.0, 1.0, 1.0, 1.0, 1.0, 1.0, 1.0, 1.0, 1.0, 1.0, 1.0, 1.0, 1.0, 1.0, 1.0, 1.0, 1.0, 1.0, 1.0, 1.0, 1.0, 1.0, 1.0, 1.0, 1.0, 1.0, 1.0, 1.0, 1.0, 1.0, 1.0, 1.0, 1.0, 1.0, 1.0, 1.0, 1.0, 1.0, 1.0, 1.0, 1.0, 1.0, 1.0, 1.0, 1.0, 1.0, 1.0, 1.0, 1.0, 1.0, 1.0, 1.0, 1.0, 1.0, 1.0, 1.0, 1.0, 1.0, 1.0, 1.0, 1.0, 1.0, 1.0, 1.0, 1.0, 1.0, 1.0, 1.0, 1.0, 1.0, 1.0, 1.0, 1.0, 1.0, 1.0, 1.0, 1.0, 1.0, 1.0, 1.0, 1.0, 1.0, 1.0, 1.0, 1.0, 1.0, 1.0, 1.0, 1.0, 1.0, 1.0, 1.0, 1.0, 1.0, 1.0, 1.0, 1.0, 1.0, 1.0, 1.0, 1.0, 1.0, 1.0, 1.0, 1.0, 1.0, 1.0, 1.0, 1.0, 1.0, 1.0, 1.0, 1.0, 1.0, 1.0, 1.0, 1.0, 1.0, 1.0, 1.0, 1.0, 1.0, 1.0, 1.0, 1.0, 1.0, 1.0, 1.0, 1.0, 1.0, 1.0, 1.0, 1.0, 1.0, 1.0, 1.0, 1.0, 1.0, 1.0, 1.0, 1.0, 1.0, 1.0, 1.0, 1.0, 1.0, 1.0, 1.0, 1.0, 1.0, 1.0, 1.0, 1.0, 1.0, 1.0, 1.0, 1.0, 1.0, 1.0, 1.0, 1.0, 1.0, 1.0, 1.0, 1.0, 1.0, 1.0, 1.0, 1.0, 1.0, 1.0, 1.0, 1.0, 1.0, 1.0, 1.0, 1.0, 1.0, 1.0, 1.0, 1.0, 1.0, 1.0, 1.0, 1.0, 1.0, 1.0, 1.0, 1.0, 1.0, 1.0, 1.0, 1.0, 1.0, 1.0, 1.0, 1.0, 1.0, 1.0, 1.0, 1.0, 1.0, 1.0, 1.0, 1.0, 1.0, 1.0, 1.0, 1.0, 1.0, 1.0, 1.0, 1.0, 1.0, 1.0, 1.0, 1.0, 1.0, 1.0, 1.0, 1.0, 1.0, 1.0, 1.0, 1.0, 1.0, 1.0, 1.0, 1.0, 1.0, 1.0, 1.0, 1.0, 1.0, 1.0, 1.0, 1.0, 1.0, 1.0, 1.0, 1.0, 1.0, 1.0, 1.0, 1.0, 1.0, 1.0, 1.0, 1.0, 1.0, 1.0, 1.0, 1.0, 1.0, 1.0, 1.0, 1.0, 1.0, 1.0, 1.0, 1.0, 1.0, 1.0, 1.0, 1.0, 1.0, 1.0, 1.0, 1.0, 1.0, 1.0, 1.0, 1.0, 1.0, 1.0, 1.0, 1.0, 1.0, 1.0, 1.0, 1.0, 1.0, 1.0, 1.0, 1.0, 1.0, 1.0, 1.0, 1.0, 1.0, 1.0, 1.0, 1.0, 1.0, 1.0, 1.0, 1.0, 1.0, 1.0, 1.0, 1.0, 1.0, 1.0, 1.0, 1.0, 1.0, 1.0, 1.0, 1.0, 1.0, 1.0, 1.0, 1.0, 1.0, 1.0, 1.0, 1.0, 1.0, 1.0, 1.0, 1.0, 1.0, 1.0, 1.0, 1.0, 1.0, 1.0, 1.0, 1.0, 1.0, 1.0, 1.0, 1.0, 1.0, 1.0, 1.0, 1.0, 1.0, 1.0, 1.0, 1.0, 1.0, 1.0, 1.0, 1.0, 1.0, 1.0, 1.0, 1.0, 1.0, 1.0, 1.0, 1.0, 1.0, 1.0, 1.0, 1.0, 1.0, 1.0, 1.0, 1.0, 1.0, 1.0, 1.0, 1.0, 1.0, 1.0, 1.0, 1.0, 1.0, 1.0, 1.0, 1.0, 1.0, 1.0, 1.0, 1.0, 1.0, 1.0, 1.0, 1.0, 1.0, 1.0, 1.0, 1.0, 1.0, 1.0, 1.0, 1.0, 1.0, 1.0, 1.0, 1.0, 1.0, 1.0, 1.0, 1.0, 1.0, 1.0, 1.0, 1.0, 1.0, 1.0, 1.0, 1.0, 1.0, 1.0, 1.0, 1.0, 1.0, 1.0, 1.0, 1.0, 1.0, 1.0, 1.0, 1.0, 1.0, 1.0, 1.0, 1.0, 1.0, 1.0, 1.0, 1.0, 1.0, 1.0, 1.0, 1.0, 1.0, 1.0, 1.0, 1.0, 1.0, 1.0, 1.0, 1.0, 1.0, 1.0, 1.0, 1.0, 1.0, 1.0, 1.0, 1.0, 1.0, 1.0, 1.0, 1.0, 1.0, 1.0, 1.0, 1.0, 1.0, 1.0, 1.0, 1.0, 1.0, 1.0, 1.0, 1.0, 1.0, 1.0, 1.0, 1.0, 1.0, 1.0, 1.0, 1.0, 1.0, 1.0, 1.0, 1.0, 1.0, 1.0, 1.0, 1.0, 1.0, 1.0, 1.0, 1.0, 1.0, 1.0, 1.0, 1.0, 1.0, 1.0, 1.0, 1.0, 1.0, 1.0, 1.0, 1.0, 1.0, 1.0, 1.0, 1.0, 1.0, 1.0, 1.0, 1.0, 1.0, 1.0, 1.0, 1.0, 1.0, 1.0, 1.0, 1.0, 1.0, 1.0, 1.0, 1.0, 1.0, 1.0, 1.0, 1.0, 1.0, 1.0, 1.0, 1.0, 1.0, 1.0, 1.0, 1.0, 1.0, 1.0, 1.0, 1.0, 1.0, 1.0, 1.0, 1.0, 1.0, 1.0, 1.0, 1.0, 1.0, 1.0, 1.0, 1.0, 1.0, 1.0, 1.0, 1.0, 1.0, 1.0, 1.0, 1.0, 1.0, 1.0, 1.0, 1.0, 1.0, 1.0, 1.0, 1.0, 1.0, 1.0, 1.0, 1.0, 1.0, 1.0, 1.0, 1.0, 1.0, 1.0, 1.0, 1.0, 1.0, 1.0, 1.0, 1.0, 1.0, 1.0, 1.0, 1.0, 1.0, 1.0, 1.0, 1.0, 1.0, 1.0, 1.0, 1.0, 1.0, 1.0, 1.0, 1.0, 1.0, 1.0, 1.0, 1.0, 1.0, 1.0, 1.0, 1.0, 1.0, 1.0, 1.0, 1.0, 1.0, 1.0, 1.0, 1.0, 1.0, 1.0, 1.0, 1.0, 1.0, 1.0, 1.0, 1.0, 1.0, 1.0, 1.0, 1.0, 1.0, 1.0, 1.0, 1.0, 1.0, 1.0, 1.0, 1.0, 1.0, 1.0, 1.0, 1.0, 1.0, 1.0, 1.0, 1.0, 1.0, 1.0, 1.0, 1.0, 1.0, 1.0, 1.0, 1.0, 1.0, 1.0, 1.0, 1.0, 1.0, 1.0, 1.0, 1.0, 1.0, 1.0, 1.0, 1.0, 1.0, 1.0, 1.0, 1.0, 1.0, 1.0, 1.0, 1.0, 1.0, 1.0, 1.0, 1.0, 1.0, 1.0, 1.0, 1.0, 1.0, 1.0, 1.0, 1.0, 1.0, 1.0, 1.0, 1.0, 1.0, 1.0, 1.0, 1.0, 1.0, 1.0, 1.0, 1.0, 1.0, 1.0, 1.0, 1.0, 1.0, 1.0, 1.0, 1.0, 1.0, 1.0, 1.0, 1.0, 1.0, 1.0, 1.0, 1.0, 1.0, 1.0, 1.0, 1.0, 1.0, 1.0, 1.0, 1.0, 1.0, 1.0, 1.0, 1.0, 1.0, 1.0, 1.0, 1.0, 1.0, 1.0, 1.0, 1.0, 1.0, 1.0, 1.0, 1.0, 1.0, 1.0, 1.0, 1.0, 1.0, 1.0, 1.0, 1.0, 1.0, 1.0, 1.0, 1.0, 1.0, 1.0, 1.0, 1.0, 1.0, 1.0, 1.0, 1.0, 1.0, 1.0, 1.0, 1.0, 1.0, 1.0, 1.0, 1.0, 1.0, 1.0, 1.0, 1.0, 1.0, 1.0, 1.0, 1.0, 1.0, 1.0, 1.0, 1.0, 1.0, 1.0, 1.0, 1.0, 1.0, 1.0, 1.0, 1.0, 1.0, 1.0, 1.0, 1.0, 1.0, 1.0, 1.0, 1.0, 1.0, 1.0, 1.0, 1.0, 1.0, 1.0, 1.0], \"sizemode\": \"area\", \"sizeref\": 0.25, \"symbol\": \"circle\"}, \"mode\": \"markers\", \"name\": \"\", \"showlegend\": false, \"type\": \"scattergl\", \"x\": [-0.26957839727401733, -0.28952088952064514, 0.9929554462432861, 0.21784089505672455, -0.33289116621017456, -0.24690468609333038, -0.0984499603509903, -0.11987115442752838, 1.0479035377502441, -0.5950627326965332, -1.4466500282287598, -0.823038637638092, -0.11479295045137405, 0.6555625796318054, -0.907834529876709, -2.2078866958618164, 0.12120817601680756, 0.08581637591123581, -0.9978554844856262, -0.279893696308136, -0.518362820148468, -1.1325222253799438, -0.3123733401298523, -0.1428840011358261, 0.08437976986169815, -1.454940676689148, -0.5059201121330261, 4.007641315460205, -0.4588158428668976, -2.3923768997192383, -0.2881736755371094, -0.8200170397758484, -0.8398372530937195, -1.122268557548523, 0.010156507603824139, -0.7020248770713806, -1.6401066780090332, 2.877446413040161, 4.391124725341797, -0.9490671157836914, 0.10151594132184982, -0.029471131041646004, -1.0942738056182861, -0.9638127684593201, -0.6482455730438232, 0.6897397637367249, 4.153161525726318, -1.2718673944473267, -1.1316593885421753, -0.5261233448982239, 3.7729477882385254, -0.7813830971717834, -1.6704368591308594, 0.264415442943573, -0.12471354007720947, -1.3110867738723755, -1.4779564142227173, -0.9788172245025635, 1.0903921127319336, -0.9559137225151062, -1.9715303182601929, 0.5388273000717163, -1.4674005508422852, 10.963369369506836, -0.20382948219776154, -0.5850728154182434, -0.3802036643028259, -0.8351243734359741, 0.5171677470207214, -0.1698710024356842, -1.4015681743621826, 0.13008928298950195, 0.46016478538513184, 2.121229887008667, 0.38345059752464294, -1.249013066291809, -1.8594681024551392, -0.22317537665367126, -1.542193055152893, 0.3503035306930542, -1.5155014991760254, -1.4263781309127808, -1.315712571144104, -0.4897840917110443, 3.318976879119873, -0.26955685019493103, -1.2618205547332764, -0.17874933779239655, -0.18365924060344696, -0.4758317470550537, 1.1633621454238892, 1.1871932744979858, -1.3822872638702393, 7.623884677886963, -0.7455058097839355, 0.0013399338349699974, -0.09294575452804565, -1.3360309600830078, -0.7829540371894836, 4.945261001586914, -1.5587940216064453, -0.5657437443733215, 0.8060867786407471, 1.0092926025390625, -0.5555411577224731, -0.5102660655975342, -0.056960564106702805, -0.7199789881706238, -1.8620097637176514, 0.17815163731575012, -1.7317452430725098, -0.5569095611572266, -0.7273207306861877, -2.4142112731933594, 3.3251678943634033, -0.6770203113555908, -2.68039608001709, 3.6888136863708496, -0.1494184285402298, -1.6960448026657104, -1.085696816444397, -2.0520708560943604, -0.8785456418991089, 0.037805452942848206, -0.991926372051239, -0.7280526161193848, -1.0735247135162354, -0.7835910320281982, -0.9175615906715393, -1.208707332611084, 0.6542328596115112, 0.3467169404029846, -0.8625078201293945, 1.053054690361023, -1.7085342407226562, -0.756950318813324, 3.612699508666992, 0.03222882002592087, 0.3631007671356201, 0.15924835205078125, 0.2160005420446396, -0.1952662318944931, -0.658460259437561, -1.017905831336975, 0.6870072484016418, -1.2024035453796387, 0.4815811514854431, 0.212469682097435, -1.2735778093338013, 1.5885088443756104, 1.2306084632873535, -0.15985700488090515, -1.5111082792282104, -0.2519278824329376, -0.6695108413696289, -0.8246924877166748, 0.1529364287853241, -0.13508179783821106, -1.5099924802780151, -1.4813216924667358, -0.7684617638587952, -0.4392984211444855, -0.21514397859573364, 0.9444288015365601, -0.8239654302597046, -0.18516910076141357, -1.2464724779129028, 0.18110552430152893, -0.8814931511878967, 0.416380375623703, -1.388384461402893, -1.4890395402908325, -0.2393869012594223, -2.439570665359497, 0.8411731123924255, -1.3267982006072998, -1.0842152833938599, -2.0736098289489746, -0.4849588871002197, -0.11916743963956833, -0.737561821937561, 0.24127613008022308, -0.5914893746376038, -2.743466377258301, 0.1182330995798111, 0.3707883656024933, 0.9995983242988586, 0.03351067006587982, 4.316233158111572, 0.4472798705101013, 0.250935435295105, -1.4654853343963623, -1.6677939891815186, -1.91618013381958, 0.22950118780136108, -0.5707041025161743, -0.666225016117096, -1.9381415843963623, 0.09216039627790451, -0.6705229878425598, 2.2512125968933105, 1.305801272392273, -0.7639856338500977, -0.8341363072395325, -1.2769112586975098, 2.351836681365967, 1.8254194259643555, -1.2904106378555298, 0.4065711498260498, 2.521035671234131, 3.372708559036255, 0.16304294764995575, 0.13453957438468933, 4.00816535949707, -1.8692359924316406, -1.0631954669952393, 3.0404396057128906, -1.9685373306274414, -2.1575114727020264, 3.761814832687378, -0.24816910922527313, -1.1109544038772583, -0.1867271214723587, -0.8061513900756836, 0.30022677779197693, -0.4229663908481598, -0.7231294512748718, -0.8968812227249146, -0.5356619954109192, -0.1823720484972, -0.38731470704078674, 4.942496299743652, -2.026506185531616, 4.958220481872559, 0.1597958207130432, 0.2321302443742752, 2.671535015106201, 0.14873522520065308, 1.0197104215621948, -0.5299080014228821, -1.8499305248260498, -1.0547517538070679, -2.241391181945801, -0.9366267919540405, -2.3814122676849365, -0.15831024944782257, -0.1631259173154831, -1.7314398288726807, -0.7476432919502258, 0.00048185914056375623, -1.5460246801376343, 0.004541435744613409, 3.8160226345062256, -1.6219902038574219, 0.9126819372177124, 0.422208696603775, 0.06923604011535645, -0.5387292504310608, -1.2969764471054077, -0.8452182412147522, 1.208987832069397, 4.198816776275635, 1.184159517288208, -1.7665818929672241, -1.2847906351089478, -0.9006451964378357, -0.5293892621994019, -0.7892002463340759, 4.139828205108643, -1.3832014799118042, -1.6455615758895874, 2.4862704277038574, -0.5432274341583252, -1.8744521141052246, -0.7358551621437073, 0.4416801631450653, -0.42196163535118103, 0.6422551870346069, -1.0764710903167725, -1.8193143606185913, 4.141019821166992, -0.701284646987915, -1.2580686807632446, 0.7868988513946533, 0.290515273809433, 3.6950290203094482, -1.367344856262207, 2.809912919998169, -0.22782328724861145, 0.10861805081367493, 0.6871127486228943, -1.2913373708724976, 1.7683519124984741, -0.7938957214355469, -0.669330894947052, -0.05148197337985039, -1.5966596603393555, 0.5663899183273315, 3.1516854763031006, -0.5444555878639221, -1.6472067832946777, 2.122025728225708, -0.15435439348220825, -1.3146284818649292, -0.8294111490249634, -0.06562779098749161, -0.482791006565094, -0.36863890290260315, 0.9541385769844055, 0.3340405821800232, 3.5762288570404053, 0.5453848838806152, -1.7969470024108887, -0.8610541820526123, -1.8642593622207642, -0.9261800050735474, 0.6716125011444092, -1.1118292808532715, -1.2074198722839355, -1.4826685190200806, -2.1082122325897217, 0.01111618336290121, 4.467976093292236, -1.2288163900375366, -1.950911045074463, 1.9074537754058838, -1.002449870109558, 2.0584092140197754, 0.3419382870197296, 0.04191020876169205, -0.7234779596328735, -0.6043740510940552, -2.522538185119629, -0.306858628988266, 4.096172332763672, -0.2114650458097458, -0.09660466015338898, -1.1868571043014526, -0.24190713465213776, -0.08689714223146439, -0.34264495968818665, -0.7163568735122681, -1.3005331754684448, 0.2412673681974411, 1.003185510635376, -1.8607298135757446, -1.8202041387557983, 1.4014427661895752, 0.22688795626163483, -0.04581131413578987, -1.9597930908203125, -1.4070063829421997, 0.4267062246799469, -1.5028133392333984, 2.3901925086975098, 0.8471345901489258, -3.3682048320770264, 0.3850688934326172, -0.4784834682941437, 0.7028235197067261, 0.4009228050708771, 2.009188175201416, 4.4383463859558105, -0.8048617243766785, -0.9478989839553833, 3.143125295639038, -0.1997612863779068, -1.0491890907287598, 2.382344961166382, -2.0807838439941406, -2.2573719024658203, 0.005874474998563528, -1.3322116136550903, 2.8589789867401123, -1.088569164276123, 0.37647444009780884, -1.6160383224487305, -0.9385668039321899, 1.495158076286316, 2.8715882301330566, -2.392263174057007, 0.20817480981349945, -1.5204286575317383, -0.6977736949920654, -0.5224297046661377, -0.6370464563369751, 0.049419570714235306, -1.881951928138733, -0.2335783839225769, 0.9301698207855225, -1.2539600133895874, -0.8957448601722717, -1.1326930522918701, 0.5367195010185242, 1.3367950916290283, -1.7656282186508179, -0.736594021320343, -0.7542489767074585, 0.11582407355308533, -1.940105676651001, -0.30409517884254456, -0.5920755863189697, 0.9636768102645874, -1.009373664855957, 0.005103481002151966, 1.7359880208969116, -1.8956092596054077, -0.5782178044319153, 0.3159816563129425, -0.7928667068481445, -0.2467641681432724, 3.769622802734375, 1.5622724294662476, -1.152971625328064, 0.3451703190803528, -1.6224693059921265, -1.0010865926742554, -2.084186553955078, 4.405592441558838, -1.2171640396118164, 3.1835591793060303, -0.43823885917663574, 0.6127133965492249, 0.11441904306411743, -0.4540306627750397, -0.24071873724460602, 0.6177127361297607, -1.87919020652771, 2.92043399810791, 1.88478422164917, -1.2418978214263916, 2.904252290725708, -0.5402123928070068, 0.8189119696617126, -0.692599892616272, -0.9920336604118347, -1.7428208589553833, 0.1023528054356575, 0.4884636402130127, -0.1270671784877777, -0.4436536133289337, 0.13006629049777985, -1.6254122257232666, 1.6927286386489868, -0.18132659792900085, 2.2105138301849365, 2.4443700313568115, -1.9853867292404175, 4.097558498382568, -1.7556546926498413, 0.4524956941604614, -1.5942214727401733, 2.785053253173828, -1.2547118663787842, 1.897100567817688, -0.8516689538955688, 0.7244243621826172, -1.4008225202560425, 2.1686830520629883, -1.9187049865722656, -0.7925769686698914, -1.653444528579712, 1.26543390750885, -0.1336348056793213, -0.07872356474399567, 0.2266523241996765, 3.0008487701416016, 1.0480239391326904, -1.133799433708191, -1.8537516593933105, -1.2132705450057983, -1.3510041236877441, -0.5589108467102051, -0.5883710384368896, -2.2359366416931152, -0.5539973974227905, -0.46751856803894043, -0.10803602635860443, -0.40508729219436646, -0.11252275109291077, 0.16613565385341644, -0.3326597809791565, -2.9950826168060303, -1.4687081575393677, -1.0361465215682983, -0.2346000224351883, -0.3766743540763855, -2.9904353618621826, -0.27739566564559937, 3.158823251724243, 0.1342465877532959, 0.3369830846786499, 0.13947615027427673, 1.114376187324524, 0.6325334310531616, -1.6434990167617798, -1.8618319034576416, -0.7781837582588196, 0.8455398678779602, -0.3684828281402588, 1.0699790716171265, 0.18445946276187897, 1.2175523042678833, 0.24589775502681732, -0.5937795639038086, -0.8489116430282593, 3.2449536323547363, 1.9120134115219116, -0.6168181896209717, 0.7835327982902527, 1.8189390897750854, 5.817086219787598, -1.1193021535873413, 0.5826365947723389, 3.8506994247436523, -0.3607310950756073, -2.5496747493743896, 3.8651235103607178, -1.4102834463119507, -2.292029619216919, -1.3367795944213867, -1.999117136001587, 0.4779270887374878, 3.0975522994995117, -1.3263967037200928, -1.517754316329956, -0.3363209366798401, 0.34672752022743225, 0.24658864736557007, 0.8041478395462036, 2.2739570140838623, 1.2527793645858765, -0.4377560317516327, -1.2215481996536255, 0.4302685260772705, 0.08199822902679443, -0.08956300467252731, 1.8029682636260986, -0.6058294773101807, -0.8706496357917786, 2.5179760456085205, 0.13516905903816223, 0.9682066440582275, -1.0504127740859985, -0.949239194393158, -1.7974750995635986, 0.300913542509079, 2.1409308910369873, -1.5193302631378174, -0.7167659401893616, 1.9173555374145508, -0.2600451707839966, -1.7481516599655151, 1.2505844831466675, -1.1604448556900024, 0.6683831214904785, -0.4102920591831207, -0.7114186882972717, 0.14297214150428772, -1.988089919090271, 0.4402105510234833, 0.4771430194377899, -1.4448668956756592, 1.352329134941101, 0.6769606471061707, -1.7009474039077759, -1.2040218114852905, 0.12542352080345154, -0.049378715455532074, -0.869941771030426, -0.8058446645736694, 6.362158298492432, 0.8402745127677917, 1.304505467414856, -1.3259706497192383, -0.42237839102745056, 1.1373239755630493, 1.9025509357452393, 4.7716169357299805, -0.36662232875823975, 0.6084067821502686, 1.1765317916870117, 0.6952311396598816, 1.7211198806762695, 0.4025334417819977, -0.2359544336795807, -1.4122244119644165, -0.39445921778678894, -1.0817902088165283, -1.121665120124817, -1.1861337423324585, 0.06951979547739029, 0.08440987020730972, -0.25341740250587463, -0.4163612425327301, 3.661421537399292, 4.251097679138184, -0.35313814878463745, 0.023044031113386154, 0.47218406200408936, 0.49402281641960144, 0.7132735848426819, -0.33805418014526367, 0.5165275931358337, -1.1600518226623535, -1.3683104515075684, -0.6277192234992981, 1.3640804290771484, 0.06808995455503464, 0.5873118042945862, -0.25585755705833435, -1.0035202503204346, 0.05363154783844948, -0.09756020456552505, -0.4920353293418884, -0.4965188503265381, 1.6337177753448486, 3.4879074096679688, -0.2650562822818756, -2.285217046737671, -0.741371214389801, 1.583012342453003, -0.001483057509176433, 0.2526412010192871, 0.014711791649460793, -1.2605884075164795, 0.8370163440704346, -0.1862141191959381, -0.25545626878738403, -1.503156304359436, -1.498892903327942, -0.4029727876186371, 1.260695457458496, -0.6624263525009155, 1.8442013263702393, -0.5424394607543945, -0.20003202557563782, -0.9641342759132385, 2.979773759841919, -1.1962274312973022, 2.0947415828704834, -1.0935808420181274, -0.5466209650039673, 0.6958357095718384, -1.067307949066162, 0.7547237277030945, -1.2973357439041138, -1.0825331211090088, -0.8539647459983826, 1.7978339195251465, -0.15556514263153076, -0.901933491230011, -0.29048749804496765, -1.8711107969284058, -0.41506674885749817, -0.6304492354393005, -0.7277686595916748, -0.1627397984266281, -2.306793689727783, -1.792921543121338, -1.0466949939727783, 1.3340799808502197, -0.3879837393760681, -1.4539204835891724, 1.0585479736328125, 0.03922723978757858, 0.8320534229278564, -0.6637201905250549, 1.4303518533706665, -0.7150049805641174, -0.18461854755878448, 1.066980004310608, 1.7906248569488525, -0.4397851824760437, -0.5508576035499573, 1.6217361688613892, 2.596426010131836, -0.4483105540275574, -0.9403399229049683, 0.8744680285453796, 0.7582488656044006, -1.0694358348846436, -0.09843239933252335, -0.2584419250488281, 0.6311520338058472, -1.315966010093689, 0.12673991918563843, -1.2056502103805542, -1.4112380743026733, -0.16691088676452637, 1.2277722358703613, -1.1177653074264526, -0.9719780683517456, -0.8325085639953613, 1.0324373245239258, -0.18995040655136108, 1.2443760633468628, -0.5123494267463684, -1.1979267597198486, -0.6209869384765625, -0.8665285706520081, -0.1938224732875824, 3.801412582397461, -1.6908342838287354, -0.9762582182884216, 0.8570939898490906, 5.242443084716797, 0.004052140284329653, 0.9338838458061218, 2.8156166076660156, 0.432670533657074, 0.3000647723674774, 0.02051730826497078, 0.35625624656677246, -0.6511208415031433, 2.654728651046753, -0.5052880644798279, -1.7609105110168457, -1.0610299110412598, -0.5799463391304016, 1.1694914102554321, -0.30270880460739136, 1.5280215740203857, -0.36959588527679443, -0.18314382433891296, 0.618991494178772, -0.36912408471107483, 0.5254066586494446, 0.6554182767868042, -0.2632129192352295, -1.4091050624847412, 2.9101953506469727, -0.6535282731056213, -0.5990466475486755, 0.3844948709011078, -0.33263471722602844, 1.3469772338867188, -0.8823577165603638, -0.5041677355766296, -0.05858209356665611, -1.5285245180130005, 1.812361240386963, -0.11386344581842422, -0.3689587414264679, 0.16416744887828827, 0.10804914683103561, 2.124483108520508, -0.8927828073501587, 1.2024980783462524, -0.991782009601593, -0.12033239006996155, -1.0487334728240967, 3.375704288482666, 0.14035938680171967, 1.2738219499588013, 0.5861887335777283, -1.1639312505722046, -1.8305631875991821, -1.2981706857681274, -0.5777401328086853, 2.6698408126831055, 2.1503305435180664, 3.7675530910491943, -1.9634532928466797, -1.031116008758545, 1.8461376428604126, 0.5387256741523743, -0.04471480846405029, -0.5911117196083069, 0.7342991232872009, -0.8999115824699402, -1.8805114030838013, 4.081750869750977, 0.20312954485416412, 0.20200440287590027, -0.20590995252132416, -0.47671881318092346, 0.2046882063150406, -0.2723509967327118, 0.532638430595398, 2.978851795196533, -1.3553391695022583, -1.767846703529358, -0.7022117376327515, -2.446411371231079, -0.8012784719467163, 1.6252111196517944, 1.7742373943328857, -1.8882577419281006, 1.3339226245880127, -0.5828759074211121, -1.8096097707748413, 0.08085186034440994, -0.24977554380893707, 5.767192840576172, -1.7064005136489868, 0.7322894334793091, -1.4026949405670166, -2.1258046627044678, -1.6708462238311768, -0.43173447251319885, -0.21262966096401215, -0.16611792147159576, -1.8286890983581543, 1.4634037017822266, -0.7083784937858582, 0.9858585596084595, -2.223803997039795, -0.2883191406726837, -0.38098272681236267, -2.119520425796509, 1.132947325706482, 0.3616609573364258, 0.23394399881362915, -0.04475174844264984, -0.09870268404483795, -0.9065600037574768, -0.6978166103363037, -0.6867920756340027, -2.1165196895599365, -1.3862965106964111, 0.24636080861091614, -0.2398185431957245, -0.17238470911979675, 1.449985146522522, -0.9461674690246582, -0.28816184401512146, -1.0533761978149414, -0.4064294695854187, 0.12049069255590439, 1.1797399520874023, 0.5981786251068115, 1.7220438718795776, -0.3361605703830719, -0.47631680965423584, -2.2348549365997314, 1.2677842378616333, -2.481065511703491, -0.620995044708252, -1.9661256074905396, 3.6355953216552734, -0.16399894654750824, 0.10991852730512619, 3.4298291206359863, 0.7818395495414734, 1.1601215600967407, 0.7027020454406738, -1.3557933568954468, -0.8890081644058228, -1.1984169483184814, -1.7649444341659546, 0.16025389730930328, -2.4651997089385986, -0.21868255734443665, 1.410765528678894, 1.0797085762023926, 2.434870958328247, -0.3394489884376526, -0.571902871131897, 0.651740312576294, 0.09983457624912262, 1.3727198839187622, -0.3898695111274719, -1.2303515672683716, 1.927175521850586, 5.31964635848999, 0.12451053410768509, -0.7390039563179016, -0.8150976300239563, 0.7091439962387085, 1.2500375509262085, 1.381606936454773, -1.450430154800415, -1.5158008337020874, 2.581967830657959, 0.5030032992362976, -1.9299509525299072, 0.38090595602989197, 0.24869085848331451, -0.9688318967819214, -1.641944408416748, -0.14640317857265472, 1.4876235723495483, 0.34564393758773804, -1.4846580028533936, 0.5899239182472229, 0.08041855692863464, -2.8448128700256348, 3.261547088623047, 0.9285455346107483, -1.167077660560608, 0.3080352544784546, -1.0552845001220703, -0.02335069328546524, -0.2515864968299866, -1.3655955791473389, 2.2068328857421875, -0.8842853903770447, 0.6392307877540588, -0.5744242668151855, -1.6309657096862793, 0.41136637330055237, 3.762651205062866, -0.6833614706993103, -0.40664196014404297, -1.8992806673049927, -1.234906792640686, -1.1939908266067505, -0.3031531572341919, -0.2513234615325928, 0.040337953716516495, -1.0263198614120483, 1.7734628915786743, -0.034789349883794785, -1.3910136222839355, -1.0382225513458252, -1.3404951095581055, -1.2279542684555054, -1.3621805906295776, 0.053815796971321106, -1.115918755531311, 0.44781872630119324, 1.3999567031860352, 0.46225088834762573, -1.056786060333252, 1.7230441570281982, 0.7158811688423157, 4.552541732788086, -1.6714683771133423, 0.04827628284692764, 1.7470111846923828, 2.6891543865203857, 0.2403576821088791, -0.5074541568756104, -0.5215780138969421, 3.1592671871185303, 3.094207286834717, -1.1278724670410156, -0.21840982139110565, 2.044196367263794, 0.8293617367744446, 0.5629367828369141, -1.4617079496383667, -0.5576722025871277, 0.3626497983932495, 1.8057011365890503, 0.05760921910405159, 1.2289464473724365, -1.8084731101989746, 1.914581298828125, 0.7839123606681824, -1.3921587467193604, 0.5653555393218994, -1.5474724769592285, 2.1213769912719727, 0.5619910359382629, -0.9183689951896667, -0.7057133316993713, -0.26216644048690796, 2.09633207321167, 0.5436146855354309, -0.3840540051460266, -0.7927147746086121, 0.5518968105316162, 0.07305260747671127, 0.39159756898880005, 0.06555220484733582, -0.6734814643859863, 0.24907591938972473, -0.5216643214225769, -0.4234897196292877, -0.9404284358024597, 3.0478875637054443, 1.1943877935409546, -0.7051769495010376, 3.8127758502960205, 0.0966152772307396, -1.401348352432251, -0.07845715433359146, 2.340994358062744, 1.1952096223831177, -0.39690637588500977, -0.15865743160247803, -1.129521369934082, -2.0985934734344482, 0.2607269883155823, 1.2442439794540405, 0.4454165995121002, -0.8227395415306091, 3.2275171279907227, -0.03843238204717636, -0.35512107610702515, 0.5329802632331848, -0.2526795268058777, -0.768326997756958, 0.12250113487243652, -1.1926639080047607, 3.4618968963623047, -0.5298118591308594, -1.3737907409667969, -1.6989071369171143, -1.0682209730148315, -1.3977631330490112, -0.8927778601646423, -1.3756225109100342, -0.5775716304779053, -0.3954065442085266, -0.14328530430793762, -0.6131292581558228, 0.7268000841140747, 0.7589278817176819, 4.352241516113281, 0.8637451529502869, -2.1939239501953125, -0.511227548122406, 0.16669750213623047, -0.7567311525344849, -1.5732041597366333, 0.14316095411777496, -0.9013631343841553, 0.4821106791496277, 0.6394481658935547, 3.823683738708496, -0.8034636974334717, 2.9458141326904297, -0.7675812840461731, -0.1086985394358635, -1.388728141784668, -1.286759376525879, -0.763670027256012, -0.7110065221786499, 2.5727946758270264, 2.5231339931488037, -0.5624215602874756, 1.5491904020309448, -1.2137099504470825, -0.9673117995262146, -0.02327544242143631, 0.5083650350570679, 0.7319929003715515, -1.538087010383606, -0.5018712878227234, 0.40273982286453247, -1.2374296188354492, 0.8978932499885559, 0.4409715533256531, 0.5729883313179016, -0.6272298693656921, 0.5875226259231567, 0.7426908612251282, -1.3687021732330322, -1.8997188806533813, 0.11430255323648453, 0.3942251205444336, 0.16790688037872314, -0.5172402858734131, -0.7338298559188843, -0.4950309991836548, -0.8827294707298279, 0.872690737247467, -0.9864665269851685, 1.3930336236953735, 1.1868007183074951, 2.8212661743164062, 3.3622920513153076, -0.19955357909202576, -0.5017902255058289, -1.0418821573257446, -1.427333116531372, -0.894385576248169, -0.0576106421649456, 1.7704139947891235, -1.2325443029403687, -0.41950973868370056, -0.5017367601394653, -0.6002824306488037, 1.327316164970398, 0.14894069731235504, -0.5501257181167603, -2.191147804260254, -1.617315411567688, -0.9161840677261353, -0.8723491430282593, 3.093637228012085, -1.223863124847412, -0.11790671944618225, 0.7770031094551086, 1.4525737762451172, -0.1111115962266922, 3.355548143386841, 0.4132903516292572, 0.8432400822639465, -1.264169454574585, -1.3786306381225586, -0.3116711676120758, -1.3383363485336304, 0.01476129051297903, 0.754791259765625, 4.168223857879639, -0.9356382489204407, -1.0761700868606567, 2.971590995788574, -0.03835243359208107, -1.3168219327926636, -1.0060144662857056, -0.5271677374839783, 1.0665349960327148, -1.7553502321243286, -0.5814776420593262, 0.236202210187912, -0.7015910148620605, 2.315133810043335, -1.3452919721603394, -0.4052761197090149, 0.35947322845458984, -1.9816018342971802, 0.4283719062805176, -0.24112506210803986, 0.9630897641181946, -1.0328917503356934, 0.4505102336406708, 2.3210206031799316, 1.5673213005065918, -0.3165036141872406, -1.0064423084259033, 1.3745014667510986, -0.04042808338999748, -0.9346372485160828, -0.5345509052276611, 1.4989075660705566, 1.6966969966888428, -0.025634190067648888, 1.9315513372421265, 2.0259950160980225, 0.3535744845867157, 1.2789877653121948, 1.581553339958191, -0.4821954369544983, 0.2803344130516052, -0.9043787717819214, 1.5579099655151367, -0.04771523177623749, -1.0222153663635254, 1.245484471321106, 0.6568000912666321, -1.304643154144287, -0.7004781365394592, 1.5262807607650757, -0.863900899887085, 1.2158008813858032, -0.2335347831249237, -0.3209086060523987, -0.025489462539553642, -0.6551003456115723, -0.56756192445755, 1.2534520626068115, -2.8414978981018066, -0.6858680248260498, -0.07191654294729233, 0.0890926942229271, 1.1282140016555786, -1.0612765550613403, 1.2731326818466187, -0.7102895379066467, 1.5149972438812256, 0.5088492631912231, -1.9806932210922241, 0.054504625499248505, 2.7320632934570312, -0.2544592320919037, 1.759137511253357, 0.13528117537498474, 0.507514476776123, 0.27011388540267944, -0.39920562505722046, -0.12819291651248932, -1.2299457788467407, -0.057496871799230576, 0.7598470449447632, -0.8617982864379883, -1.7436519861221313, 0.6893059611320496, -1.4255131483078003, -0.5788909196853638, 1.4139617681503296, -1.362774133682251, -0.531030535697937, 3.1785051822662354, 1.0272388458251953, -0.1806681603193283, 0.12788856029510498, 1.2005480527877808, 4.766782283782959, 0.07130993902683258, -0.2951045632362366, 2.05373215675354, -0.5723168253898621, -0.6587066054344177, -0.6143457889556885, -0.30293625593185425, -0.24683426320552826, -0.22346891462802887, -0.08169396221637726, 0.3084380328655243, -2.358726978302002, -0.7691132426261902, -1.2953941822052002, 0.3561992645263672, -0.9553442001342773, -0.08357712626457214, -0.1371639370918274, -0.8887215256690979, -1.2223671674728394, -0.21210014820098877, 4.195424556732178, -2.0097615718841553, -1.336313009262085, -0.2701061964035034, -0.23065394163131714, -0.9775897860527039, -0.5780299305915833, -2.1075656414031982, 0.0200960673391819, 2.2313320636749268, 1.3873916864395142, -0.9102751016616821, -2.0802597999572754, 2.9702694416046143, -1.4888479709625244, 1.0202569961547852, 0.4775726795196533, 0.07934077829122543, -1.0344659090042114, 1.4797319173812866, 5.19597864151001, 0.8797207474708557, 0.6843788623809814, -1.9097309112548828, -1.3428330421447754, -0.5227133631706238, 5.158386707305908, 0.003314600558951497, 2.2025146484375, -2.0636279582977295, -1.255171298980713, -0.664787769317627, 1.3437188863754272, 2.9754817485809326, 0.29589009284973145, 0.33902743458747864, -0.2985244393348694, 1.5909379720687866, -1.5059032440185547, -0.2866756319999695, -1.250177025794983, -2.0693910121917725, -0.2831438481807709, 1.4131410121917725, 1.882596731185913, -1.7834242582321167, 3.1160519123077393, -0.0004918500781059265, -1.7579004764556885, -0.5702686905860901, -0.9718692898750305, -0.4252186119556427, 2.2824625968933105, 5.2504191398620605, -3.564213991165161, -0.8502916097640991, -1.3529772758483887, 2.2636189460754395, -0.8040127158164978, 0.17158052325248718, 0.4036347270011902, -0.12138263136148453, 2.718764066696167, -1.9649946689605713, 1.1602107286453247, -1.193638563156128, -0.4268660247325897, -0.37172701954841614, -0.5864871740341187, 1.162951111793518, -0.14048871397972107, -1.5857475996017456, -1.2093391418457031, -0.7443358898162842, -0.48670804500579834, -0.5984231233596802, 2.19625186920166, -1.2865620851516724, 1.550315022468567, -1.7054747343063354, -1.983474612236023, 0.6527209281921387, -2.3795580863952637, 0.2540237009525299, -0.7596794962882996, 2.252669334411621, -1.3946168422698975, 0.5911879539489746, 0.7190756797790527, 3.7307517528533936, -1.656237006187439, -0.26991167664527893, 0.18610872328281403, -1.2773973941802979, -0.10306338965892792, 4.344825744628906, -1.1597635746002197, 1.6821117401123047, -0.523951530456543, -0.6288523077964783, 0.4285909831523895, -1.481942892074585, 0.16751854121685028, 0.6780040264129639, -1.8577696084976196, -0.7537898421287537, -1.281286358833313, -1.1440691947937012, -2.345292329788208, 1.8920109272003174, -0.7524189949035645, -1.8519632816314697, -1.1226390600204468, -0.8868369460105896, -1.0934994220733643, -1.962751030921936, -1.049100399017334, 0.3964026868343353, 0.22992923855781555, -1.420419454574585, 2.4825000762939453, -0.4537499248981476, 0.6023292541503906, 3.823366165161133, 1.1366262435913086, -0.1464085429906845, -0.42607247829437256, 2.6959469318389893, -0.36673298478126526, -0.6097274422645569, -0.9790633916854858, 1.6444528102874756, -0.12386777251958847, -0.1311098039150238, 0.3836970925331116, -1.2530138492584229, 0.7248179316520691, 0.829535961151123, 0.003925965633243322, 0.24907103180885315, -1.3981828689575195, -0.5704649090766907, -0.34166041016578674, -0.3947732150554657, 0.7430464625358582, -1.2688404321670532, 1.9596987962722778, -0.9380118250846863, -0.2903060019016266, 0.8098365664482117, -0.4978061020374298, -2.102532386779785, -0.015106914564967155, -0.34862151741981506, 0.9175967574119568, -1.8444459438323975, 3.949312448501587, -1.8226722478866577, -0.9022585153579712, 0.6232896447181702, -1.435704231262207, -0.7440624237060547, -1.55082368850708, -1.8214627504348755, 0.5478898286819458, -2.934990882873535, -0.12285500764846802, 0.5253046154975891, -0.6867043375968933, -0.7325472235679626, 0.30429571866989136, -1.209202527999878, -1.0085735321044922, -0.8471784591674805, 0.24832119047641754, 2.198153495788574, -0.0948825404047966, -0.7583288550376892, 0.9355513453483582, -0.6810643076896667, -0.08102009445428848, -1.5497275590896606, -1.7634272575378418, -1.482369065284729, -0.06691794842481613, -1.7874908447265625, -1.9770697355270386, 1.7094087600708008, 0.6069003343582153, 0.8187761306762695, -0.27906981110572815, -0.25452086329460144, -0.08707122504711151, -0.7948542237281799, -1.5204187631607056, -2.3540520668029785, -1.4829095602035522, -0.38006773591041565, 0.22616834938526154, 1.4138191938400269, -0.6385015249252319, -2.2058825492858887, 0.9339253902435303, -1.1275206804275513, -1.063596487045288, -1.8888585567474365, 0.09548544883728027, -1.8194876909255981, -0.009492184035480022, -1.955710530281067, -0.9640960693359375, -1.4768003225326538, 1.0460301637649536, 0.32436829805374146, 0.7351427674293518, -0.4395938515663147, -0.3476164937019348, 0.14354759454727173, -1.401788353919983, 0.6230178475379944, 0.5463944673538208, -0.42666974663734436, -2.008746862411499, 1.7779234647750854, -0.6503479480743408, 2.789647340774536, -2.0377910137176514, -0.28166869282722473, -1.3087531328201294, -0.037595462054014206, -0.441791832447052, 0.5071629285812378, -2.0094809532165527, 0.8147084712982178, 1.0655368566513062, 2.1083946228027344, -1.1608637571334839, 2.324709892272949, -0.32111111283302307, -0.3996788263320923, -0.5576583743095398, 0.7781601548194885, -1.324436902999878, -0.6459565162658691, 2.454277276992798, -1.3467894792556763, 0.5445659756660461, -1.5388542413711548, 2.294757604598999, 2.241029739379883, 0.7065998315811157, 0.036312974989414215, 0.3289310336112976, -1.4778752326965332, -1.2308404445648193, 4.091487884521484, 1.552490472793579, -1.7227354049682617, -0.10535269975662231, -1.2865732908248901, 0.23852594196796417, -1.3610321283340454, -1.6506602764129639, -1.5277177095413208, 0.516349196434021, -0.6801308393478394, -0.7508984208106995, -2.357769250869751, -0.5677450895309448, 0.37812936305999756, -1.768198013305664, -0.7176110148429871, 0.17531150579452515, 1.7928662300109863, -2.0207178592681885, -0.08570065349340439, 0.08604937791824341, 0.6692061424255371, -1.5520673990249634, 0.6621738076210022, -0.24324652552604675, 0.4344857335090637, -1.7792892456054688, 0.39079490303993225, 1.6402536630630493, -1.0664905309677124, -1.3977354764938354, -1.2785401344299316, 0.6925327181816101, 1.1743183135986328, 2.0648975372314453, -1.0297627449035645, -2.326186418533325, -0.04920918866991997, 1.2415800094604492, -0.5731576085090637, -0.24781303107738495, 0.42746439576148987, 0.31467509269714355, -0.3403603434562683, -0.6007490754127502, 1.7493218183517456, -0.27326229214668274, 1.7039315700531006, -1.0206201076507568, 1.2933703660964966, 0.06379009783267975, 0.3832376003265381, -0.49128514528274536, -0.05917958915233612, -0.6691235899925232, -0.7477784156799316, -1.3693161010742188, -0.028213411569595337, -1.1068328619003296, -0.43878600001335144, -1.4748786687850952, 0.5839231014251709, 0.026313243433833122, 0.09843607991933823, -0.4450722634792328, 0.8883562088012695, 2.09938383102417, -1.3605576753616333, 0.2101985365152359, 1.219822645187378, 0.9632197618484497, -0.6916654706001282, -0.59765625, -0.9378653168678284, -3.297847032546997, -0.9511414766311646, -0.638217031955719, 1.2749258279800415, -0.02122565731406212, 1.2341865301132202, 0.3111415505409241, 0.4960634708404541, -0.933645486831665, 0.22311048209667206, 1.774141550064087, -0.7222536206245422, -0.010735621675848961, 4.435818195343018, -0.34806254506111145, 1.267588496208191, 0.19224758446216583, -2.20113205909729, -0.7610133290290833, 0.021492974832654, -2.6199803352355957, -0.626919686794281, 4.1768999099731445, -0.011312023736536503, 0.28300678730010986, -0.45361611247062683, -0.7748746275901794, 0.7960454225540161, -1.5537790060043335, -0.04002218320965767, -0.6324799060821533, 3.910928249359131, 0.39412179589271545, -1.6118113994598389, 0.36691877245903015, -1.097571849822998, 0.8051961660385132, -0.7053003907203674, -0.3009531497955322, 0.0030784369446337223, -1.061662197113037, -0.42669111490249634, -2.529841661453247, -0.37752649188041687, -1.638914942741394, 1.990508794784546, -0.30708926916122437, 3.625342607498169, -1.4781678915023804, -1.0445420742034912, 1.5543006658554077, 2.3016843795776367, -1.2209467887878418, 0.7806844711303711, 0.05351001024246216, 0.08935660868883133, -1.2204476594924927, 1.4440789222717285, 0.12237881869077682, 1.097691297531128, -0.8985442519187927, -1.4967522621154785, -1.7257970571517944, 1.463319182395935, 0.4800339937210083, -0.23409509658813477, -1.3462815284729004, -1.7422423362731934, -0.016337977722287178, -2.0415658950805664, 0.6535103917121887, -1.912569522857666, 2.44109845161438, -0.1896102875471115, -0.8914331793785095, -0.6460348963737488, -1.6062055826187134, 1.711969256401062, -0.6126629114151001, 0.906642735004425, 2.569211959838867, -3.14449143409729, -0.9811068177223206, -0.7207807302474976, -0.16072016954421997, -0.27181699872016907, -0.9702293276786804, 0.6408374905586243, -0.5583752989768982, -2.0939693450927734, -0.6067646741867065, 0.6724470853805542, -0.7498763203620911, 0.4583001136779785, 1.6847388744354248, 0.684569239616394, 2.1303422451019287, 1.8399602174758911, 0.7392495274543762, 0.7717663645744324, -0.8198845386505127, -1.2675098180770874, -1.4128531217575073, 3.8338592052459717, -0.019950222223997116, 1.1115951538085938, -1.1127026081085205, -0.659564197063446, 2.354660987854004, 1.3730802536010742, -0.34198689460754395, 1.0769548416137695, 3.468428611755371, 0.19367462396621704, -1.466768741607666, 0.8321197628974915, -1.5702623128890991, -0.6088776588439941, -0.26063746213912964, 3.503732919692993, 0.166908860206604, 0.29311826825141907, -1.0398081541061401, -1.3008320331573486, -1.6566402912139893, -1.0197800397872925, 0.7158225774765015, 2.2872323989868164, 1.1693651676177979, 3.0607738494873047, -2.360706329345703, -1.9383140802383423, -0.9028883576393127, 0.2716488242149353, 1.489029049873352, -0.34069281816482544, 0.7109853029251099, 2.9586868286132812, 0.19947102665901184, 0.6605235934257507, -1.1690939664840698, -1.4755887985229492, -1.8423744440078735, 2.612035036087036, -0.7685781121253967, 2.170353889465332, 1.0460776090621948, -1.3953590393066406, 1.207592487335205, 0.37297335267066956, -0.6961729526519775, -0.19065698981285095, 0.8373705744743347, -1.4990524053573608, -0.6249729990959167, 0.3311569392681122, -0.9862725734710693, 1.543001651763916, -0.05959320068359375, 1.1418246030807495, -1.6411941051483154, 1.4476726055145264, 1.5852597951889038, -0.7483746409416199, -0.6436367630958557, 2.430851459503174, 1.3004683256149292, 1.3811486959457397, -1.7799253463745117, -1.6839905977249146, -1.6780760288238525, -1.3204948902130127, -1.2088823318481445, -1.0990568399429321, -0.9070008993148804, -0.23417964577674866, 0.8602840900421143, -2.421215772628784, -1.5962014198303223, -1.0075188875198364, -1.4577488899230957, -0.2859390079975128, -2.5028369426727295, -1.2041826248168945, -1.0676151514053345, -2.086737871170044, 0.7526436448097229, 0.9747493863105774, 0.009111382998526096, 0.15368565917015076, -0.3664338290691376, -1.0878790616989136, -0.45775458216667175, -0.31958481669425964, -1.8210965394973755, -0.04284850135445595, 1.9113115072250366, -1.240283727645874, 0.4288472533226013, -3.4137606620788574, -1.7759983539581299, 1.5510135889053345, 1.2198691368103027, -1.2404934167861938, -1.6088569164276123, 0.30179303884506226, 2.139360189437866, -0.31408238410949707, 0.4677523374557495, -2.0183675289154053, 2.125563859939575, -1.4948809146881104, -1.701269268989563, 2.2327396869659424, -2.336766242980957, 0.1170876994729042, -1.2600696086883545, 0.06696121394634247, -0.5950435996055603, 0.12776188552379608, 0.7979187369346619, -0.6739184856414795, 0.016167068853974342, -2.030597448348999, -0.8895458579063416, 1.158692479133606, 0.10379979014396667, -1.3435547351837158, 2.4665298461914062, -0.48526662588119507, -0.5577072501182556, -1.1080753803253174, 0.14870144426822662, -2.0745105743408203, -1.85325026512146, -0.4850689470767975, -2.447906255722046, 3.9743778705596924, -0.23132559657096863, -0.04690228030085564, -0.30038192868232727, 0.8845714926719666, -0.5018568634986877, 0.7389169931411743, -1.217000126838684, 1.908819556236267, 1.321265459060669, -1.2913225889205933, 3.1377453804016113, 1.930306315422058, 0.34142351150512695, 0.7920286655426025, -0.1102498471736908, 4.424215793609619, 0.48100048303604126, -0.7407124042510986, 1.2580690383911133, -0.2301442176103592, -1.394844889640808, -0.562785267829895, -0.8667675256729126, 2.1742990016937256, -1.488309383392334, 1.0547593832015991, -0.5036010146141052, 5.50847053527832, -0.26835036277770996, -1.5086888074874878, 4.649787425994873, 4.976749420166016, -1.2265949249267578, -0.08931895345449448, -1.7838835716247559, -0.687308132648468, 1.1881834268569946, 1.7346874475479126, -0.980379581451416, 2.1951863765716553, -1.2687761783599854, -0.49809008836746216, 3.475862979888916, -1.3662060499191284, -1.0628271102905273, -0.7247443795204163, -1.310410737991333, 1.0109608173370361, -0.24162279069423676, 1.8147250413894653, -1.7642093896865845, 0.40779921412467957, 0.8289222717285156, -0.03545473515987396, -1.2192070484161377, 1.7628066539764404, 3.3445370197296143, -1.2618759870529175, 2.4919044971466064, -1.1321136951446533, 2.53365421295166, -0.26503312587738037, 1.6152653694152832, -2.543383836746216, 0.14328046143054962, -0.6610874533653259, -0.1047990694642067, 1.788351058959961, -1.0637983083724976, -0.6725518107414246, 1.003169298171997, -1.805275797843933, 2.7701830863952637, -0.2768537700176239, -0.7298710942268372, 0.8009912371635437, -0.3986854553222656, -1.903287410736084, 0.17619086802005768, 3.863149404525757, -0.678773820400238, -1.117258071899414, 0.8374505043029785, -1.448257565498352, 0.6672069430351257, -0.5714890360832214, -1.4815566539764404, -1.8612327575683594, -0.01781771332025528, -0.5047751665115356, -2.2559754848480225, -0.019888823851943016, 2.9337241649627686, 0.1707739382982254, -1.9512171745300293, -0.47135141491889954, 0.1389024257659912, -0.8016719222068787, 1.7989081144332886, 0.6066065430641174, 1.5566363334655762, 0.9156817197799683, 0.3875083327293396, 1.6563037633895874, 2.891798973083496, -0.8064653873443604, -1.1011954545974731, -1.408345341682434, 2.7071025371551514, 1.845083475112915, 0.0020640757866203785, -0.16285575926303864, -1.1837472915649414, -1.836630940437317, -2.070603847503662, -0.5204513072967529, -1.1969351768493652, -0.47415390610694885, -1.5399307012557983, 3.7954764366149902, 4.837630748748779, 0.6115317344665527, 0.353870153427124, -1.9752289056777954, -0.7036513090133667, 0.22869564592838287, -0.7518871426582336, 0.25356972217559814, 0.7104137539863586, -0.39743590354919434, 0.0902460590004921, -0.583331823348999, 0.8235504031181335, -0.5060036182403564, -2.2685019969940186, 0.3643633723258972, -1.3465616703033447, -0.6504151225090027, 0.026678655296564102, -0.48324379324913025, -0.19598422944545746, 0.28357863426208496, -1.7089309692382812, 0.8559766411781311, -1.7675052881240845, -0.1516800969839096, -0.9839763045310974, -1.5030649900436401, -0.4675152599811554, -1.43231201171875, -0.15935096144676208, 1.3735042810440063, -1.1867274045944214, 2.407590627670288, 0.6868612766265869, -0.37240394949913025, 0.4185881018638611, -0.10756649821996689, 3.2984108924865723, -0.999681293964386, -0.9922561645507812, -0.7967848181724548, 0.8887791037559509, -0.7917991280555725, 0.9623224139213562, -1.7817310094833374, -1.3897924423217773, -1.2232309579849243, 0.09002462774515152, 4.09168004989624, 0.26861876249313354, -1.143794298171997, -0.4338671863079071, -0.02967776358127594, 0.8691772818565369, -1.402711033821106, 0.12089239060878754, -0.9957659840583801, 1.0417747497558594, -0.9282584190368652, -0.7908979058265686, -1.095297932624817, 2.667062282562256, 2.0090699195861816, -0.717189371585846, 0.8506688475608826, -1.6608710289001465, 0.36192786693573, -0.6838318705558777, 1.8452509641647339, -0.8112229108810425, -0.48232167959213257, 1.810206651687622, -0.07408023625612259, -0.9341432452201843, 0.42235395312309265, -0.8278653621673584, -0.9225411415100098, 2.7344677448272705, -0.7235934734344482, -1.4378950595855713, -1.9847296476364136, 1.2389037609100342, -0.742733359336853, 2.428084373474121, -0.8400183916091919, 3.958195447921753, -0.27014634013175964, 0.9998258352279663, 1.5661994218826294, -1.566814661026001, -0.4231678247451782, -0.8875341415405273, 3.2863688468933105, 0.3141358494758606, 1.7199922800064087, 0.010848989710211754, 3.8230018615722656], \"xaxis\": \"x\", \"y\": [-0.48649823665618896, -0.5683594346046448, -0.3483350872993469, -0.5381484031677246, -1.3684369325637817, -0.30951419472694397, -0.49633532762527466, -1.4270823001861572, -0.7107585072517395, -2.3332531452178955, -1.967725157737732, -0.26053425669670105, -1.073900580406189, -0.4626242518424988, -1.1979206800460815, -2.228567123413086, 0.6813838481903076, -0.3271650969982147, -1.9005870819091797, -0.8218794465065002, -0.6109974980354309, -0.13481318950653076, -0.4371756315231323, -0.2585406005382538, -1.277987003326416, -0.9064720273017883, -0.6130626201629639, 0.3837832510471344, -0.5497795343399048, -0.8412025570869446, -3.3500754833221436, -0.2568461298942566, -0.5749225616455078, 0.3815063536167145, 0.16495996713638306, 0.41987138986587524, 2.2050535678863525, -0.7250935435295105, 0.030603984370827675, -0.8485231399536133, -1.4057925939559937, -1.1499956846237183, 0.04310590401291847, -1.1063486337661743, -0.8091704249382019, -1.5690525770187378, -0.17299723625183105, -0.9994096755981445, -2.27866530418396, -1.2899219989776611, -0.5910854339599609, 2.065311908721924, -2.940232515335083, -1.2319484949111938, -1.7118175029754639, -2.1530356407165527, 1.0773130655288696, -1.9674811363220215, -0.09206902235746384, -1.2456384897232056, 0.54493647813797, -0.8996621370315552, -1.5714685916900635, 1.177331566810608, -1.1305216550827026, -0.17137838900089264, -0.78315269947052, 3.9197018146514893, -1.46399986743927, -0.8295868635177612, 1.927945852279663, -0.888130247592926, -0.14575961232185364, -2.0810294151306152, 0.1217503771185875, -1.8818600177764893, 0.4457845389842987, 4.178351402282715, -2.5175750255584717, -0.657907247543335, -1.5929571390151978, -0.9136766791343689, -1.226975679397583, -2.796112060546875, -0.44541463255882263, -0.49877461791038513, -2.2809598445892334, 0.36819010972976685, -0.6526352167129517, 0.13430017232894897, -0.40091556310653687, -0.8639014959335327, -0.2324199080467224, 0.12479014694690704, -1.1299819946289062, 0.41393107175827026, -0.1312320977449417, -0.7210402488708496, 1.1184828281402588, -0.26364922523498535, 2.6065104007720947, -0.6955007314682007, 3.9827566146850586, -1.4328439235687256, -3.549776792526245, -0.5456617474555969, -0.8560084104537964, -1.1466656923294067, -1.416910171508789, -1.5689083337783813, 3.3015663623809814, -1.6443285942077637, -0.9301056265830994, -2.0493741035461426, 0.41357290744781494, -0.8445039391517639, -0.33831000328063965, 2.3238608837127686, -1.869253158569336, -0.7581689953804016, 3.22225284576416, 4.407252788543701, 2.1973302364349365, 3.170086622238159, -0.7056590914726257, -0.14041098952293396, -2.5926709175109863, 1.5121397972106934, -0.5502659678459167, -2.073835611343384, -0.04502018168568611, 0.7226241827011108, -2.1068663597106934, 0.490376740694046, 3.610407590866089, -0.0672929510474205, 1.250687599182129, -0.7821791172027588, -1.0532687902450562, -1.4071214199066162, -0.2110724002122879, -0.5491663217544556, -1.777713656425476, -1.1635284423828125, 0.816491425037384, -0.6743828058242798, -1.0186419486999512, 2.708664894104004, 1.855757236480713, 0.14435367286205292, -0.7068974375724792, -0.9148346781730652, -1.1217459440231323, -1.0489501953125, -0.7883785367012024, 0.1670141965150833, -0.5144455432891846, 2.1400959491729736, 2.6282382011413574, 0.2575865387916565, -0.965721845626831, -1.069296956062317, -0.5555551052093506, -0.20839732885360718, -1.7910264730453491, -2.075554847717285, -0.32806211709976196, -0.9444337487220764, 1.752827763557434, -0.7028211951255798, 1.6724029779434204, -0.9244288206100464, -0.956030547618866, 2.2886693477630615, -0.5778534412384033, -1.7757964134216309, 1.2571195363998413, -2.546987771987915, -0.8468599319458008, 3.5978875160217285, 0.7315544486045837, -1.3908263444900513, -0.5750172734260559, -0.09321367740631104, 2.595482349395752, -0.20935006439685822, -1.7764153480529785, -0.996099054813385, -0.8577722907066345, -1.17613685131073, 1.0051900148391724, -2.153917074203491, -2.3885250091552734, -2.519793748855591, -0.6916018128395081, 4.5315937995910645, 1.701586365699768, -1.5740846395492554, 0.008091471157968044, -0.024616669863462448, 1.788608431816101, 3.7739601135253906, 3.3063137531280518, -1.7750763893127441, -0.9655964970588684, 2.2443737983703613, 3.377192497253418, 3.2401020526885986, 0.3086845278739929, -0.6059576272964478, 0.7374957799911499, -0.5489410758018494, -0.5175467133522034, -0.9671767950057983, -1.0535341501235962, 1.1936089992523193, -0.11091547459363937, 0.34407588839530945, -2.4845314025878906, -0.668333113193512, -2.054267644882202, 1.388860821723938, -1.9754092693328857, 0.05154183506965637, -1.4060081243515015, 1.2379215955734253, -2.230109930038452, -0.5734918713569641, 1.0730297565460205, -0.11784494668245316, -1.4745973348617554, -0.010610245168209076, -0.8486661911010742, -2.217027187347412, 0.6052443385124207, -1.9027198553085327, 0.9559244513511658, -2.002929210662842, -1.3791279792785645, -0.5808444023132324, -1.2071611881256104, -1.0188099145889282, 2.436836004257202, -0.6156899333000183, 1.248927116394043, -0.3471294045448303, 1.3444185256958008, 0.9744012951850891, 3.581256628036499, 0.011271210387349129, -1.9675796031951904, -2.3941051959991455, 0.19654834270477295, -0.17155125737190247, -1.5425225496292114, -2.1926021575927734, 2.057065963745117, -1.538203477859497, 1.9116055965423584, -2.9062230587005615, -0.9305964112281799, 1.762787938117981, -0.5227542519569397, 4.541326522827148, 0.9924928545951843, -0.8585113286972046, -2.060229539871216, -0.8984379768371582, -0.7144663333892822, 2.727414846420288, -1.4403680562973022, 0.04163920506834984, -0.4275897145271301, -1.1962045431137085, -2.0479791164398193, -0.6015961766242981, -1.2760896682739258, 1.7637542486190796, -0.8563259243965149, -1.6032248735427856, 0.024613266810774803, -0.01803770661354065, -0.9625780582427979, 2.4328665733337402, 0.7271112203598022, -0.1142081543803215, 2.81724214553833, -0.14783769845962524, 0.09443505108356476, 1.0056270360946655, -0.6733489632606506, -2.6758363246917725, -0.18953698873519897, -1.2863179445266724, -0.9460148811340332, -2.3149802684783936, 2.3673112392425537, 3.1248090267181396, -0.5197895765304565, 4.58383321762085, -0.7001753449440002, 0.9803235530853271, 0.28782105445861816, 0.8216836452484131, 0.6631255149841309, -1.8082000017166138, 0.013523925095796585, 2.080315589904785, -0.3141402006149292, 0.8039986491203308, -0.1383538842201233, -0.5639907717704773, 1.9699161052703857, -1.330416202545166, 4.963803291320801, -1.252597451210022, -0.7286328673362732, -0.5602996945381165, -1.5751054286956787, 1.5276448726654053, -1.918596863746643, -2.157031536102295, -0.5890504121780396, 1.1528111696243286, 4.50755500793457, -0.8360545039176941, -1.4331508874893188, -1.2400002479553223, 0.5122876763343811, -0.0907980427145958, -0.34799763560295105, -2.5943775177001953, -1.8496625423431396, -0.011493067257106304, 0.7229514122009277, -0.7512645125389099, -0.8057757019996643, -2.2110812664031982, -1.039475440979004, 2.645206928253174, 1.403133749961853, 0.10410115122795105, -3.5925421714782715, 0.6910616755485535, 1.7442262172698975, 1.5393331050872803, 0.8955451250076294, -3.1293954849243164, -0.21227337419986725, 3.0082337856292725, 2.120628595352173, -1.0739405155181885, -0.17934450507164001, 0.04561590030789375, -1.737189769744873, 1.271938443183899, 5.148532867431641, -2.874483346939087, -1.5404573678970337, -0.6319602727890015, -1.3075884580612183, -0.8542237877845764, -0.6124022603034973, -3.4141123294830322, -0.1130225732922554, 0.8187380433082581, 4.790462970733643, 0.0398995578289032, -0.6827617883682251, -0.47602036595344543, -2.956403970718384, -0.34886255860328674, -0.6820871233940125, 0.42940834164619446, 1.1060575246810913, -0.7228031158447266, 2.0251262187957764, -0.44100117683410645, 0.4480441212654114, 0.23856951296329498, 0.3151068091392517, -1.0364880561828613, -1.253879189491272, -0.3837851583957672, 1.7222620248794556, -0.9431143999099731, -1.0382531881332397, -0.4863796532154083, -0.37399932742118835, -1.1019035577774048, 0.7200575470924377, -1.3740702867507935, -1.4453879594802856, -1.4667819738388062, -1.598240852355957, -1.5829854011535645, -2.0010507106781006, -0.18483410775661469, 1.9211294651031494, -0.3560904860496521, -0.4010067582130432, -0.4382067620754242, 0.19183821976184845, -2.4306821823120117, -2.41433048248291, 0.416151225566864, -2.262103319168091, -0.5517520308494568, -0.4569007158279419, 2.024505615234375, -1.565619707107544, -1.1347512006759644, 0.12239756435155869, 0.5661486387252808, 0.3509991466999054, -3.0505385398864746, 0.40346217155456543, -0.7809730768203735, 0.6738647222518921, 0.32289615273475647, -0.904333233833313, -0.7526986002922058, 0.7387809157371521, -0.6890275478363037, 0.5480685830116272, -0.30498650670051575, -0.9328547716140747, 2.8507747650146484, 0.23080435395240784, 0.01526574231684208, -1.3884377479553223, 1.1882892847061157, 0.5910128355026245, -0.778282880783081, -2.523448944091797, -0.5364403128623962, -2.325521469116211, -1.9010599851608276, 0.5725260972976685, -0.35717570781707764, 1.804146409034729, -1.834977388381958, 1.2907030582427979, -2.319786310195923, -1.1930636167526245, -2.005063056945801, -0.45406752824783325, -0.34179720282554626, 0.2232751101255417, -1.0425647497177124, 0.24660393595695496, -1.0538442134857178, -0.010556734167039394, -0.4963186979293823, -0.015351132489740849, 0.5412567257881165, 2.1604111194610596, 0.9241049885749817, 0.29511260986328125, -0.3057706654071808, 1.7608177661895752, 1.4178773164749146, -0.9633236527442932, 0.17871244251728058, 0.06253690272569656, 2.6007933616638184, -2.1743643283843994, 0.06850755959749222, -0.2521999180316925, 1.4630670547485352, 1.6491868495941162, 1.1910854578018188, -0.3485473394393921, 1.4463046789169312, -1.286176085472107, 2.7553226947784424, 0.2110544592142105, -0.9402055144309998, 1.5292165279388428, 0.8605939149856567, 2.323012351989746, -0.2582196593284607, 4.597799777984619, 2.459649085998535, -0.7398412227630615, 1.712900161743164, 1.8055156469345093, 2.8962299823760986, 0.1535777896642685, -0.29143163561820984, -0.40143510699272156, 3.1323399543762207, -1.8433330059051514, -1.0474828481674194, -0.23407384753227234, 3.9669079780578613, 1.8834706544876099, 2.591571569442749, 1.3876663446426392, 0.09603533148765564, 0.15431994199752808, 0.40526172518730164, 2.8780362606048584, 0.17638280987739563, -1.2519745826721191, 0.5462855100631714, 0.7674009203910828, -0.5676569938659668, -0.10664112120866776, 1.7662599086761475, -0.9442306756973267, 1.384786605834961, 0.23477503657341003, 0.6339486241340637, 0.08394162356853485, -0.06261713057756424, -1.5718697309494019, -0.41966092586517334, 0.37462618947029114, 2.6180243492126465, 0.11649882793426514, -0.3724430501461029, 1.2466356754302979, -1.1190990209579468, 2.6623284816741943, 0.38969698548316956, -1.0563606023788452, -0.3533760607242584, -0.6445232033729553, -0.5723305940628052, 1.1408039331436157, 2.0442004203796387, -1.877294659614563, 3.266489028930664, 0.1489667147397995, 0.6266627311706543, 1.1415104866027832, -1.2302004098892212, -0.7903769016265869, -1.1834007501602173, 0.213541179895401, -1.9282578229904175, 0.010261001996695995, 0.006556578446179628, -2.8569233417510986, -0.4754728078842163, 2.4742977619171143, -2.809391975402832, -0.892340362071991, -0.7001213431358337, -1.4150441884994507, 3.229933977127075, -0.28813648223876953, 0.469441294670105, 1.254140019416809, -1.391960859298706, 0.13561682403087616, 1.0629345178604126, -2.1328365802764893, -2.4539730548858643, -0.8565789461135864, -1.4380875825881958, -0.8011635541915894, 0.962646484375, 0.009732839651405811, 0.062122542411088943, 2.9918274879455566, -1.1128723621368408, -1.3061816692352295, 0.986691951751709, -1.594873070716858, 0.1004989743232727, 1.758061170578003, -1.1295671463012695, 0.5073726177215576, 0.04779704660177231, 2.745269536972046, 1.6713306903839111, -0.8582291007041931, -3.268125534057617, 0.3387415111064911, 1.794049620628357, -0.09036874026060104, 0.8464566469192505, 0.19987906515598297, 0.17044663429260254, 1.0721615552902222, 2.0165913105010986, -0.2168872058391571, -1.557775616645813, -0.5280806422233582, 3.2486817836761475, 0.23788604140281677, 2.3524980545043945, -0.3361564576625824, -0.6366797089576721, 0.9167736172676086, -1.071155071258545, 0.22712257504463196, 0.6441980004310608, -1.0994749069213867, 0.9641222953796387, 0.009382528252899647, 0.4337722361087799, -0.12170570343732834, 0.6797621250152588, 0.1238657608628273, 2.3005197048187256, 0.7220883965492249, 0.0947985053062439, -0.08347342908382416, 0.12057165056467056, 0.3731968402862549, -1.1803865432739258, -1.0451611280441284, 1.3763272762298584, -1.165819525718689, -0.1776367574930191, 0.6297743916511536, -1.3649883270263672, 0.7767422199249268, -1.1246618032455444, -2.0897834300994873, 1.8494491577148438, 1.2466775178909302, 2.8203985691070557, -1.4224530458450317, -0.08572890609502792, -0.8995333313941956, -1.6353665590286255, -1.73525071144104, -0.043196901679039, 0.8012198209762573, -0.23959508538246155, 0.20221289992332458, 1.227909803390503, 0.2995922267436981, 3.2317540645599365, 0.2630252242088318, 1.1596157550811768, 1.308019757270813, -1.6360232830047607, -0.7722585797309875, -2.2696785926818848, 0.014629087410867214, 0.31096351146698, -1.3617839813232422, -1.5524842739105225, -0.0659010261297226, -0.6284204721450806, 2.2422239780426025, -0.2968413829803467, -2.1326818466186523, 1.696124792098999, -0.1282128095626831, 1.6103816032409668, 1.3245409727096558, 2.2986955642700195, -0.2934364080429077, -0.23435808718204498, -1.4140722751617432, -0.23284825682640076, 0.5823257565498352, 0.9208784699440002, -0.9939907193183899, -0.9997898936271667, 0.7185884714126587, -1.0107113122940063, -0.6741468906402588, 0.7806190848350525, 0.5087801814079285, -0.027951883152127266, 0.35714107751846313, 0.6043812036514282, 0.2158823162317276, -1.2169256210327148, 1.1054656505584717, 0.5571381449699402, 0.3914332091808319, 1.693942904472351, 4.03026819229126, -0.8618470430374146, 0.6048383116722107, -0.009611191228032112, -0.01791338063776493, -0.4670518934726715, 0.0928545594215393, -2.008580446243286, -1.4401700496673584, -1.9237735271453857, 0.14573664963245392, 2.8707728385925293, 0.44274282455444336, -0.8720487356185913, 0.6239843964576721, -1.0144829750061035, -1.7543286085128784, -0.032571446150541306, 0.2239883542060852, -2.568169593811035, -0.1793370097875595, -1.3925979137420654, 0.3466074764728546, 1.3914015293121338, -1.2818615436553955, 2.0139849185943604, 0.3626452088356018, 0.6565704345703125, -0.8594457507133484, -1.0829592943191528, 0.3886825442314148, -0.30029040575027466, -0.021971557289361954, 0.6769111752510071, 0.4784974157810211, 1.1445097923278809, 0.7806258797645569, -0.8941246271133423, 0.23260296881198883, 0.42211079597473145, -2.3532583713531494, 0.23068249225616455, -1.220915675163269, -0.2708607017993927, -1.297187328338623, 1.8522006273269653, -0.6090080738067627, 0.7578305006027222, -1.8306807279586792, 0.3734475076198578, -0.47221195697784424, -0.21042178571224213, 0.01777729019522667, -0.039462797343730927, 1.2244315147399902, 0.18644781410694122, -0.9678990244865417, 2.4706687927246094, -0.4469166696071625, -0.018084676936268806, 0.5350438952445984, -1.3676395416259766, -1.067328929901123, 2.1681830883026123, -0.23028092086315155, -0.21185089647769928, -0.10532272607088089, 0.9574689269065857, 0.07935645431280136, 0.354050874710083, 0.3594672381877899, 0.5717818140983582, -0.13730382919311523, -0.3806294798851013, 0.12964271008968353, -0.4673038423061371, -0.145110622048378, -0.7791060209274292, 0.685276448726654, 0.35916954278945923, 1.1027491092681885, -2.1768383979797363, 1.451756477355957, 1.240344762802124, 2.210881471633911, 1.1554834842681885, -1.1304385662078857, 0.7256036400794983, 0.9868599772453308, -0.14852085709571838, -0.43774378299713135, 0.5004658102989197, -0.03686048462986946, 0.40495285391807556, 0.1791606992483139, 0.6604298949241638, -2.203395128250122, -0.4567612409591675, 1.3097002506256104, 0.7990941405296326, 0.8412448763847351, 0.7342526912689209, 0.4023292660713196, 0.9487675428390503, -0.696376621723175, 2.1704530715942383, -0.20472562313079834, -0.4577740430831909, -0.04947694391012192, -0.1980319768190384, -1.1199870109558105, -2.9872217178344727, -0.03830549493432045, -1.3239532709121704, 0.5652564764022827, 0.06469354033470154, -0.8302169442176819, -0.1717854142189026, 0.08060676604509354, -2.0318479537963867, 0.36788833141326904, 0.85601407289505, -0.8920409083366394, 0.594792902469635, 0.45641961693763733, 1.0627042055130005, 1.4841004610061646, 0.6893281936645508, 0.4237388074398041, -0.8595486283302307, -1.6100267171859741, -0.027234382927417755, 1.6176552772521973, 1.7457339763641357, 1.1463773250579834, 0.37242329120635986, 0.02631375752389431, -0.7187686562538147, -1.263964056968689, 1.0081861019134521, -1.554918885231018, -1.146366000175476, -1.0056235790252686, 0.775234580039978, -1.3145418167114258, 2.2568438053131104, -0.14915695786476135, -0.7789419293403625, -1.3907159566879272, -1.7698101997375488, 0.9950063228607178, 0.6571480631828308, -1.1530362367630005, 2.4110617637634277, 0.2999206483364105, -1.0925637483596802, -2.288210153579712, -2.727851629257202, -1.677147626876831, -0.026376331225037575, -0.33816444873809814, 0.13382594287395477, -1.005602240562439, -0.4563978910446167, -1.6629034280776978, -0.7539506554603577, -0.959452211856842, -1.038719892501831, -0.4925864040851593, -0.6654943823814392, 3.171684980392456, -1.3040478229522705, 0.048042502254247665, 0.18500052392482758, -0.1734861433506012, 0.9853323698043823, 0.5877352952957153, -1.1711865663528442, -0.27766701579093933, -1.4372687339782715, 0.19774487614631653, 1.2170896530151367, -1.032438039779663, -1.1477711200714111, 0.46372461318969727, 0.8437442779541016, -2.838454484939575, -0.46241670846939087, 0.4478560984134674, -0.4550175964832306, -0.5866076350212097, -0.9767305254936218, 0.5239473581314087, -0.5314043164253235, -0.3185121715068817, -1.279670238494873, -0.06061508506536484, -0.522818386554718, -0.6922284960746765, -1.6743780374526978, -1.7268307209014893, 0.4324771761894226, -1.2107449769973755, 2.7914915084838867, -2.4910192489624023, 1.0538331270217896, 1.382916808128357, 1.343658208847046, 0.5583546757698059, 0.10410035401582718, -0.6283398866653442, -0.7062835097312927, -0.013911981135606766, -0.7713649272918701, 0.18694691359996796, -0.5859555006027222, 0.8657715916633606, 0.12635768949985504, -0.2055479735136032, -1.159298300743103, -0.057651035487651825, -0.03529173880815506, 0.18405021727085114, -0.5659294724464417, 0.8418452143669128, -0.2808603048324585, 1.4872492551803589, 0.20429547131061554, -0.5326262712478638, -0.6712343096733093, -0.40274831652641296, -0.8357850313186646, 2.1758198738098145, 1.1756588220596313, 0.4163286089897156, -0.7265905737876892, 0.2552841901779175, -1.5758295059204102, 1.310055136680603, -0.36183273792266846, 0.23842567205429077, -0.2901274859905243, -1.043302059173584, -0.41523435711860657, -0.12201723456382751, 2.0586769580841064, 1.2341326475143433, -0.8182824850082397, -1.3512767553329468, -1.448801875114441, -0.8846361041069031, -0.5828050971031189, 0.4603705406188965, 0.133805051445961, 0.14410272240638733, 0.15417315065860748, 0.8320304155349731, 1.5895922183990479, 0.6860204339027405, 1.2383673191070557, 1.2074933052062988, 0.42142269015312195, -0.14751994609832764, 0.6776024699211121, 0.379736065864563, 0.2006378024816513, 0.4876546561717987, 0.07587439566850662, 2.183091878890991, 0.8434053063392639, 1.738973617553711, 0.1766313761472702, 2.26761531829834, 0.46709758043289185, 0.507642924785614, 0.2866148352622986, -0.0411108061671257, -0.3741059899330139, 0.21214957535266876, -0.8669005632400513, -1.1380321979522705, -0.4456770122051239, -0.8466521501541138, 0.459712415933609, 0.44580790400505066, -0.6418056488037109, -0.490276962518692, 0.9700050950050354, -0.14245067536830902, 0.7563745379447937, 1.0696831941604614, -1.2831023931503296, 1.3799781799316406, 0.6695606112480164, 0.9274729490280151, 1.4658945798873901, 0.03120153583586216, -0.7180547714233398, 0.10773296654224396, 0.15342730283737183, 0.29059600830078125, -0.3969208002090454, 0.2063961625099182, -0.39313504099845886, -0.6163569688796997, -0.645343542098999, -0.37514159083366394, 0.8014464974403381, 1.5594838857650757, -0.39370816946029663, -2.260619640350342, -0.40356603264808655, 2.0663740634918213, -0.7157405614852905, 2.6300346851348877, 1.6823688745498657, -0.15470752120018005, -0.9675626158714294, 1.2311208248138428, -0.23744109272956848, 1.36382257938385, 2.118056535720825, -0.8335788249969482, -0.279751181602478, -0.9376574158668518, -1.0423260927200317, -0.6343979835510254, -0.12088436633348465, 0.008395588025450706, -1.3672125339508057, -0.01894478127360344, -1.5081241130828857, -0.7615114450454712, 0.18805702030658722, 1.2685080766677856, 1.2760294675827026, -0.6908986568450928, 0.05885867401957512, -1.5442644357681274, -0.42367857694625854, -0.410408616065979, 1.7148951292037964, 1.5445687770843506, -0.4981289505958557, -0.4410940408706665, 0.5341336727142334, -0.9050541520118713, -0.925483226776123, 0.8360751867294312, 0.4045014977455139, -1.6372854709625244, 1.0809893608093262, 0.5126059651374817, -0.16418495774269104, 1.2920069694519043, -1.3858287334442139, 1.384539008140564, -0.17802134156227112, 2.942164421081543, -0.4169856607913971, 1.176095962524414, 0.5098087787628174, 0.1714182049036026, -1.1292983293533325, 0.731891930103302, 1.4675475358963013, -0.8678568005561829, -1.2651445865631104, -3.347918748855591, 0.5703863501548767, 0.016664845868945122, -0.47205621004104614, -0.24806775152683258, 0.02137906849384308, -0.2800142168998718, 0.48523110151290894, 0.30059537291526794, -0.9443036913871765, 3.473763942718506, -1.2274010181427002, -1.8374942541122437, -0.2694578766822815, 0.3740314543247223, -0.13167382776737213, 0.520161509513855, 0.39346906542778015, -1.1307426691055298, -0.5152186751365662, -1.2782714366912842, -1.2117457389831543, -0.9887593388557434, -0.42223060131073, -0.03046060912311077, 0.6049502491950989, -1.2420356273651123, 0.30004528164863586, 1.663449764251709, -1.0392543077468872, 0.15858420729637146, -1.205508828163147, -0.776085615158081, 0.31054580211639404, -0.7278246283531189, 0.31475475430488586, -0.06803543865680695, 1.20121431350708, 3.234245777130127, 1.4772037267684937, 1.0287445783615112, 0.19189608097076416, -0.9299654960632324, -1.6734287738800049, -2.489417791366577, -1.0440350770950317, 0.5721915364265442, -0.32961568236351013, -0.9304765462875366, -1.4138621091842651, 0.03808760643005371, 0.8154554963111877, -0.7334030270576477, -0.25023481249809265, -0.08531668037176132, 1.5094853639602661, 0.6401838660240173, -0.7882950305938721, 1.1047208309173584, -0.09116857498884201, -0.9711673855781555, -0.7607477307319641, -0.5181795954704285, 1.0258244276046753, 0.8280074000358582, -2.2811713218688965, 1.1319159269332886, 3.1197543144226074, -0.035735104233026505, -1.0913681983947754, 1.41124427318573, -1.5241203308105469, -0.881081759929657, -0.782621443271637, 0.31888049840927124, 1.9864718914031982, -0.8942345380783081, 0.0035995948128402233, -1.3212543725967407, -0.3462154269218445, -0.3068556487560272, 1.0065723657608032, 0.6472314596176147, 0.6610209941864014, -0.46933311223983765, -0.7767510414123535, -0.3473629355430603, 0.06419766694307327, 0.03943620249629021, 0.17911885678768158, -0.13158631324768066, -1.8213318586349487, -0.030976172536611557, 1.5422006845474243, -0.3080684542655945, -1.3330333232879639, 0.4548274874687195, -1.1692278385162354, 0.005511362571269274, 0.16122093796730042, -1.9084450006484985, 1.0206331014633179, 0.48291319608688354, -0.0935402661561966, -1.7688512802124023, -0.001305828453041613, -0.36670801043510437, -0.5699772238731384, -0.023718461394309998, 0.31411823630332947, -0.8718304634094238, 0.5685160756111145, -0.3873043358325958, -0.8131247162818909, 0.7541214823722839, -0.012646222487092018, 1.5243847370147705, 0.09366555511951447, -0.1409522444009781, 0.07984473556280136, -1.4568990468978882, -0.47191959619522095, -0.8146174550056458, -0.8407600522041321, -0.911548912525177, 1.1330227851867676, -1.4234471321105957, -3.044429302215576, -1.2060259580612183, 1.7180113792419434, 1.6438679695129395, -0.6310417652130127, -1.51475191116333, -0.2740626335144043, 0.3697393536567688, -1.31107497215271, 0.7668107151985168, -1.5414550304412842, 1.0441197156906128, -0.6643202304840088, 0.12004321813583374, -2.0509555339813232, 1.2676260471343994, -0.7584226131439209, -0.5739882588386536, -1.006962537765503, 0.9777328372001648, 0.45240822434425354, 1.2405489683151245, -0.7752062678337097, -0.17722053825855255, -1.9286481142044067, -0.4434884488582611, 2.0110092163085938, -0.24052321910858154, -1.6059527397155762, -0.05507665500044823, -1.4428249597549438, 2.2048394680023193, 0.9872313141822815, 0.136018767952919, -0.8583068251609802, -1.2227249145507812, -1.7548664808273315, 0.11080336570739746, 0.5442447662353516, -0.33928966522216797, -0.5475814342498779, 1.1614530086517334, -0.3893033266067505, -1.081904649734497, -0.17691995203495026, 0.5910095572471619, -1.0207983255386353, 0.5896743535995483, -0.18698260188102722, 0.6722298264503479, -0.3693086504936218, -1.6632208824157715, -0.022705858573317528, -0.4776102602481842, 2.3191616535186768, -0.24319644272327423, -0.20111671090126038, 0.0312325619161129, -1.1542714834213257, -0.39960184693336487, -1.161465048789978, -1.703795313835144, -0.33865201473236084, -0.7282318472862244, 1.4932465553283691, 1.2572803497314453, -0.3336258828639984, 0.4991355538368225, -0.15471813082695007, 0.6249266862869263, 1.1612768173217773, -0.6992554068565369, 0.5500759482383728, -0.4796016216278076, 0.16929687559604645, 0.8382710814476013, 2.9753940105438232, 0.36556383967399597, 1.1757314205169678, 2.392254114151001, -0.46436870098114014, 0.9408596158027649, 1.0863510370254517, 1.4097354412078857, 3.2959065437316895, 2.6999671459198, 1.1838223934173584, -0.6020357012748718, -0.008778216317296028, 0.39253267645835876, 1.5479135513305664, -0.7241005897521973, 1.3418647050857544, 0.9244347214698792, -0.4607565701007843, 0.5440405607223511, 0.8087062239646912, 0.7860392332077026, 0.8896995186805725, -0.37689894437789917, 0.27480486035346985, 0.37052714824676514, 0.6515002846717834, -0.5824905633926392, 0.06662827730178833, 0.741926908493042, 2.05187726020813, -0.6309682130813599, -0.9321950078010559, -2.791930675506592, -1.5908032655715942, -0.5778728723526001, 1.7191826105117798, -0.3012630045413971, -0.42696520686149597, -0.31555044651031494, 0.6193174719810486, 0.253994882106781, 0.9043737053871155, -0.5610654950141907, -0.8806163668632507, 0.8772504925727844, 0.3720938265323639, -0.6022207140922546, 2.0338006019592285, 0.7208506464958191, -1.3789972066879272, -0.7174793481826782, 0.7791697382926941, -1.0525641441345215, 0.7384520769119263, 1.1731311082839966, 0.5003645420074463, -0.7906344532966614, -0.9141460657119751, -0.5097338557243347, -1.8871150016784668, -0.5600277185440063, -2.449833869934082, -0.13775260746479034, 0.05353820323944092, -0.3150630593299866, 2.1985838413238525, -0.40981215238571167, 0.1585736721754074, -0.8974375128746033, 1.6137598752975464, 2.778660774230957, -0.8139442205429077, -0.36305347084999084, 0.21007312834262848, -1.4610769748687744, 2.3475778102874756, -0.7172446250915527, 0.1002182886004448, -1.8828575611114502, -0.421150267124176, -0.8147149085998535, 1.1839120388031006, 2.05757212638855, 1.020318627357483, 0.46662479639053345, 0.5681619644165039, -0.644380509853363, -0.33439961075782776, 0.35515838861465454, -0.12177500128746033, 0.5743314623832703, -1.903298258781433, -0.6873733401298523, 1.5465668439865112, 1.25054931640625, -1.062282681465149, -1.338850736618042, -1.630113124847412, -0.35194048285484314, -0.20256659388542175, 1.0548527240753174, 0.3577997088432312, 1.05586838722229, -0.7896650433540344, 2.0763022899627686, 0.5528177618980408, 3.264267921447754, 0.25067198276519775, 2.0617411136627197, 0.7069408893585205, 0.7965157628059387, -1.9110393524169922, 0.9891490936279297, -0.46029993891716003, -0.7424955368041992, -0.8476512432098389, -0.6189992427825928, 0.4793742299079895, -0.33479899168014526, 0.7297033667564392, -0.6882568597793579, 0.46187421679496765, -1.0246689319610596, -1.1937975883483887, 1.6306054592132568, 3.172713279724121, -0.5115421414375305, 0.13374386727809906, -0.04995664954185486, 0.1367797553539276, -0.9750610589981079, -0.1151442676782608, -1.1160058975219727, -1.4531995058059692, 0.10224669426679611, -0.42814674973487854, 0.2410784214735031, -0.002430952852591872, -0.6734176278114319, 0.43033283948898315, 1.362091302871704, -0.7347103953361511, -0.961600661277771, -0.9546721577644348, 2.271117687225342, -1.2521674633026123, -0.32891350984573364, -0.015278013423085213, 2.158189058303833, -0.9861127138137817, 0.04917178675532341, 0.5749328136444092, -0.4788562059402466, 2.071183204650879, -0.44831714034080505, 0.506081223487854, 0.06888557970523834, -0.32115277647972107, -1.1217451095581055, -0.9719356894493103, -1.2849539518356323, -0.04811771586537361, -0.9553149938583374, 0.5608696937561035, -1.4051144123077393, 0.9617113471031189, 0.20054689049720764, -0.5012388229370117, 1.1213680505752563, 1.3550184965133667, 1.7021965980529785, 0.4176720678806305, -0.7378714084625244, -1.4191651344299316, -0.17212380468845367, 0.329449325799942, -0.039809562265872955, 1.3197530508041382, 1.3365877866744995, 2.4197704792022705, 0.9403441548347473, 2.4908313751220703, -0.7737460732460022, -3.3828210830688477, 0.6054335236549377, -0.6838341951370239, 0.15656502544879913, -0.13671010732650757, 0.09072406589984894, 0.32714253664016724, 0.6885672807693481, 0.794308066368103, -1.3029744625091553, 0.8775887489318848, 0.2437056303024292, -1.5348600149154663, 0.4423248767852783, -0.2829563319683075, -0.6566343903541565, 0.2100025862455368, 2.7822043895721436, -1.6314996480941772, -0.08889896422624588, 0.33537349104881287, 0.14173847436904907, -3.366445541381836, -0.03786406293511391, -0.8505576252937317, 0.6419478058815002, -0.8851900100708008, 0.6533448696136475, -0.3906058371067047, 0.3522728681564331, 0.07710538059473038, 0.9254698157310486, 0.4920690357685089, 0.9628422856330872, -0.6009699702262878, 1.3678650856018066, 2.333246946334839, -1.7526625394821167, 0.5930406451225281, 0.6646171808242798, -2.0947749614715576, -0.4587474763393402, -0.9632525444030762, -1.0164432525634766, -0.4777888357639313, -0.07662469893693924, -0.2949535846710205, -0.2485392838716507, -0.9373834133148193, 0.6769943833351135, 0.5760776996612549, -0.5793992280960083, -1.3082157373428345, -0.7042815685272217, -0.5013891458511353, 0.6515743732452393, 1.293380618095398, 0.13451717793941498, 0.5730065107345581, 0.09254835546016693, 0.7414200901985168, -0.0005400018999353051, -0.7116589546203613, -1.638574481010437, 0.5600993633270264, 1.1171540021896362, -0.5770618915557861, 0.7607896327972412, -0.350301057100296, -0.3843860626220703, -1.2499955892562866, 1.2751518487930298, 0.6470494270324707, -0.2888840138912201, -2.317317008972168, -0.9212180376052856, 0.09017113596200943, 0.32260334491729736, -0.49243688583374023, 0.1814441680908203, 1.7735235691070557, 1.1586239337921143, -1.010502576828003, -0.2599748373031616, -1.4544236660003662, -1.744780421257019, 0.3868614733219147, 1.085290551185608, -0.9832127690315247, -0.261565625667572, -0.03666681796312332, 1.4487032890319824, -0.33408212661743164, -0.8780574202537537, -0.19699527323246002, 0.8237802386283875, 1.4097038507461548, -0.7918151617050171, 1.0670222043991089, 3.0839736461639404, 0.39883196353912354, -0.2896329462528229, -0.34895068407058716, 0.5424874424934387, -0.7477230429649353, 2.8250346183776855, -1.7041497230529785, 0.4676300883293152, -0.7669726610183716, -0.7961184978485107, 4.155720233917236, -1.948810338973999, 0.17606408894062042, 0.21072731912136078, 2.0011651515960693, -0.29449430108070374, 0.7776309847831726, 1.1220028400421143, -1.1629793643951416, -1.9936753511428833, -0.35140126943588257, -1.8300913572311401, 1.126516342163086, -0.5081421136856079, 2.2983310222625732, 0.4171190857887268, 0.9290139675140381, 0.11252439767122269, 1.5498079061508179, -0.876628577709198, 0.6818791627883911, -0.4680296778678894, -0.7814258337020874, 0.8931896686553955, 0.37447795271873474, 0.9754586815834045, -1.3976318836212158, 0.9130710363388062, 0.7789010405540466, -2.513139247894287, -0.5901921987533569, -1.5942329168319702, 0.5172237157821655, -1.4570831060409546, 0.5071037411689758, -0.6730769872665405, 0.16557224094867706, 0.3796808123588562, 0.09560848772525787, 0.002810630016028881, 0.484285444021225, 0.7190091609954834, 0.8853265643119812, 0.8159787058830261, -0.010245602577924728, 0.1252375841140747, -0.7663404941558838, -1.205494999885559, 2.836360216140747, -0.5854634046554565, -0.902622401714325, 0.49533453583717346, -0.9259392619132996, -3.672229051589966, -0.7153276205062866, -1.0561310052871704, 0.7359954118728638, -0.7036019563674927, -0.3597634434700012, -2.0166852474212646, 2.045283079147339, 1.5371397733688354, -1.3835670948028564, -0.9364202618598938, 2.2214713096618652, 0.9796429872512817, 1.9638887643814087, 0.5476604700088501, -0.24850110709667206, -0.37686195969581604, 1.2641817331314087, -0.6986047029495239, 1.9660229682922363, -0.8217411041259766, -0.902472198009491, -0.9254041910171509, 0.9410346150398254, 0.7072473168373108, 0.4835759103298187, 2.100761890411377, -0.9867705702781677, -1.0833983421325684, 0.2911544144153595, 0.6840507388114929, -0.9156249761581421, -1.411375641822815, -0.4137234687805176, -0.1724899858236313, 0.020919840782880783, 0.8942340016365051, 2.2946341037750244, -0.33031392097473145, 0.191151425242424, -0.35360345244407654, 2.6157069206237793, 4.113056182861328, 0.9402252435684204, -0.9404327273368835, -1.163752555847168, 0.056376222521066666, 0.19083955883979797, 1.5538135766983032, 0.9466474056243896, -2.7315335273742676, -0.6466032266616821, -1.530334711074829, -0.40549981594085693, -0.10047794878482819, 0.6011748313903809, -0.9525493383407593, 0.10149963945150375, -0.03770194947719574, 1.8162336349487305, 1.7833704948425293, 0.05213276296854019, 0.09118002653121948, -2.968951463699341, 1.1525543928146362, 0.6822279691696167, 2.0847268104553223, 0.8861015439033508, 0.07116962224245071, -0.47459667921066284, -0.3697669804096222, 0.728650689125061, -0.7588494420051575, -0.9302736520767212, 1.3304989337921143, -1.375897765159607, 3.0671417713165283, 1.6181445121765137, -0.701570451259613, 0.08833105862140656, -0.33994099497795105, -1.6501576900482178, 1.4458889961242676, 0.12562239170074463, 0.980838418006897, -1.7599079608917236, 0.43346109986305237, 0.4232337474822998, 1.0971635580062866, -0.8051220774650574, -1.2506897449493408, 0.26516756415367126, 0.08320339769124985, 1.7746728658676147, -1.1944853067398071, 1.0475472211837769, -0.469528466463089, 0.8488430380821228, -0.3529224991798401, 0.056176505982875824, 1.8587229251861572, 0.42614781856536865, 1.79641854763031, -1.0058692693710327, -1.3723372220993042, -0.40522974729537964, 1.3725930452346802, -1.0216095447540283, 0.5020541548728943, -0.3433322608470917, 1.9664579629898071, -0.343387246131897, -0.5590972900390625, 1.1202832460403442, -1.041953682899475, 1.453169822692871, 1.2855390310287476, -2.201890230178833, 0.8834555149078369, 3.1411521434783936, 0.4863339066505432, -2.1267924308776855, 0.9772518873214722, 0.4138633906841278, -0.015699082985520363, 1.403597116470337, 0.6364646553993225, 0.11639327555894852, 3.3391528129577637, -0.9976709485054016, -0.19516946375370026, 1.0687541961669922, 0.7712612152099609, -1.002856731414795, 1.3006818294525146, 1.7113701105117798, -2.2888498306274414, 0.08082990348339081, -0.9388424754142761, -0.04042118787765503, -0.5664985775947571, 0.731067955493927, -0.15966571867465973, -1.8980506658554077, 1.9187793731689453, 0.7948198914527893, 0.7097566723823547, 0.6260024309158325, 1.1258541345596313, -0.8877214789390564, 0.9640355110168457, -0.03649207949638367, 0.8102036118507385, 2.0006580352783203, -0.02049330621957779, -0.6652064919471741, -1.357167363166809, -0.4037016034126282, 0.6532345414161682, 0.8430400490760803, 2.590991258621216, 0.6131441593170166, 1.0138156414031982, -0.5303617715835571, -1.448366403579712, -1.0921109914779663, -0.6523705720901489, 3.2851481437683105, 0.7463358044624329, 0.6538384556770325, 1.2640873193740845, -0.13523128628730774, -1.7101396322250366, -0.318894624710083, -1.447453260421753, 0.7178705334663391, 0.2623831629753113, -0.6249595880508423, 0.24766159057617188, 2.4032416343688965, 0.3068840205669403, -1.215148687362671, -0.34008222818374634, 0.8432431817054749, -1.3470079898834229, -0.27122607827186584, 0.4367862641811371, 0.4097749888896942, -0.7254393100738525, 1.091641902923584, -0.5476658344268799, 0.1068534180521965, 1.0448286533355713, -0.8732408285140991, 0.7436196208000183, -0.345455527305603, -1.1099271774291992, -1.7676953077316284, 0.6039669513702393, -0.1689622551202774, -1.0341211557388306, 1.566240668296814, -0.08153412491083145, -0.07466476410627365, -2.1088619232177734, -1.2234537601470947, 0.6952828764915466, 0.5354117155075073, 0.1338198035955429, 1.9912943840026855, 0.726066529750824, 0.04223592206835747, 1.4709023237228394, -1.6248283386230469, -0.7446780204772949, -0.3298327326774597, -0.221697136759758, 0.8511195182800293, 2.5013582706451416, -0.5103087425231934, -0.5390676856040955, 0.8356764316558838, -1.2914602756500244, 0.7184904217720032, -1.1346830129623413, -0.385815292596817, -1.5836414098739624, -0.322513610124588, -1.0183162689208984, -1.8651326894760132, 0.6404244899749756, 2.5099780559539795, -0.11171846836805344, -1.0214589834213257, 1.3450103998184204, -0.0633891150355339, 0.7741436958312988, 0.3140227794647217, -1.3153499364852905, 0.3518591523170471, 1.49144446849823, -0.6054369211196899, 1.5427968502044678, -1.2813366651535034, 0.9981959462165833, 1.273076057434082, 0.23061268031597137, 1.8467538356781006, 1.6217288970947266, -2.5282516479492188, -1.3619991540908813, -0.6019293665885925, -0.10536445677280426, -0.9729669094085693, 0.07731899619102478, 0.21992884576320648, -1.3064703941345215, -0.8077594637870789, 2.05902361869812, 0.20543116331100464, 0.770102322101593, 0.40620851516723633, -0.32190990447998047, -0.2336060255765915, 0.3799302577972412, -0.2762986421585083, 0.9769668579101562, -0.42149999737739563, 0.95997154712677, -0.28246206045150757, -2.0771429538726807, 1.0355464220046997, 1.420441746711731, -0.38761743903160095, -2.2346346378326416, 0.7002782225608826, -0.02050592377781868, -0.6568111777305603, 2.245847702026367, 0.9942958950996399, -1.7643033266067505, -2.1306092739105225, 0.7538416981697083, -0.24694079160690308, -0.13046155869960785, 0.7391613125801086, -2.353581666946411, 0.9188348650932312, -1.4220013618469238, -0.3164956867694855, 0.5375986099243164, 0.7991839051246643, -0.9306685924530029, -1.0415661334991455, -0.8988836407661438, 0.5327528119087219, 0.6652320623397827, -1.422946572303772, -0.367684543132782, -1.4116346836090088, 1.4030389785766602, 1.2306329011917114, 0.8344439268112183, -0.4466504454612732, 0.13824398815631866, 0.7491921186447144, 1.0632835626602173, 1.9183942079544067, 0.6588520407676697, 0.09223579615354538, 2.1995620727539062, 0.2326720803976059, 1.3083515167236328, -0.45398828387260437, 1.4101544618606567, 2.104557514190674, 1.0455515384674072, -0.7104573249816895, 2.849635124206543, 0.15611359477043152, 0.4575209617614746, 0.1346747875213623, -0.5343547463417053, 0.41035208106040955, 1.1792078018188477, 1.3203752040863037, -1.686218023300171, 0.3902895152568817, 2.355177879333496, 2.040426015853882, -1.2910327911376953, -1.1391557455062866, -0.21157990396022797, -1.5962833166122437, 0.020371144637465477, 0.32783058285713196, 1.3058797121047974, 1.8998212814331055, 0.14468957483768463, 0.7189815640449524, 0.23175537586212158, -1.6464908123016357, -0.07276370376348495, 0.7012730240821838, -1.7574186325073242, 0.31532540917396545, -0.4833196997642517, -1.1559706926345825, 0.8851907253265381, 0.6033051013946533, -0.7647053599357605, 3.0269782543182373, 2.0206408500671387, -0.4730171859264374, -0.4891071319580078, 0.12338171899318695, -1.0723471641540527, -0.502291202545166, 1.2314605712890625, 1.208296775817871, -0.9614536762237549, -0.5648674964904785, -0.049186140298843384, -2.530564546585083, 0.578336238861084, 0.18301595747470856, -0.32405731081962585, 0.49833402037620544, -1.5062572956085205, 1.1229430437088013, 1.1013001203536987, -0.07545147091150284, -1.989578127861023, 1.1010187864303589, -0.2867810130119324, -0.4646962285041809, 0.1739513874053955, 1.2916239500045776, -1.005684494972229, -1.8972200155258179, 0.48807311058044434, 1.764067530632019, 0.8277718424797058, 0.42531245946884155, 0.5748070478439331, 1.8643749952316284, -1.1750303506851196, -0.02780613861978054, -0.49639594554901123, 0.7458667755126953, 0.22968325018882751, 0.010182411409914494, -1.805716633796692, -1.1091629266738892, 0.11092747002840042, -0.449323445558548, 1.2568212747573853, -0.49140939116477966, -2.2595317363739014, 0.028728069737553596, 0.3499375283718109, 0.014907687902450562], \"yaxis\": \"y\"}],\n",
              "                        {\"legend\": {\"itemsizing\": \"constant\", \"tracegroupgap\": 0}, \"margin\": {\"t\": 60}, \"template\": {\"data\": {\"bar\": [{\"error_x\": {\"color\": \"#2a3f5f\"}, \"error_y\": {\"color\": \"#2a3f5f\"}, \"marker\": {\"line\": {\"color\": \"white\", \"width\": 0.5}}, \"type\": \"bar\"}], \"barpolar\": [{\"marker\": {\"line\": {\"color\": \"white\", \"width\": 0.5}}, \"type\": \"barpolar\"}], \"carpet\": [{\"aaxis\": {\"endlinecolor\": \"#2a3f5f\", \"gridcolor\": \"#C8D4E3\", \"linecolor\": \"#C8D4E3\", \"minorgridcolor\": \"#C8D4E3\", \"startlinecolor\": \"#2a3f5f\"}, \"baxis\": {\"endlinecolor\": \"#2a3f5f\", \"gridcolor\": \"#C8D4E3\", \"linecolor\": \"#C8D4E3\", \"minorgridcolor\": \"#C8D4E3\", \"startlinecolor\": \"#2a3f5f\"}, \"type\": \"carpet\"}], \"choropleth\": [{\"colorbar\": {\"outlinewidth\": 0, \"ticks\": \"\"}, \"type\": \"choropleth\"}], \"contour\": [{\"colorbar\": {\"outlinewidth\": 0, \"ticks\": \"\"}, \"colorscale\": [[0.0, \"#0d0887\"], [0.1111111111111111, \"#46039f\"], [0.2222222222222222, \"#7201a8\"], [0.3333333333333333, \"#9c179e\"], [0.4444444444444444, \"#bd3786\"], [0.5555555555555556, \"#d8576b\"], [0.6666666666666666, \"#ed7953\"], [0.7777777777777778, \"#fb9f3a\"], [0.8888888888888888, \"#fdca26\"], [1.0, \"#f0f921\"]], \"type\": \"contour\"}], \"contourcarpet\": [{\"colorbar\": {\"outlinewidth\": 0, \"ticks\": \"\"}, \"type\": \"contourcarpet\"}], \"heatmap\": [{\"colorbar\": {\"outlinewidth\": 0, \"ticks\": \"\"}, \"colorscale\": [[0.0, \"#0d0887\"], [0.1111111111111111, \"#46039f\"], [0.2222222222222222, \"#7201a8\"], [0.3333333333333333, \"#9c179e\"], [0.4444444444444444, \"#bd3786\"], [0.5555555555555556, \"#d8576b\"], [0.6666666666666666, \"#ed7953\"], [0.7777777777777778, \"#fb9f3a\"], [0.8888888888888888, \"#fdca26\"], [1.0, \"#f0f921\"]], \"type\": \"heatmap\"}], \"heatmapgl\": [{\"colorbar\": {\"outlinewidth\": 0, \"ticks\": \"\"}, \"colorscale\": [[0.0, \"#0d0887\"], [0.1111111111111111, \"#46039f\"], [0.2222222222222222, \"#7201a8\"], [0.3333333333333333, \"#9c179e\"], [0.4444444444444444, \"#bd3786\"], [0.5555555555555556, \"#d8576b\"], [0.6666666666666666, \"#ed7953\"], [0.7777777777777778, \"#fb9f3a\"], [0.8888888888888888, \"#fdca26\"], [1.0, \"#f0f921\"]], \"type\": \"heatmapgl\"}], \"histogram\": [{\"marker\": {\"colorbar\": {\"outlinewidth\": 0, \"ticks\": \"\"}}, \"type\": \"histogram\"}], \"histogram2d\": [{\"colorbar\": {\"outlinewidth\": 0, \"ticks\": \"\"}, \"colorscale\": [[0.0, \"#0d0887\"], [0.1111111111111111, \"#46039f\"], [0.2222222222222222, \"#7201a8\"], [0.3333333333333333, \"#9c179e\"], [0.4444444444444444, \"#bd3786\"], [0.5555555555555556, \"#d8576b\"], [0.6666666666666666, \"#ed7953\"], [0.7777777777777778, \"#fb9f3a\"], [0.8888888888888888, \"#fdca26\"], [1.0, \"#f0f921\"]], \"type\": \"histogram2d\"}], \"histogram2dcontour\": [{\"colorbar\": {\"outlinewidth\": 0, \"ticks\": \"\"}, \"colorscale\": [[0.0, \"#0d0887\"], [0.1111111111111111, \"#46039f\"], [0.2222222222222222, \"#7201a8\"], [0.3333333333333333, \"#9c179e\"], [0.4444444444444444, \"#bd3786\"], [0.5555555555555556, \"#d8576b\"], [0.6666666666666666, \"#ed7953\"], [0.7777777777777778, \"#fb9f3a\"], [0.8888888888888888, \"#fdca26\"], [1.0, \"#f0f921\"]], \"type\": \"histogram2dcontour\"}], \"mesh3d\": [{\"colorbar\": {\"outlinewidth\": 0, \"ticks\": \"\"}, \"type\": \"mesh3d\"}], \"parcoords\": [{\"line\": {\"colorbar\": {\"outlinewidth\": 0, \"ticks\": \"\"}}, \"type\": \"parcoords\"}], \"pie\": [{\"automargin\": true, \"type\": \"pie\"}], \"scatter\": [{\"marker\": {\"colorbar\": {\"outlinewidth\": 0, \"ticks\": \"\"}}, \"type\": \"scatter\"}], \"scatter3d\": [{\"line\": {\"colorbar\": {\"outlinewidth\": 0, \"ticks\": \"\"}}, \"marker\": {\"colorbar\": {\"outlinewidth\": 0, \"ticks\": \"\"}}, \"type\": \"scatter3d\"}], \"scattercarpet\": [{\"marker\": {\"colorbar\": {\"outlinewidth\": 0, \"ticks\": \"\"}}, \"type\": \"scattercarpet\"}], \"scattergeo\": [{\"marker\": {\"colorbar\": {\"outlinewidth\": 0, \"ticks\": \"\"}}, \"type\": \"scattergeo\"}], \"scattergl\": [{\"marker\": {\"colorbar\": {\"outlinewidth\": 0, \"ticks\": \"\"}}, \"type\": \"scattergl\"}], \"scattermapbox\": [{\"marker\": {\"colorbar\": {\"outlinewidth\": 0, \"ticks\": \"\"}}, \"type\": \"scattermapbox\"}], \"scatterpolar\": [{\"marker\": {\"colorbar\": {\"outlinewidth\": 0, \"ticks\": \"\"}}, \"type\": \"scatterpolar\"}], \"scatterpolargl\": [{\"marker\": {\"colorbar\": {\"outlinewidth\": 0, \"ticks\": \"\"}}, \"type\": \"scatterpolargl\"}], \"scatterternary\": [{\"marker\": {\"colorbar\": {\"outlinewidth\": 0, \"ticks\": \"\"}}, \"type\": \"scatterternary\"}], \"surface\": [{\"colorbar\": {\"outlinewidth\": 0, \"ticks\": \"\"}, \"colorscale\": [[0.0, \"#0d0887\"], [0.1111111111111111, \"#46039f\"], [0.2222222222222222, \"#7201a8\"], [0.3333333333333333, \"#9c179e\"], [0.4444444444444444, \"#bd3786\"], [0.5555555555555556, \"#d8576b\"], [0.6666666666666666, \"#ed7953\"], [0.7777777777777778, \"#fb9f3a\"], [0.8888888888888888, \"#fdca26\"], [1.0, \"#f0f921\"]], \"type\": \"surface\"}], \"table\": [{\"cells\": {\"fill\": {\"color\": \"#EBF0F8\"}, \"line\": {\"color\": \"white\"}}, \"header\": {\"fill\": {\"color\": \"#C8D4E3\"}, \"line\": {\"color\": \"white\"}}, \"type\": \"table\"}]}, \"layout\": {\"annotationdefaults\": {\"arrowcolor\": \"#2a3f5f\", \"arrowhead\": 0, \"arrowwidth\": 1}, \"coloraxis\": {\"colorbar\": {\"outlinewidth\": 0, \"ticks\": \"\"}}, \"colorscale\": {\"diverging\": [[0, \"#8e0152\"], [0.1, \"#c51b7d\"], [0.2, \"#de77ae\"], [0.3, \"#f1b6da\"], [0.4, \"#fde0ef\"], [0.5, \"#f7f7f7\"], [0.6, \"#e6f5d0\"], [0.7, \"#b8e186\"], [0.8, \"#7fbc41\"], [0.9, \"#4d9221\"], [1, \"#276419\"]], \"sequential\": [[0.0, \"#0d0887\"], [0.1111111111111111, \"#46039f\"], [0.2222222222222222, \"#7201a8\"], [0.3333333333333333, \"#9c179e\"], [0.4444444444444444, \"#bd3786\"], [0.5555555555555556, \"#d8576b\"], [0.6666666666666666, \"#ed7953\"], [0.7777777777777778, \"#fb9f3a\"], [0.8888888888888888, \"#fdca26\"], [1.0, \"#f0f921\"]], \"sequentialminus\": [[0.0, \"#0d0887\"], [0.1111111111111111, \"#46039f\"], [0.2222222222222222, \"#7201a8\"], [0.3333333333333333, \"#9c179e\"], [0.4444444444444444, \"#bd3786\"], [0.5555555555555556, \"#d8576b\"], [0.6666666666666666, \"#ed7953\"], [0.7777777777777778, \"#fb9f3a\"], [0.8888888888888888, \"#fdca26\"], [1.0, \"#f0f921\"]]}, \"colorway\": [\"#636efa\", \"#EF553B\", \"#00cc96\", \"#ab63fa\", \"#FFA15A\", \"#19d3f3\", \"#FF6692\", \"#B6E880\", \"#FF97FF\", \"#FECB52\"], \"font\": {\"color\": \"#2a3f5f\"}, \"geo\": {\"bgcolor\": \"white\", \"lakecolor\": \"white\", \"landcolor\": \"white\", \"showlakes\": true, \"showland\": true, \"subunitcolor\": \"#C8D4E3\"}, \"hoverlabel\": {\"align\": \"left\"}, \"hovermode\": \"closest\", \"mapbox\": {\"style\": \"light\"}, \"paper_bgcolor\": \"white\", \"plot_bgcolor\": \"white\", \"polar\": {\"angularaxis\": {\"gridcolor\": \"#EBF0F8\", \"linecolor\": \"#EBF0F8\", \"ticks\": \"\"}, \"bgcolor\": \"white\", \"radialaxis\": {\"gridcolor\": \"#EBF0F8\", \"linecolor\": \"#EBF0F8\", \"ticks\": \"\"}}, \"scene\": {\"xaxis\": {\"backgroundcolor\": \"white\", \"gridcolor\": \"#DFE8F3\", \"gridwidth\": 2, \"linecolor\": \"#EBF0F8\", \"showbackground\": true, \"ticks\": \"\", \"zerolinecolor\": \"#EBF0F8\"}, \"yaxis\": {\"backgroundcolor\": \"white\", \"gridcolor\": \"#DFE8F3\", \"gridwidth\": 2, \"linecolor\": \"#EBF0F8\", \"showbackground\": true, \"ticks\": \"\", \"zerolinecolor\": \"#EBF0F8\"}, \"zaxis\": {\"backgroundcolor\": \"white\", \"gridcolor\": \"#DFE8F3\", \"gridwidth\": 2, \"linecolor\": \"#EBF0F8\", \"showbackground\": true, \"ticks\": \"\", \"zerolinecolor\": \"#EBF0F8\"}}, \"shapedefaults\": {\"line\": {\"color\": \"#2a3f5f\"}}, \"ternary\": {\"aaxis\": {\"gridcolor\": \"#DFE8F3\", \"linecolor\": \"#A2B1C6\", \"ticks\": \"\"}, \"baxis\": {\"gridcolor\": \"#DFE8F3\", \"linecolor\": \"#A2B1C6\", \"ticks\": \"\"}, \"bgcolor\": \"white\", \"caxis\": {\"gridcolor\": \"#DFE8F3\", \"linecolor\": \"#A2B1C6\", \"ticks\": \"\"}}, \"title\": {\"x\": 0.05}, \"xaxis\": {\"automargin\": true, \"gridcolor\": \"#EBF0F8\", \"linecolor\": \"#EBF0F8\", \"ticks\": \"\", \"title\": {\"standoff\": 15}, \"zerolinecolor\": \"#EBF0F8\", \"zerolinewidth\": 2}, \"yaxis\": {\"automargin\": true, \"gridcolor\": \"#EBF0F8\", \"linecolor\": \"#EBF0F8\", \"ticks\": \"\", \"title\": {\"standoff\": 15}, \"zerolinecolor\": \"#EBF0F8\", \"zerolinewidth\": 2}}}, \"xaxis\": {\"anchor\": \"y\", \"domain\": [0.0, 1.0], \"title\": {\"text\": \"x0\"}}, \"yaxis\": {\"anchor\": \"x\", \"domain\": [0.0, 1.0], \"title\": {\"text\": \"x1\"}}},\n",
              "                        {\"responsive\": true}\n",
              "                    ).then(function(){\n",
              "                            \n",
              "var gd = document.getElementById('a35a8cc6-878a-470c-b23c-b97d45ada785');\n",
              "var x = new MutationObserver(function (mutations, observer) {{\n",
              "        var display = window.getComputedStyle(gd).display;\n",
              "        if (!display || display === 'none') {{\n",
              "            console.log([gd, 'removed!']);\n",
              "            Plotly.purge(gd);\n",
              "            observer.disconnect();\n",
              "        }}\n",
              "}});\n",
              "\n",
              "// Listen for the removal of the full notebook cells\n",
              "var notebookContainer = gd.closest('#notebook-container');\n",
              "if (notebookContainer) {{\n",
              "    x.observe(notebookContainer, {childList: true});\n",
              "}}\n",
              "\n",
              "// Listen for the clearing of the current output cell\n",
              "var outputEl = gd.closest('.output');\n",
              "if (outputEl) {{\n",
              "    x.observe(outputEl, {childList: true});\n",
              "}}\n",
              "\n",
              "                        })\n",
              "                };\n",
              "                \n",
              "            </script>\n",
              "        </div>\n",
              "</body>\n",
              "</html>"
            ]
          },
          "metadata": {}
        }
      ]
    },
    {
      "cell_type": "markdown",
      "metadata": {
        "id": "IzYjT6VGz9TK"
      },
      "source": [
        "Cool, we made a word embedding! This embedding seems to have learned some reasonable associations. For example, we see that words like \"Someday\", \"Moment\", and \"Yesterday\" are relatively close to each other and usually fall under the \"night/time\" label. So are \"Dirt\", \"Ruin\", and \"Deny\", which are usually related to a \"sadness\" topic song."
      ]
    },
    {
      "cell_type": "code",
      "metadata": {
        "id": "fRPdQ8sk2IUP"
      },
      "source": [
        ""
      ],
      "execution_count": null,
      "outputs": []
    }
  ]
}