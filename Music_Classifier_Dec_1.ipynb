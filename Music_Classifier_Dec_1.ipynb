{
  "nbformat": 4,
  "nbformat_minor": 0,
  "metadata": {
    "colab": {
      "name": "Music Classifier Nov 16.ipynb",
      "provenance": [],
      "collapsed_sections": [],
      "include_colab_link": true
    },
    "kernelspec": {
      "name": "python3",
      "display_name": "Python 3"
    },
    "language_info": {
      "name": "python"
    },
    "accelerator": "GPU"
  },
  "cells": [
    {
      "cell_type": "markdown",
      "metadata": {
        "id": "view-in-github",
        "colab_type": "text"
      },
      "source": [
        "<a href=\"https://colab.research.google.com/github/jiahao303/music-classifier/blob/main/Music_Classifier_Dec_1.ipynb\" target=\"_parent\"><img src=\"https://colab.research.google.com/assets/colab-badge.svg\" alt=\"Open In Colab\"/></a>"
      ]
    },
    {
      "cell_type": "markdown",
      "metadata": {
        "id": "Jn0fLy2QgX0x"
      },
      "source": [
        "# Music Classifier Step 3: Tensorflow Datasets"
      ]
    },
    {
      "cell_type": "code",
      "metadata": {
        "id": "frFtCOMNgWzi"
      },
      "source": [
        "import numpy as np\n",
        "import pandas as pd\n",
        "import tensorflow as tf\n",
        "import re\n",
        "import string\n",
        "\n",
        "from tensorflow.keras import layers\n",
        "from tensorflow.keras import losses\n",
        "\n",
        "from tensorflow.keras.layers.experimental.preprocessing import TextVectorization\n",
        "from tensorflow.keras.layers.experimental.preprocessing import StringLookup\n",
        "from tensorflow import keras\n",
        "\n",
        "\n",
        "from sklearn.model_selection import train_test_split\n",
        "from sklearn.preprocessing import LabelEncoder\n",
        "\n",
        "# for embedding viz\n",
        "import plotly.express as px \n",
        "import plotly.io as pio\n",
        "pio.templates.default = \"plotly_white\""
      ],
      "execution_count": 3,
      "outputs": []
    },
    {
      "cell_type": "markdown",
      "metadata": {
        "id": "gSd_fFAI6aym"
      },
      "source": [
        "First, we read in the data downloaded from Kaggle and get an inspection on one of the lyrics."
      ]
    },
    {
      "cell_type": "code",
      "metadata": {
        "id": "Gh9jT5prhzFg"
      },
      "source": [
        "\n",
        "url = 'https://raw.githubusercontent.com/jiahao303/music-classifier/main/tcc_ceds_music.csv'\n",
        "\n",
        "df = pd.read_csv(url)"
      ],
      "execution_count": 4,
      "outputs": []
    },
    {
      "cell_type": "code",
      "metadata": {
        "colab": {
          "base_uri": "https://localhost:8080/",
          "height": 86
        },
        "id": "zz5cxFImgzxI",
        "outputId": "8f3f07ab-975e-4f13-8f6b-56df3edd30ba"
      },
      "source": [
        "\n",
        "df = df.drop(\"Unnamed: 0\", axis =1)\n",
        "df.at[5,\"lyrics\"]"
      ],
      "execution_count": 5,
      "outputs": [
        {
          "output_type": "execute_result",
          "data": {
            "application/vnd.google.colaboratory.intrinsic+json": {
              "type": "string"
            },
            "text/plain": [
              "'convoy light dead ahead merchantmen trump diesels hammer oily kill grind knuckle white eye alight slam hatch deadly night cunning chicken lair hound hell devil care run silent run deep final prayer warriors secret sleep merchantman nightmare silent death lie wait run silent run deep sink final sleep chill hearts fight open ocean wonder lethal silver fish boat shiver cast millions play killer victim fool obey order rehearse lifeboat shatter hull tear black smell burn jones eye watch crosswire tube ready medal chest weeks dead like rest run silent run deep final prayer warriors secret sleep merchantman nightmare'"
            ]
          },
          "metadata": {},
          "execution_count": 5
        }
      ]
    },
    {
      "cell_type": "markdown",
      "metadata": {
        "id": "_wOh8qj1g6zh"
      },
      "source": [
        "We found that most of the neutral words such as pronouns (i.e. we, you, I) and auxiliaries are omitted since they have no use for the sentiment identifying.\n",
        "\n",
        "Also, we want to focus on music that are recently released, so we filter out the songs released before 2000."
      ]
    },
    {
      "cell_type": "code",
      "metadata": {
        "id": "Q883p112UMlS"
      },
      "source": [
        "df = df[df[\"release_date\"] > 2000]"
      ],
      "execution_count": 6,
      "outputs": []
    },
    {
      "cell_type": "markdown",
      "metadata": {
        "id": "G2ADdARahGB7"
      },
      "source": [
        "Now we get the dataframe resorted and only keep the lyrics column and the sentiment/topic column."
      ]
    },
    {
      "cell_type": "code",
      "metadata": {
        "colab": {
          "base_uri": "https://localhost:8080/",
          "height": 419
        },
        "id": "RgPLI_hPhFTL",
        "outputId": "b5acd952-72c2-48a5-ae53-fa84937c190e"
      },
      "source": [
        "sentiment = df[[\"lyrics\", \"topic\"]]\n",
        "sentiment"
      ],
      "execution_count": 6,
      "outputs": [
        {
          "output_type": "execute_result",
          "data": {
            "text/html": [
              "<div>\n",
              "<style scoped>\n",
              "    .dataframe tbody tr th:only-of-type {\n",
              "        vertical-align: middle;\n",
              "    }\n",
              "\n",
              "    .dataframe tbody tr th {\n",
              "        vertical-align: top;\n",
              "    }\n",
              "\n",
              "    .dataframe thead th {\n",
              "        text-align: right;\n",
              "    }\n",
              "</style>\n",
              "<table border=\"1\" class=\"dataframe\">\n",
              "  <thead>\n",
              "    <tr style=\"text-align: right;\">\n",
              "      <th></th>\n",
              "      <th>lyrics</th>\n",
              "      <th>topic</th>\n",
              "    </tr>\n",
              "  </thead>\n",
              "  <tbody>\n",
              "    <tr>\n",
              "      <th>4843</th>\n",
              "      <td>yeah thinkin thoughts mind gonna finger gonna ...</td>\n",
              "      <td>obscene</td>\n",
              "    </tr>\n",
              "    <tr>\n",
              "      <th>4844</th>\n",
              "      <td>want learn reach grab cause everybody want bab...</td>\n",
              "      <td>obscene</td>\n",
              "    </tr>\n",
              "    <tr>\n",
              "      <th>4845</th>\n",
              "      <td>head head head head head head head head head h...</td>\n",
              "      <td>violence</td>\n",
              "    </tr>\n",
              "    <tr>\n",
              "      <th>4846</th>\n",
              "      <td>mechakucha odotte sawago sawago headbanger yea...</td>\n",
              "      <td>obscene</td>\n",
              "    </tr>\n",
              "    <tr>\n",
              "      <th>4847</th>\n",
              "      <td>want come cause room drink half beer right thi...</td>\n",
              "      <td>night/time</td>\n",
              "    </tr>\n",
              "    <tr>\n",
              "      <th>...</th>\n",
              "      <td>...</td>\n",
              "      <td>...</td>\n",
              "    </tr>\n",
              "    <tr>\n",
              "      <th>28367</th>\n",
              "      <td>cause fuck leave scar tick tock clock come kno...</td>\n",
              "      <td>obscene</td>\n",
              "    </tr>\n",
              "    <tr>\n",
              "      <th>28368</th>\n",
              "      <td>minks things chain ring braclets yap fame come...</td>\n",
              "      <td>obscene</td>\n",
              "    </tr>\n",
              "    <tr>\n",
              "      <th>28369</th>\n",
              "      <td>get ban get ban stick crack relax plan attack ...</td>\n",
              "      <td>obscene</td>\n",
              "    </tr>\n",
              "    <tr>\n",
              "      <th>28370</th>\n",
              "      <td>check check yeah yeah hear thing call switch g...</td>\n",
              "      <td>obscene</td>\n",
              "    </tr>\n",
              "    <tr>\n",
              "      <th>28371</th>\n",
              "      <td>remix killer alive remix thriller trap bitch s...</td>\n",
              "      <td>obscene</td>\n",
              "    </tr>\n",
              "  </tbody>\n",
              "</table>\n",
              "<p>10029 rows × 2 columns</p>\n",
              "</div>"
            ],
            "text/plain": [
              "                                                  lyrics       topic\n",
              "4843   yeah thinkin thoughts mind gonna finger gonna ...     obscene\n",
              "4844   want learn reach grab cause everybody want bab...     obscene\n",
              "4845   head head head head head head head head head h...    violence\n",
              "4846   mechakucha odotte sawago sawago headbanger yea...     obscene\n",
              "4847   want come cause room drink half beer right thi...  night/time\n",
              "...                                                  ...         ...\n",
              "28367  cause fuck leave scar tick tock clock come kno...     obscene\n",
              "28368  minks things chain ring braclets yap fame come...     obscene\n",
              "28369  get ban get ban stick crack relax plan attack ...     obscene\n",
              "28370  check check yeah yeah hear thing call switch g...     obscene\n",
              "28371  remix killer alive remix thriller trap bitch s...     obscene\n",
              "\n",
              "[10029 rows x 2 columns]"
            ]
          },
          "metadata": {},
          "execution_count": 6
        }
      ]
    },
    {
      "cell_type": "markdown",
      "metadata": {
        "id": "GWRrq0hBjtI0"
      },
      "source": [
        "Our task will be to teach an algorithm to classify lyrics by predicting the topic based on the text of the lyrics."
      ]
    },
    {
      "cell_type": "code",
      "metadata": {
        "colab": {
          "base_uri": "https://localhost:8080/",
          "height": 181
        },
        "id": "9PbKxFxWjhO7",
        "outputId": "cebbccb1-1b0d-4b6a-dbc4-44bc636000fd"
      },
      "source": [
        "sentiment.groupby(\"topic\").size()\n",
        "df.groupby(\"genre\")"
      ],
      "execution_count": 1,
      "outputs": [
        {
          "output_type": "error",
          "ename": "NameError",
          "evalue": "ignored",
          "traceback": [
            "\u001b[0;31m---------------------------------------------------------------------------\u001b[0m",
            "\u001b[0;31mNameError\u001b[0m                                 Traceback (most recent call last)",
            "\u001b[0;32m<ipython-input-1-76540a2dcf0d>\u001b[0m in \u001b[0;36m<module>\u001b[0;34m()\u001b[0m\n\u001b[0;32m----> 1\u001b[0;31m \u001b[0msentiment\u001b[0m\u001b[0;34m.\u001b[0m\u001b[0mgroupby\u001b[0m\u001b[0;34m(\u001b[0m\u001b[0;34m\"topic\"\u001b[0m\u001b[0;34m)\u001b[0m\u001b[0;34m.\u001b[0m\u001b[0msize\u001b[0m\u001b[0;34m(\u001b[0m\u001b[0;34m)\u001b[0m\u001b[0;34m\u001b[0m\u001b[0;34m\u001b[0m\u001b[0m\n\u001b[0m\u001b[1;32m      2\u001b[0m \u001b[0mdf\u001b[0m\u001b[0;34m.\u001b[0m\u001b[0mgroupby\u001b[0m\u001b[0;34m(\u001b[0m\u001b[0;34m\"genre\"\u001b[0m\u001b[0;34m)\u001b[0m\u001b[0;34m\u001b[0m\u001b[0;34m\u001b[0m\u001b[0m\n",
            "\u001b[0;31mNameError\u001b[0m: name 'sentiment' is not defined"
          ]
        }
      ]
    },
    {
      "cell_type": "markdown",
      "metadata": {
        "id": "nOUNdaJ3jmHb"
      },
      "source": [
        "Encode the \"topic\" column values with integers."
      ]
    },
    {
      "cell_type": "code",
      "metadata": {
        "colab": {
          "base_uri": "https://localhost:8080/",
          "height": 340
        },
        "id": "PNnMm3a7jlDX",
        "outputId": "b26ffb46-c29f-4b8d-c15b-ae48f1f01ab8"
      },
      "source": [
        "le = LabelEncoder()\n",
        "sentiment[\"topic\"] = le.fit_transform(sentiment[\"topic\"])\n",
        "sentiment.head()"
      ],
      "execution_count": 33,
      "outputs": [
        {
          "output_type": "stream",
          "name": "stderr",
          "text": [
            "/usr/local/lib/python3.7/dist-packages/ipykernel_launcher.py:2: SettingWithCopyWarning:\n",
            "\n",
            "\n",
            "A value is trying to be set on a copy of a slice from a DataFrame.\n",
            "Try using .loc[row_indexer,col_indexer] = value instead\n",
            "\n",
            "See the caveats in the documentation: https://pandas.pydata.org/pandas-docs/stable/user_guide/indexing.html#returning-a-view-versus-a-copy\n",
            "\n"
          ]
        },
        {
          "output_type": "execute_result",
          "data": {
            "text/html": [
              "<div>\n",
              "<style scoped>\n",
              "    .dataframe tbody tr th:only-of-type {\n",
              "        vertical-align: middle;\n",
              "    }\n",
              "\n",
              "    .dataframe tbody tr th {\n",
              "        vertical-align: top;\n",
              "    }\n",
              "\n",
              "    .dataframe thead th {\n",
              "        text-align: right;\n",
              "    }\n",
              "</style>\n",
              "<table border=\"1\" class=\"dataframe\">\n",
              "  <thead>\n",
              "    <tr style=\"text-align: right;\">\n",
              "      <th></th>\n",
              "      <th>lyrics</th>\n",
              "      <th>topic</th>\n",
              "    </tr>\n",
              "  </thead>\n",
              "  <tbody>\n",
              "    <tr>\n",
              "      <th>4843</th>\n",
              "      <td>yeah thinkin thoughts mind gonna finger gonna ...</td>\n",
              "      <td>3</td>\n",
              "    </tr>\n",
              "    <tr>\n",
              "      <th>4844</th>\n",
              "      <td>want learn reach grab cause everybody want bab...</td>\n",
              "      <td>3</td>\n",
              "    </tr>\n",
              "    <tr>\n",
              "      <th>4845</th>\n",
              "      <td>head head head head head head head head head h...</td>\n",
              "      <td>6</td>\n",
              "    </tr>\n",
              "    <tr>\n",
              "      <th>4846</th>\n",
              "      <td>mechakucha odotte sawago sawago headbanger yea...</td>\n",
              "      <td>3</td>\n",
              "    </tr>\n",
              "    <tr>\n",
              "      <th>4847</th>\n",
              "      <td>want come cause room drink half beer right thi...</td>\n",
              "      <td>2</td>\n",
              "    </tr>\n",
              "  </tbody>\n",
              "</table>\n",
              "</div>"
            ],
            "text/plain": [
              "                                                 lyrics  topic\n",
              "4843  yeah thinkin thoughts mind gonna finger gonna ...      3\n",
              "4844  want learn reach grab cause everybody want bab...      3\n",
              "4845  head head head head head head head head head h...      6\n",
              "4846  mechakucha odotte sawago sawago headbanger yea...      3\n",
              "4847  want come cause room drink half beer right thi...      2"
            ]
          },
          "metadata": {},
          "execution_count": 33
        }
      ]
    },
    {
      "cell_type": "markdown",
      "metadata": {
        "id": "Q7xR8fUdjySe"
      },
      "source": [
        "Inspect which integers correspond to which classes using the classes_ attribute of the encoder."
      ]
    },
    {
      "cell_type": "code",
      "metadata": {
        "colab": {
          "base_uri": "https://localhost:8080/"
        },
        "id": "Llsh7OFUj0Oa",
        "outputId": "4350585b-932d-4973-888b-26382ab8b504"
      },
      "source": [
        "le.classes_"
      ],
      "execution_count": 8,
      "outputs": [
        {
          "output_type": "execute_result",
          "data": {
            "text/plain": [
              "array(['feelings', 'music', 'night/time', 'obscene', 'romantic',\n",
              "       'sadness', 'violence', 'world/life'], dtype=object)"
            ]
          },
          "metadata": {},
          "execution_count": 8
        }
      ]
    },
    {
      "cell_type": "code",
      "metadata": {
        "id": "VYGx3cTAgpbL"
      },
      "source": [
        "data = tf.data.Dataset.from_tensor_slices((sentiment[\"topic\"],sentiment[\"lyrics\"]))"
      ],
      "execution_count": 9,
      "outputs": []
    },
    {
      "cell_type": "markdown",
      "metadata": {
        "id": "wcjcQwWvkLeZ"
      },
      "source": [
        "Iterate over the data values."
      ]
    },
    {
      "cell_type": "code",
      "metadata": {
        "colab": {
          "base_uri": "https://localhost:8080/"
        },
        "id": "yJCBUSuXj-bo",
        "outputId": "2e87a2a4-b96a-4ac2-a897-48e0b0220c99"
      },
      "source": [
        "for lyrics,topic in data.take(5):\n",
        "    print(lyrics)\n",
        "    print(topic)\n",
        "    print(\"\")"
      ],
      "execution_count": 10,
      "outputs": [
        {
          "output_type": "stream",
          "name": "stdout",
          "text": [
            "tf.Tensor(3, shape=(), dtype=int64)\n",
            "tf.Tensor(b'yeah thinkin thoughts mind gonna finger gonna raise smilin thinkin thoughts give somethin give nothin write songs write week sleep thing dream thing need cause city everybody know fuckin true know wouldn understand doin everythin think thinkin thoughts mind gonna finger gonna raise smilin thinkin thoughts move people space write album song hear gotta feel cause city everybody know fuckin true know wouldn understand doin everythin think thinkin thoughts mind gonna finger gonna raise smilin thinkin thoughts yeah thinkin thoughts brain gonna dancin till legs start break smilin bein fake thinkin thoughts thinkin thoughts', shape=(), dtype=string)\n",
            "\n",
            "tf.Tensor(3, shape=(), dtype=int64)\n",
            "tf.Tensor(b'want learn reach grab cause everybody want baby shoot star baby heart break need play monastic blow cause everybody want barely know heart break photograph photograph photograph cause everybody want dream barely heart break photograph photograph photograph blow reject draw plan reerect draw plan reerect draw plan reerect', shape=(), dtype=string)\n",
            "\n",
            "tf.Tensor(6, shape=(), dtype=int64)\n",
            "tf.Tensor(b'head head head head head head head head head head head head head head wall cave live live wall cave live live wall cave true wall cave turn world away head head head head head trap maze head know head head easy head head head head head head head wall cave live live wall cave live live wall cave live live wall cave live live head head live live live live live live live live', shape=(), dtype=string)\n",
            "\n",
            "tf.Tensor(3, shape=(), dtype=int64)\n",
            "tf.Tensor(b'mechakucha odotte sawago sawago headbanger yeah gimme shit gimme shit gimme shit gimme shit puttin hottest round tell motherfuckers stop listen lastin round want nigga come biggie biggie bounce know swswswitch style holla people sing people gather round people jump freak freak freak freak freak freak freak getcha getcha getcha getcha getcha freak freak freak freak freak freak freak freak getcha getcha getcha getcha getcha freak chick people know timbaland years dilly drilly wanna battle nigga know holla feel lemme throw maut mujhko people come sweat radio shake like freak freak freak freak freak freak freak getcha getcha getcha getcha getcha freak freak freak freak freak freak freak freak getcha getcha getcha getcha getcha freak quiet shhh hush mouth silence spit hahchoo face open mouth taste holla stoppin copy write copy sloppily come close know feel know hear loud scream loud proud blow people play outta cause best crazy style freak freak freak freak freak freak freak getcha getcha getcha getcha getcha freak freak freak freak freak freak freak freak getcha getcha getcha getcha getcha freak ichi', shape=(), dtype=string)\n",
            "\n",
            "tf.Tensor(2, shape=(), dtype=int64)\n",
            "tf.Tensor(b'want come cause room drink half beer right thing night matter time measurable imagination kind tonight best gun turn eighty degrees find add right line sell appease sleep lie twice time time time feel alive feel cause know hasn change nineteen school wait light corner sound exchange', shape=(), dtype=string)\n",
            "\n"
          ]
        }
      ]
    },
    {
      "cell_type": "markdown",
      "metadata": {
        "id": "pfjlwVbXkPRJ"
      },
      "source": [
        "We have created a special TensorFlow Dataset.\n",
        "Now, we will split it into training, validation, and testing sets."
      ]
    },
    {
      "cell_type": "code",
      "metadata": {
        "id": "Egz1f66FkTgJ"
      },
      "source": [
        "data = data.shuffle(buffer_size = len(data))"
      ],
      "execution_count": 11,
      "outputs": []
    },
    {
      "cell_type": "code",
      "metadata": {
        "id": "HBPEjPi0kYMl"
      },
      "source": [
        "train_size = int(0.7*len(data))\n",
        "val_size   = int(0.1*len(data))\n",
        "\n",
        "train = data.take(train_size)\n",
        "val   = data.skip(train_size).take(val_size)\n",
        "test  = data.skip(train_size + val_size)"
      ],
      "execution_count": 12,
      "outputs": []
    },
    {
      "cell_type": "code",
      "metadata": {
        "colab": {
          "base_uri": "https://localhost:8080/"
        },
        "id": "dd09aTdPkdkd",
        "outputId": "c71fd255-d6fc-4c6b-92f6-7ac1f2c919db"
      },
      "source": [
        "len(train), len(val), len(test)"
      ],
      "execution_count": 13,
      "outputs": [
        {
          "output_type": "execute_result",
          "data": {
            "text/plain": [
              "(7020, 1002, 2007)"
            ]
          },
          "metadata": {},
          "execution_count": 13
        }
      ]
    },
    {
      "cell_type": "code",
      "metadata": {
        "id": "p5C5nc5EkpBj",
        "colab": {
          "base_uri": "https://localhost:8080/",
          "height": 351
        },
        "outputId": "dddf0e32-8a80-4007-9cc2-6ddbbd941ae9"
      },
      "source": [
        "# @keras.utils.register_keras_serializable()\n",
        "# def standardization(input_data):\n",
        "#     lowercase = tf.strings.lower(input_data)\n",
        "#     no_punctuation = tf.strings.regex_replace(lowercase,\n",
        "#                                   '[%s]' % re.escape(string.punctuation),'')\n",
        "#     return no_punctuation"
      ],
      "execution_count": 7,
      "outputs": [
        {
          "output_type": "error",
          "ename": "ValueError",
          "evalue": "ignored",
          "traceback": [
            "\u001b[0;31m---------------------------------------------------------------------------\u001b[0m",
            "\u001b[0;31mValueError\u001b[0m                                Traceback (most recent call last)",
            "\u001b[0;32m<ipython-input-7-44c164a5dbd2>\u001b[0m in \u001b[0;36m<module>\u001b[0;34m()\u001b[0m\n\u001b[0;32m----> 1\u001b[0;31m \u001b[0;34m@\u001b[0m\u001b[0mkeras\u001b[0m\u001b[0;34m.\u001b[0m\u001b[0mutils\u001b[0m\u001b[0;34m.\u001b[0m\u001b[0mregister_keras_serializable\u001b[0m\u001b[0;34m(\u001b[0m\u001b[0;34m)\u001b[0m\u001b[0;34m\u001b[0m\u001b[0;34m\u001b[0m\u001b[0m\n\u001b[0m\u001b[1;32m      2\u001b[0m \u001b[0;32mdef\u001b[0m \u001b[0mstandardization\u001b[0m\u001b[0;34m(\u001b[0m\u001b[0minput_data\u001b[0m\u001b[0;34m)\u001b[0m\u001b[0;34m:\u001b[0m\u001b[0;34m\u001b[0m\u001b[0;34m\u001b[0m\u001b[0m\n\u001b[1;32m      3\u001b[0m     \u001b[0mlowercase\u001b[0m \u001b[0;34m=\u001b[0m \u001b[0mtf\u001b[0m\u001b[0;34m.\u001b[0m\u001b[0mstrings\u001b[0m\u001b[0;34m.\u001b[0m\u001b[0mlower\u001b[0m\u001b[0;34m(\u001b[0m\u001b[0minput_data\u001b[0m\u001b[0;34m)\u001b[0m\u001b[0;34m\u001b[0m\u001b[0;34m\u001b[0m\u001b[0m\n\u001b[1;32m      4\u001b[0m     no_punctuation = tf.strings.regex_replace(lowercase,\n\u001b[1;32m      5\u001b[0m                                   '[%s]' % re.escape(string.punctuation),'')\n",
            "\u001b[0;32m/usr/local/lib/python3.7/dist-packages/keras/utils/generic_utils.py\u001b[0m in \u001b[0;36mdecorator\u001b[0;34m(arg)\u001b[0m\n\u001b[1;32m    377\u001b[0m     \u001b[0;32mif\u001b[0m \u001b[0mregistered_name\u001b[0m \u001b[0;32min\u001b[0m \u001b[0m_GLOBAL_CUSTOM_OBJECTS\u001b[0m\u001b[0;34m:\u001b[0m\u001b[0;34m\u001b[0m\u001b[0;34m\u001b[0m\u001b[0m\n\u001b[1;32m    378\u001b[0m       raise ValueError(\n\u001b[0;32m--> 379\u001b[0;31m           \u001b[0;34mf'{registered_name} has already been registered to '\u001b[0m\u001b[0;34m\u001b[0m\u001b[0;34m\u001b[0m\u001b[0m\n\u001b[0m\u001b[1;32m    380\u001b[0m           f'{_GLOBAL_CUSTOM_OBJECTS[registered_name]}')\n\u001b[1;32m    381\u001b[0m \u001b[0;34m\u001b[0m\u001b[0m\n",
            "\u001b[0;31mValueError\u001b[0m: Custom>standardization has already been registered to <function standardization at 0x7f00f888cd40>"
          ]
        }
      ]
    },
    {
      "cell_type": "code",
      "metadata": {
        "id": "dCuiaUA1z2Kk"
      },
      "source": [
        "max_tokens = 2000\n",
        "# each headline will be a vector of length 40\n",
        "sequence_length = 40\n",
        "\n",
        "vectorize_layer = TextVectorization(\n",
        "    max_tokens = max_tokens,\n",
        "    standardize=standardization,\n",
        "    output_mode='int',\n",
        "    output_sequence_length=sequence_length)"
      ],
      "execution_count": 15,
      "outputs": []
    },
    {
      "cell_type": "markdown",
      "metadata": {
        "id": "P_YUaGzMz7PD"
      },
      "source": [
        "We need to adapt the vectorization layer to the lyrics. In the adaptation process, the vectorization layer learns what words are common in the lyrics."
      ]
    },
    {
      "cell_type": "code",
      "metadata": {
        "id": "i13F4dzQz8o6"
      },
      "source": [
        "lyrics = train.map(lambda x, y: y)\n",
        "vectorize_layer.adapt(lyrics)"
      ],
      "execution_count": 16,
      "outputs": []
    },
    {
      "cell_type": "markdown",
      "metadata": {
        "id": "1pgR2lOA0-hN"
      },
      "source": [
        "We define a helper function that operates on our Datasets. Note that our Dataset consists of a bunch of tuples of the form (topic, lyrics) for each data observation. Our helper function therefore accepts and returns two variables."
      ]
    },
    {
      "cell_type": "code",
      "metadata": {
        "id": "aYW_D3Cc0tdP",
        "colab": {
          "base_uri": "https://localhost:8080/",
          "height": 232
        },
        "outputId": "e4fea784-a132-4ffb-8fa7-b31ee3b36a77"
      },
      "source": [
        "def vectorize_headline(label, text):\n",
        "    text = tf.expand_dims(text, -1)\n",
        "    return vectorize_layer(text), [label]\n",
        "\n",
        "train_vec = train.map(vectorize_headline)\n",
        "val_vec   = val.map(vectorize_headline)\n",
        "test_vec  = test.map(vectorize_headline)"
      ],
      "execution_count": 6,
      "outputs": [
        {
          "output_type": "error",
          "ename": "NameError",
          "evalue": "ignored",
          "traceback": [
            "\u001b[0;31m---------------------------------------------------------------------------\u001b[0m",
            "\u001b[0;31mNameError\u001b[0m                                 Traceback (most recent call last)",
            "\u001b[0;32m<ipython-input-6-1f1ecf01fecc>\u001b[0m in \u001b[0;36m<module>\u001b[0;34m()\u001b[0m\n\u001b[1;32m      3\u001b[0m     \u001b[0;32mreturn\u001b[0m \u001b[0mvectorize_layer\u001b[0m\u001b[0;34m(\u001b[0m\u001b[0mtext\u001b[0m\u001b[0;34m)\u001b[0m\u001b[0;34m,\u001b[0m \u001b[0;34m[\u001b[0m\u001b[0mlabel\u001b[0m\u001b[0;34m]\u001b[0m\u001b[0;34m\u001b[0m\u001b[0;34m\u001b[0m\u001b[0m\n\u001b[1;32m      4\u001b[0m \u001b[0;34m\u001b[0m\u001b[0m\n\u001b[0;32m----> 5\u001b[0;31m \u001b[0mtrain_vec\u001b[0m \u001b[0;34m=\u001b[0m \u001b[0mtrain\u001b[0m\u001b[0;34m.\u001b[0m\u001b[0mmap\u001b[0m\u001b[0;34m(\u001b[0m\u001b[0mvectorize_headline\u001b[0m\u001b[0;34m)\u001b[0m\u001b[0;34m\u001b[0m\u001b[0;34m\u001b[0m\u001b[0m\n\u001b[0m\u001b[1;32m      6\u001b[0m \u001b[0mval_vec\u001b[0m   \u001b[0;34m=\u001b[0m \u001b[0mval\u001b[0m\u001b[0;34m.\u001b[0m\u001b[0mmap\u001b[0m\u001b[0;34m(\u001b[0m\u001b[0mvectorize_headline\u001b[0m\u001b[0;34m)\u001b[0m\u001b[0;34m\u001b[0m\u001b[0;34m\u001b[0m\u001b[0m\n\u001b[1;32m      7\u001b[0m \u001b[0mtest_vec\u001b[0m  \u001b[0;34m=\u001b[0m \u001b[0mtest\u001b[0m\u001b[0;34m.\u001b[0m\u001b[0mmap\u001b[0m\u001b[0;34m(\u001b[0m\u001b[0mvectorize_headline\u001b[0m\u001b[0;34m)\u001b[0m\u001b[0;34m\u001b[0m\u001b[0;34m\u001b[0m\u001b[0m\n",
            "\u001b[0;31mNameError\u001b[0m: name 'train' is not defined"
          ]
        }
      ]
    },
    {
      "cell_type": "markdown",
      "metadata": {
        "id": "0owLDvL_RhsI"
      },
      "source": [
        "Let's take a look at a vectorized piece of text."
      ]
    },
    {
      "cell_type": "code",
      "metadata": {
        "colab": {
          "base_uri": "https://localhost:8080/"
        },
        "id": "GLdQFezkRa9D",
        "outputId": "9d8f020d-c607-4363-a070-dfc0334a92d1"
      },
      "source": [
        "list(train_vec.take(2))"
      ],
      "execution_count": 18,
      "outputs": [
        {
          "output_type": "execute_result",
          "data": {
            "text/plain": [
              "[(<tf.Tensor: shape=(1, 40), dtype=int64, numpy=\n",
              "  array([[   1,    1,    1,    1,  181,    1,    1,    1,    1,  472, 1180,\n",
              "          1797, 1666,  688,  622,    1,    1,  606,  606,    1,    1,  105,\n",
              "          1440,    1,    1,    1,    1,  688,  622,    1,    1,    1,    1,\n",
              "           404,  111,    1, 1021,    1,  614,    1]])>,\n",
              "  <tf.Tensor: shape=(1,), dtype=int64, numpy=array([7])>),\n",
              " (<tf.Tensor: shape=(1, 40), dtype=int64, numpy=\n",
              "  array([[   7,   11,   11,  101,  232,   13,  405,   40,   65, 1507,   48,\n",
              "            95,   29,    1,   84,   83, 1833,    1,    1,    3,   11,   11,\n",
              "             9,   60,   14,   19,   27,  274,   18,  229,  348,  229,    1,\n",
              "            84,   83, 1833,    1,    1,  156,   53]])>,\n",
              "  <tf.Tensor: shape=(1,), dtype=int64, numpy=array([5])>)]"
            ]
          },
          "metadata": {},
          "execution_count": 18
        }
      ]
    },
    {
      "cell_type": "markdown",
      "metadata": {
        "id": "lmjvyoLy7jKX"
      },
      "source": [
        "Great! Now our data are ready for TensorFlow to understand! We have represented each of our lyrics as numerical vectors."
      ]
    },
    {
      "cell_type": "markdown",
      "metadata": {
        "id": "hJZp1LlAR0iL"
      },
      "source": [
        "## Modeling 1: Classifying Sentiment with lyrics input\n",
        "Let's now construct a machine learning model out of some layers. This model is going to have a few new components\n",
        "- `layers.Embedding()` which turns positive integers (indices) into dense vectors of fixed size.\n",
        "- `layers.Dropout()` which deals with overfitting by ensuring that the model doesn't fit too close.\n",
        "- `layers.GlobalAveragePooling1D()` \n",
        "- `layers.Dense()` which forms the prediction."
      ]
    },
    {
      "cell_type": "code",
      "metadata": {
        "id": "wBvMMG8KR2rg"
      },
      "source": [
        "model = tf.keras.Sequential([\n",
        "  layers.Embedding(max_tokens, output_dim = 8, name=\"embedding\"),\n",
        "  layers.Dropout(0.2),\n",
        "  layers.GlobalAveragePooling1D(),\n",
        "  layers.Dropout(0.2),\n",
        "  layers.Dense(8) ]# we have 8 topics\n",
        ")"
      ],
      "execution_count": 19,
      "outputs": []
    },
    {
      "cell_type": "code",
      "metadata": {
        "id": "Y-bPjGbPR5oS"
      },
      "source": [
        "model.compile(loss=losses.SparseCategoricalCrossentropy(from_logits=True),\n",
        "              optimizer='adam', \n",
        "              metrics=['accuracy'])"
      ],
      "execution_count": 20,
      "outputs": []
    },
    {
      "cell_type": "code",
      "metadata": {
        "colab": {
          "base_uri": "https://localhost:8080/"
        },
        "id": "7g1M2nJnUQ5w",
        "outputId": "8796c6be-478c-4303-8c35-ca60edfb561a"
      },
      "source": [
        "history = model.fit(train_vec, epochs = 30, validation_data = val_vec)"
      ],
      "execution_count": 21,
      "outputs": [
        {
          "output_type": "stream",
          "name": "stdout",
          "text": [
            "Epoch 1/30\n",
            "7020/7020 [==============================] - 37s 5ms/step - loss: 1.6063 - accuracy: 0.4383 - val_loss: 1.2233 - val_accuracy: 0.6477\n",
            "Epoch 2/30\n",
            "7020/7020 [==============================] - 35s 5ms/step - loss: 1.0535 - accuracy: 0.6745 - val_loss: 0.8088 - val_accuracy: 0.7625\n",
            "Epoch 3/30\n",
            "7020/7020 [==============================] - 34s 5ms/step - loss: 0.7894 - accuracy: 0.7489 - val_loss: 0.6007 - val_accuracy: 0.8204\n",
            "Epoch 4/30\n",
            "7020/7020 [==============================] - 34s 5ms/step - loss: 0.6594 - accuracy: 0.7939 - val_loss: 0.5351 - val_accuracy: 0.8433\n",
            "Epoch 5/30\n",
            "7020/7020 [==============================] - 34s 5ms/step - loss: 0.5883 - accuracy: 0.8095 - val_loss: 0.4371 - val_accuracy: 0.8832\n",
            "Epoch 6/30\n",
            "7020/7020 [==============================] - 34s 5ms/step - loss: 0.5376 - accuracy: 0.8286 - val_loss: 0.4623 - val_accuracy: 0.8523\n",
            "Epoch 7/30\n",
            "7020/7020 [==============================] - 34s 5ms/step - loss: 0.5150 - accuracy: 0.8336 - val_loss: 0.3583 - val_accuracy: 0.8962\n",
            "Epoch 8/30\n",
            "7020/7020 [==============================] - 34s 5ms/step - loss: 0.4782 - accuracy: 0.8490 - val_loss: 0.3282 - val_accuracy: 0.9072\n",
            "Epoch 9/30\n",
            "7020/7020 [==============================] - 34s 5ms/step - loss: 0.4492 - accuracy: 0.8594 - val_loss: 0.3096 - val_accuracy: 0.9142\n",
            "Epoch 10/30\n",
            "7020/7020 [==============================] - 34s 5ms/step - loss: 0.4307 - accuracy: 0.8578 - val_loss: 0.3036 - val_accuracy: 0.9132\n",
            "Epoch 11/30\n",
            "7020/7020 [==============================] - 35s 5ms/step - loss: 0.4278 - accuracy: 0.8560 - val_loss: 0.2985 - val_accuracy: 0.9032\n",
            "Epoch 12/30\n",
            "7020/7020 [==============================] - 34s 5ms/step - loss: 0.4110 - accuracy: 0.8650 - val_loss: 0.2559 - val_accuracy: 0.9331\n",
            "Epoch 13/30\n",
            "7020/7020 [==============================] - 34s 5ms/step - loss: 0.4006 - accuracy: 0.8697 - val_loss: 0.2457 - val_accuracy: 0.9271\n",
            "Epoch 14/30\n",
            "7020/7020 [==============================] - 35s 5ms/step - loss: 0.3946 - accuracy: 0.8739 - val_loss: 0.2697 - val_accuracy: 0.9222\n",
            "Epoch 15/30\n",
            "7020/7020 [==============================] - 34s 5ms/step - loss: 0.3741 - accuracy: 0.8745 - val_loss: 0.2309 - val_accuracy: 0.9371\n",
            "Epoch 16/30\n",
            "7020/7020 [==============================] - 34s 5ms/step - loss: 0.3625 - accuracy: 0.8776 - val_loss: 0.2476 - val_accuracy: 0.9281\n",
            "Epoch 17/30\n",
            "7020/7020 [==============================] - 34s 5ms/step - loss: 0.3574 - accuracy: 0.8798 - val_loss: 0.2068 - val_accuracy: 0.9371\n",
            "Epoch 18/30\n",
            "7020/7020 [==============================] - 34s 5ms/step - loss: 0.3626 - accuracy: 0.8786 - val_loss: 0.1978 - val_accuracy: 0.9431\n",
            "Epoch 19/30\n",
            "7020/7020 [==============================] - 34s 5ms/step - loss: 0.3470 - accuracy: 0.8835 - val_loss: 0.2121 - val_accuracy: 0.9401\n",
            "Epoch 20/30\n",
            "7020/7020 [==============================] - 34s 5ms/step - loss: 0.3560 - accuracy: 0.8795 - val_loss: 0.1910 - val_accuracy: 0.9431\n",
            "Epoch 21/30\n",
            "7020/7020 [==============================] - 34s 5ms/step - loss: 0.3380 - accuracy: 0.8886 - val_loss: 0.1478 - val_accuracy: 0.9591\n",
            "Epoch 22/30\n",
            "7020/7020 [==============================] - 34s 5ms/step - loss: 0.3369 - accuracy: 0.8892 - val_loss: 0.1507 - val_accuracy: 0.9501\n",
            "Epoch 23/30\n",
            "7020/7020 [==============================] - 34s 5ms/step - loss: 0.3290 - accuracy: 0.8902 - val_loss: 0.1934 - val_accuracy: 0.9391\n",
            "Epoch 24/30\n",
            "7020/7020 [==============================] - 34s 5ms/step - loss: 0.3399 - accuracy: 0.8876 - val_loss: 0.1797 - val_accuracy: 0.9571\n",
            "Epoch 25/30\n",
            "7020/7020 [==============================] - 34s 5ms/step - loss: 0.3289 - accuracy: 0.8902 - val_loss: 0.1481 - val_accuracy: 0.9641\n",
            "Epoch 26/30\n",
            "7020/7020 [==============================] - 35s 5ms/step - loss: 0.3234 - accuracy: 0.8953 - val_loss: 0.1498 - val_accuracy: 0.9561\n",
            "Epoch 27/30\n",
            "7020/7020 [==============================] - 34s 5ms/step - loss: 0.3185 - accuracy: 0.8916 - val_loss: 0.1529 - val_accuracy: 0.9591\n",
            "Epoch 28/30\n",
            "7020/7020 [==============================] - 34s 5ms/step - loss: 0.3093 - accuracy: 0.8930 - val_loss: 0.1647 - val_accuracy: 0.9471\n",
            "Epoch 29/30\n",
            "7020/7020 [==============================] - 34s 5ms/step - loss: 0.3135 - accuracy: 0.9006 - val_loss: 0.1866 - val_accuracy: 0.9491\n",
            "Epoch 30/30\n",
            "7020/7020 [==============================] - 34s 5ms/step - loss: 0.3029 - accuracy: 0.8984 - val_loss: 0.1316 - val_accuracy: 0.9631\n"
          ]
        }
      ]
    },
    {
      "cell_type": "markdown",
      "metadata": {
        "id": "BTOacpNR8ldj"
      },
      "source": [
        "Let's plot the training history of our model using `matplotlib`."
      ]
    },
    {
      "cell_type": "code",
      "metadata": {
        "colab": {
          "base_uri": "https://localhost:8080/",
          "height": 296
        },
        "id": "aUneiOLt2LEI",
        "outputId": "4995c341-8a72-4328-fafa-d928360567c9"
      },
      "source": [
        "from matplotlib import pyplot as plt\n",
        "plt.plot(history.history[\"accuracy\"], label = \"training\")\n",
        "plt.plot(history.history[\"val_accuracy\"], label = \"validation\")\n",
        "plt.gca().set(xlabel = \"epoch\", ylabel = \"accuracy\")\n",
        "plt.legend()"
      ],
      "execution_count": null,
      "outputs": [
        {
          "output_type": "execute_result",
          "data": {
            "text/plain": [
              "<matplotlib.legend.Legend at 0x7ff98e2689d0>"
            ]
          },
          "metadata": {},
          "execution_count": 23
        },
        {
          "output_type": "display_data",
          "data": {
            "image/png": "[encoded data removed]",
            "text/plain": [
              "<Figure size 432x288 with 1 Axes>"
            ]
          },
          "metadata": {
            "needs_background": "light"
          }
        }
      ]
    },
    {
      "cell_type": "markdown",
      "metadata": {
        "id": "FsJQPuFY8xlr"
      },
      "source": [
        "Awesome! We can observe that the validation accuracy stabilizes around 95% level, which is a pretty decent number. We also note that the test accuracy is less than the validation accuracy, so our model does not suffer from the overfitting issue."
      ]
    },
    {
      "cell_type": "markdown",
      "metadata": {
        "id": "pCbLRUZztVXD"
      },
      "source": [
        "## Visualizing Word Embeddings\n",
        "A word embedding refers to a representation of a word in a vector space. The general aim of a word embedding is to create a representation such that words with related meanings are close to each other in a vector space, while words with different meanings are farther apart.\n",
        "\n",
        "Let's take a look at the embedding layer to see how our own model represents words in a vector space."
      ]
    },
    {
      "cell_type": "code",
      "metadata": {
        "id": "WSPeUTq8tsX_"
      },
      "source": [
        "weights = model.get_layer('embedding').get_weights()[0] # get the weights from the embedding layer\n",
        "vocab = vectorize_layer.get_vocabulary()                # get the vocabulary from our data prep for later"
      ],
      "execution_count": null,
      "outputs": []
    },
    {
      "cell_type": "code",
      "metadata": {
        "id": "OpPViboOulaA",
        "colab": {
          "base_uri": "https://localhost:8080/"
        },
        "outputId": "928eee91-cfcd-4c5b-bbdc-c4e887a6b50f"
      },
      "source": [
        "weights"
      ],
      "execution_count": null,
      "outputs": [
        {
          "output_type": "execute_result",
          "data": {
            "text/plain": [
              "array([[ 1.0078984e-03,  4.3143664e-02,  5.0635923e-02, ...,\n",
              "         2.0074757e-02,  1.5545160e-02,  1.4925542e-02],\n",
              "       [-6.9395332e-03, -1.7521566e-01, -9.5930388e-03, ...,\n",
              "        -2.2218477e-02, -1.4746561e-02, -4.4698950e-02],\n",
              "       [ 9.4262582e-01,  7.3680031e-01,  4.6395734e-01, ...,\n",
              "         3.1294155e-01, -3.0061886e-01, -1.9835454e-01],\n",
              "       ...,\n",
              "       [-1.7569466e-01,  2.0292699e-01,  1.2943841e+00, ...,\n",
              "         1.4012630e-01, -2.0724649e+00,  1.1563767e+00],\n",
              "       [ 9.9055362e-01,  6.6489637e-01,  1.7005172e+00, ...,\n",
              "         1.4415875e-01, -8.0399692e-01,  8.9822644e-01],\n",
              "       [-1.0192233e+00,  3.6956862e-01, -2.1617372e+00, ...,\n",
              "         1.1533425e+00, -9.6115600e-03, -6.7640251e-01]], dtype=float32)"
            ]
          },
          "metadata": {},
          "execution_count": 25
        }
      ]
    },
    {
      "cell_type": "markdown",
      "metadata": {
        "id": "yqGJm7CTvxwp"
      },
      "source": [
        "We chose to create a 8-dimensional embedding when constructing our model as there are 8 different topics for the lyrics. To plot in 2 dimensions, we need to reduce the data to a 2d representation. A very simple and standard approach is the principal component analysis (PCA)."
      ]
    },
    {
      "cell_type": "code",
      "metadata": {
        "id": "cnMepZAVvpgQ"
      },
      "source": [
        "from sklearn.decomposition import PCA\n",
        "pca = PCA(n_components=2)\n",
        "weights = pca.fit_transform(weights)"
      ],
      "execution_count": null,
      "outputs": []
    },
    {
      "cell_type": "markdown",
      "metadata": {
        "id": "Itvyx8UOyQXo"
      },
      "source": [
        "Now we can make a dataframe from our results."
      ]
    },
    {
      "cell_type": "code",
      "metadata": {
        "id": "FYHuHsK8x-p8",
        "colab": {
          "base_uri": "https://localhost:8080/",
          "height": 419
        },
        "outputId": "10217adf-b4ca-4e4d-ba55-3226b5f78810"
      },
      "source": [
        "embedding_df = pd.DataFrame({\n",
        "    'word' : vocab, \n",
        "    'x0'   : weights[:,0],\n",
        "    'x1'   : weights[:,1]\n",
        "})\n",
        "embedding_df"
      ],
      "execution_count": null,
      "outputs": [
        {
          "output_type": "execute_result",
          "data": {
            "text/html": [
              "<div>\n",
              "<style scoped>\n",
              "    .dataframe tbody tr th:only-of-type {\n",
              "        vertical-align: middle;\n",
              "    }\n",
              "\n",
              "    .dataframe tbody tr th {\n",
              "        vertical-align: top;\n",
              "    }\n",
              "\n",
              "    .dataframe thead th {\n",
              "        text-align: right;\n",
              "    }\n",
              "</style>\n",
              "<table border=\"1\" class=\"dataframe\">\n",
              "  <thead>\n",
              "    <tr style=\"text-align: right;\">\n",
              "      <th></th>\n",
              "      <th>word</th>\n",
              "      <th>x0</th>\n",
              "      <th>x1</th>\n",
              "    </tr>\n",
              "  </thead>\n",
              "  <tbody>\n",
              "    <tr>\n",
              "      <th>0</th>\n",
              "      <td></td>\n",
              "      <td>-0.753292</td>\n",
              "      <td>-0.470212</td>\n",
              "    </tr>\n",
              "    <tr>\n",
              "      <th>1</th>\n",
              "      <td>[UNK]</td>\n",
              "      <td>-0.864310</td>\n",
              "      <td>-0.572696</td>\n",
              "    </tr>\n",
              "    <tr>\n",
              "      <th>2</th>\n",
              "      <td>like</td>\n",
              "      <td>0.406027</td>\n",
              "      <td>-0.232887</td>\n",
              "    </tr>\n",
              "    <tr>\n",
              "      <th>3</th>\n",
              "      <td>know</td>\n",
              "      <td>-0.577440</td>\n",
              "      <td>-0.941501</td>\n",
              "    </tr>\n",
              "    <tr>\n",
              "      <th>4</th>\n",
              "      <td>time</td>\n",
              "      <td>-1.572505</td>\n",
              "      <td>-2.268851</td>\n",
              "    </tr>\n",
              "    <tr>\n",
              "      <th>...</th>\n",
              "      <td>...</td>\n",
              "      <td>...</td>\n",
              "      <td>...</td>\n",
              "    </tr>\n",
              "    <tr>\n",
              "      <th>1995</th>\n",
              "      <td>cyaa</td>\n",
              "      <td>-0.065479</td>\n",
              "      <td>-0.983136</td>\n",
              "    </tr>\n",
              "    <tr>\n",
              "      <th>1996</th>\n",
              "      <td>corn</td>\n",
              "      <td>-1.169721</td>\n",
              "      <td>-1.670360</td>\n",
              "    </tr>\n",
              "    <tr>\n",
              "      <th>1997</th>\n",
              "      <td>contagious</td>\n",
              "      <td>0.965837</td>\n",
              "      <td>-2.118966</td>\n",
              "    </tr>\n",
              "    <tr>\n",
              "      <th>1998</th>\n",
              "      <td>cameras</td>\n",
              "      <td>1.200207</td>\n",
              "      <td>-1.433753</td>\n",
              "    </tr>\n",
              "    <tr>\n",
              "      <th>1999</th>\n",
              "      <td>blur</td>\n",
              "      <td>-1.271575</td>\n",
              "      <td>0.911695</td>\n",
              "    </tr>\n",
              "  </tbody>\n",
              "</table>\n",
              "<p>2000 rows × 3 columns</p>\n",
              "</div>"
            ],
            "text/plain": [
              "            word        x0        x1\n",
              "0                -0.753292 -0.470212\n",
              "1          [UNK] -0.864310 -0.572696\n",
              "2           like  0.406027 -0.232887\n",
              "3           know -0.577440 -0.941501\n",
              "4           time -1.572505 -2.268851\n",
              "...          ...       ...       ...\n",
              "1995        cyaa -0.065479 -0.983136\n",
              "1996        corn -1.169721 -1.670360\n",
              "1997  contagious  0.965837 -2.118966\n",
              "1998     cameras  1.200207 -1.433753\n",
              "1999        blur -1.271575  0.911695\n",
              "\n",
              "[2000 rows x 3 columns]"
            ]
          },
          "metadata": {},
          "execution_count": 27
        }
      ]
    },
    {
      "cell_type": "code",
      "metadata": {
        "id": "-KXaOC8RybDe",
        "colab": {
          "base_uri": "https://localhost:8080/",
          "height": 542
        },
        "outputId": "abdc07c5-7a0e-4819-942f-c7d2dddc0b73"
      },
      "source": [
        "import plotly.express as px \n",
        "fig = px.scatter(embedding_df, \n",
        "                 x = \"x0\", \n",
        "                 y = \"x1\", \n",
        "                 size = list(np.ones(len(embedding_df))),\n",
        "                 size_max = 2,\n",
        "                 hover_name = \"word\")\n",
        "\n",
        "fig.show()"
      ],
      "execution_count": null,
      "outputs": [
        {
          "output_type": "display_data",
          "data": {
            "text/html": [
              "<html>\n",
              "<head><meta charset=\"utf-8\" /></head>\n",
              "<body>\n",
              "    <div>\n",
              "            <script src=\"https://cdnjs.cloudflare.com/ajax/libs/mathjax/2.7.5/MathJax.js?config=TeX-AMS-MML_SVG\"></script><script type=\"text/javascript\">if (window.MathJax) {MathJax.Hub.Config({SVG: {font: \"STIX-Web\"}});}</script>\n",
              "                <script type=\"text/javascript\">window.PlotlyConfig = {MathJaxConfig: 'local'};</script>\n",
              "        <script src=\"https://cdn.plot.ly/plotly-latest.min.js\"></script>    \n",
              "            <div id=\"0603e8b2-d5ac-4b34-b3c8-d5e4182b50d0\" class=\"plotly-graph-div\" style=\"height:525px; width:100%;\"></div>\n",
              "            <script type=\"text/javascript\">\n",
              "                \n",
              "                    window.PLOTLYENV=window.PLOTLYENV || {};\n",
              "                    \n",
              "                if (document.getElementById(\"0603e8b2-d5ac-4b34-b3c8-d5e4182b50d0\")) {\n",
              "                    Plotly.newPlot(\n",
              "                        '0603e8b2-d5ac-4b34-b3c8-d5e4182b50d0',\n",
              "                        [{\"hoverlabel\": {\"namelength\": 0}, \"hovertemplate\": \"<b>%{hovertext}</b><br><br>x0=%{x}<br>x1=%{y}<br>size=%{marker.size}\", \"hovertext\": [\"\", \"[UNK]\", \"like\", \"know\", \"time\", \"come\", \"yeah\", \"feel\", \"cause\", \"away\", \"life\", \"want\", \"go\", \"right\", \"leave\", \"heart\", \"live\", \"tell\", \"baby\", \"think\", \"need\", \"break\", \"gonna\", \"wanna\", \"good\", \"fuck\", \"hold\", \"look\", \"fall\", \"night\", \"world\", \"mind\", \"hear\", \"long\", \"hand\", \"better\", \"shit\", \"say\", \"home\", \"head\", \"lose\", \"girl\", \"little\", \"money\", \"eye\", \"bitch\", \"change\", \"stay\", \"turn\", \"walk\", \"play\", \"believe\", \"dream\", \"stand\", \"start\", \"face\", \"sing\", \"inside\", \"light\", \"stop\", \"things\", \"take\", \"place\", \"nigga\", \"gotta\", \"tonight\", \"black\", \"hard\", \"people\", \"bring\", \"get\", \"thing\", \"song\", \"word\", \"watch\", \"talk\", \"tear\", \"real\", \"try\", \"days\", \"wait\", \"fight\", \"bout\", \"kill\", \"wish\", \"give\", \"party\", \"soul\", \"niggas\", \"forget\", \"sleep\", \"high\", \"wrong\", \"mean\", \"burn\", \"remember\", \"pain\", \"open\", \"beat\", \"make\", \"work\", \"miss\", \"save\", \"love\", \"sound\", \"free\", \"line\", \"hell\", \"close\", \"roll\", \"drink\", \"damn\", \"hurt\", \"shoot\", \"kiss\", \"dead\", \"cold\", \"alive\", \"blood\", \"game\", \"blue\", \"call\", \"hide\", \"lyric\", \"body\", \"everybody\", \"breathe\", \"lonely\", \"care\", \"grind\", \"true\", \"run\", \"fear\", \"commercial\", \"lie\", \"listen\", \"smoke\", \"throw\", \"today\", \"till\", \"see\", \"music\", \"ready\", \"best\", \"sweet\", \"pull\", \"follow\", \"blow\", \"scar\", \"young\", \"wall\", \"step\", \"drop\", \"lord\", \"learn\", \"catch\", \"forever\", \"dance\", \"matter\", \"hate\", \"touch\", \"help\", \"strong\", \"stick\", \"road\", \"grow\", \"door\", \"reason\", \"truth\", \"morning\", \"fool\", \"somebody\", \"white\", \"write\", \"rain\", \"smile\", \"deep\", \"friends\", \"die\", \"waste\", \"fade\", \"maybe\", \"crazy\", \"straight\", \"speak\", \"house\", \"cry\", \"keep\", \"nothin\", \"kick\", \"death\", \"dark\", \"apart\", \"shake\", \"alright\", \"ride\", \"piece\", \"pray\", \"feet\", \"check\", \"arm\", \"tryna\", \"rise\", \"rest\", \"late\", \"years\", \"sure\", \"scream\", \"past\", \"goin\", \"begin\", \"promise\", \"pass\", \"wonder\", \"mouth\", \"devil\", \"spend\", \"moment\", \"gettin\", \"drive\", \"round\", \"water\", \"guess\", \"control\", \"voice\", \"woman\", \"star\", \"understand\", \"lookin\", \"friend\", \"tomorrow\", \"easy\", \"pick\", \"city\", \"whoa\", \"talkin\", \"woah\", \"goodbye\", \"girls\", \"breath\", \"comin\", \"build\", \"blame\", \"wind\", \"ring\", \"thank\", \"sick\", \"reach\", \"lead\", \"hang\", \"tire\", \"livin\", \"heaven\", \"bone\", \"fine\", \"room\", \"couldn\", \"trust\", \"bleed\", \"stone\", \"club\", \"move\", \"skin\", \"kind\", \"choose\", \"tryin\", \"blind\", \"doin\", \"floor\", \"fast\", \"mama\", \"slow\", \"fuckin\", \"lock\", \"bear\", \"shine\", \"plan\", \"sell\", \"brain\", \"beautiful\", \"soon\", \"push\", \"different\", \"afraid\", \"count\", \"kid\", \"clear\", \"wear\", \"ways\", \"cross\", \"power\", \"hearts\", \"send\", \"worry\", \"fake\", \"steal\", \"knees\", \"feelin\", \"tight\", \"raise\", \"picture\", \"swear\", \"happen\", \"million\", \"flow\", \"belong\", \"outta\", \"ohoh\", \"second\", \"felt\", \"land\", \"hoe\", \"ones\", \"teach\", \"pretty\", \"gold\", \"boys\", \"street\", \"search\", \"drown\", \"dear\", \"phone\", \"streets\", \"loud\", \"meet\", \"shame\", \"pussy\", \"lips\", \"bless\", \"okay\", \"summer\", \"finger\", \"finally\", \"peace\", \"evil\", \"moon\", \"end\", \"knock\", \"mess\", \"songs\", \"ghost\", \"pay\", \"sign\", \"shut\", \"darling\", \"everyday\", \"sorry\", \"block\", \"dirty\", \"point\", \"memories\", \"wouldn\", \"rule\", \"read\", \"outside\", \"yesterday\", \"ball\", \"mistake\", \"hop\", \"deal\", \"half\", \"cover\", \"wasn\", \"hole\", \"slip\", \"number\", \"cool\", \"tongue\", \"earth\", \"taste\", \"simple\", \"minute\", \"gyal\", \"style\", \"laugh\", \"thousand\", \"safe\", \"nights\", \"weed\", \"perfect\", \"doubt\", \"wave\", \"rhyme\", \"slowly\", \"neck\", \"share\", \"river\", \"mother\", \"awake\", \"somethin\", \"paper\", \"jump\", \"track\", \"thoughts\", \"chain\", \"bottle\", \"fell\", \"father\", \"wild\", \"memory\", \"forgive\", \"bang\", \"tree\", \"babe\", \"darkness\", \"future\", \"brother\", \"thinkin\", \"crowd\", \"bust\", \"trouble\", \"shout\", \"closer\", \"great\", \"band\", \"space\", \"answer\", \"sayin\", \"bury\", \"nice\", \"longer\", \"couple\", \"clean\", \"realize\", \"wide\", \"remain\", \"pride\", \"oooh\", \"hood\", \"waitin\", \"heavy\", \"story\", \"school\", \"hair\", \"show\", \"family\", \"silence\", \"record\", \"crawl\", \"country\", \"cash\", \"anymore\", \"window\", \"state\", \"paint\", \"radio\", \"flame\", \"survive\", \"train\", \"gimme\", \"grave\", \"dope\", \"crack\", \"color\", \"cloud\", \"repeat\", \"pocket\", \"wake\", \"let\", \"fail\", \"child\", \"single\", \"fill\", \"figure\", \"pour\", \"drug\", \"sight\", \"weak\", \"sense\", \"heal\", \"daddy\", \"type\", \"luck\", \"diamonds\", \"question\", \"probably\", \"swing\", \"runnin\", \"middle\", \"suck\", \"edge\", \"clock\", \"pack\", \"year\", \"heat\", \"ask\", \"soldier\", \"fly\", \"dont\", \"bend\", \"lady\", \"twist\", \"makin\", \"children\", \"shoe\", \"lay\", \"trap\", \"ahead\", \"motherfucker\", \"human\", \"grab\", \"funny\", \"fee\", \"chest\", \"fame\", \"glass\", \"warm\", \"spot\", \"dust\", \"crew\", \"welcome\", \"short\", \"rock\", \"race\", \"problem\", \"babylon\", \"spit\", \"spin\", \"shots\", \"quit\", \"kinda\", \"near\", \"gun\", \"bind\", \"wine\", \"quick\", \"ocean\", \"harder\", \"brand\", \"bite\", \"pretend\", \"regret\", \"playin\", \"momma\", \"suffer\", \"hook\", \"force\", \"drinkin\", \"corner\", \"crash\", \"business\", \"mirror\", \"fresh\", \"south\", \"instead\", \"bass\", \"root\", \"sink\", \"battle\", \"sweat\", \"freak\", \"dress\", \"clothe\", \"sit\", \"strength\", \"green\", \"wing\", \"shin\", \"pressure\", \"feat\", \"lover\", \"lean\", \"weight\", \"sittin\", \"holy\", \"suppose\", \"return\", \"warn\", \"someday\", \"small\", \"respect\", \"booty\", \"boom\", \"youth\", \"lovin\", \"higher\", \"buy\", \"insane\", \"bomb\", \"worst\", \"shoulder\", \"escape\", \"book\", \"treat\", \"sand\", \"lift\", \"preach\", \"lick\", \"remind\", \"queen\", \"have\", \"wicked\", \"letter\", \"draw\", \"walkin\", \"test\", \"switch\", \"smell\", \"guitar\", \"favorite\", \"seat\", \"loose\", \"freedom\", \"week\", \"spirit\", \"hollow\", \"circle\", \"fact\", \"drum\", \"chill\", \"dollar\", \"california\", \"takin\", \"scene\", \"stack\", \"sorrow\", \"path\", \"master\", \"hours\", \"fate\", \"double\", \"struggle\", \"bank\", \"american\", \"ohohoh\", \"ghetto\", \"decide\", \"waan\", \"surround\", \"stronger\", \"ladies\", \"hustle\", \"disappear\", \"wrap\", \"shawty\", \"echo\", \"crown\", \"bright\", \"steady\", \"judge\", \"beg\", \"whip\", \"drift\", \"curse\", \"pound\", \"hour\", \"drag\", \"wheel\", \"rush\", \"freeze\", \"vision\", \"truck\", \"strange\", \"noise\", \"desire\", \"dare\", \"surprise\", \"strike\", \"quiet\", \"praise\", \"news\", \"damage\", \"wife\", \"tie\", \"tick\", \"dirt\", \"deserve\", \"climb\", \"wire\", \"whisper\", \"spread\", \"prove\", \"paradise\", \"machine\", \"underneath\", \"teeth\", \"sky\", \"self\", \"reality\", \"load\", \"crime\", \"beast\", \"barely\", \"wreck\", \"trigger\", \"hello\", \"handle\", \"stupid\", \"choke\", \"choice\", \"beer\", \"women\", \"winter\", \"silent\", \"liquor\", \"later\", \"gang\", \"forward\", \"tellin\", \"team\", \"tall\", \"proud\", \"haters\", \"givin\", \"flip\", \"creep\", \"bird\", \"bigger\", \"cars\", \"brothers\", \"whiskey\", \"super\", \"snow\", \"ship\", \"nation\", \"midnight\", \"demons\", \"bridge\", \"america\", \"vein\", \"kitchen\", \"hit\", \"swallow\", \"pop\", \"asleep\", \"surrender\", \"knife\", \"jail\", \"flesh\", \"explain\", \"church\", \"vibe\", \"stuff\", \"seven\", \"niggaz\", \"magic\", \"hiphop\", \"east\", \"create\", \"chase\", \"bullet\", \"bother\", \"angels\", \"tune\", \"rockin\", \"message\", \"smokin\", \"slide\", \"friday\", \"enemy\", \"trick\", \"table\", \"seek\", \"problems\", \"murder\", \"main\", \"lovers\", \"calm\", \"view\", \"seed\", \"destroy\", \"crush\", \"cast\", \"travel\", \"thang\", \"lovely\", \"admit\", \"stage\", \"shall\", \"faster\", \"difference\", \"release\", \"movin\", \"homie\", \"final\", \"field\", \"beneath\", \"york\", \"silver\", \"shade\", \"early\", \"dumb\", \"doors\", \"distance\", \"boss\", \"tough\", \"stare\", \"soft\", \"shadow\", \"form\", \"ease\", \"bullets\", \"workin\", \"weather\", \"refuse\", \"poor\", \"greatest\", \"cut\", \"cop\", \"alarm\", \"undo\", \"stranger\", \"store\", \"spring\", \"secret\", \"prayer\", \"older\", \"notice\", \"loneliness\", \"fallin\", \"comfort\", \"boat\", \"sail\", \"pump\", \"happiness\", \"flag\", \"chick\", \"ache\", \"twice\", \"trippin\", \"plus\", \"erase\", \"bounce\", \"zone\", \"thrill\", \"nuff\", \"food\", \"fair\", \"beauty\", \"swim\", \"string\", \"mountains\", \"flash\", \"bitter\", \"amaze\", \"thats\", \"liar\", \"history\", \"guide\", \"date\", \"clap\", \"bullshit\", \"beach\", \"needle\", \"nasty\", \"imagine\", \"highway\", \"mountain\", \"kingdom\", \"hat\", \"grand\", \"class\", \"busy\", \"sin\", \"season\", \"hangin\", \"haffi\", \"cost\", \"bambalam\", \"worse\", \"tide\", \"lifetime\", \"finish\", \"cake\", \"surely\", \"sippin\", \"pimp\", \"pills\", \"enemies\", \"christmas\", \"cheap\", \"saint\", \"rappers\", \"order\", \"motherfuckers\", \"mornin\", \"hatin\", \"foot\", \"coast\", \"haunt\", \"bubble\", \"bare\", \"spark\", \"sister\", \"serve\", \"precious\", \"lonesome\", \"attention\", \"attack\", \"suit\", \"speed\", \"nose\", \"name\", \"misery\", \"goodnight\", \"focus\", \"coffee\", \"savior\", \"rope\", \"note\", \"crib\", \"butterfly\", \"burnin\", \"spill\", \"singin\", \"rebel\", \"motherfuckin\", \"dough\", \"wound\", \"secrets\", \"imma\", \"frame\", \"folks\", \"energy\", \"solo\", \"motion\", \"key\", \"hallelujah\", \"confuse\", \"carry\", \"act\", \"wander\", \"slave\", \"slap\", \"shape\", \"lately\", \"holdin\", \"aren\", \"action\", \"toe\", \"spell\", \"north\", \"nail\", \"motherfucking\", \"lungs\", \"haha\", \"grip\", \"grey\", \"gather\", \"find\", \"expect\", \"callin\", \"win\", \"unknown\", \"trash\", \"steel\", \"rid\", \"rhythm\", \"overcome\", \"killin\", \"homies\", \"guy\", \"gift\", \"fold\", \"excuse\", \"disease\", \"card\", \"blunt\", \"stress\", \"strangers\", \"joke\", \"groove\", \"generation\", \"fault\", \"deeper\", \"claim\", \"cell\", \"visions\", \"ruin\", \"rap\", \"poppin\", \"police\", \"numb\", \"ash\", \"miracle\", \"jeans\", \"hotel\", \"dog\", \"rough\", \"proof\", \"press\", \"level\", \"hail\", \"dollars\", \"brick\", \"trade\", \"throne\", \"scratch\", \"ridin\", \"danger\", \"bore\", \"anybody\", \"woods\", \"wise\", \"will\", \"sexy\", \"poison\", \"plane\", \"monkey\", \"melt\", \"honest\", \"flower\", \"course\", \"boot\", \"bar\", \"wrist\", \"wonderful\", \"wipe\", \"wassup\", \"uhhuh\", \"stumble\", \"strip\", \"settle\", \"satisfy\", \"join\", \"gain\", \"complain\", \"bread\", \"appear\", \"agree\", \"addict\", \"weekend\", \"special\", \"set\", \"romance\", \"protect\", \"mood\", \"horse\", \"girlfriend\", \"dancin\", \"benz\", \"watchin\", \"vain\", \"saturday\", \"riot\", \"list\", \"lesson\", \"ears\", \"coke\", \"cock\", \"brave\", \"army\", \"trip\", \"thief\", \"offer\", \"hill\", \"cryin\", \"cigarette\", \"blaze\", \"actin\", \"sunday\", \"station\", \"souls\", \"smash\", \"sleepin\", \"shouldn\", \"rome\", \"ohhh\", \"ignore\", \"hopeless\", \"dude\", \"defeat\", \"connect\", \"blowin\", \"arrive\", \"windows\", \"violence\", \"thug\", \"satan\", \"roof\", \"rage\", \"prison\", \"hotter\", \"fire\", \"divine\", \"ballin\", \"squeeze\", \"hungry\", \"fish\", \"brighter\", \"weary\", \"underground\", \"pure\", \"punk\", \"pleasure\", \"nature\", \"minutes\", \"island\", \"daylight\", \"weep\", \"snake\", \"rewind\", \"relax\", \"reggae\", \"rabbit\", \"quarter\", \"pant\", \"ordinary\", \"hurricane\", \"guilty\", \"funky\", \"even\", \"doctor\", \"desperate\", \"champagne\", \"bruise\", \"suddenly\", \"smooth\", \"situation\", \"recognize\", \"plain\", \"naked\", \"killer\", \"embrace\", \"divide\", \"daughter\", \"cocaine\", \"careful\", \"bell\", \"ting\", \"telephone\", \"sacrifice\", \"puttin\", \"louder\", \"jealous\", \"impossible\", \"hurry\", \"heartache\", \"glow\", \"fever\", \"exactly\", \"charge\", \"ceiling\", \"advice\", \"tattoo\", \"sweetheart\", \"squad\", \"shirt\", \"shift\", \"revolution\", \"put\", \"hammer\", \"golden\", \"gangster\", \"flood\", \"float\", \"darlin\", \"chair\", \"certain\", \"breeze\", \"upside\", \"ugly\", \"throat\", \"sugar\", \"remedy\", \"rack\", \"exist\", \"darkest\", \"conquer\", \"clown\", \"boogie\", \"blast\", \"aside\", \"animal\", \"shop\", \"shatter\", \"roads\", \"moonlight\", \"moments\", \"metal\", \"keepin\", \"hmmm\", \"guarantee\", \"flight\", \"downtown\", \"direction\", \"dime\", \"desert\", \"dawg\", \"cure\", \"cookin\", \"candle\", \"thunder\", \"stories\", \"shed\", \"rasta\", \"months\", \"monday\", \"laughter\", \"havin\", \"grass\", \"forth\", \"drama\", \"deliver\", \"compare\", \"clip\", \"anytime\", \"score\", \"part\", \"movie\", \"monster\", \"leavin\", \"humble\", \"heel\", \"goddamn\", \"false\", \"easier\", \"dangerous\", \"company\", \"wisdom\", \"shore\", \"plenty\", \"pimpin\", \"palm\", \"kings\", \"gear\", \"forgiveness\", \"foreign\", \"drivin\", \"drip\", \"design\", \"cruel\", \"cream\", \"crave\", \"county\", \"bwoy\", \"betray\", \"wash\", \"toss\", \"sinner\", \"separate\", \"mystery\", \"mission\", \"match\", \"link\", \"joint\", \"hunnid\", \"habit\", \"flex\", \"fist\", \"eat\", \"destiny\", \"buzz\", \"risk\", \"replace\", \"prepare\", \"piss\", \"pill\", \"mention\", \"mask\", \"lack\", \"gucci\", \"garden\", \"dice\", \"cat\", \"traffic\", \"ticket\", \"shock\", \"sheet\", \"roam\", \"rip\", \"represent\", \"religion\", \"redneck\", \"original\", \"lightning\", \"legs\", \"camera\", \"bill\", \"belly\", \"skrt\", \"reveal\", \"rent\", \"rapper\", \"pistol\", \"natural\", \"mister\", \"mighty\", \"march\", \"madness\", \"jungle\", \"hero\", \"hardest\", \"fence\", \"everytime\", \"dutty\", \"dive\", \"disguise\", \"crook\", \"concrete\", \"celebrate\", \"cage\", \"bump\", \"angry\", \"stain\", \"spoil\", \"softly\", \"shakin\", \"plate\", \"nerve\", \"heartbeat\", \"guard\", \"crumble\", \"couch\", \"clue\", \"click\", \"treasure\", \"strap\", \"slam\", \"purple\", \"program\", \"plant\", \"marijuana\", \"lake\", \"iron\", \"innocent\", \"funk\", \"endless\", \"dreamin\", \"cook\", \"album\", \"stretch\", \"split\", \"sip\", \"seal\", \"screw\", \"salt\", \"rivers\", \"person\", \"limit\", \"lazy\", \"innocence\", \"greed\", \"gate\", \"famous\", \"dread\", \"cruise\", \"chop\", \"attitude\", \"afford\", \"youths\", \"whistle\", \"weren\", \"truly\", \"screen\", \"resist\", \"park\", \"lighter\", \"fantasy\", \"bus\", \"bible\", \"bedroom\", \"base\", \"video\", \"grade\", \"culture\", \"complicate\", \"chicken\", \"blink\", \"turnin\", \"tour\", \"tone\", \"snap\", \"smack\", \"reign\", \"pool\", \"plug\", \"player\", \"foolish\", \"finna\", \"fan\", \"enjoy\", \"diss\", \"deny\", \"concern\", \"common\", \"chant\", \"cadillac\", \"birth\", \"beepbap\", \"bathroom\", \"anger\", \"yellow\", \"witness\", \"trail\", \"torture\", \"tooth\", \"thugs\", \"throwin\", \"sweep\", \"stray\", \"stall\", \"solid\", \"silly\", \"showin\", \"shower\", \"shelter\", \"passion\", \"missin\", \"medicine\", \"loss\", \"highest\", \"gods\", \"frown\", \"drain\", \"curtain\", \"cheese\", \"cheek\", \"cheat\", \"center\", \"bag\", \"weapon\", \"wavy\", \"texas\", \"sons\", \"sober\", \"righteous\", \"rag\", \"pity\", \"lyin\", \"journey\", \"inch\", \"gangsta\", \"fit\", \"daily\", \"cowboy\", \"complete\", \"cave\", \"burden\", \"bunch\", \"blade\", \"backwards\", \"zion\", \"wolves\", \"wishin\", \"victory\", \"thankful\", \"starve\", \"shoulda\", \"selassie\", \"science\", \"rust\", \"rocket\", \"rescue\", \"hype\", \"hustlin\", \"hips\", \"hesitate\", \"gentle\", \"fruit\", \"fore\", \"flaw\", \"fix\", \"feed\", \"destruction\", \"chat\", \"borrow\", \"beef\", \"be\", \"back\", \"worlds\", \"range\", \"pose\", \"planet\", \"oohooh\", \"large\", \"justice\", \"judgement\", \"defend\", \"crank\", \"confusion\", \"chicks\", \"unite\", \"tape\", \"standin\", \"slay\", \"santa\", \"roses\", \"rainbow\", \"present\", \"pipe\", \"neighbor\", \"lessons\", \"hypnotize\", \"harm\", \"glock\", \"geronimo\", \"gently\", \"deceive\", \"conscience\", \"confess\", \"colder\", \"castle\", \"bull\", \"baddest\", \"universe\", \"tower\", \"sword\", \"sweeter\", \"sway\", \"smart\", \"seas\", \"poser\", \"ought\", \"neva\", \"nanana\", \"mass\", \"knockin\", \"jumpin\", \"juice\", \"illusion\", \"hollywood\", \"favor\", \"easily\", \"disaster\", \"dinner\", \"cali\", \"bustin\", \"amen\", \"afternoon\", \"absolutely\", \"yeahyeah\", \"vacation\", \"summertime\", \"stab\", \"shelf\", \"salvation\", \"position\", \"mile\", \"mane\", \"lot\", \"jazz\", \"important\", \"idea\", \"hustla\", \"grill\", \"enter\", \"doom\", \"consume\", \"coat\", \"chance\", \"button\", \"butt\", \"await\", \"apple\", \"able\", \"yell\", \"whoop\", \"whoaoh\", \"victim\", \"thread\", \"sunset\", \"society\", \"soak\", \"sneak\", \"selfish\", \"savage\", \"reflection\", \"paris\", \"ooooh\", \"model\", \"microphone\", \"knot\", \"grin\", \"fuel\", \"extra\", \"explode\", \"eagle\", \"demon\", \"dash\", \"bloody\", \"alabama\", \"worship\", \"weigh\", \"valley\", \"superstar\", \"studio\", \"september\", \"practice\", \"post\", \"peep\", \"page\", \"oceans\", \"mental\", \"jammin\", \"holler\", \"holiday\", \"heroes\", \"gutter\", \"greater\", \"gamble\", \"empire\", \"courage\", \"constant\", \"collide\", \"coffin\", \"charm\", \"bein\", \"beam\", \"awful\", \"alcohol\", \"thee\", \"tail\", \"screamin\", \"sadness\", \"remix\", \"receive\", \"noose\", \"mend\", \"mash\", \"marry\", \"kissin\", \"japan\", \"jamaica\", \"flat\", \"eternity\", \"electric\", \"dyin\", \"distant\", \"cuyah\", \"court\", \"coupe\", \"cooler\", \"conversation\", \"continue\", \"ching\", \"butter\", \"artist\", \"allow\", \"war\", \"support\", \"role\", \"recall\", \"punch\", \"project\", \"private\", \"monsters\", \"lame\", \"jersey\", \"image\", \"howl\", \"gwan\", \"gwaan\", \"goodbyes\", \"firm\", \"colour\", \"breed\", \"bold\", \"birthday\", \"appreciate\", \"ambition\", \"younger\", \"weakness\", \"wastin\", \"usually\", \"sunrise\", \"success\", \"square\", \"southern\", \"skrrt\", \"shotgun\", \"profit\", \"pole\", \"nearly\", \"mississippi\", \"lala\", \"hush\", \"heavens\", \"gut\", \"emptiness\", \"emotion\", \"dudes\", \"deck\", \"cuss\", \"constantly\", \"completely\", \"command\", \"collect\", \"cocky\", \"cigarettes\", \"awhile\", \"accept\", \"whore\", \"teacher\", \"tangle\", \"suicide\", \"stunt\", \"stomp\", \"spliff\", \"sack\", \"purpose\", \"pink\", \"pair\", \"overtime\", \"outlaw\", \"meat\", \"maze\", \"league\", \"kickin\", \"jewel\", \"horizon\", \"hittin\", \"hella\", \"heartbreak\", \"hardly\", \"depart\", \"denial\", \"creation\", \"college\", \"clearly\", \"breakin\", \"astray\", \"zero\", \"violent\", \"useless\", \"unwind\", \"terrify\", \"tennessee\", \"tat\", \"swell\", \"sharp\", \"shackle\", \"roar\", \"restless\", \"psycho\", \"neon\", \"moan\", \"mix\", \"linger\", \"leather\", \"knowledge\", \"knowin\", \"jackpot\", \"issue\", \"hazy\", \"grant\", \"goodness\", \"forsake\", \"film\", \"brooklyn\", \"blah\", \"warrior\", \"unto\", \"uncle\", \"tshirt\", \"trunk\", \"temper\", \"sofa\", \"size\", \"sixteen\", \"simply\", \"sigh\", \"side\", \"shootin\", \"shinin\", \"raver\", \"rappin\", \"rainy\", \"nuttin\", \"makeup\", \"lower\", \"knee\", \"keeper\", \"justify\", \"halo\", \"gravity\", \"government\", \"glitter\", \"fragile\", \"code\", \"champion\", \"bloom\", \"blank\", \"beckon\", \"unfold\", \"tool\", \"thirty\", \"thirst\", \"surface\", \"sinners\", \"shimmy\", \"scare\", \"plastic\", \"partner\", \"paralyze\", \"panic\", \"involve\", \"hunger\", \"guilt\", \"frighten\", \"diva\", \"dig\", \"defy\", \"decisions\", \"decision\", \"coulda\", \"comfortable\", \"claw\", \"choices\", \"chillin\", \"bronx\", \"breakdown\", \"beware\", \"bastard\", \"basement\", \"awaken\", \"toll\", \"toast\", \"tease\", \"sweetest\", \"strand\", \"stayin\", \"slick\", \"rastafari\", \"porch\", \"pin\", \"pile\", \"phase\", \"pearl\", \"patient\", \"paranoid\", \"orleans\", \"neighborhood\", \"losin\", \"layin\", \"language\", \"inspire\", \"inspiration\", \"glue\", \"frontin\", \"familiar\", \"cripple\", \"clique\", \"carve\", \"buck\", \"brush\", \"belt\", \"text\", \"tender\", \"snatch\", \"slippin\", \"sheep\", \"sake\", \"reputation\", \"quickly\", \"puzzle\", \"princess\", \"prey\", \"preacher\", \"peaceful\", \"oxygen\", \"month\", \"lalala\", \"lace\", \"jones\", \"invisible\", \"intentions\", \"highs\", \"guap\", \"faithful\", \"expose\", \"debt\", \"cycle\", \"cyan\", \"condition\", \"compromise\", \"closet\", \"choir\", \"cheer\", \"branch\", \"boyfriend\", \"award\", \"ashamed\", \"uptown\", \"tequila\", \"swingin\", \"spray\", \"spendin\", \"sleeve\", \"sisters\", \"shallow\", \"sensation\", \"sacred\", \"rumor\", \"president\", \"positive\", \"playa\", \"pardon\", \"nut\", \"maintain\", \"lullaby\", \"legend\", \"laws\", \"last\", \"label\", \"kneel\", \"karma\", \"jive\", \"jacket\", \"hopin\", \"haze\", \"halloween\", \"gorgeous\", \"fightin\", \"everlasting\", \"eternal\", \"especially\", \"equal\", \"emotions\", \"discover\", \"cousin\", \"contain\", \"consider\", \"bling\", \"billion\", \"applause\", \"ahhh\", \"ahah\", \"abuse\", \"whine\", \"waist\", \"version\", \"vampire\", \"thumb\", \"thirsty\", \"suffocate\", \"stream\", \"stereo\", \"speakers\", \"spare\", \"rob\", \"reel\", \"purse\", \"public\", \"platinum\", \"perfume\", \"perform\", \"obsession\", \"muscle\", \"millions\", \"maker\", \"likkle\", \"industry\", \"hatred\", \"gaze\", \"funeral\", \"facts\", \"earn\", \"duck\", \"digits\", \"degrees\", \"define\", \"deadly\", \"creepin\", \"core\", \"chrome\", \"bringin\", \"bricks\", \"boyz\", \"bowl\", \"balance\", \"average\", \"age\", \"whatcha\", \"weezy\", \"wed\", \"wealth\", \"tread\", \"ticktock\", \"sympathy\", \"supersonic\", \"storm\", \"seam\", \"pillow\", \"photograph\", \"parade\", \"pale\", \"overwhelm\", \"otherness\", \"ooohh\", \"ohhhh\", \"movies\", \"mold\", \"lemme\", \"juck\", \"jewelry\", \"hundreds\", \"hardcore\", \"grateful\", \"fashion\", \"excite\", \"dwell\", \"disgrace\", \"devotion\", \"depend\", \"cyaa\", \"corn\", \"contagious\", \"cameras\", \"blur\"], \"legendgroup\": \"\", \"marker\": {\"color\": \"#636efa\", \"size\": [1.0, 1.0, 1.0, 1.0, 1.0, 1.0, 1.0, 1.0, 1.0, 1.0, 1.0, 1.0, 1.0, 1.0, 1.0, 1.0, 1.0, 1.0, 1.0, 1.0, 1.0, 1.0, 1.0, 1.0, 1.0, 1.0, 1.0, 1.0, 1.0, 1.0, 1.0, 1.0, 1.0, 1.0, 1.0, 1.0, 1.0, 1.0, 1.0, 1.0, 1.0, 1.0, 1.0, 1.0, 1.0, 1.0, 1.0, 1.0, 1.0, 1.0, 1.0, 1.0, 1.0, 1.0, 1.0, 1.0, 1.0, 1.0, 1.0, 1.0, 1.0, 1.0, 1.0, 1.0, 1.0, 1.0, 1.0, 1.0, 1.0, 1.0, 1.0, 1.0, 1.0, 1.0, 1.0, 1.0, 1.0, 1.0, 1.0, 1.0, 1.0, 1.0, 1.0, 1.0, 1.0, 1.0, 1.0, 1.0, 1.0, 1.0, 1.0, 1.0, 1.0, 1.0, 1.0, 1.0, 1.0, 1.0, 1.0, 1.0, 1.0, 1.0, 1.0, 1.0, 1.0, 1.0, 1.0, 1.0, 1.0, 1.0, 1.0, 1.0, 1.0, 1.0, 1.0, 1.0, 1.0, 1.0, 1.0, 1.0, 1.0, 1.0, 1.0, 1.0, 1.0, 1.0, 1.0, 1.0, 1.0, 1.0, 1.0, 1.0, 1.0, 1.0, 1.0, 1.0, 1.0, 1.0, 1.0, 1.0, 1.0, 1.0, 1.0, 1.0, 1.0, 1.0, 1.0, 1.0, 1.0, 1.0, 1.0, 1.0, 1.0, 1.0, 1.0, 1.0, 1.0, 1.0, 1.0, 1.0, 1.0, 1.0, 1.0, 1.0, 1.0, 1.0, 1.0, 1.0, 1.0, 1.0, 1.0, 1.0, 1.0, 1.0, 1.0, 1.0, 1.0, 1.0, 1.0, 1.0, 1.0, 1.0, 1.0, 1.0, 1.0, 1.0, 1.0, 1.0, 1.0, 1.0, 1.0, 1.0, 1.0, 1.0, 1.0, 1.0, 1.0, 1.0, 1.0, 1.0, 1.0, 1.0, 1.0, 1.0, 1.0, 1.0, 1.0, 1.0, 1.0, 1.0, 1.0, 1.0, 1.0, 1.0, 1.0, 1.0, 1.0, 1.0, 1.0, 1.0, 1.0, 1.0, 1.0, 1.0, 1.0, 1.0, 1.0, 1.0, 1.0, 1.0, 1.0, 1.0, 1.0, 1.0, 1.0, 1.0, 1.0, 1.0, 1.0, 1.0, 1.0, 1.0, 1.0, 1.0, 1.0, 1.0, 1.0, 1.0, 1.0, 1.0, 1.0, 1.0, 1.0, 1.0, 1.0, 1.0, 1.0, 1.0, 1.0, 1.0, 1.0, 1.0, 1.0, 1.0, 1.0, 1.0, 1.0, 1.0, 1.0, 1.0, 1.0, 1.0, 1.0, 1.0, 1.0, 1.0, 1.0, 1.0, 1.0, 1.0, 1.0, 1.0, 1.0, 1.0, 1.0, 1.0, 1.0, 1.0, 1.0, 1.0, 1.0, 1.0, 1.0, 1.0, 1.0, 1.0, 1.0, 1.0, 1.0, 1.0, 1.0, 1.0, 1.0, 1.0, 1.0, 1.0, 1.0, 1.0, 1.0, 1.0, 1.0, 1.0, 1.0, 1.0, 1.0, 1.0, 1.0, 1.0, 1.0, 1.0, 1.0, 1.0, 1.0, 1.0, 1.0, 1.0, 1.0, 1.0, 1.0, 1.0, 1.0, 1.0, 1.0, 1.0, 1.0, 1.0, 1.0, 1.0, 1.0, 1.0, 1.0, 1.0, 1.0, 1.0, 1.0, 1.0, 1.0, 1.0, 1.0, 1.0, 1.0, 1.0, 1.0, 1.0, 1.0, 1.0, 1.0, 1.0, 1.0, 1.0, 1.0, 1.0, 1.0, 1.0, 1.0, 1.0, 1.0, 1.0, 1.0, 1.0, 1.0, 1.0, 1.0, 1.0, 1.0, 1.0, 1.0, 1.0, 1.0, 1.0, 1.0, 1.0, 1.0, 1.0, 1.0, 1.0, 1.0, 1.0, 1.0, 1.0, 1.0, 1.0, 1.0, 1.0, 1.0, 1.0, 1.0, 1.0, 1.0, 1.0, 1.0, 1.0, 1.0, 1.0, 1.0, 1.0, 1.0, 1.0, 1.0, 1.0, 1.0, 1.0, 1.0, 1.0, 1.0, 1.0, 1.0, 1.0, 1.0, 1.0, 1.0, 1.0, 1.0, 1.0, 1.0, 1.0, 1.0, 1.0, 1.0, 1.0, 1.0, 1.0, 1.0, 1.0, 1.0, 1.0, 1.0, 1.0, 1.0, 1.0, 1.0, 1.0, 1.0, 1.0, 1.0, 1.0, 1.0, 1.0, 1.0, 1.0, 1.0, 1.0, 1.0, 1.0, 1.0, 1.0, 1.0, 1.0, 1.0, 1.0, 1.0, 1.0, 1.0, 1.0, 1.0, 1.0, 1.0, 1.0, 1.0, 1.0, 1.0, 1.0, 1.0, 1.0, 1.0, 1.0, 1.0, 1.0, 1.0, 1.0, 1.0, 1.0, 1.0, 1.0, 1.0, 1.0, 1.0, 1.0, 1.0, 1.0, 1.0, 1.0, 1.0, 1.0, 1.0, 1.0, 1.0, 1.0, 1.0, 1.0, 1.0, 1.0, 1.0, 1.0, 1.0, 1.0, 1.0, 1.0, 1.0, 1.0, 1.0, 1.0, 1.0, 1.0, 1.0, 1.0, 1.0, 1.0, 1.0, 1.0, 1.0, 1.0, 1.0, 1.0, 1.0, 1.0, 1.0, 1.0, 1.0, 1.0, 1.0, 1.0, 1.0, 1.0, 1.0, 1.0, 1.0, 1.0, 1.0, 1.0, 1.0, 1.0, 1.0, 1.0, 1.0, 1.0, 1.0, 1.0, 1.0, 1.0, 1.0, 1.0, 1.0, 1.0, 1.0, 1.0, 1.0, 1.0, 1.0, 1.0, 1.0, 1.0, 1.0, 1.0, 1.0, 1.0, 1.0, 1.0, 1.0, 1.0, 1.0, 1.0, 1.0, 1.0, 1.0, 1.0, 1.0, 1.0, 1.0, 1.0, 1.0, 1.0, 1.0, 1.0, 1.0, 1.0, 1.0, 1.0, 1.0, 1.0, 1.0, 1.0, 1.0, 1.0, 1.0, 1.0, 1.0, 1.0, 1.0, 1.0, 1.0, 1.0, 1.0, 1.0, 1.0, 1.0, 1.0, 1.0, 1.0, 1.0, 1.0, 1.0, 1.0, 1.0, 1.0, 1.0, 1.0, 1.0, 1.0, 1.0, 1.0, 1.0, 1.0, 1.0, 1.0, 1.0, 1.0, 1.0, 1.0, 1.0, 1.0, 1.0, 1.0, 1.0, 1.0, 1.0, 1.0, 1.0, 1.0, 1.0, 1.0, 1.0, 1.0, 1.0, 1.0, 1.0, 1.0, 1.0, 1.0, 1.0, 1.0, 1.0, 1.0, 1.0, 1.0, 1.0, 1.0, 1.0, 1.0, 1.0, 1.0, 1.0, 1.0, 1.0, 1.0, 1.0, 1.0, 1.0, 1.0, 1.0, 1.0, 1.0, 1.0, 1.0, 1.0, 1.0, 1.0, 1.0, 1.0, 1.0, 1.0, 1.0, 1.0, 1.0, 1.0, 1.0, 1.0, 1.0, 1.0, 1.0, 1.0, 1.0, 1.0, 1.0, 1.0, 1.0, 1.0, 1.0, 1.0, 1.0, 1.0, 1.0, 1.0, 1.0, 1.0, 1.0, 1.0, 1.0, 1.0, 1.0, 1.0, 1.0, 1.0, 1.0, 1.0, 1.0, 1.0, 1.0, 1.0, 1.0, 1.0, 1.0, 1.0, 1.0, 1.0, 1.0, 1.0, 1.0, 1.0, 1.0, 1.0, 1.0, 1.0, 1.0, 1.0, 1.0, 1.0, 1.0, 1.0, 1.0, 1.0, 1.0, 1.0, 1.0, 1.0, 1.0, 1.0, 1.0, 1.0, 1.0, 1.0, 1.0, 1.0, 1.0, 1.0, 1.0, 1.0, 1.0, 1.0, 1.0, 1.0, 1.0, 1.0, 1.0, 1.0, 1.0, 1.0, 1.0, 1.0, 1.0, 1.0, 1.0, 1.0, 1.0, 1.0, 1.0, 1.0, 1.0, 1.0, 1.0, 1.0, 1.0, 1.0, 1.0, 1.0, 1.0, 1.0, 1.0, 1.0, 1.0, 1.0, 1.0, 1.0, 1.0, 1.0, 1.0, 1.0, 1.0, 1.0, 1.0, 1.0, 1.0, 1.0, 1.0, 1.0, 1.0, 1.0, 1.0, 1.0, 1.0, 1.0, 1.0, 1.0, 1.0, 1.0, 1.0, 1.0, 1.0, 1.0, 1.0, 1.0, 1.0, 1.0, 1.0, 1.0, 1.0, 1.0, 1.0, 1.0, 1.0, 1.0, 1.0, 1.0, 1.0, 1.0, 1.0, 1.0, 1.0, 1.0, 1.0, 1.0, 1.0, 1.0, 1.0, 1.0, 1.0, 1.0, 1.0, 1.0, 1.0, 1.0, 1.0, 1.0, 1.0, 1.0, 1.0, 1.0, 1.0, 1.0, 1.0, 1.0, 1.0, 1.0, 1.0, 1.0, 1.0, 1.0, 1.0, 1.0, 1.0, 1.0, 1.0, 1.0, 1.0, 1.0, 1.0, 1.0, 1.0, 1.0, 1.0, 1.0, 1.0, 1.0, 1.0, 1.0, 1.0, 1.0, 1.0, 1.0, 1.0, 1.0, 1.0, 1.0, 1.0, 1.0, 1.0, 1.0, 1.0, 1.0, 1.0, 1.0, 1.0, 1.0, 1.0, 1.0, 1.0, 1.0, 1.0, 1.0, 1.0, 1.0, 1.0, 1.0, 1.0, 1.0, 1.0, 1.0, 1.0, 1.0, 1.0, 1.0, 1.0, 1.0, 1.0, 1.0, 1.0, 1.0, 1.0, 1.0, 1.0, 1.0, 1.0, 1.0, 1.0, 1.0, 1.0, 1.0, 1.0, 1.0, 1.0, 1.0, 1.0, 1.0, 1.0, 1.0, 1.0, 1.0, 1.0, 1.0, 1.0, 1.0, 1.0, 1.0, 1.0, 1.0, 1.0, 1.0, 1.0, 1.0, 1.0, 1.0, 1.0, 1.0, 1.0, 1.0, 1.0, 1.0, 1.0, 1.0, 1.0, 1.0, 1.0, 1.0, 1.0, 1.0, 1.0, 1.0, 1.0, 1.0, 1.0, 1.0, 1.0, 1.0, 1.0, 1.0, 1.0, 1.0, 1.0, 1.0, 1.0, 1.0, 1.0, 1.0, 1.0, 1.0, 1.0, 1.0, 1.0, 1.0, 1.0, 1.0, 1.0, 1.0, 1.0, 1.0, 1.0, 1.0, 1.0, 1.0, 1.0, 1.0, 1.0, 1.0, 1.0, 1.0, 1.0, 1.0, 1.0, 1.0, 1.0, 1.0, 1.0, 1.0, 1.0, 1.0, 1.0, 1.0, 1.0, 1.0, 1.0, 1.0, 1.0, 1.0, 1.0, 1.0, 1.0, 1.0, 1.0, 1.0, 1.0, 1.0, 1.0, 1.0, 1.0, 1.0, 1.0, 1.0, 1.0, 1.0, 1.0, 1.0, 1.0, 1.0, 1.0, 1.0, 1.0, 1.0, 1.0, 1.0, 1.0, 1.0, 1.0, 1.0, 1.0, 1.0, 1.0, 1.0, 1.0, 1.0, 1.0, 1.0, 1.0, 1.0, 1.0, 1.0, 1.0, 1.0, 1.0, 1.0, 1.0, 1.0, 1.0, 1.0, 1.0, 1.0, 1.0, 1.0, 1.0, 1.0, 1.0, 1.0, 1.0, 1.0, 1.0, 1.0, 1.0, 1.0, 1.0, 1.0, 1.0, 1.0, 1.0, 1.0, 1.0, 1.0, 1.0, 1.0, 1.0, 1.0, 1.0, 1.0, 1.0, 1.0, 1.0, 1.0, 1.0, 1.0, 1.0, 1.0, 1.0, 1.0, 1.0, 1.0, 1.0, 1.0, 1.0, 1.0, 1.0, 1.0, 1.0, 1.0, 1.0, 1.0, 1.0, 1.0, 1.0, 1.0, 1.0, 1.0, 1.0, 1.0, 1.0, 1.0, 1.0, 1.0, 1.0, 1.0, 1.0, 1.0, 1.0, 1.0, 1.0, 1.0, 1.0, 1.0, 1.0, 1.0, 1.0, 1.0, 1.0, 1.0, 1.0, 1.0, 1.0, 1.0, 1.0, 1.0, 1.0, 1.0, 1.0, 1.0, 1.0, 1.0, 1.0, 1.0, 1.0, 1.0, 1.0, 1.0, 1.0, 1.0, 1.0, 1.0, 1.0, 1.0, 1.0, 1.0, 1.0, 1.0, 1.0, 1.0, 1.0, 1.0, 1.0, 1.0, 1.0, 1.0, 1.0, 1.0, 1.0, 1.0, 1.0, 1.0, 1.0, 1.0, 1.0, 1.0, 1.0, 1.0, 1.0, 1.0, 1.0, 1.0, 1.0, 1.0, 1.0, 1.0, 1.0, 1.0, 1.0, 1.0, 1.0, 1.0, 1.0, 1.0, 1.0, 1.0, 1.0, 1.0, 1.0, 1.0, 1.0, 1.0, 1.0, 1.0, 1.0, 1.0, 1.0, 1.0, 1.0, 1.0, 1.0, 1.0, 1.0, 1.0, 1.0, 1.0, 1.0, 1.0, 1.0, 1.0, 1.0, 1.0, 1.0, 1.0, 1.0, 1.0, 1.0, 1.0, 1.0, 1.0, 1.0, 1.0, 1.0, 1.0, 1.0, 1.0, 1.0, 1.0, 1.0, 1.0, 1.0, 1.0, 1.0, 1.0, 1.0, 1.0, 1.0, 1.0, 1.0, 1.0, 1.0, 1.0, 1.0, 1.0, 1.0, 1.0, 1.0, 1.0, 1.0, 1.0, 1.0, 1.0, 1.0, 1.0, 1.0, 1.0, 1.0, 1.0, 1.0, 1.0, 1.0, 1.0, 1.0, 1.0, 1.0, 1.0, 1.0, 1.0, 1.0, 1.0, 1.0, 1.0, 1.0, 1.0, 1.0, 1.0, 1.0, 1.0, 1.0, 1.0, 1.0, 1.0, 1.0, 1.0, 1.0, 1.0, 1.0, 1.0, 1.0, 1.0, 1.0, 1.0, 1.0, 1.0, 1.0, 1.0, 1.0, 1.0, 1.0, 1.0, 1.0, 1.0, 1.0, 1.0, 1.0, 1.0, 1.0, 1.0, 1.0, 1.0, 1.0, 1.0, 1.0, 1.0, 1.0, 1.0, 1.0, 1.0, 1.0, 1.0, 1.0, 1.0, 1.0, 1.0, 1.0, 1.0, 1.0, 1.0, 1.0, 1.0, 1.0, 1.0, 1.0, 1.0, 1.0, 1.0, 1.0, 1.0, 1.0, 1.0, 1.0, 1.0, 1.0, 1.0, 1.0, 1.0, 1.0, 1.0, 1.0, 1.0, 1.0, 1.0, 1.0, 1.0, 1.0, 1.0, 1.0, 1.0, 1.0, 1.0, 1.0, 1.0, 1.0, 1.0, 1.0, 1.0, 1.0, 1.0, 1.0, 1.0, 1.0, 1.0, 1.0, 1.0, 1.0, 1.0, 1.0, 1.0, 1.0, 1.0, 1.0, 1.0, 1.0, 1.0, 1.0, 1.0, 1.0, 1.0, 1.0, 1.0, 1.0, 1.0, 1.0, 1.0, 1.0, 1.0, 1.0, 1.0, 1.0, 1.0, 1.0, 1.0, 1.0, 1.0, 1.0, 1.0, 1.0, 1.0, 1.0, 1.0, 1.0, 1.0, 1.0, 1.0, 1.0, 1.0, 1.0, 1.0, 1.0, 1.0, 1.0, 1.0, 1.0, 1.0, 1.0, 1.0, 1.0, 1.0, 1.0, 1.0, 1.0, 1.0, 1.0, 1.0, 1.0, 1.0, 1.0, 1.0, 1.0, 1.0, 1.0, 1.0, 1.0, 1.0, 1.0, 1.0, 1.0, 1.0, 1.0, 1.0, 1.0, 1.0, 1.0, 1.0, 1.0, 1.0, 1.0, 1.0, 1.0, 1.0, 1.0, 1.0, 1.0, 1.0, 1.0, 1.0, 1.0, 1.0, 1.0, 1.0, 1.0, 1.0, 1.0, 1.0, 1.0, 1.0, 1.0, 1.0, 1.0, 1.0, 1.0, 1.0, 1.0, 1.0, 1.0, 1.0, 1.0, 1.0, 1.0, 1.0, 1.0, 1.0, 1.0, 1.0, 1.0, 1.0, 1.0, 1.0, 1.0, 1.0, 1.0, 1.0, 1.0, 1.0, 1.0, 1.0, 1.0, 1.0, 1.0, 1.0, 1.0, 1.0, 1.0, 1.0, 1.0, 1.0, 1.0, 1.0, 1.0, 1.0, 1.0, 1.0, 1.0, 1.0, 1.0, 1.0, 1.0, 1.0, 1.0, 1.0, 1.0, 1.0, 1.0, 1.0, 1.0, 1.0, 1.0, 1.0, 1.0, 1.0, 1.0, 1.0, 1.0, 1.0, 1.0, 1.0, 1.0, 1.0, 1.0, 1.0, 1.0, 1.0, 1.0, 1.0, 1.0, 1.0, 1.0, 1.0, 1.0, 1.0, 1.0, 1.0, 1.0, 1.0, 1.0, 1.0, 1.0, 1.0, 1.0, 1.0, 1.0, 1.0, 1.0, 1.0, 1.0, 1.0, 1.0, 1.0, 1.0, 1.0, 1.0, 1.0, 1.0, 1.0, 1.0, 1.0, 1.0, 1.0, 1.0, 1.0, 1.0, 1.0, 1.0, 1.0, 1.0, 1.0, 1.0, 1.0, 1.0, 1.0, 1.0, 1.0, 1.0, 1.0, 1.0, 1.0, 1.0, 1.0, 1.0, 1.0, 1.0, 1.0, 1.0, 1.0, 1.0, 1.0, 1.0, 1.0, 1.0, 1.0, 1.0, 1.0, 1.0, 1.0, 1.0, 1.0, 1.0, 1.0, 1.0, 1.0, 1.0, 1.0, 1.0, 1.0, 1.0, 1.0, 1.0, 1.0, 1.0, 1.0, 1.0, 1.0, 1.0, 1.0, 1.0, 1.0, 1.0, 1.0, 1.0, 1.0, 1.0, 1.0, 1.0, 1.0, 1.0, 1.0, 1.0, 1.0, 1.0, 1.0, 1.0, 1.0, 1.0, 1.0, 1.0, 1.0, 1.0, 1.0, 1.0, 1.0, 1.0, 1.0, 1.0, 1.0, 1.0, 1.0, 1.0, 1.0, 1.0, 1.0, 1.0, 1.0, 1.0, 1.0, 1.0, 1.0, 1.0, 1.0, 1.0, 1.0, 1.0, 1.0, 1.0, 1.0, 1.0, 1.0, 1.0, 1.0, 1.0, 1.0, 1.0, 1.0, 1.0, 1.0, 1.0, 1.0, 1.0, 1.0, 1.0, 1.0, 1.0, 1.0, 1.0, 1.0, 1.0, 1.0, 1.0, 1.0, 1.0, 1.0, 1.0, 1.0, 1.0, 1.0, 1.0, 1.0, 1.0, 1.0, 1.0, 1.0, 1.0, 1.0, 1.0, 1.0, 1.0, 1.0, 1.0, 1.0, 1.0, 1.0, 1.0, 1.0, 1.0, 1.0, 1.0, 1.0, 1.0, 1.0, 1.0, 1.0, 1.0, 1.0, 1.0, 1.0, 1.0, 1.0, 1.0, 1.0, 1.0, 1.0, 1.0, 1.0, 1.0, 1.0, 1.0, 1.0, 1.0, 1.0, 1.0, 1.0, 1.0, 1.0, 1.0, 1.0, 1.0, 1.0, 1.0, 1.0, 1.0, 1.0, 1.0, 1.0, 1.0, 1.0, 1.0, 1.0, 1.0, 1.0, 1.0, 1.0, 1.0, 1.0, 1.0, 1.0, 1.0, 1.0, 1.0, 1.0, 1.0, 1.0, 1.0, 1.0, 1.0, 1.0, 1.0, 1.0, 1.0, 1.0, 1.0, 1.0, 1.0, 1.0, 1.0, 1.0, 1.0, 1.0, 1.0, 1.0, 1.0, 1.0, 1.0, 1.0, 1.0, 1.0, 1.0, 1.0, 1.0, 1.0, 1.0, 1.0, 1.0, 1.0, 1.0, 1.0, 1.0, 1.0, 1.0, 1.0, 1.0, 1.0, 1.0, 1.0, 1.0, 1.0, 1.0, 1.0, 1.0, 1.0, 1.0, 1.0, 1.0, 1.0, 1.0, 1.0, 1.0, 1.0, 1.0, 1.0, 1.0, 1.0, 1.0, 1.0, 1.0, 1.0, 1.0, 1.0, 1.0, 1.0, 1.0, 1.0, 1.0, 1.0, 1.0, 1.0, 1.0, 1.0, 1.0, 1.0, 1.0, 1.0, 1.0, 1.0, 1.0, 1.0, 1.0, 1.0, 1.0, 1.0, 1.0, 1.0, 1.0, 1.0, 1.0, 1.0, 1.0, 1.0, 1.0, 1.0, 1.0, 1.0, 1.0, 1.0, 1.0, 1.0, 1.0, 1.0, 1.0, 1.0, 1.0, 1.0, 1.0, 1.0, 1.0, 1.0, 1.0, 1.0, 1.0, 1.0, 1.0, 1.0, 1.0, 1.0, 1.0, 1.0, 1.0, 1.0, 1.0, 1.0, 1.0, 1.0, 1.0, 1.0, 1.0, 1.0, 1.0, 1.0, 1.0, 1.0, 1.0, 1.0, 1.0, 1.0, 1.0, 1.0, 1.0, 1.0, 1.0, 1.0, 1.0, 1.0, 1.0, 1.0, 1.0, 1.0, 1.0, 1.0, 1.0, 1.0, 1.0], \"sizemode\": \"area\", \"sizeref\": 0.25, \"symbol\": \"circle\"}, \"mode\": \"markers\", \"name\": \"\", \"showlegend\": false, \"type\": \"scattergl\", \"x\": [-0.7532923817634583, -0.8643102049827576, 0.40602734684944153, -0.5774404406547546, -1.5725045204162598, -0.4143746793270111, -0.6988076567649841, -1.2822673320770264, 0.2074294537305832, -2.6508102416992188, -0.5977071523666382, -1.2788643836975098, -0.8804754614830017, -0.6778837442398071, -2.0124335289001465, -3.0632362365722656, -1.0142576694488525, 0.12742942571640015, -0.4460909068584442, -1.0993618965148926, -0.7684985399246216, -1.531651496887207, -1.0706826448440552, -0.4339509606361389, -0.9692956209182739, 3.7323060035705566, -1.9610346555709839, -0.8623780608177185, -2.846935510635376, -1.5687875747680664, -1.159061074256897, -1.8861606121063232, -0.38821014761924744, -1.715815782546997, -1.0999140739440918, 2.2537832260131836, 3.873469352722168, -0.9395724534988403, -0.5408492088317871, -0.44682228565216064, -1.6306493282318115, -1.0658918619155884, -1.4087198972702026, 3.047555446624756, -0.9306300282478333, 4.244849681854248, -2.005502462387085, -1.941567301750183, -1.2230157852172852, -2.0466904640197754, -0.5038456320762634, -1.646514654159546, -1.800336480140686, 0.35240447521209717, -0.7652996778488159, -0.9277810454368591, -1.2390269041061401, -1.722015380859375, -0.7927643656730652, -0.37117478251457214, -1.6727211475372314, -1.9627408981323242, -1.952862024307251, 11.57995319366455, 0.5448038578033447, -1.5248620510101318, 1.0672919750213623, -0.9737120866775513, -0.5232334136962891, -0.5854496359825134, -0.32886970043182373, -0.5340228080749512, -1.0627871751785278, -1.2286118268966675, -0.34697115421295166, -0.3710070848464966, -1.9727929830551147, 0.18647776544094086, -2.355717897415161, -2.0787668228149414, -2.227473735809326, -0.573876678943634, 2.636889934539795, 1.7555522918701172, -2.7049198150634766, -1.7275983095169067, 4.306516647338867, -1.511533260345459, 8.536600112915039, -1.606927514076233, -0.927237868309021, 0.3691486120223999, -1.1274213790893555, -0.41855815052986145, -0.6671566367149353, -1.2173033952713013, -1.695011019706726, -1.3850722312927246, 0.2893848121166229, -1.4161986112594604, -0.21695013344287872, -1.1847890615463257, -0.6700646281242371, -1.8123894929885864, -0.402542382478714, -1.0344566106796265, -0.8545753359794617, 2.1377716064453125, -2.6095988750457764, -0.5580738186836243, -0.6030053496360779, 4.177164554595947, -3.1043694019317627, 1.2038267850875854, -1.1916754245758057, 0.1382552832365036, -0.30454105138778687, 0.36753755807876587, -0.03583917021751404, 3.2063257694244385, -0.9195632338523865, -1.6115427017211914, -2.7411997318267822, -0.8955303430557251, 1.0506623983383179, 0.36694830656051636, -0.5106483101844788, -2.8859002590179443, -1.2577005624771118, 0.7661052346229553, -1.2590819597244263, -0.8001846075057983, 0.07339935749769211, -0.3086814284324646, -0.4137324392795563, -0.8568925261497498, 3.684309959411621, 0.5907948613166809, -1.3042317628860474, -0.7122861742973328, -0.278626024723053, -1.8321198225021362, -0.7543520331382751, 0.1497151404619217, -2.0157463550567627, 0.2798410952091217, 0.37599146366119385, -1.3251198530197144, -1.2093250751495361, 0.9220487475395203, -0.08811208605766296, 0.9699466228485107, 1.106023907661438, -0.81427001953125, -1.939481258392334, -0.32300999760627747, -1.3764636516571045, -0.5762930512428284, 0.049520473927259445, 0.5573038458824158, -1.9124290943145752, -1.539333701133728, -0.4766238331794739, 2.6531455516815186, -0.4785078763961792, -0.9830654263496399, -1.5981347560882568, -1.1435883045196533, -0.28693002462387085, -1.1165125370025635, -0.9520612955093384, -1.4613168239593506, 1.3612693548202515, -0.2982367277145386, -1.5070782899856567, -3.1081480979919434, -1.6297242641448975, -0.311798095703125, -0.1686505228281021, -1.3387856483459473, -2.2314047813415527, -0.74820876121521, 0.972818911075592, 2.0800704956054688, 0.5891630053520203, 0.4948338270187378, -2.7236568927764893, -2.377422571182251, 3.1700680255889893, 3.8770227432250977, 2.412060022354126, -0.46445661783218384, -3.3986012935638428, -0.41783517599105835, -0.76429682970047, 0.6000192761421204, -0.8836966156959534, -1.4318417310714722, -0.38027480244636536, 3.2101895809173584, -2.0471463203430176, 4.329497814178467, -0.695259690284729, 0.3700016736984253, -1.327168583869934, -1.7199208736419678, -1.434189796447754, 0.39911553263664246, -1.6402809619903564, 1.603149652481079, -0.43932145833969116, -2.000792980194092, 0.47900405526161194, -1.5182843208312988, 2.6793339252471924, 0.4201087951660156, -0.1596398800611496, -3.1131789684295654, 2.7575206756591797, -0.6191718578338623, -1.5274611711502075, -0.05488092452287674, 0.20900113880634308, -0.215892031788826, 0.28137603402137756, -2.7623114585876465, -0.867047131061554, -1.8360075950622559, 2.6616923809051514, -0.20510488748550415, -0.9113648533821106, -1.2079211473464966, 0.11678427457809448, -0.38699328899383545, -1.673925518989563, 2.9563868045806885, 0.062044255435466766, -2.1427996158599854, 0.3066955804824829, -1.2403920888900757, 4.704427719116211, -0.9182371497154236, -2.6005568504333496, -1.9108744859695435, -1.455734133720398, -0.7026419043540955, 2.7305171489715576, -0.8462114334106445, 0.09679041802883148, -0.33825454115867615, -1.216500163078308, 3.895418405532837, -0.5012852549552917, -1.0456550121307373, -0.686102032661438, -1.6341230869293213, -1.7486070394515991, -1.0653351545333862, 0.38635149598121643, 0.6204376816749573, 3.3480567932128906, -1.0328564643859863, 0.4064810276031494, -1.3159582614898682, -0.34804779291152954, 3.514052629470825, -0.403750479221344, 3.0341477394104004, 0.6211715936660767, -0.45437943935394287, -0.5263742804527283, -1.161187767982483, 5.286231994628906, 1.5707770586013794, -1.8865382671356201, 1.220211386680603, 0.5979176163673401, 2.224419355392456, 1.9154633283615112, -0.6647342443466187, -1.9699046611785889, 0.6447350382804871, -0.746876060962677, -2.0749382972717285, -0.9221811294555664, 3.359541416168213, 0.2912674844264984, -1.6900135278701782, 0.3987022936344147, -1.2104734182357788, -0.8285029530525208, -2.9392082691192627, -0.5599954128265381, -0.17205820977687836, 2.5086562633514404, -1.4426766633987427, 1.0810178518295288, 0.6456195712089539, -0.16493244469165802, -0.1028369888663292, 0.4528413414955139, 0.30398157238960266, -0.7751966714859009, -0.4506138265132904, 3.6953017711639404, -1.8237167596817017, 4.092705726623535, -0.5900295972824097, -0.5433622598648071, -1.7040021419525146, -0.9893227815628052, 2.958677291870117, -0.18403102457523346, 0.259868860244751, -1.8982783555984497, 0.31936484575271606, -0.7110730409622192, -0.08367655426263809, -1.1111582517623901, -1.271783709526062, -1.673531413078308, 1.8409643173217773, 0.0427064411342144, -0.04397422447800636, -2.028679370880127, -1.6252092123031616, 1.8809936046600342, -2.335937023162842, 0.5642629861831665, 0.16127532720565796, -0.7356301546096802, -0.47888678312301636, -1.7323229312896729, -0.7724698185920715, 0.690455436706543, -0.6114880442619324, -2.634814500808716, -0.3604891896247864, 0.4240742623806, -0.9458240270614624, 0.7958860993385315, 1.77786386013031, -0.5107550621032715, 1.6462076902389526, -0.9417402744293213, -0.86765056848526, -0.7931287884712219, 3.944322347640991, -0.20953750610351562, 0.97071373462677, -2.1978747844696045, -0.34638136625289917, -0.7669227719306946, -0.6062150597572327, -1.2158206701278687, -2.5898852348327637, 2.64754581451416, -1.703898310661316, -2.2563366889953613, 2.5884437561035156, -0.05289362743496895, -0.003832593560218811, -0.2621136009693146, -0.7029156684875488, -1.2669445276260376, 1.282602310180664, 1.401742696762085, 1.658104419708252, -0.5245891809463501, -0.6172387599945068, -1.7226557731628418, -0.6168347597122192, 0.21056534349918365, 4.072363376617432, -1.3371249437332153, -0.32311856746673584, -1.9766923189163208, -1.27778160572052, 0.4844937324523926, -0.23540498316287994, -0.22244909405708313, -0.7291814684867859, 3.590785026550293, -1.1824666261672974, 2.3653295040130615, -2.037071704864502, -2.3713972568511963, -1.6514796018600464, -2.7536263465881348, 1.614627718925476, 1.948178768157959, 0.44785985350608826, 2.0136044025421143, -0.2247018814086914, -0.3477078080177307, 1.3512840270996094, -2.213404893875122, -1.1081719398498535, -2.0440218448638916, -2.971343755722046, -1.2835627794265747, -0.5865382552146912, -1.617517113685608, -0.8609665036201477, -0.276034951210022, -0.5170113444328308, -0.8053465485572815, 2.7555911540985107, -0.8207717537879944, 3.315230369567871, -0.7059436440467834, 1.280311942100525, -0.9598938822746277, 0.019484007731080055, -0.540021538734436, -1.6208382844924927, -0.38288700580596924, 3.5946216583251953, 0.2869628667831421, 0.6637133359909058, -2.2951138019561768, 0.32946109771728516, 2.1674697399139404, -2.6816494464874268, -2.077195882797241, -1.2377043962478638, -2.467813491821289, -0.21939599514007568, 2.771418571472168, 2.3558084964752197, 0.8266828656196594, -0.3553324341773987, 1.5609424114227295, -0.5230697393417358, 1.2178821563720703, -0.4127623438835144, 0.5459063053131104, 1.7259976863861084, 0.12309757620096207, -1.080196499824524, 2.652639389038086, -1.5826694965362549, -0.8240278959274292, 1.8804631233215332, -1.3241362571716309, -1.9169992208480835, -1.1937402486801147, 0.06420191377401352, -1.2436147928237915, 0.15410032868385315, 0.24386948347091675, 1.8445242643356323, 0.7960525751113892, 0.024039704352617264, -2.0486838817596436, 0.2602240741252899, 1.9333223104476929, -1.5487053394317627, -0.9857233762741089, -0.21242062747478485, -0.08202575892210007, 0.6768483519554138, -1.3944199085235596, 0.8418499827384949, -0.35522323846817017, 1.415213942527771, -1.5703679323196411, 1.1646393537521362, 0.5718361735343933, -1.84251868724823, -1.3906782865524292, 2.7048580646514893, -0.37602925300598145, 0.946175754070282, 0.3967074751853943, 2.444918155670166, -1.5281158685684204, 1.5619983673095703, 0.19210325181484222, 0.8080276250839233, -0.6755463480949402, 0.04238302633166313, -2.2937748432159424, 0.36610347032546997, 1.9534770250320435, -1.100905179977417, -0.044838059693574905, 0.18759413063526154, 0.8370990753173828, 0.859926700592041, -0.3091554045677185, 2.588239908218384, 3.8181312084198, 0.7741959691047668, -0.15159054100513458, 0.2220228761434555, 1.5307284593582153, -0.09127126634120941, 2.151951313018799, -0.7515124082565308, 2.1944258213043213, 1.3011622428894043, -0.05231604725122452, -0.221999853849411, -1.1300044059753418, -1.0990147590637207, -1.7821730375289917, 3.0972697734832764, 0.2743344306945801, 3.7209761142730713, -0.09238030016422272, -0.6782368421554565, 1.9674315452575684, -0.3209661841392517, 0.37676841020584106, -0.26113128662109375, 0.5643727779388428, -1.0269935131072998, 1.501732587814331, 2.203707456588745, 0.9670453667640686, -0.8676878809928894, 0.582844614982605, -1.0973701477050781, -1.6721864938735962, 1.4406222105026245, -0.4400934875011444, -1.1772907972335815, 0.4176095724105835, 0.3888576924800873, -3.0916967391967773, -1.0243725776672363, 6.701234817504883, -0.3599313199520111, -0.6407603025436401, 0.5641822218894958, -1.3397070169448853, -0.07523003220558167, -0.8246540427207947, 0.3156386911869049, 3.8178930282592773, 0.0922846719622612, -0.022208629176020622, 0.1519944816827774, 1.195207953453064, 1.4708234071731567, -1.9420795440673828, -0.3766452968120575, -1.0338563919067383, 1.3300809860229492, 0.8845506906509399, -1.0657950639724731, -0.20536024868488312, -2.349774122238159, -1.944567322731018, 0.260124146938324, 0.14455121755599976, -1.5175362825393677, 1.4376600980758667, 0.5591211318969727, -1.52700936794281, -1.6392616033554077, -0.13206307590007782, 2.049654483795166, 0.33804941177368164, -2.1503021717071533, -1.3180140256881714, 0.7659102082252502, -2.6782352924346924, 1.0235698223114014, 0.5669228434562683, 1.6355724334716797, 0.6557978987693787, -0.8463343381881714, 0.3869336247444153, 1.8150967359542847, 1.469671368598938, 1.3435707092285156, 2.1823737621307373, -1.5877069234848022, -1.306038498878479, -1.3936930894851685, 0.5758527517318726, -2.4846150875091553, 0.37161463499069214, -0.6836444735527039, 0.44361335039138794, 1.0002646446228027, -2.3010950088500977, 1.2602370977401733, -0.7661444544792175, 0.49219557642936707, 0.1617530733346939, 2.041022777557373, 3.297074556350708, -0.8699495196342468, 0.011660049669444561, 1.52306067943573, -2.3820784091949463, -0.9275417923927307, 0.15146005153656006, 0.4205342233181, -2.0459907054901123, -0.38837918639183044, -0.686814546585083, -0.49377861618995667, -0.5633262395858765, 1.8829715251922607, 0.027805596590042114, 3.9737935066223145, 0.5626801252365112, -0.6865899562835693, 0.8948092460632324, 0.284869521856308, 1.5550631284713745, -1.5550470352172852, -1.6444125175476074, 0.4740523397922516, -0.708740770816803, -0.48473477363586426, 0.757042407989502, -1.1448078155517578, 0.6118355393409729, -1.1930497884750366, 0.2614825963973999, 3.2992451190948486, 0.9553397297859192, 0.2859438955783844, -0.8916051387786865, -1.8260935544967651, 6.335649490356445, 1.4026907682418823, -3.2840280532836914, -0.635136604309082, 4.0960845947265625, -0.39753538370132446, 0.08652684837579727, 0.3271855413913727, -0.7285187244415283, -0.86042320728302, -0.8243571519851685, 1.797347068786621, -1.634609580039978, 0.04446166008710861, 0.7196427583694458, -0.08214132487773895, 0.6781409382820129, -1.7866218090057373, -0.3653145134449005, 1.5151593685150146, 1.0683519840240479, -0.5132589340209961, 0.166867196559906, 1.1091718673706055, -2.4080698490142822, 0.2019793689250946, 0.8385593891143799, 0.21354420483112335, 0.2655177712440491, -0.3699180483818054, -0.061617784202098846, -1.019273042678833, 0.8431903123855591, -1.40857994556427, -0.7315711975097656, 0.3051071763038635, -2.147858142852783, 0.2889162600040436, -1.1728670597076416, -2.213141441345215, 0.4502289593219757, -1.1660792827606201, -0.9339380860328674, -0.29574334621429443, -0.3185744285583496, -0.6473033428192139, -1.338525414466858, -0.11992166936397552, -1.2398864030838013, 0.743860125541687, -0.059759993106126785, 0.8766262531280518, 0.7085422277450562, -1.010083556175232, 0.09529140591621399, -1.3880962133407593, 1.9244356155395508, -1.4620802402496338, 0.021513806656003, -3.1002676486968994, -0.9563004374504089, 1.8037301301956177, -0.3541603684425354, -1.4805853366851807, 3.6834628582000732, 0.49126186966896057, 2.7791707515716553, -0.30813950300216675, 3.4661293029785156, 0.7142831683158875, 2.8272440433502197, -0.09804056584835052, 3.6033170223236084, 0.11053550243377686, 1.4004470109939575, 0.08967423439025879, -0.33918988704681396, -0.42082133889198303, 0.3507172763347626, 0.5020470023155212, -1.6412456035614014, 1.3616623878479004, -1.192251443862915, -0.05426965281367302, -0.5140126347541809, -1.9674055576324463, -0.20062042772769928, 0.2369418889284134, 0.5875862836837769, -0.49754658341407776, 0.9024878144264221, 1.0088313817977905, -0.03784840181469917, 5.0910515785217285, -0.35205593705177307, -1.4006695747375488, -1.3056533336639404, 1.5398893356323242, 0.19570626318454742, 0.6599850654602051, -0.9401275515556335, 1.0027694702148438, 2.8154876232147217, 0.5686827898025513, 5.204290390014648, 0.15928766131401062, 1.913832187652588, -0.5081504583358765, -1.9688020944595337, -0.099692203104496, -0.19849130511283875, -0.8210462927818298, -1.1913889646530151, -0.20049792528152466, 2.003765106201172, 1.2456791400909424, 3.9364569187164307, -0.9739859104156494, -1.362020492553711, -0.002929904032498598, 1.555251955986023, 0.8789151310920715, -0.12471652030944824, 0.03268842026591301, 0.43837249279022217, 1.9213650226593018, -2.6751339435577393, 0.7732383012771606, -0.7376656532287598, 1.4150779247283936, -1.6486130952835083, 0.3758764863014221, -1.107413649559021, -0.27307477593421936, 1.6538732051849365, -2.048313617706299, 0.018871493637561798, 0.2931211590766907, -0.7304247617721558, -1.0598045587539673, -1.6213371753692627, -0.5486875772476196, 0.4440157413482666, 4.264448642730713, -0.849040687084198, -1.1631299257278442, 0.47628140449523926, 0.5527149438858032, -1.3924107551574707, 0.1284821778535843, 0.17924347519874573, 0.9160106182098389, 0.2529798746109009, -0.7175159454345703, 0.09477666765451431, -0.23327811062335968, -0.8682312369346619, -0.26044830679893494, -1.6157187223434448, -1.2828350067138672, -0.9527198076248169, -2.069861888885498, 1.7305550575256348, -0.3146023452281952, -0.6939031481742859, 0.7733736634254456, 0.016933556646108627, -0.3547193109989166, 2.008410930633545, -1.4215749502182007, -1.8856831789016724, -1.9569422006607056, 0.26521581411361694, -0.9077566266059875, -1.7045937776565552, -0.4003407955169678, -0.5853268504142761, -0.985458254814148, -2.1088130474090576, 0.06566190719604492, -0.6905911564826965, -0.6356201171875, -0.36914879083633423, 1.9824872016906738, -2.1544039249420166, 1.1331461668014526, 2.6929187774658203, -1.7601432800292969, 0.8844178915023804, 1.512144923210144, 1.6384726762771606, -0.3373692035675049, 0.3928845226764679, 1.0049980878829956, -2.95147967338562, -0.35300886631011963, 0.5042402148246765, -0.8585405945777893, -2.5793025493621826, -1.7621179819107056, 0.7660602927207947, 0.28808116912841797, 2.0213890075683594, -0.5158165693283081, -0.21895991265773773, -0.30660250782966614, -0.17304712533950806, -2.250380277633667, 0.116402767598629, -1.3077006340026855, 2.86272931098938, 2.293529510498047, -0.2688262462615967, 0.9737616181373596, 0.7788039445877075, -0.09486588835716248, -2.548088788986206, -0.6801941990852356, 0.2605079412460327, 0.2823086082935333, 1.8201886415481567, 3.2576894760131836, -0.07607218623161316, -1.308252215385437, -0.2146109938621521, 1.9617033004760742, -1.0147444009780884, 1.5236845016479492, -1.587404727935791, -0.9726616144180298, -0.9396924376487732, -1.6514548063278198, 1.0790363550186157, 2.906752586364746, -0.2097013145685196, -1.926026701927185, 2.2055065631866455, -0.035945165902376175, 1.1378530263900757, -0.35477763414382935, -0.2966237962245941, 0.30422142148017883, 5.949944496154785, -0.42476847767829895, 1.9035933017730713, 3.5620319843292236, 2.4614217281341553, 0.0666208565235138, 1.092833161354065, -0.6635366082191467, -1.1590114831924438, -1.1943269968032837, 1.505506992340088, 0.28958630561828613, 1.0986284017562866, -0.12051551043987274, -0.4491842985153198, 0.2816314101219177, -0.10437285900115967, 1.9098680019378662, -0.23749765753746033, 0.7679327726364136, 1.3283464908599854, -2.4059548377990723, -2.059965133666992, 0.3053071200847626, 0.1984756886959076, -1.4223318099975586, 0.5807328820228577, -1.038723349571228, 4.2935791015625, -0.16111165285110474, -3.073378562927246, 0.35409003496170044, -1.380704402923584, 0.8751329183578491, 3.9464659690856934, 4.490520477294922, -1.7359775304794312, -2.0068514347076416, -0.474774032831192, -0.735941469669342, 0.9818087220191956, 0.29249078035354614, -1.9554022550582886, -1.6558518409729004, -0.3420676290988922, -1.596069097518921, -1.2443052530288696, -0.9553229808807373, 1.3509846925735474, -0.3818512558937073, -0.3004510998725891, 2.301025152206421, -1.107831358909607, 0.8365505337715149, 0.6269748210906982, -0.6802268028259277, -0.029644416645169258, 0.6340558528900146, -1.8605159521102905, -0.10332997888326645, -0.25949761271476746, 0.14052098989486694, -0.23867036402225494, 0.6879571676254272, 0.615898072719574, -0.8320057392120361, -0.16981932520866394, -0.9251580238342285, -0.020813575014472008, 2.034280776977539, 1.1184710264205933, -0.18780012428760529, 0.0006872391095384955, -0.4677886366844177, -0.2735806703567505, -0.4084411859512329, -0.9135034680366516, 0.05064239352941513, 3.81687068939209, 3.023434638977051, 0.6534174084663391, 0.2570455074310303, 0.8428406715393066, 0.46669670939445496, 0.5226855874061584, 2.600006103515625, 3.3826663494110107, -1.37397301197052, 2.4696295261383057, 1.4465343952178955, -1.374102234840393, -1.7436994314193726, -0.47526025772094727, 0.2678774297237396, 0.11051874607801437, -0.7878364324569702, 0.5501623749732971, 1.5846997499465942, 1.3899706602096558, 2.628760814666748, -0.19472771883010864, -1.1416765451431274, 0.5322521924972534, -0.32371819019317627, -1.1917626857757568, 0.6061527132987976, 0.32208219170570374, -0.7048804759979248, -0.351692259311676, -1.6979396343231201, 0.6851428747177124, 0.7031767964363098, 0.28840160369873047, -0.7374470233917236, -0.7107553482055664, 1.2814933061599731, 4.299376964569092, 1.5122771263122559, 0.1443859487771988, 0.4809049069881439, 1.7671239376068115, -1.8387874364852905, -2.5188004970550537, 0.5770886540412903, 0.6353820562362671, -1.0744128227233887, 0.3235101103782654, -0.9834942817687988, -0.6410372257232666, -1.068109154701233, -0.33934134244918823, 2.059013843536377, -0.44911789894104004, 3.1544337272644043, -1.2635926008224487, -0.15673503279685974, 1.6759811639785767, -0.3116063177585602, -0.5535352826118469, 1.4920461177825928, -1.1106300354003906, -0.7780780792236328, 0.05146397277712822, 0.38536337018013, -0.7179577946662903, -0.4689232110977173, 0.3080023229122162, 2.7649643421173096, 1.1564586162567139, -0.48841872811317444, 0.17558078467845917, 1.2049542665481567, -1.8956496715545654, -0.9750237464904785, -1.4992107152938843, -1.1567827463150024, 3.1532490253448486, 1.1665079593658447, 3.8271853923797607, 0.38730379939079285, -0.003602496348321438, -0.8303777575492859, -1.7810776233673096, -0.06900828331708908, -0.4542641341686249, 1.9745441675186157, 0.5717687606811523, 0.9466240406036377, -1.317561149597168, 0.2772424519062042, 0.18325473368167877, 0.049163542687892914, -2.8351128101348877, -0.9313058257102966, -1.0979870557785034, 1.0573749542236328, 2.263483762741089, 2.7222349643707275, -0.4855544865131378, 0.46660780906677246, 0.2007470577955246, 1.355083703994751, -0.596452534198761, -0.8896793723106384, -1.7635120153427124, -0.20530548691749573, 0.07409483939409256, -1.4860707521438599, 2.428032636642456, 0.7318089008331299, 0.2769791781902313, 2.9203100204467773, -1.3126646280288696, 0.6065808534622192, 0.6128363609313965, 2.939758539199829, -0.29449573159217834, 0.8318716287612915, -1.6042683124542236, -0.15345141291618347, 2.3058977127075195, -0.36773571372032166, -2.8984107971191406, 3.3130478858947754, -0.6156151294708252, 3.2126526832580566, -0.8351238369941711, -1.5750854015350342, -1.599820613861084, 0.14679881930351257, 0.3190300762653351, 0.44049787521362305, 0.20813065767288208, -0.26284709572792053, 0.37545281648635864, 0.7173395156860352, -1.496787428855896, -1.6235105991363525, -0.658865749835968, -0.661933183670044, 0.5161250233650208, 0.6445698142051697, 0.24435271322727203, 0.322367399930954, -1.2292633056640625, -0.3331957757472992, -1.0758333206176758, -0.9992121458053589, 5.22850227355957, -1.9207514524459839, 0.7712324261665344, -1.295107364654541, 1.9941984415054321, -1.9095416069030762, -1.4889134168624878, 0.1254449039697647, -1.9346904754638672, -0.597278356552124, 0.8779218196868896, -0.5563126802444458, 1.7139307260513306, -1.128396987915039, -1.3207683563232422, 2.1243226528167725, -0.4735111594200134, -0.46619582176208496, -0.15096303820610046, 0.8275206685066223, -1.5181488990783691, -1.363403558731079, 3.5826773643493652, -0.17737530171871185, -1.6658406257629395, -0.48642343282699585, -0.8876775503158569, -0.7633095383644104, 0.6537272334098816, -1.3029747009277344, -1.385939121246338, 0.8542618751525879, -1.7235885858535767, -0.3150654435157776, -1.0693750381469727, -0.6289259195327759, 3.356396436691284, -0.26248425245285034, -1.517174243927002, -2.3017263412475586, -1.7003566026687622, 1.5872082710266113, -0.10143115371465683, 1.95073401927948, -2.578404188156128, 0.8668283820152283, -1.2194651365280151, 0.5256918668746948, -0.5689964890480042, -0.5171403884887695, -1.6900373697280884, -0.4789900779724121, -0.43141958117485046, 0.8096247911453247, 1.1552307605743408, 0.09729432314634323, 0.39038512110710144, -1.4999327659606934, -1.4562041759490967, 3.0385756492614746, 1.425140380859375, 2.182016611099243, -0.7714008092880249, -0.8860986232757568, 1.619769811630249, -1.2827500104904175, -0.9484148621559143, -0.8380538821220398, -0.20604467391967773, 0.5398266315460205, 0.13471752405166626, -1.181299090385437, -1.1047959327697754, -0.06664110720157623, -0.46824195981025696, 0.404240220785141, 1.7967820167541504, -2.1255640983581543, 1.1772668361663818, -2.191005229949951, 2.8651528358459473, -0.6981788873672485, 1.0664576292037964, -1.0088443756103516, 0.6555902361869812, -0.3600034713745117, -2.1664438247680664, -1.9733474254608154, -0.08424250036478043, 1.1836549043655396, -2.3042163848876953, 0.9849064350128174, 1.681527853012085, -0.07567311078310013, -0.09103792160749435, 2.397412061691284, -0.30941009521484375, -0.1111292690038681, -1.2042357921600342, -0.2706942856311798, 0.49012240767478943, -0.958087146282196, -0.5784497857093811, -0.8300843834877014, 0.6263585090637207, -3.306703567504883, -0.3382418155670166, -1.0623313188552856, -1.1152396202087402, -0.6455985307693481, -1.5390616655349731, 0.0804409608244896, 1.5923281908035278, -0.8056766390800476, 1.2454748153686523, 1.0163822174072266, -0.5602951645851135, -0.19101041555404663, 3.1067099571228027, 0.5529744029045105, -0.9290494918823242, -0.4718826413154602, 0.8420665264129639, -0.8747031092643738, -1.440713882446289, -0.22715279459953308, 0.706096351146698, -1.7432620525360107, 0.24427345395088196, -1.614243745803833, -0.7362341284751892, -1.5055691003799438, 1.7850474119186401, 0.25159984827041626, -1.7503137588500977, 4.464272499084473, 3.3826353549957275, 0.5930540561676025, 2.0575127601623535, 0.6908149123191833, -0.2550220191478729, -0.6948359608650208, 0.8490047454833984, -1.3563734292984009, -0.07111917436122894, -0.9836962819099426, 1.595400333404541, -1.7097285985946655, -1.3131815195083618, 1.415115475654602, 1.0485498905181885, 1.1766016483306885, -1.100322961807251, 1.601805567741394, 2.0844624042510986, 0.20760244131088257, 0.43191808462142944, 1.6901891231536865, 0.4544333815574646, 0.07319675385951996, 0.8834545612335205, 3.028768301010132, -0.323280930519104, 1.4969900846481323, 3.7355170249938965, -1.6761987209320068, -0.3845875561237335, -0.8832706809043884, 1.3118975162506104, 0.8343515396118164, 1.1445692777633667, -1.4257148504257202, 1.6650474071502686, 5.011046409606934, 3.022643566131592, -1.5754880905151367, 0.6940456032752991, -0.28669142723083496, 0.031700361520051956, 2.25468373298645, -0.6349563002586365, -0.2631528973579407, -0.6507450342178345, 0.47270771861076355, -0.6416580080986023, 0.35223475098609924, 1.8001221418380737, 0.4879130721092224, -1.5773646831512451, -1.523884892463684, -1.0468006134033203, -1.5567164421081543, 1.2846426963806152, -0.47133103013038635, -1.9650719165802002, -0.6659319996833801, -2.5098042488098145, 4.534658432006836, 0.2692250907421112, -1.1807793378829956, -1.1621136665344238, 0.35197019577026367, -0.24357551336288452, 1.273342490196228, -0.8487211465835571, -2.2377398014068604, -0.37152519822120667, 2.2478506565093994, 0.4133632481098175, -2.289949655532837, -0.8196764588356018, -0.7295985221862793, 2.6062467098236084, 0.2561587393283844, 0.1947379857301712, -0.7550933361053467, 4.345135688781738, -1.0347943305969238, -0.1467745304107666, -0.9732468724250793, -0.8664198517799377, -1.9441924095153809, 1.0105983018875122, -0.02454325743019581, -0.45627713203430176, 1.0285135507583618, -0.315839558839798, -0.7255377769470215, -0.7224046587944031, -0.299081951379776, 0.1534092128276825, -1.8961495161056519, 0.40712770819664, 0.12437907606363297, 0.7194530367851257, -0.7772902250289917, -0.3904629349708557, 2.463543653488159, 4.116502285003662, -0.35137200355529785, -1.061529278755188, 0.2899053394794464, -0.7071475386619568, 0.27465707063674927, 0.7941483855247498, -1.7252527475357056, -0.08514206856489182, -0.009489564225077629, -2.1467039585113525, 1.0438693761825562, 1.4366881847381592, -0.7487892508506775, 2.7445106506347656, -0.9073015451431274, 3.3133981227874756, 0.46048787236213684, -1.1126914024353027, 2.641988754272461, -0.20684976875782013, -2.110609531402588, 0.39955082535743713, -0.7477365136146545, 0.4373658299446106, 2.287405014038086, 1.71065354347229, -2.371842861175537, 0.9214274287223816, 2.556457042694092, -0.5361888408660889, 4.162646293640137, 2.227979898452759, -1.7172260284423828, 1.241159439086914, 0.3208000957965851, -1.486436367034912, -0.30402305722236633, -1.5046541690826416, 0.1188911497592926, -0.39301756024360657, -0.7987154126167297, -2.972729206085205, -0.7141517996788025, -2.5640172958374023, 0.28439271450042725, -0.5195508003234863, -0.8611738085746765, 0.04394132271409035, 1.8020285367965698, 2.217679023742676, 0.3915219008922577, -0.30847877264022827, -0.7725208401679993, 0.634630024433136, -0.4970986545085907, -0.6945092678070068, 0.9372301697731018, -0.9283349514007568, 0.21652637422084808, 1.5504549741744995, -0.736849308013916, -0.8735272884368896, -1.1055452823638916, 1.251250982284546, -1.7041494846343994, -0.49984341859817505, -1.1862214803695679, 3.9114389419555664, -2.1762804985046387, 0.4974764585494995, -0.7876848578453064, 0.544549822807312, 0.13859573006629944, 0.959938108921051, -0.9369022846221924, -1.3609874248504639, 0.7998196482658386, -0.27092891931533813, -0.6206990480422974, -1.347267508506775, -2.998046398162842, -1.7197246551513672, 0.8835065364837646, 4.349445819854736, 0.43906211853027344, 1.8674023151397705, -0.9337760806083679, -0.7025339603424072, -1.491606593132019, -0.2837519645690918, 1.4583274126052856, -0.8144303560256958, 1.9203428030014038, -0.8664067387580872, -0.27657365798950195, -1.2928662300109863, -0.7134582996368408, -1.0889878273010254, 0.5232832431793213, -2.319718837738037, -0.5884802341461182, 0.13947424292564392, 1.9999337196350098, 1.2757991552352905, -1.8005949258804321, 1.1872375011444092, 2.050215005874634, 3.0458216667175293, -0.7922375798225403, -2.065481424331665, -1.2151750326156616, -0.8057757616043091, 0.17003071308135986, -0.5016681551933289, -1.3225750923156738, -0.27914631366729736, -0.8141379356384277, -0.7033034563064575, 3.365783452987671, -0.464317262172699, 0.631791353225708, -1.1971359252929688, 2.3602752685546875, 1.2325654029846191, 0.24246558547019958, -2.0372402667999268, -0.828087568283081, -0.6926790475845337, 0.4069044888019562, -2.2529361248016357, 2.5399622917175293, -0.8736836314201355, -0.4117770195007324, 0.8469750881195068, 1.7231628894805908, 0.47716039419174194, 1.127295970916748, 2.513200521469116, 0.9264401197433472, 0.15383268892765045, -1.0637707710266113, 1.6022005081176758, -0.28882110118865967, -0.17531244456768036, 0.2539372742176056, 0.0008367521222680807, 1.0900967121124268, -0.7461389899253845, -2.04666805267334, -1.5955548286437988, -1.429567813873291, -1.4587836265563965, -1.3712457418441772, -1.1350767612457275, 0.3325657248497009, -0.2297055870294571, -0.11808609962463379, -0.1402512490749359, 0.10975030064582825, -0.7491397857666016, 0.3448696732521057, -0.3553529679775238, 0.18571332097053528, 1.1800693273544312, -0.8185678124427795, -1.183512568473816, -2.148982524871826, 0.07147114723920822, 0.4979598820209503, 1.1648343801498413, 0.1892050802707672, -0.9549570083618164, 0.36729034781455994, 2.60613751411438, -1.0138881206512451, -1.5781458616256714, 1.6755335330963135, 0.609704315662384, 1.1673288345336914, 0.1811908334493637, 1.5591249465942383, -0.9817439317703247, -1.370246410369873, -0.73582524061203, 0.3410516083240509, -0.3392360508441925, -1.6074504852294922, -1.2275294065475464, -1.244104266166687, -0.5114595890045166, 0.08455446362495422, -1.35421621799469, 0.1582598090171814, 0.016509031876921654, -1.088536262512207, 0.3990458846092224, 1.1930599212646484, 0.6378989815711975, 0.13975220918655396, -0.4012604057788849, 0.3848345875740051, -0.41118305921554565, 1.9049108028411865, 0.47744354605674744, -0.32706308364868164, 0.43316614627838135, -1.6789100170135498, -0.34344401955604553, -0.27386295795440674, -0.22804325819015503, 0.8735153675079346, -0.318594366312027, -0.1153501495718956, -0.9807616472244263, -0.7340217232704163, -0.12979720532894135, -0.5219125747680664, 3.9495389461517334, -1.811335563659668, 0.9392260313034058, 0.267456978559494, 0.6351677179336548, 1.9198522567749023, 0.5422564148902893, 0.44719550013542175, -0.6211408376693726, 1.0544160604476929, 0.19242717325687408, -0.2621844708919525, -0.8220087289810181, 0.9307330846786499, -0.7471652626991272, -0.6151242852210999, -0.5246111750602722, 1.177129864692688, -1.9685403108596802, 1.3059488534927368, 2.609652280807495, -0.5253186821937561, 1.3721693754196167, 2.795374870300293, 2.7326769828796387, -0.3687511384487152, -0.6656063795089722, -1.604783058166504, 1.104641079902649, -1.5547162294387817, -0.2539297938346863, 1.8243032693862915, 2.0386717319488525, -0.6157974004745483, 0.855070948600769, -1.303393006324768, -1.9249945878982544, 0.07253865152597427, -0.5337920188903809, 0.704552412033081, -1.3632725477218628, 1.379948377609253, 0.7498747110366821, -0.4651682376861572, -0.1996578425168991, -0.5075234770774841, -0.2975967228412628, 2.3635144233703613, -1.7423349618911743, 0.9021317958831787, -0.9919346570968628, 1.315360426902771, -3.215745687484741, 0.9217678904533386, 1.0300335884094238, -1.628042221069336, -1.9665651321411133, 1.808390498161316, 0.022352539002895355, -0.8625175356864929, -0.957030177116394, -0.1396639496088028, -0.9752995371818542, -0.5238296389579773, -0.6584093570709229, 2.3210504055023193, 0.667360246181488, -0.1602638214826584, 0.6505224108695984, -0.28655335307121277, 2.6393494606018066, 0.6257303953170776, 0.3279242515563965, -1.6708606481552124, 0.001762807136401534, 1.1360952854156494, -0.3372770845890045, 0.7580231428146362, -0.7058217525482178, 1.3117854595184326, -0.18660463392734528, 1.4277271032333374, -0.7639909982681274, 1.1664663553237915, -1.2971751689910889, 1.513024091720581, -0.34235236048698425, -1.9455918073654175, 0.08649475127458572, 0.8701192140579224, 0.2720862329006195, 1.4752825498580933, 0.25016433000564575, -0.5017824769020081, -0.22207511961460114, 0.6995769739151001, -1.9513506889343262, 0.49804624915122986, 1.8196721076965332, -2.4892313480377197, 0.8127487897872925, 0.9493415355682373, 0.7726629376411438, 3.385072708129883, -0.37098321318626404, -0.42945989966392517, 0.5440245866775513, 0.5750378370285034, 0.5546959042549133, -1.2000309228897095, -1.4125235080718994, -1.5477046966552734, -0.15167675912380219, -1.461118459701538, -0.8346700668334961, 3.2707059383392334, -0.04362884536385536, -0.6866127848625183, 0.3806982636451721, -1.2918511629104614, -1.4982720613479614, 0.6694600582122803, -1.0525901317596436, 0.9158176779747009, -2.1772444248199463, 0.3592703938484192, 2.3195242881774902, -0.033867448568344116, -1.2005192041397095, -0.7904833555221558, 0.05866626650094986, 0.9444724917411804, 0.9697544574737549, -0.7331990599632263, -0.5267785787582397, 3.1717240810394287, -0.46569886803627014, -0.4970628023147583, -0.4193962812423706, -0.9205113649368286, -1.9166655540466309, 2.2670931816101074, 1.9705970287322998, 0.8426628112792969, -2.502474308013916, 2.401265859603882, 2.059392213821411, -1.0076950788497925, -1.0620381832122803, -1.2996859550476074, -0.7147338390350342, -0.262128084897995, -0.10301124304533005, -0.9863457083702087, 0.14828352630138397, -1.0744054317474365, 1.061980128288269, 0.7648634910583496, -0.10943863540887833, 0.09374614804983139, -0.7745248675346375, -0.14559487998485565, 3.325927495956421, -1.0722631216049194, 0.7705602645874023, -0.7714645862579346, -0.8811690807342529, -1.0880728960037231, 0.10910800844430923, -1.0723940134048462, 0.06987600028514862, 2.685302257537842, -1.5061264038085938, 0.06622926890850067, 2.3010237216949463, -0.6656874418258667, 0.3709431290626526, 0.6797167658805847, -0.19049236178398132, -2.69647216796875, -1.32077157497406, -0.3014144003391266, -0.9872602820396423, 1.719622015953064, -1.034461259841919, -0.07844089716672897, -1.3040677309036255, -0.023712877184152603, 0.11321832239627838, 2.9726009368896484, -1.9173061847686768, -0.39232876896858215, 0.3238089382648468, -0.19140693545341492, -0.5992457270622253, -1.7808988094329834, 1.4144479036331177, -0.043480295687913895, 0.1755392849445343, -1.6541128158569336, 1.5490994453430176, -1.053660273551941, 1.1589179039001465, -2.401089668273926, 0.5484998226165771, 3.7598373889923096, -1.461229681968689, -0.9804744124412537, 0.1517523229122162, -0.0930449590086937, -1.4166737794876099, 1.71043062210083, 0.020172370597720146, -0.02311684936285019, 1.0130696296691895, -0.30464163422584534, 1.1208490133285522, -0.37489208579063416, -0.4798038899898529, -0.09079142659902573, -0.9941004514694214, -0.9613049626350403, -0.9741343855857849, 0.37622377276420593, 0.487667977809906, 0.6788440942764282, 0.09044152498245239, -0.3301626443862915, -0.22584347426891327, 2.914893865585327, 0.26179173588752747, 1.0240329504013062, 1.0098798274993896, -0.48285457491874695, 1.5051462650299072, -1.641982078552246, -0.1353599727153778, 0.005393745377659798, 0.10720972716808319, 0.6738818883895874, -0.010027212090790272, -1.611588954925537, 0.8503119945526123, 1.8541866540908813, 2.0248425006866455, 1.3865208625793457, -0.32269516587257385, -0.7954158186912537, -0.06092836335301399, -0.4371444284915924, -1.627706527709961, 2.926217555999756, -1.2809375524520874, -1.4202884435653687, -1.0798019170761108, 1.0859922170639038, 2.9326181411743164, -0.8549069166183472, 0.7202644348144531, -0.769818902015686, 0.9792354106903076, -0.466865211725235, -1.0278897285461426, 0.5370567440986633, 0.48410046100616455, -0.45262610912323, 0.9782158732414246, -0.9940043687820435, 1.1383030414581299, -0.10107888281345367, -0.22731274366378784, -1.3091071844100952, 1.2516913414001465, 2.3855245113372803, -0.4312378168106079, 1.025809645652771, 2.2283775806427, -1.287758708000183, 2.3366756439208984, -1.1805791854858398, 1.2691349983215332, 1.7722899913787842, -1.8119210004806519, 2.519568681716919, 0.2643132507801056, 0.3659000098705292, -1.3637418746948242, -0.33120226860046387, 1.4155349731445312, -0.46190252900123596, -0.12039383500814438, 1.054289698600769, 0.9742452502250671, -1.393892765045166, 0.6977319717407227, -1.0968587398529053, -0.4226367175579071, 1.3140316009521484, 1.6476789712905884, -2.386096239089966, -0.880299985408783, -0.6364010572433472, 2.3172435760498047, -2.019838333129883, -1.4448444843292236, -0.4507831037044525, -0.47404319047927856, -0.7182841897010803, -0.6197411417961121, -2.5800023078918457, -0.636233925819397, -1.420253038406372, -1.532168984413147, -0.962323784828186, -0.2503146529197693, -0.10581382364034653, -2.0045692920684814, 0.2532716691493988, -0.1294204592704773, -0.21068893373012543, 0.8450725078582764, 3.876382350921631, -1.1462563276290894, -1.5080221891403198, -0.6499121785163879, -0.1652880162000656, -0.7035626769065857, 0.3897976577281952, -2.2571561336517334, -0.9570825695991516, 1.9141696691513062, 0.501076340675354, 1.5937186479568481, -0.006350790150463581, -0.26063668727874756, 0.41827818751335144, -0.39338013529777527, -0.8415078520774841, 0.9409630298614502, -0.5210461616516113, 1.7588263750076294, -0.6646316647529602, 0.7102028727531433, -0.11498252302408218, 0.15837255120277405, 0.03076593577861786, -0.7407488822937012, -0.07421467453241348, -0.7831013202667236, -1.2661627531051636, 0.7383093237876892, -1.096552848815918, -0.473799467086792, 0.4555235207080841, 1.7037596702575684, -0.6129862666130066, 0.05809161812067032, 0.9127758741378784, -0.13660265505313873, -0.7032707333564758, 0.7406824231147766, -0.14659200608730316, -1.334944486618042, 0.3705231547355652, 0.8377875685691833, -1.2509939670562744, -0.4241035282611847, -1.0222985744476318, 0.5597640872001648, -1.0129746198654175, -0.39640340209007263, 0.056889694184064865, 0.17053736746311188, -0.358367383480072, 0.31155529618263245, -1.795567274093628, -0.3659709692001343, 0.2404717206954956, 1.3778142929077148, 0.9960038065910339, 2.2404491901397705, 0.5542028546333313, 0.06567557156085968, 1.7605695724487305, 0.08125311136245728, 1.7995936870574951, 1.5811420679092407, -0.7454059720039368, 0.4421347677707672, 0.8345815539360046, 1.3051321506500244, 0.8858779668807983, 2.9692986011505127, 1.4606655836105347, -0.7190346717834473, -1.0646799802780151, 2.0541188716888428, 1.9831260442733765, 0.42045268416404724, 2.286651134490967, 1.323423147201538, -0.4253794848918915, 1.3556594848632812, 2.106161117553711, 1.2604244947433472, 1.4024715423583984, -1.852790117263794, 0.2852556109428406, 2.381793737411499, -2.9761667251586914, 0.24219456315040588, 0.5597650408744812, -0.6075546145439148, -0.6462529301643372, 0.9558682441711426, -0.27704906463623047, -1.3811367750167847, -0.9000783562660217, 0.34344038367271423, -1.3886817693710327, -0.10315012186765671, -0.6501669883728027, -0.7679516673088074, -1.0909563302993774, -0.3956158459186554, 0.21859991550445557, 0.8725568056106567, 2.4038515090942383, 0.686915397644043, 1.4776062965393066, 0.9062915444374084, 1.0240559577941895, 0.21487191319465637, 0.33050134778022766, -1.650943636894226, 0.047891613095998764, -0.343914657831192, -1.2494548559188843, -1.7023916244506836, -0.06547915935516357, -1.169721007347107, 0.9658371806144714, 1.2002071142196655, -1.27157461643219], \"xaxis\": \"x\", \"y\": [-0.4702123999595642, -0.5726959109306335, -0.23288734257221222, -0.9415010809898376, -2.2688510417938232, -0.6290387511253357, -0.32647904753685, -1.051908016204834, -0.10469567030668259, 1.3916218280792236, -2.3511276245117188, -0.24336595833301544, -1.1578627824783325, -1.6746950149536133, 0.5955485701560974, 1.3491802215576172, -1.710745096206665, 0.36147159337997437, -0.34457460045814514, -0.6503682136535645, -0.56270831823349, 2.618302583694458, -0.5378007888793945, 0.07761774212121964, -1.4414738416671753, -0.4117281436920166, -0.5771135091781616, -0.32913604378700256, 2.7814040184020996, -1.2937345504760742, -3.1537892818450928, -1.4341778755187988, -1.3105318546295166, -1.824441909790039, -0.26961278915405273, -1.6696518659591675, -0.693917453289032, -0.17883743345737457, -2.1328651905059814, 1.4624441862106323, -0.23379135131835938, -0.8995625972747803, -0.8014957308769226, -0.42584148049354553, 0.705829381942749, -0.21727892756462097, -2.0571961402893066, -0.07927025109529495, -0.07103721052408218, 1.1829208135604858, -1.9786648750305176, -1.7068852186203003, -1.2531832456588745, 1.4946300983428955, -0.07074148207902908, 1.0920215845108032, -2.27367901802063, 2.8395469188690186, -0.9793839454650879, -0.9245837926864624, -1.57295823097229, 0.4786921441555023, 0.09500536322593689, -0.7746893763542175, -1.0322918891906738, -1.5208933353424072, 2.9984335899353027, -0.33342304825782776, -0.6074233055114746, -1.3267157077789307, -0.25523456931114197, -1.0528204441070557, -1.2081739902496338, 0.13884170353412628, 0.8215011954307556, -0.5213475227355957, 1.3273757696151733, -2.612142562866211, 0.07642942667007446, -1.6946851015090942, -1.7151669263839722, 0.7745726704597473, -1.4508836269378662, 2.2484827041625977, 1.023131251335144, -1.9594613313674927, -1.1379257440567017, 0.47541287541389465, -1.5187515020370483, -1.1824452877044678, -0.41171443462371826, -0.7242593765258789, -0.7269055843353271, -0.7769153118133545, 0.6068621873855591, -2.725539207458496, 1.4515126943588257, 0.5797786116600037, -0.5774125456809998, -0.917585015296936, -1.4654347896575928, -0.9535529613494873, -1.0427436828613281, -2.031142234802246, -1.1478129625320435, -0.4588199853897095, -1.7218148708343506, 2.0176122188568115, -0.16314077377319336, -0.8651273250579834, -1.946620225906372, 1.052317500114441, 2.50715708732605, 2.5738320350646973, -0.9273693561553955, 3.46974778175354, 2.5402755737304688, 1.7090065479278564, 2.025312900543213, 0.7543057799339294, -1.9671019315719604, -0.423345148563385, 2.4339139461517334, -0.2054428607225418, 1.4752565622329712, -0.7990725040435791, 3.3839125633239746, 1.8662540912628174, -0.1358776092529297, 3.0154738426208496, -2.153184413909912, 0.2000478357076645, 1.5342344045639038, -0.6185289025306702, 2.57334566116333, -1.5032627582550049, -0.16758176684379578, 1.8029468059539795, -2.109358072280884, -1.010839819908142, -1.1589499711990356, -3.106293201446533, -1.7546541690826416, -2.0414416790008545, -1.6390489339828491, 0.9395048022270203, 0.6577154994010925, -2.407240867614746, 3.199589729309082, -0.6887564659118652, 2.7517826557159424, 1.1137899160385132, 0.021430695429444313, 0.4033256769180298, -1.4159830808639526, -0.03899799659848213, -0.7267484068870544, -1.4194273948669434, -0.6270259618759155, 1.4240186214447021, -1.160868525505066, -0.10353356599807739, -1.3374621868133545, 0.8743814826011658, -1.0755198001861572, -1.7247834205627441, 0.5985292792320251, -1.320046305656433, 1.0608104467391968, -1.7957994937896729, 1.6548974514007568, -0.7700753211975098, 3.5353622436523438, -0.8158471584320068, -0.9713526368141174, -0.018664849922060966, 3.0298235416412354, -1.369621753692627, 2.0390095710754395, -2.14778995513916, 1.0097227096557617, -0.8893321752548218, -0.7115429639816284, 0.5724186897277832, 0.9937288761138916, 1.2794456481933594, 3.596640110015869, 0.21608898043632507, -1.979414463043213, 0.33786875009536743, 3.140824794769287, 0.9588913917541504, 0.7256282567977905, -1.1853759288787842, -1.0097297430038452, -0.08894918113946915, 2.497330904006958, 0.1412035971879959, 0.8688970804214478, -0.15178288519382477, -0.5211416482925415, -0.9261565804481506, 0.49754661321640015, -1.2654842138290405, -1.9540388584136963, -1.9587875604629517, -2.3792195320129395, 1.7768986225128174, -0.22905200719833374, -0.1853310465812683, -0.27302733063697815, -1.4403181076049805, -0.46228209137916565, 0.24300256371498108, 1.7003631591796875, 2.044546127319336, -3.5724048614501953, -2.7375669479370117, -0.8926081657409668, -1.4430086612701416, -2.178276777267456, -0.755815863609314, 0.6664945483207703, 2.3087656497955322, 0.006194194313138723, -1.1995724439620972, -1.112133502960205, -0.22599844634532928, -0.7083572149276733, -0.7177591919898987, -3.0634565353393555, -1.734674334526062, -0.9107791781425476, -0.6998471617698669, -0.858309268951416, -1.7982763051986694, 0.28638237714767456, -0.3505764901638031, -0.932793915271759, 2.218475818634033, -0.39390110969543457, 1.2822185754776, 2.1841795444488525, -0.8257796168327332, -2.5251054763793945, -1.800062656402588, 2.9651873111724854, -0.6076285243034363, -0.09324823319911957, 0.1544356644153595, 1.0759131908416748, -0.9695764183998108, -0.22829298675060272, 1.444108486175537, -0.5854275822639465, -0.13682009279727936, 0.6347665190696716, -1.3170750141143799, 3.8711130619049072, 1.8355693817138672, -0.12634705007076263, -0.7869346737861633, 2.0497679710388184, -0.15916630625724792, -1.4957809448242188, -0.172989159822464, 1.9469460248947144, -0.07813527435064316, 0.7470884919166565, -1.927001953125, 1.4061299562454224, -0.3537013828754425, 0.4097663164138794, 2.5241544246673584, -0.6507319211959839, -0.761859655380249, -1.711815595626831, 0.0527234710752964, 1.5746618509292603, -0.6422290205955505, -0.9260814189910889, 1.2193657159805298, -1.2276496887207031, 0.24375338852405548, -2.070880651473999, 0.1391674131155014, 0.3222520351409912, -0.870464563369751, -2.6326420307159424, -1.1859382390975952, 1.7899725437164307, 0.34985873103141785, 0.22281374037265778, -0.4798319637775421, 0.015489638783037663, 2.7025163173675537, 1.1685833930969238, -0.2434149831533432, -1.3610807657241821, 1.1234986782073975, 1.2211192846298218, 1.0649858713150024, -0.7907752990722656, -0.5029141902923584, -1.22140634059906, -0.520791232585907, -1.7768287658691406, 0.5655549764633179, -1.1714447736740112, -0.011064414866268635, 0.480236679315567, -0.9015923738479614, 0.01295994408428669, -2.974757432937622, -0.7425656318664551, -0.930741548538208, -0.451416939496994, 0.24564307928085327, -2.1121151447296143, 2.914702892303467, -0.5044436454772949, -1.0875542163848877, -0.22992269694805145, -0.35337987542152405, -1.3493626117706299, -0.3458981215953827, -0.3716960549354553, -0.7233601212501526, -0.6106281280517578, 0.4454379379749298, -2.1139464378356934, 0.972416341304779, -1.4702428579330444, -1.959141731262207, 4.5003509521484375, -1.8041046857833862, -0.2487199306488037, 1.4484461545944214, 0.005025021266192198, -2.058181047439575, 2.8790130615234375, -1.7802503108978271, -0.7085366249084473, 3.794156074523926, -1.7481738328933716, -1.351708173751831, -0.9314152598381042, -0.142645001411438, 0.7801863551139832, 2.2132201194763184, -0.7026445269584656, -0.3965981602668762, -0.17696836590766907, 0.435769647359848, 2.5888426303863525, -0.6904043555259705, -0.5297439694404602, 0.11378077417612076, -0.2324281632900238, 0.01893622800707817, -0.6739001870155334, 1.1098612546920776, -0.08321850746870041, 1.7358722686767578, 0.7941476702690125, -1.469278335571289, -0.3067769706249237, 0.3537055552005768, 1.7838892936706543, 0.8439224362373352, -3.8183040618896484, -1.03122079372406, -0.41062241792678833, -1.0237585306167603, 0.3282527029514313, -0.5889168381690979, 2.0006661415100098, -2.199713945388794, 0.6455773115158081, 0.6184267401695251, -1.5589905977249146, 0.8992716670036316, 0.5874343514442444, 2.735731840133667, 3.7065274715423584, -1.0741345882415771, 0.7000333666801453, 0.5175666809082031, 1.7352821826934814, -1.1481252908706665, 1.136495590209961, -0.9498006701469421, -1.1368513107299805, -0.28768739104270935, 0.6701983213424683, -0.3437930643558502, 2.293095111846924, -0.8226561546325684, -0.5210639238357544, 0.32745131850242615, -2.9016175270080566, -0.772099494934082, -0.8634569048881531, -0.19215108454227448, 1.3742438554763794, -1.566498875617981, -1.363442301750183, -1.6903587579727173, 0.4026409983634949, 0.8614501357078552, -0.5518254041671753, 0.757827877998352, -0.7676674127578735, 0.08334320783615112, -2.481445550918579, -0.24087120592594147, -0.7661192417144775, 0.2266119420528412, 5.421224594116211, -1.2361689805984497, 0.8519048094749451, -1.9223676919937134, 1.1709312200546265, -1.4544559717178345, 0.5451303720474243, 0.7898668646812439, 1.365804672241211, 0.4325381815433502, 0.37332969903945923, -0.545538067817688, -0.08935732394456863, -1.746450424194336, -1.989229440689087, 0.4232414960861206, -1.42009437084198, -0.13710689544677734, 1.9434622526168823, -2.6347668170928955, 3.5146100521087646, -1.7696634531021118, -1.7624454498291016, -0.6258987188339233, 0.6376968622207642, 1.7111749649047852, 0.828414797782898, -1.0893871784210205, 0.011130759492516518, 0.7599019408226013, -1.1620917320251465, -0.30994194746017456, 3.2506980895996094, -2.710585594177246, 1.1714633703231812, 1.141093373298645, 0.964514970779419, -0.7592955231666565, -0.11964653432369232, 0.2776929438114166, -0.40251147747039795, 2.952077627182007, 0.5020632147789001, -1.340495228767395, -0.15557652711868286, 1.1825259923934937, 0.3374162018299103, -0.2851678729057312, -1.3341609239578247, 1.6772210597991943, 1.8787301778793335, 1.745413064956665, 0.6306344270706177, -1.6466724872589111, -0.513460636138916, 0.19658119976520538, -0.38629600405693054, -1.1679346561431885, -1.6365034580230713, 0.4719349145889282, -0.5334029793739319, 1.1485248804092407, 1.0247437953948975, -1.3903449773788452, -1.3669227361679077, -2.836148262023926, 2.296767473220825, -1.8360607624053955, -0.5001388788223267, -1.6755027770996094, -0.275160551071167, 0.8735961318016052, -1.165723443031311, 2.2313761711120605, 0.4243049621582031, 0.3858792185783386, -2.377687931060791, 1.135597825050354, 1.790183186531067, 0.5722925662994385, 0.8369339108467102, 3.1630513668060303, -1.5565155744552612, -0.8742823004722595, 0.9612748026847839, 1.212449073791504, -2.6012089252471924, -0.322375625371933, -0.6442120671272278, -0.3170028328895569, 1.6688624620437622, -1.9770184755325317, -0.3820863664150238, -0.6655431389808655, 0.7997448444366455, 1.7595323324203491, -1.0838291645050049, -0.7340582609176636, 0.1981477290391922, -0.03846099227666855, -1.5887322425842285, -0.7498287558555603, -1.960960865020752, -0.39048531651496887, -0.03267301246523857, 1.0629127025604248, -1.2866690158843994, 1.1117900609970093, -1.4300992488861084, 0.041670363396406174, -1.2734289169311523, 3.5437510013580322, 0.5670625567436218, 0.05871376395225525, -0.36694997549057007, 0.5646583437919617, 0.9238393902778625, 0.6876399517059326, 0.9400610327720642, -0.3612458109855652, -0.24850977957248688, 2.326967716217041, -1.2837471961975098, 1.8148207664489746, 0.06756404042243958, -0.09948663413524628, 0.9549077153205872, 0.2829362452030182, -0.22647520899772644, 2.534656524658203, -1.245070219039917, 1.8022828102111816, -1.5502599477767944, 0.5649012923240662, -1.085917592048645, 0.48712047934532166, -0.21129870414733887, -0.3093387186527252, 1.3307210206985474, -0.7615472078323364, -0.42644548416137695, 0.23780937492847443, -2.299542188644409, -1.630425214767456, -1.300054907798767, -1.643384575843811, -0.27530986070632935, 0.41809993982315063, -0.5440644025802612, 2.5270228385925293, 1.1055021286010742, -1.872802734375, 0.3161996304988861, -0.9745683670043945, -0.5049175024032593, 1.4285584688186646, 0.3927437365055084, -2.70347261428833, -2.511756658554077, 2.270500898361206, 0.7878028154373169, 0.5575414299964905, 1.4337413311004639, 1.7737547159194946, 0.2796245515346527, -0.19417501986026764, -0.2754411995410919, 0.6567776799201965, -0.26621001958847046, 0.2791707515716553, -0.03258540853857994, 2.2453432083129883, 0.5010985136032104, 0.17325812578201294, -2.014618158340454, 2.520761013031006, -0.7980335354804993, -0.38441139459609985, 0.6841476559638977, 0.8088693022727966, -3.1816484928131104, -1.002173900604248, 0.7899235486984253, 0.07146201282739639, -1.6643943786621094, -1.293790340423584, -0.22649818658828735, 0.236164391040802, 1.4968408346176147, 0.5925936102867126, 0.2629239559173584, -0.7181832790374756, -0.04226057231426239, -0.30789148807525635, -0.7939863801002502, -1.0397228002548218, 1.3496772050857544, -0.08514615893363953, -0.21188326179981232, -1.633569359779358, -1.3854254484176636, 0.33813247084617615, 0.19875618815422058, 1.0392835140228271, 1.308790683746338, -0.8667374849319458, 0.488206148147583, -0.9850359559059143, 1.475978136062622, -0.12490113824605942, -0.6078755259513855, 0.9805253744125366, 0.20286384224891663, 1.249277949333191, 0.38587820529937744, -0.1606721431016922, 0.06612515449523926, -0.37363719940185547, 0.7869343161582947, 0.582023561000824, 0.08729951083660126, -0.7997002601623535, 0.33347275853157043, 1.540626049041748, 0.8240368366241455, 1.387610912322998, 0.5252114534378052, 0.12251009047031403, 2.2175354957580566, -1.563729166984558, 1.3649688959121704, 0.5709944367408752, 0.28966808319091797, 0.32756131887435913, 1.075937271118164, -1.4613081216812134, 0.8561786413192749, 0.05195482075214386, 1.520453929901123, 2.298124074935913, 0.2403571754693985, -0.4223727881908417, -1.9338642358779907, 1.1777887344360352, -1.418126106262207, -0.5839290618896484, -0.06517317146062851, 2.314227342605591, -0.406954288482666, 0.11623180657625198, -0.9994145631790161, -2.085721492767334, 0.41866233944892883, -0.7549145817756653, -0.6953443884849548, 0.4408528804779053, 0.10074800252914429, 2.3173348903656006, -1.234025239944458, 0.738497257232666, -0.16521339118480682, 0.18835784494876862, -1.648482322692871, 1.4123961925506592, -0.7978940606117249, 1.050618290901184, -0.3016185760498047, -1.0347838401794434, -0.6512929201126099, -1.6352102756500244, 0.6931940913200378, -0.4870814383029938, -1.520090103149414, 0.3396655023097992, -0.6815349459648132, 0.41297322511672974, -0.7224748730659485, -1.0958027839660645, 1.4304065704345703, 0.04680964723229408, -0.08425062894821167, -0.6071548461914062, 1.8420531749725342, -0.13627441227436066, 0.0051507302559912205, 0.030185913667082787, 0.37639087438583374, 0.5168311595916748, -2.001487970352173, 0.2983377277851105, -0.6388723850250244, -0.4835822582244873, 0.7471329569816589, -0.08493463695049286, 0.009832996875047684, -0.5195850133895874, -0.4995648264884949, -0.7196953296661377, 1.772532343864441, 1.467259407043457, -0.7247011661529541, 1.2032010555267334, -0.34627318382263184, -0.737113356590271, 1.1091368198394775, -1.0362846851348877, 0.8110880255699158, -1.3769254684448242, 1.950186014175415, 0.6984509229660034, 0.41781315207481384, 1.1245207786560059, 1.705664873123169, -2.152276039123535, -1.738517165184021, -0.31993550062179565, -0.20093919336795807, -0.230743408203125, -2.180499315261841, -0.9081045389175415, -0.9701043367385864, 0.8028611540794373, 0.7804396152496338, -0.4653829336166382, -1.6791727542877197, -3.443406343460083, -0.6959430575370789, 0.051228515803813934, 0.07341360300779343, 0.6366676688194275, 0.562228262424469, -1.1776357889175415, 0.6885015964508057, 0.5642765760421753, -0.52219557762146, 0.12410584837198257, 0.722035825252533, 0.5743831992149353, -1.146410584449768, -0.38492563366889954, -2.117504596710205, -0.11182213574647903, 0.532446026802063, 0.11743812263011932, 0.211303249001503, -1.0465790033340454, 0.5949559807777405, -0.4517764449119568, 1.0018664598464966, -0.7064574956893921, -0.17520646750926971, 0.06554244458675385, -0.15051618218421936, 0.271179735660553, -0.4812335968017578, -1.4902867078781128, 0.5163474678993225, 0.4530814290046692, 2.576432943344116, -0.8867487907409668, -1.1875723600387573, 1.115444540977478, -0.11877841502428055, 0.22710105776786804, -0.25781217217445374, -0.35145804286003113, 0.5136144757270813, -0.7223845720291138, 2.01220703125, -0.014643331989645958, 1.5250309705734253, 0.2772720158100128, -1.5551173686981201, 1.5690041780471802, -0.3586987555027008, -0.821297287940979, 0.5692667961120605, 0.6933603882789612, -0.06377284228801727, 1.3984545469284058, 1.9141072034835815, -1.6954545974731445, -0.6084020137786865, 1.207892894744873, 0.05367214232683182, -1.431570291519165, -0.02160024270415306, -1.406224250793457, 0.6438537240028381, 1.062151312828064, 0.2481129914522171, 1.219609260559082, -1.8193281888961792, 0.9459613561630249, -1.1253461837768555, -0.2393205165863037, -3.311938524246216, 2.3370165824890137, 0.15703962743282318, 1.7429479360580444, -0.8554869890213013, -0.5700623989105225, -1.250984787940979, 0.31929904222488403, 1.5461074113845825, -0.6137553453445435, -2.099429130554199, -0.1161319762468338, 0.5251367092132568, -0.009394236840307713, -0.3788227140903473, 0.6061121225357056, -0.358284056186676, 0.919623613357544, 1.8970298767089844, 0.05541263520717621, -0.1474859118461609, 0.5419166684150696, 1.2973859310150146, 0.813692569732666, -1.2677271366119385, 0.0435563288629055, 0.23917368054389954, -1.2498900890350342, 0.07608158141374588, 1.276520013809204, -2.1620938777923584, 0.07161567360162735, -0.9151397347450256, -0.20108598470687866, 1.2488552331924438, -0.5311920642852783, -0.9206677079200745, -1.920414924621582, 1.9982811212539673, 1.236326813697815, -0.8092955350875854, -0.7305428981781006, -1.8645151853561401, -0.7626839280128479, 0.9642813801765442, 0.6454222202301025, 0.03709125891327858, -0.8042630553245544, -0.08441556990146637, -0.7736046314239502, -0.3654533624649048, -0.3710523843765259, -0.433248907327652, -0.024391572922468185, 0.570013165473938, -0.798865020275116, 2.2923972606658936, 0.8052077889442444, -0.2050536870956421, -1.6108204126358032, -0.16342337429523468, -0.8435259461402893, 0.3984150290489197, 1.5397531986236572, -0.3182346820831299, 0.9576792120933533, 0.5961787104606628, 1.081446886062622, 2.0272486209869385, 2.662879467010498, 0.9332563281059265, 0.2971245050430298, -1.7223503589630127, -0.03217006102204323, 0.4960888922214508, 0.516822874546051, 0.49658825993537903, 1.505673885345459, -0.46081358194351196, 2.6086676120758057, -0.7802103161811829, -0.1959739327430725, -1.6583528518676758, -0.5586585402488708, 1.622030258178711, -1.3902082443237305, 0.799106240272522, -0.9055913686752319, 0.2759615480899811, -1.7452534437179565, -1.5354381799697876, 0.6169348955154419, -0.7624284029006958, -1.4675277471542358, 0.050934307277202606, -0.16368959844112396, -0.5968035459518433, 1.2005585432052612, -1.3677805662155151, -0.7202311754226685, 0.9722090363502502, 0.4222619831562042, 0.5860163569450378, -0.8011040091514587, 0.20050431787967682, 1.7247995138168335, 1.0795866250991821, 0.9521064758300781, 0.9087364673614502, 1.0037955045700073, 1.1239897012710571, -0.3836909234523773, -0.6591737866401672, -0.21890507638454437, 0.42120063304901123, 0.5379899740219116, 2.2032206058502197, -1.3994715213775635, 1.7228565216064453, -0.005677252076566219, 1.503420114517212, -1.4763116836547852, 1.8481839895248413, -1.7811230421066284, 0.06055651232600212, -0.4028308391571045, -0.5033063888549805, -0.9214661717414856, -0.6467298865318298, 0.6193430423736572, 0.15657123923301697, 0.7279596924781799, 0.888218104839325, 0.161053866147995, -0.4355209767818451, -0.42517897486686707, -1.7503952980041504, 1.5154300928115845, 0.13556189835071564, 0.8270546793937683, -0.25938913226127625, -1.2835248708724976, 1.6634494066238403, 0.3093577027320862, -0.5442699193954468, 0.7883305549621582, 1.9896636009216309, -0.06902138888835907, -0.01721576228737831, -0.37101420760154724, -0.029232893139123917, 1.040146827697754, -0.254843145608902, 0.45556479692459106, 2.8907182216644287, 0.6987432837486267, -1.088976263999939, -0.10097553580999374, -0.9712571501731873, 1.0825531482696533, 0.6663285493850708, -1.1056913137435913, -1.6851239204406738, 1.361695647239685, -1.9457170963287354, -1.9748440980911255, -0.2943558096885681, -0.16011212766170502, -0.9040899872779846, -0.6992589831352234, 1.0882669687271118, 0.3800320029258728, 0.6260471343994141, 1.0625653266906738, 0.6486058831214905, 0.6976879835128784, -1.339639663696289, -0.15649430453777313, 1.2468318939208984, 0.5447240471839905, 1.6646090745925903, 0.3527335822582245, 3.3495559692382812, -0.9227979779243469, -0.9950403571128845, 0.5460529923439026, 0.5274337530136108, -0.6613410711288452, -0.11373357474803925, 0.9345608353614807, -0.3548470437526703, -0.7440212965011597, -2.079711437225342, 1.0690088272094727, -0.637432336807251, -2.3169209957122803, 1.2967745065689087, -1.2289600372314453, -0.6384403109550476, -1.0179275274276733, 0.41368532180786133, -0.259770005941391, -1.1477233171463013, 0.6113438010215759, 0.6780292391777039, 2.1812350749969482, 0.2917131185531616, -0.6176242828369141, -2.465299129486084, 0.6715772747993469, -1.279151439666748, 1.4137041568756104, -0.4353731572628021, 1.743380069732666, -0.04383532702922821, -1.495585560798645, 0.3477187752723694, -0.49331891536712646, 3.1552982330322266, 0.6208476424217224, 0.882092297077179, -1.241139531135559, -2.6730446815490723, 0.06687045097351074, -1.0203657150268555, 0.06974482536315918, 0.6317028403282166, 3.2183618545532227, 1.8862470388412476, 0.8741778135299683, -1.6251027584075928, 0.43664294481277466, 0.6152669787406921, 0.5881218314170837, -1.520090103149414, -0.06430663913488388, -0.4072570204734802, 0.5049192905426025, 2.149878740310669, 2.3345656394958496, -0.9767481684684753, -1.2457859516143799, -0.4987162947654724, -1.5782405138015747, -0.6551722884178162, 2.5145435333251953, -1.747923731803894, -0.7545244693756104, -0.7903686761856079, 0.0641542449593544, -0.35187628865242004, 0.01989835686981678, 0.6676011681556702, -1.0062782764434814, -2.2334320545196533, -0.4277912676334381, 0.5112175941467285, 1.3828141689300537, -0.7024824619293213, 1.1162068843841553, -0.619327187538147, -1.3040136098861694, 1.4854159355163574, -0.030756261199712753, -1.9582747220993042, 0.4552116096019745, -0.4615705907344818, -1.2784509658813477, 0.0344417430460453, -1.105641484260559, -0.3825875222682953, 1.2205361127853394, -1.514385461807251, -0.06839771568775177, -0.5880745053291321, 0.10507626086473465, -0.5274060964584351, -0.7271621823310852, 0.35144662857055664, 0.3275785744190216, 0.4920255243778229, 0.4181978106498718, -0.6073833107948303, -0.36881223320961, 0.8728370666503906, 0.6720849275588989, 0.20953711867332458, -3.239753007888794, 1.6051081418991089, 0.8908001780509949, -1.3805052042007446, 1.2832176685333252, -0.9827094078063965, -0.14753533899784088, -0.29860296845436096, -1.1848543882369995, 1.2208095788955688, 1.4992613792419434, 0.9207473397254944, -0.8028402924537659, -0.0018356316722929478, 3.7275948524475098, 0.6735939383506775, 0.5757761001586914, -1.5245789289474487, -0.25114673376083374, -1.9861024618148804, 0.5444907546043396, -0.10735464841127396, 0.9545873403549194, 0.3182557225227356, -0.9648115038871765, 0.6913285851478577, 1.017346978187561, 1.534464955329895, 0.9865211844444275, 0.357164204120636, -1.5238585472106934, -0.6457188725471497, -1.4271479845046997, -0.24629196524620056, -1.2379119396209717, -0.34336933493614197, 0.8301529884338379, -0.34430283308029175, -0.5956615805625916, 2.2984821796417236, 0.5730617642402649, -1.6209608316421509, -0.33552220463752747, 2.663773775100708, -2.098362922668457, -1.7432703971862793, 1.578182339668274, -1.1817243099212646, 0.3803204298019409, 0.24945425987243652, 0.9446828961372375, 1.7681716680526733, 0.5394330024719238, 0.47698163986206055, 0.22922323644161224, -0.9978587031364441, 1.1773892641067505, 0.590246319770813, 1.1475303173065186, -2.3093068599700928, 0.33296096324920654, -0.849556565284729, 0.5164294242858887, -0.3716890215873718, 1.9618154764175415, -1.947724461555481, -0.20246993005275726, -0.2903011739253998, 0.7313831448554993, 0.29579535126686096, -0.22413447499275208, -2.311440944671631, 1.2768406867980957, 0.5458192229270935, -0.30792808532714844, 1.1860499382019043, -0.3749174475669861, 0.8819968104362488, 1.3840476274490356, -0.4798700213432312, -1.0753815174102783, 2.346684694290161, -0.7833113670349121, 0.6510776877403259, -0.44961875677108765, 1.9108805656433105, -0.6685017943382263, -0.02645019069314003, 0.1474127620458603, -0.9878584146499634, 0.5991675853729248, 0.5569611191749573, 1.1257017850875854, -0.36243030428886414, 0.16825874149799347, -1.3834599256515503, -0.676141083240509, -1.9324191808700562, -2.3381006717681885, 1.7160204648971558, 0.8546286821365356, -1.1989614963531494, 0.24052438139915466, 1.3971346616744995, 1.0428615808486938, -0.250893235206604, 0.6283663511276245, -1.5438005924224854, 1.0587608814239502, -0.4490009844303131, 1.2696293592453003, 0.2501942813396454, -0.07229342311620712, 1.0964547395706177, -0.2437504529953003, -0.2865127921104431, -0.9906430840492249, -0.04210551455616951, 1.6680693626403809, 0.44856855273246765, 1.5386499166488647, -0.014923440292477608, 0.5454017519950867, 0.03562762960791588, -0.07991106063127518, 0.0022805631160736084, -1.4749313592910767, 1.7118799686431885, -0.567312479019165, -0.9098228216171265, 0.9655595421791077, -0.8638394474983215, -0.41016221046447754, 0.31104135513305664, -0.4911000430583954, -1.1986984014511108, -0.6505507230758667, -0.3689062297344208, 1.9543194770812988, -1.3707647323608398, -0.010536530055105686, -1.0733314752578735, 1.4344762563705444, 0.41579291224479675, -1.7489013671875, -0.3511822521686554, -1.5346903800964355, 1.4219242334365845, 2.1079211235046387, 0.45948517322540283, -0.2830875813961029, -1.2120400667190552, 0.19418704509735107, -1.4864507913589478, 0.1030455008149147, 0.6840232014656067, 2.1126511096954346, 2.0343544483184814, -0.9015828967094421, -0.5049650073051453, -0.3955442011356354, 0.4686124622821808, -0.4399354159832001, 1.1163647174835205, -0.17577959597110748, -0.9415337443351746, -0.917448103427887, -0.4188002049922943, 0.7450814247131348, -0.8574455976486206, 2.7854175567626953, 0.4767279624938965, -0.4644497334957123, 0.7243275046348572, -0.21112023293972015, -0.1933976262807846, -0.055152636021375656, 0.8273232579231262, 0.92485511302948, -0.5769763588905334, 0.3380770981311798, -1.8441778421401978, 1.9175975322723389, 1.7109938859939575, -0.3265121281147003, -0.5304526686668396, 3.575340747833252, -0.32091471552848816, 0.5473450422286987, -0.582143247127533, 0.08871366828680038, -0.9336341619491577, 0.8405629992485046, -0.5290591716766357, -0.9085473418235779, -0.737957775592804, -0.9262556433677673, -0.7447501420974731, 0.8064571619033813, -0.40677395462989807, 2.137718677520752, 1.046014666557312, -0.40419065952301025, 0.9660282135009766, -0.6215723752975464, -0.0009180128108710051, 0.5259291529655457, 0.6330816149711609, -1.3946126699447632, -0.49472370743751526, 0.11823731660842896, -0.5191017985343933, 0.9968687295913696, -0.31160688400268555, 0.164510115981102, -1.0999422073364258, -0.6854534149169922, 0.3957746922969818, -0.3922751545906067, -0.31845423579216003, -0.5207480192184448, -1.9428062438964844, -1.2989317178726196, 0.9527158141136169, 0.36215347051620483, 1.523869514465332, 1.1674554347991943, -0.4600396752357483, 0.7064573168754578, -1.0375474691390991, 0.09113366901874542, 2.77940034866333, 1.6749683618545532, -0.5451362729072571, 0.16302482783794403, -0.7243322134017944, -0.5091278553009033, -1.5984164476394653, 0.3929893672466278, -0.302844375371933, -2.736870050430298, -0.3768253028392792, 0.29637783765792847, 0.05257883667945862, 0.5537019371986389, 2.783405303955078, -0.6893753409385681, 0.7396975755691528, -0.13293848931789398, -0.02577168121933937, 0.9744885563850403, -0.5658189654350281, 0.4816693067550659, 0.5724114775657654, -0.8653759360313416, -0.38327592611312866, 1.190396785736084, 0.3937443792819977, -0.10966616868972778, -0.4718523323535919, -1.9501142501831055, -0.6917177438735962, 0.9930418133735657, 0.49909693002700806, -0.6803293228149414, -1.2150112390518188, 0.14285778999328613, -0.2676791846752167, -1.6773427724838257, -1.3535822629928589, -1.822524905204773, 2.8578577041625977, 1.099355936050415, -0.778487503528595, -1.8110538721084595, 1.1549441814422607, -0.2621380388736725, 0.5008896589279175, -0.4878842234611511, 0.11742451786994934, -0.1833575963973999, 0.13006597757339478, -0.049223367124795914, 1.9773670434951782, 0.11969596892595291, -0.3079990744590759, -1.9767605066299438, -0.10927489399909973, 1.9944956302642822, 2.7102210521698, -0.21935875713825226, 0.3472096621990204, -1.838460087776184, -1.2633041143417358, 0.6037715673446655, 1.5872395038604736, 2.5635435581207275, -0.054013192653656006, 0.2532494366168976, 0.42747682332992554, 1.544765591621399, 1.3121341466903687, 1.1375212669372559, 0.7622110843658447, 1.00920569896698, -1.6776880025863647, 0.9970604181289673, -0.1803273856639862, -0.3128507137298584, 0.18377456068992615, -0.3451288938522339, -0.2648716866970062, 0.11355428397655487, -0.6708044409751892, 0.8563015460968018, 1.9438064098358154, 1.617767333984375, -0.06762160360813141, 1.595481514930725, -0.6632962226867676, -1.3537578582763672, -1.3888496160507202, 0.5549191832542419, -0.9707751870155334, -0.4654744267463684, -0.42508143186569214, 0.316523015499115, 0.9556114077568054, -0.48214054107666016, -1.3236733675003052, -0.6005597114562988, -0.46705400943756104, 0.17218667268753052, 1.1016768217086792, -1.156882882118225, -0.46093371510505676, 0.9536632299423218, 1.0506826639175415, -0.6438908576965332, -0.8857789039611816, 1.3046422004699707, -0.48733583092689514, 1.8276135921478271, 0.21703332662582397, -1.0577956438064575, -1.5071275234222412, 0.47741085290908813, -0.2777954339981079, -0.054574839770793915, 0.2931737005710602, 0.34663060307502747, 0.5806344151496887, -0.34681761264801025, 3.4551541805267334, 0.7021554112434387, 0.18887929618358612, -2.380673885345459, 0.5922640562057495, 1.1243464946746826, 2.0286121368408203, 0.4297518730163574, -0.04298310726881027, -0.22535653412342072, -2.178093671798706, -2.2560129165649414, -0.5186662673950195, -0.18737509846687317, 0.8339912295341492, -0.34216976165771484, 2.721978187561035, -0.8613924980163574, 3.1544346809387207, 0.014769094996154308, -2.190871477127075, 1.196785807609558, -1.6821531057357788, 0.7480775713920593, -0.8029990792274475, 0.8572487831115723, -0.3042452037334442, -0.668038547039032, -0.8511126637458801, 0.300597608089447, 1.6818386316299438, -1.105591058731079, -0.9785704612731934, 0.4383174479007721, -1.5051578283309937, 1.2039536237716675, -0.8160173892974854, 0.8614494800567627, 1.271234154701233, -0.3831086754798889, -0.21833699941635132, -2.0859203338623047, 1.069174885749817, 0.1652013063430786, -0.41231241822242737, -1.1271933317184448, 1.656627893447876, -0.7575529217720032, -0.5157397985458374, -0.2145262062549591, -0.753976583480835, 1.0522352457046509, 3.1294384002685547, 0.3037625551223755, 0.7112098336219788, 0.7828946709632874, 4.057214736938477, -1.1429905891418457, -3.254551410675049, -0.3466399908065796, 0.4714028835296631, 0.6747127175331116, -1.722394347190857, 1.0017459392547607, 1.347430944442749, 1.4489214420318604, -1.0078192949295044, -0.5622407793998718, -1.8460495471954346, 0.46643126010894775, 0.42442044615745544, -2.3606841564178467, -1.4116264581680298, -0.462601900100708, 1.0664223432540894, 0.6994292140007019, 1.300909399986267, -1.8177682161331177, -0.0759911984205246, 0.9101506471633911, -0.6024049520492554, -0.4860924184322357, 0.2381603717803955, 0.7415821552276611, 0.1672346144914627, 0.9144797921180725, -0.5804437398910522, -0.8832027912139893, -0.03858538344502449, -0.25822269916534424, -1.4660019874572754, 0.2631095349788666, -0.39324861764907837, -0.5194771885871887, -0.4648562967777252, 4.085554122924805, 0.1391448825597763, 0.3651635944843292, 0.5362997651100159, 1.8314409255981445, 0.022832760587334633, -1.0549029111862183, 1.1238898038864136, -1.3536691665649414, -0.8284290432929993, -0.07249975949525833, -0.35368824005126953, -1.4530377388000488, 0.14938665926456451, -1.1794145107269287, 1.6947698593139648, -0.37623077630996704, -0.4144677221775055, 0.39324599504470825, 1.831210970878601, 0.43677714467048645, 3.269218683242798, 0.08602270483970642, -1.315832257270813, 0.12445072829723358, 1.2805157899856567, 0.5042093992233276, -1.643599510192871, -1.2064238786697388, 0.09306397289037704, -1.4483472108840942, 1.333709955215454, 0.8629702925682068, 0.8336369395256042, 1.7548967599868774, -0.38864800333976746, 0.36758682131767273, -0.24537710845470428, 2.029777765274048, -0.08479247987270355, 0.19082754850387573, -0.16284440457820892, 1.9862496852874756, -1.629276990890503, 0.14183560013771057, -0.6968168020248413, 2.533766746520996, 0.9073607325553894, -0.20132490992546082, 1.5440547466278076, 0.1855103224515915, -1.2184789180755615, -1.1721861362457275, 2.210094690322876, 0.7480342388153076, 0.2660757899284363, 0.6648830771446228, -0.6611200571060181, 0.8302247524261475, 0.7908337712287903, 1.306209683418274, -2.342905282974243, -0.8239754438400269, -0.2341369092464447, -1.2319284677505493, 0.23870381712913513, 1.5297918319702148, 2.172675371170044, -0.6571274995803833, -0.4196513891220093, 0.534278929233551, 0.439471036195755, 0.2867528796195984, -0.007891632616519928, -0.22816848754882812, -0.9919918179512024, 0.7773402333259583, 0.05131826549768448, -0.4849937856197357, 0.6692797541618347, -1.2415763139724731, -1.6298573017120361, 0.48525863885879517, -0.263484925031662, -0.2250838577747345, 0.3329824209213257, 0.7770766615867615, 1.7960377931594849, -0.676964282989502, 0.8205698132514954, 0.37312108278274536, 1.908278226852417, 0.6628033518791199, 0.058035172522068024, 0.22418196499347687, -0.5270753502845764, 0.8176218271255493, 1.3488316535949707, 0.1748567521572113, -0.01237398386001587, 0.5545614957809448, -0.6265937685966492, 1.8533897399902344, -1.2234598398208618, -0.3816327452659607, -0.4617736339569092, 1.3691916465759277, -0.26032012701034546, 1.3770751953125, -1.8842353820800781, -1.6085896492004395, 1.6488134860992432, -0.517028272151947, -0.30979394912719727, -2.854020118713379, -1.4575952291488647, 0.29274728894233704, -1.5999566316604614, -2.4227845668792725, 1.6026896238327026, -1.280380129814148, 1.2758831977844238, 0.4959256947040558, 0.944870114326477, 0.5659752488136292, 1.5689818859100342, 0.23602017760276794, -0.7694872617721558, 1.0860443115234375, -2.5754358768463135, 1.1249393224716187, -0.18949149549007416, -0.3463676869869232, 1.3262848854064941, -0.9115184545516968, -0.49185672402381897, 0.03959691524505615, -1.068031907081604, 1.2808791399002075, -0.6962288022041321, 0.8193020820617676, -1.5778166055679321, 1.1162697076797485, 0.047925617545843124, 0.8023704290390015, 0.3548022210597992, 0.6054704189300537, 1.691255807876587, -0.9946788549423218, -0.8306512832641602, 0.03674756735563278, 1.8634400367736816, -0.9743186235427856, -0.11811374127864838, -0.9227577447891235, -1.3148807287216187, 1.4539493322372437, 0.5867447257041931, 0.8148314952850342, -1.331190824508667, 0.33765602111816406, 1.1151748895645142, 0.7737727761268616, 0.7108267545700073, 0.8454577326774597, 0.602620542049408, 1.4519200325012207, 2.0108723640441895, 0.5707976818084717, -1.3978049755096436, 2.9207029342651367, 0.22108076512813568, -0.2584354281425476, -0.23297914862632751, -0.9140942096710205, 0.002331696217879653, 0.4202580153942108, -0.6661559343338013, -0.5256025195121765, 0.3221023976802826, 1.1915135383605957, 1.4989283084869385, -0.4534817636013031, -0.7809926867485046, -1.140642523765564, -0.21180696785449982, 0.2603715658187866, -0.5122639536857605, 1.849554181098938, -1.5134748220443726, 0.004920736886560917, 0.1738816350698471, 1.1389727592468262, 0.5314703583717346, -0.36289337277412415, -0.38639703392982483, -2.038975954055786, -0.38176727294921875, 0.540385365486145, 0.33271703124046326, -0.8737554550170898, -2.543872117996216, -0.62804114818573, 1.2858492136001587, 0.37798887491226196, 0.3311533033847809, -0.2656610310077667, -1.5125552415847778, -0.01240118220448494, -1.5618629455566406, -0.12927506864070892, -0.706522524356842, 1.812991738319397, -1.8368077278137207, -1.0955619812011719, 1.707308053970337, 0.3830040395259857, -1.1307454109191895, 0.9363659620285034, -1.290574073791504, -0.48159101605415344, 0.49921661615371704, 0.9413580894470215, 0.04493911191821098, 0.5679410099983215, -0.20986205339431763, -0.7800622582435608, -0.7257040143013, 0.3824531137943268, 1.6900092363357544, -0.18936212360858917, -0.12139333784580231, 0.8511459827423096, 0.5408191680908203, 0.5372674465179443, 0.9001325368881226, 0.6092877388000488, -0.1523149609565735, 0.16339853405952454, 0.8654125928878784, 0.16051073372364044, -0.9423285722732544, 0.43217694759368896, -0.4946853518486023, 0.3984030485153198, 0.4179610311985016, 1.0005756616592407, -0.05026168003678322, -0.9482018351554871, 0.10206662118434906, 0.10665271431207657, -0.6478548645973206, 1.7462451457977295, 2.1649563312530518, 1.3082756996154785, -1.5573574304580688, -1.0531419515609741, 0.9205779433250427, -1.0462992191314697, 1.4058250188827515, -1.0233091115951538, -0.2030797302722931, 0.09409353882074356, -0.023419000208377838, -1.1975799798965454, -1.5977532863616943, 0.0170652624219656, 2.406327724456787, -0.17617544531822205, -1.0399428606033325, -0.8974239230155945, 0.9372296929359436, -1.0668514966964722, 0.5522047877311707, -1.970246434211731, -0.5537881851196289, 1.0050103664398193, -1.6205461025238037, -2.373185634613037, 0.15481916069984436, 0.07925528287887573, 0.8755177855491638, 0.364080548286438, -1.9782861471176147, -1.0607020854949951, -0.6792780160903931, 1.3235489130020142, -0.3582727015018463, -1.7180976867675781, -1.0619724988937378, -0.548820436000824, -0.010920926928520203, 0.6397746205329895, 0.1706119030714035, 0.4266241490840912, 2.1729204654693604, 1.2865431308746338, 0.8382484316825867, 0.4403042495250702, 1.243120551109314, -0.4829566478729248, -0.8271205425262451, -0.14090973138809204, 0.09377818554639816, 2.062915802001953, -0.690430760383606, -0.7188853621482849, 2.3452625274658203, -0.3878965675830841, -1.2853643894195557, -0.8620569109916687, 0.7314536571502686, 1.4533843994140625, -0.7298969030380249, -0.039710529148578644, 2.0711958408355713, 1.1703945398330688, -0.053681474179029465, 0.6978245377540588, 0.9210894703865051, -0.8045044541358948, 0.18678471446037292, -0.44475749135017395, 0.9284759759902954, -0.9882226586341858, -0.2513772249221802, -1.1359213590621948, -0.5318941473960876, -1.1354820728302002, 0.26724973320961, 0.5565938353538513, 0.39441564679145813, 0.19618156552314758, -0.37480872869491577, 0.7506063580513, -0.07372304797172546, -1.917825698852539, 0.511603593826294, -0.3073532283306122, -0.04008102789521217, -0.373086154460907, -1.884278655052185, -0.8908463716506958, 2.2033705711364746, -0.5469185709953308, -1.044926643371582, 3.6891236305236816, 2.2951018810272217, 0.15354245901107788, -1.2083417177200317, -0.1990187019109726, 0.9930581450462341, 0.4117714464664459, -0.264739453792572, 0.3944200873374939, -0.7523327469825745, 1.1637020111083984, 1.5618577003479004, -0.4713420271873474, -0.8985005021095276, -1.5542917251586914, -1.861353874206543, -1.2103626728057861, 0.64085453748703, -1.26322340965271, 0.5776078104972839, -0.27040404081344604, 0.3050250709056854, 0.248995840549469, 1.5068237781524658, 1.2893024682998657, -0.2913052439689636, -0.8609260320663452, -0.1419016718864441, -0.39360132813453674, 1.132935881614685, 2.05362868309021, -1.3551307916641235, 2.183595895767212, -1.83723783493042, 3.529352903366089, 0.19638580083847046, -0.8034237623214722, 1.229580283164978, 0.9096285104751587, -1.3613184690475464, 0.33213111758232117, 0.8094316720962524, 0.09231825917959213, -0.3170768618583679, -0.4840272068977356, 0.5439795851707458, -0.1719542145729065, -1.1775997877120972, -0.008039750158786774, 0.3030775785446167, 1.796270489692688, 0.2883039712905884, 0.07589148730039597, -0.7544479966163635, -0.7161725759506226, 0.12004689127206802, -0.8369140028953552, 0.21875375509262085, 0.8543025255203247, 0.9578407406806946, -0.5360182523727417, -0.5084961652755737, 1.648153305053711, 0.47632038593292236, -1.2935380935668945, -0.2776392996311188, -1.0088865756988525, 1.2799748182296753, 0.44359272718429565, -0.6600000858306885, -0.8582907319068909, 1.1521470546722412, -1.474754810333252, -0.572378396987915, 2.4883692264556885, -1.5275896787643433, -0.9023215174674988, -0.7351612448692322, -0.3793850243091583, -1.4194815158843994, 0.7694035172462463, 0.8353143930435181, 0.8606334328651428, -0.8219994306564331, -1.3428213596343994, -0.7730959057807922, -0.12489643692970276, 0.3537917137145996, 0.23712004721164703, -0.30552759766578674, -0.8733347058296204, -0.6222981810569763, -0.42950060963630676, 0.6263197064399719, -0.24247021973133087, -1.1271209716796875, 1.8661243915557861, 0.12548968195915222, 1.4748090505599976, 0.2941386103630066, -0.9831358194351196, -1.67035973072052, -2.1189661026000977, -1.433753490447998, 0.9116953611373901], \"yaxis\": \"y\"}],\n",
              "                        {\"legend\": {\"itemsizing\": \"constant\", \"tracegroupgap\": 0}, \"margin\": {\"t\": 60}, \"template\": {\"data\": {\"bar\": [{\"error_x\": {\"color\": \"#2a3f5f\"}, \"error_y\": {\"color\": \"#2a3f5f\"}, \"marker\": {\"line\": {\"color\": \"white\", \"width\": 0.5}}, \"type\": \"bar\"}], \"barpolar\": [{\"marker\": {\"line\": {\"color\": \"white\", \"width\": 0.5}}, \"type\": \"barpolar\"}], \"carpet\": [{\"aaxis\": {\"endlinecolor\": \"#2a3f5f\", \"gridcolor\": \"#C8D4E3\", \"linecolor\": \"#C8D4E3\", \"minorgridcolor\": \"#C8D4E3\", \"startlinecolor\": \"#2a3f5f\"}, \"baxis\": {\"endlinecolor\": \"#2a3f5f\", \"gridcolor\": \"#C8D4E3\", \"linecolor\": \"#C8D4E3\", \"minorgridcolor\": \"#C8D4E3\", \"startlinecolor\": \"#2a3f5f\"}, \"type\": \"carpet\"}], \"choropleth\": [{\"colorbar\": {\"outlinewidth\": 0, \"ticks\": \"\"}, \"type\": \"choropleth\"}], \"contour\": [{\"colorbar\": {\"outlinewidth\": 0, \"ticks\": \"\"}, \"colorscale\": [[0.0, \"#0d0887\"], [0.1111111111111111, \"#46039f\"], [0.2222222222222222, \"#7201a8\"], [0.3333333333333333, \"#9c179e\"], [0.4444444444444444, \"#bd3786\"], [0.5555555555555556, \"#d8576b\"], [0.6666666666666666, \"#ed7953\"], [0.7777777777777778, \"#fb9f3a\"], [0.8888888888888888, \"#fdca26\"], [1.0, \"#f0f921\"]], \"type\": \"contour\"}], \"contourcarpet\": [{\"colorbar\": {\"outlinewidth\": 0, \"ticks\": \"\"}, \"type\": \"contourcarpet\"}], \"heatmap\": [{\"colorbar\": {\"outlinewidth\": 0, \"ticks\": \"\"}, \"colorscale\": [[0.0, \"#0d0887\"], [0.1111111111111111, \"#46039f\"], [0.2222222222222222, \"#7201a8\"], [0.3333333333333333, \"#9c179e\"], [0.4444444444444444, \"#bd3786\"], [0.5555555555555556, \"#d8576b\"], [0.6666666666666666, \"#ed7953\"], [0.7777777777777778, \"#fb9f3a\"], [0.8888888888888888, \"#fdca26\"], [1.0, \"#f0f921\"]], \"type\": \"heatmap\"}], \"heatmapgl\": [{\"colorbar\": {\"outlinewidth\": 0, \"ticks\": \"\"}, \"colorscale\": [[0.0, \"#0d0887\"], [0.1111111111111111, \"#46039f\"], [0.2222222222222222, \"#7201a8\"], [0.3333333333333333, \"#9c179e\"], [0.4444444444444444, \"#bd3786\"], [0.5555555555555556, \"#d8576b\"], [0.6666666666666666, \"#ed7953\"], [0.7777777777777778, \"#fb9f3a\"], [0.8888888888888888, \"#fdca26\"], [1.0, \"#f0f921\"]], \"type\": \"heatmapgl\"}], \"histogram\": [{\"marker\": {\"colorbar\": {\"outlinewidth\": 0, \"ticks\": \"\"}}, \"type\": \"histogram\"}], \"histogram2d\": [{\"colorbar\": {\"outlinewidth\": 0, \"ticks\": \"\"}, \"colorscale\": [[0.0, \"#0d0887\"], [0.1111111111111111, \"#46039f\"], [0.2222222222222222, \"#7201a8\"], [0.3333333333333333, \"#9c179e\"], [0.4444444444444444, \"#bd3786\"], [0.5555555555555556, \"#d8576b\"], [0.6666666666666666, \"#ed7953\"], [0.7777777777777778, \"#fb9f3a\"], [0.8888888888888888, \"#fdca26\"], [1.0, \"#f0f921\"]], \"type\": \"histogram2d\"}], \"histogram2dcontour\": [{\"colorbar\": {\"outlinewidth\": 0, \"ticks\": \"\"}, \"colorscale\": [[0.0, \"#0d0887\"], [0.1111111111111111, \"#46039f\"], [0.2222222222222222, \"#7201a8\"], [0.3333333333333333, \"#9c179e\"], [0.4444444444444444, \"#bd3786\"], [0.5555555555555556, \"#d8576b\"], [0.6666666666666666, \"#ed7953\"], [0.7777777777777778, \"#fb9f3a\"], [0.8888888888888888, \"#fdca26\"], [1.0, \"#f0f921\"]], \"type\": \"histogram2dcontour\"}], \"mesh3d\": [{\"colorbar\": {\"outlinewidth\": 0, \"ticks\": \"\"}, \"type\": \"mesh3d\"}], \"parcoords\": [{\"line\": {\"colorbar\": {\"outlinewidth\": 0, \"ticks\": \"\"}}, \"type\": \"parcoords\"}], \"pie\": [{\"automargin\": true, \"type\": \"pie\"}], \"scatter\": [{\"marker\": {\"colorbar\": {\"outlinewidth\": 0, \"ticks\": \"\"}}, \"type\": \"scatter\"}], \"scatter3d\": [{\"line\": {\"colorbar\": {\"outlinewidth\": 0, \"ticks\": \"\"}}, \"marker\": {\"colorbar\": {\"outlinewidth\": 0, \"ticks\": \"\"}}, \"type\": \"scatter3d\"}], \"scattercarpet\": [{\"marker\": {\"colorbar\": {\"outlinewidth\": 0, \"ticks\": \"\"}}, \"type\": \"scattercarpet\"}], \"scattergeo\": [{\"marker\": {\"colorbar\": {\"outlinewidth\": 0, \"ticks\": \"\"}}, \"type\": \"scattergeo\"}], \"scattergl\": [{\"marker\": {\"colorbar\": {\"outlinewidth\": 0, \"ticks\": \"\"}}, \"type\": \"scattergl\"}], \"scattermapbox\": [{\"marker\": {\"colorbar\": {\"outlinewidth\": 0, \"ticks\": \"\"}}, \"type\": \"scattermapbox\"}], \"scatterpolar\": [{\"marker\": {\"colorbar\": {\"outlinewidth\": 0, \"ticks\": \"\"}}, \"type\": \"scatterpolar\"}], \"scatterpolargl\": [{\"marker\": {\"colorbar\": {\"outlinewidth\": 0, \"ticks\": \"\"}}, \"type\": \"scatterpolargl\"}], \"scatterternary\": [{\"marker\": {\"colorbar\": {\"outlinewidth\": 0, \"ticks\": \"\"}}, \"type\": \"scatterternary\"}], \"surface\": [{\"colorbar\": {\"outlinewidth\": 0, \"ticks\": \"\"}, \"colorscale\": [[0.0, \"#0d0887\"], [0.1111111111111111, \"#46039f\"], [0.2222222222222222, \"#7201a8\"], [0.3333333333333333, \"#9c179e\"], [0.4444444444444444, \"#bd3786\"], [0.5555555555555556, \"#d8576b\"], [0.6666666666666666, \"#ed7953\"], [0.7777777777777778, \"#fb9f3a\"], [0.8888888888888888, \"#fdca26\"], [1.0, \"#f0f921\"]], \"type\": \"surface\"}], \"table\": [{\"cells\": {\"fill\": {\"color\": \"#EBF0F8\"}, \"line\": {\"color\": \"white\"}}, \"header\": {\"fill\": {\"color\": \"#C8D4E3\"}, \"line\": {\"color\": \"white\"}}, \"type\": \"table\"}]}, \"layout\": {\"annotationdefaults\": {\"arrowcolor\": \"#2a3f5f\", \"arrowhead\": 0, \"arrowwidth\": 1}, \"coloraxis\": {\"colorbar\": {\"outlinewidth\": 0, \"ticks\": \"\"}}, \"colorscale\": {\"diverging\": [[0, \"#8e0152\"], [0.1, \"#c51b7d\"], [0.2, \"#de77ae\"], [0.3, \"#f1b6da\"], [0.4, \"#fde0ef\"], [0.5, \"#f7f7f7\"], [0.6, \"#e6f5d0\"], [0.7, \"#b8e186\"], [0.8, \"#7fbc41\"], [0.9, \"#4d9221\"], [1, \"#276419\"]], \"sequential\": [[0.0, \"#0d0887\"], [0.1111111111111111, \"#46039f\"], [0.2222222222222222, \"#7201a8\"], [0.3333333333333333, \"#9c179e\"], [0.4444444444444444, \"#bd3786\"], [0.5555555555555556, \"#d8576b\"], [0.6666666666666666, \"#ed7953\"], [0.7777777777777778, \"#fb9f3a\"], [0.8888888888888888, \"#fdca26\"], [1.0, \"#f0f921\"]], \"sequentialminus\": [[0.0, \"#0d0887\"], [0.1111111111111111, \"#46039f\"], [0.2222222222222222, \"#7201a8\"], [0.3333333333333333, \"#9c179e\"], [0.4444444444444444, \"#bd3786\"], [0.5555555555555556, \"#d8576b\"], [0.6666666666666666, \"#ed7953\"], [0.7777777777777778, \"#fb9f3a\"], [0.8888888888888888, \"#fdca26\"], [1.0, \"#f0f921\"]]}, \"colorway\": [\"#636efa\", \"#EF553B\", \"#00cc96\", \"#ab63fa\", \"#FFA15A\", \"#19d3f3\", \"#FF6692\", \"#B6E880\", \"#FF97FF\", \"#FECB52\"], \"font\": {\"color\": \"#2a3f5f\"}, \"geo\": {\"bgcolor\": \"white\", \"lakecolor\": \"white\", \"landcolor\": \"white\", \"showlakes\": true, \"showland\": true, \"subunitcolor\": \"#C8D4E3\"}, \"hoverlabel\": {\"align\": \"left\"}, \"hovermode\": \"closest\", \"mapbox\": {\"style\": \"light\"}, \"paper_bgcolor\": \"white\", \"plot_bgcolor\": \"white\", \"polar\": {\"angularaxis\": {\"gridcolor\": \"#EBF0F8\", \"linecolor\": \"#EBF0F8\", \"ticks\": \"\"}, \"bgcolor\": \"white\", \"radialaxis\": {\"gridcolor\": \"#EBF0F8\", \"linecolor\": \"#EBF0F8\", \"ticks\": \"\"}}, \"scene\": {\"xaxis\": {\"backgroundcolor\": \"white\", \"gridcolor\": \"#DFE8F3\", \"gridwidth\": 2, \"linecolor\": \"#EBF0F8\", \"showbackground\": true, \"ticks\": \"\", \"zerolinecolor\": \"#EBF0F8\"}, \"yaxis\": {\"backgroundcolor\": \"white\", \"gridcolor\": \"#DFE8F3\", \"gridwidth\": 2, \"linecolor\": \"#EBF0F8\", \"showbackground\": true, \"ticks\": \"\", \"zerolinecolor\": \"#EBF0F8\"}, \"zaxis\": {\"backgroundcolor\": \"white\", \"gridcolor\": \"#DFE8F3\", \"gridwidth\": 2, \"linecolor\": \"#EBF0F8\", \"showbackground\": true, \"ticks\": \"\", \"zerolinecolor\": \"#EBF0F8\"}}, \"shapedefaults\": {\"line\": {\"color\": \"#2a3f5f\"}}, \"ternary\": {\"aaxis\": {\"gridcolor\": \"#DFE8F3\", \"linecolor\": \"#A2B1C6\", \"ticks\": \"\"}, \"baxis\": {\"gridcolor\": \"#DFE8F3\", \"linecolor\": \"#A2B1C6\", \"ticks\": \"\"}, \"bgcolor\": \"white\", \"caxis\": {\"gridcolor\": \"#DFE8F3\", \"linecolor\": \"#A2B1C6\", \"ticks\": \"\"}}, \"title\": {\"x\": 0.05}, \"xaxis\": {\"automargin\": true, \"gridcolor\": \"#EBF0F8\", \"linecolor\": \"#EBF0F8\", \"ticks\": \"\", \"title\": {\"standoff\": 15}, \"zerolinecolor\": \"#EBF0F8\", \"zerolinewidth\": 2}, \"yaxis\": {\"automargin\": true, \"gridcolor\": \"#EBF0F8\", \"linecolor\": \"#EBF0F8\", \"ticks\": \"\", \"title\": {\"standoff\": 15}, \"zerolinecolor\": \"#EBF0F8\", \"zerolinewidth\": 2}}}, \"xaxis\": {\"anchor\": \"y\", \"domain\": [0.0, 1.0], \"title\": {\"text\": \"x0\"}}, \"yaxis\": {\"anchor\": \"x\", \"domain\": [0.0, 1.0], \"title\": {\"text\": \"x1\"}}},\n",
              "                        {\"responsive\": true}\n",
              "                    ).then(function(){\n",
              "                            \n",
              "var gd = document.getElementById('0603e8b2-d5ac-4b34-b3c8-d5e4182b50d0');\n",
              "var x = new MutationObserver(function (mutations, observer) {{\n",
              "        var display = window.getComputedStyle(gd).display;\n",
              "        if (!display || display === 'none') {{\n",
              "            console.log([gd, 'removed!']);\n",
              "            Plotly.purge(gd);\n",
              "            observer.disconnect();\n",
              "        }}\n",
              "}});\n",
              "\n",
              "// Listen for the removal of the full notebook cells\n",
              "var notebookContainer = gd.closest('#notebook-container');\n",
              "if (notebookContainer) {{\n",
              "    x.observe(notebookContainer, {childList: true});\n",
              "}}\n",
              "\n",
              "// Listen for the clearing of the current output cell\n",
              "var outputEl = gd.closest('.output');\n",
              "if (outputEl) {{\n",
              "    x.observe(outputEl, {childList: true});\n",
              "}}\n",
              "\n",
              "                        })\n",
              "                };\n",
              "                \n",
              "            </script>\n",
              "        </div>\n",
              "</body>\n",
              "</html>"
            ]
          },
          "metadata": {}
        }
      ]
    },
    {
      "cell_type": "markdown",
      "metadata": {
        "id": "IzYjT6VGz9TK"
      },
      "source": [
        "Cool, we made a word embedding! This embedding seems to have learned some reasonable associations. For example, we see that words like \"Someday\", \"Moment\", and \"Yesterday\" are relatively close to each other and usually fall under the \"night/time\" label. So are \"Dirt\", \"Ruin\", and \"Deny\", which are usually related to a \"sadness\" topic song."
      ]
    },
    {
      "cell_type": "markdown",
      "metadata": {
        "id": "NCTw9rWpKHlX"
      },
      "source": [
        "# Modeling 2: Classifying Genre with audio file"
      ]
    },
    {
      "cell_type": "markdown",
      "metadata": {
        "id": "OzSuhi1UKvLQ"
      },
      "source": [
        "First, let's take a look at the values in `genre` ."
      ]
    },
    {
      "cell_type": "code",
      "metadata": {
        "id": "u5IJIWS_QIEb",
        "colab": {
          "base_uri": "https://localhost:8080/"
        },
        "outputId": "a5fb4c6b-aaee-4000-e505-ef702a02c62b"
      },
      "source": [
        "df.groupby(\"genre\").size()"
      ],
      "execution_count": 7,
      "outputs": [
        {
          "output_type": "execute_result",
          "data": {
            "text/plain": [
              "genre\n",
              "blues      1634\n",
              "country    1308\n",
              "hip hop     861\n",
              "jazz       1356\n",
              "pop        2199\n",
              "reggae     1242\n",
              "rock       1429\n",
              "dtype: int64"
            ]
          },
          "metadata": {},
          "execution_count": 7
        }
      ]
    },
    {
      "cell_type": "markdown",
      "metadata": {
        "id": "IiTVi3ElQX3l"
      },
      "source": [
        "Then, we go to the categorical encoding for the `genre` column. This step will help us to build the model in the future."
      ]
    },
    {
      "cell_type": "code",
      "metadata": {
        "id": "b8YXHBzQQewm"
      },
      "source": [
        "le2 = LabelEncoder()\n",
        "df[\"genre\"] = le2.fit_transform(df[\"genre\"])\n",
        "num_genres = len(df[\"genre\"].unique())\n",
        "le2."
      ],
      "execution_count": 8,
      "outputs": []
    },
    {
      "cell_type": "markdown",
      "metadata": {
        "id": "MtKrJ5BXemlO"
      },
      "source": [
        "We define the scalars, which will be the predictive data for our model."
      ]
    },
    {
      "cell_type": "code",
      "metadata": {
        "id": "pPOuVCuUelrf"
      },
      "source": [
        "scalars = ['danceability',\n",
        "           \"energy\",\n",
        "           \"loudness\",\n",
        "           'acousticness', \n",
        "           'instrumentalness', \n",
        "           'valence']        "
      ],
      "execution_count": 7,
      "outputs": []
    },
    {
      "cell_type": "markdown",
      "metadata": {
        "id": "8cqmV-4uexfu"
      },
      "source": [
        "The model uses scalars as predictive data and genre as the target data."
      ]
    },
    {
      "cell_type": "code",
      "metadata": {
        "id": "j9lCle_rerTC"
      },
      "source": [
        "data = tf.data.Dataset.from_tensor_slices(\n",
        "    (\n",
        "        {\n",
        "            \"lyrics\" : df[[\"lyrics\"]], \n",
        "            \"scalars\" : df[scalars]\n",
        "        }, \n",
        "        {\n",
        "            \"genre\" : df[[\"genre\"]]\n",
        "        }\n",
        "    )\n",
        ")"
      ],
      "execution_count": 8,
      "outputs": []
    },
    {
      "cell_type": "code",
      "metadata": {
        "colab": {
          "base_uri": "https://localhost:8080/",
          "height": 419
        },
        "id": "0dR9rbBCHVzn",
        "outputId": "fceeb074-34a7-49f9-d9d0-5b6ff376004d"
      },
      "source": [
        "df[[\"lyrics\"]]"
      ],
      "execution_count": 9,
      "outputs": [
        {
          "output_type": "execute_result",
          "data": {
            "text/html": [
              "<div>\n",
              "<style scoped>\n",
              "    .dataframe tbody tr th:only-of-type {\n",
              "        vertical-align: middle;\n",
              "    }\n",
              "\n",
              "    .dataframe tbody tr th {\n",
              "        vertical-align: top;\n",
              "    }\n",
              "\n",
              "    .dataframe thead th {\n",
              "        text-align: right;\n",
              "    }\n",
              "</style>\n",
              "<table border=\"1\" class=\"dataframe\">\n",
              "  <thead>\n",
              "    <tr style=\"text-align: right;\">\n",
              "      <th></th>\n",
              "      <th>lyrics</th>\n",
              "    </tr>\n",
              "  </thead>\n",
              "  <tbody>\n",
              "    <tr>\n",
              "      <th>4843</th>\n",
              "      <td>yeah thinkin thoughts mind gonna finger gonna ...</td>\n",
              "    </tr>\n",
              "    <tr>\n",
              "      <th>4844</th>\n",
              "      <td>want learn reach grab cause everybody want bab...</td>\n",
              "    </tr>\n",
              "    <tr>\n",
              "      <th>4845</th>\n",
              "      <td>head head head head head head head head head h...</td>\n",
              "    </tr>\n",
              "    <tr>\n",
              "      <th>4846</th>\n",
              "      <td>mechakucha odotte sawago sawago headbanger yea...</td>\n",
              "    </tr>\n",
              "    <tr>\n",
              "      <th>4847</th>\n",
              "      <td>want come cause room drink half beer right thi...</td>\n",
              "    </tr>\n",
              "    <tr>\n",
              "      <th>...</th>\n",
              "      <td>...</td>\n",
              "    </tr>\n",
              "    <tr>\n",
              "      <th>28367</th>\n",
              "      <td>cause fuck leave scar tick tock clock come kno...</td>\n",
              "    </tr>\n",
              "    <tr>\n",
              "      <th>28368</th>\n",
              "      <td>minks things chain ring braclets yap fame come...</td>\n",
              "    </tr>\n",
              "    <tr>\n",
              "      <th>28369</th>\n",
              "      <td>get ban get ban stick crack relax plan attack ...</td>\n",
              "    </tr>\n",
              "    <tr>\n",
              "      <th>28370</th>\n",
              "      <td>check check yeah yeah hear thing call switch g...</td>\n",
              "    </tr>\n",
              "    <tr>\n",
              "      <th>28371</th>\n",
              "      <td>remix killer alive remix thriller trap bitch s...</td>\n",
              "    </tr>\n",
              "  </tbody>\n",
              "</table>\n",
              "<p>10029 rows × 1 columns</p>\n",
              "</div>"
            ],
            "text/plain": [
              "                                                  lyrics\n",
              "4843   yeah thinkin thoughts mind gonna finger gonna ...\n",
              "4844   want learn reach grab cause everybody want bab...\n",
              "4845   head head head head head head head head head h...\n",
              "4846   mechakucha odotte sawago sawago headbanger yea...\n",
              "4847   want come cause room drink half beer right thi...\n",
              "...                                                  ...\n",
              "28367  cause fuck leave scar tick tock clock come kno...\n",
              "28368  minks things chain ring braclets yap fame come...\n",
              "28369  get ban get ban stick crack relax plan attack ...\n",
              "28370  check check yeah yeah hear thing call switch g...\n",
              "28371  remix killer alive remix thriller trap bitch s...\n",
              "\n",
              "[10029 rows x 1 columns]"
            ]
          },
          "metadata": {},
          "execution_count": 9
        }
      ]
    },
    {
      "cell_type": "markdown",
      "metadata": {
        "id": "INOszMYGfFpD"
      },
      "source": [
        "We perform train/test/validation split. "
      ]
    },
    {
      "cell_type": "code",
      "metadata": {
        "id": "G8dJS5zse2lP",
        "colab": {
          "base_uri": "https://localhost:8080/"
        },
        "outputId": "2af959a1-b58c-47f3-d929-e79949e342a8"
      },
      "source": [
        "print(len(data), data)\n",
        "\n",
        "data = data.shuffle(buffer_size = len(data))\n",
        "\n",
        "train_size = int(0.7*len(data))\n",
        "val_size   = int(0.1*len(data))\n",
        "\n",
        "train = data.take(train_size).batch(20)\n",
        "val   = data.skip(train_size).take(val_size).batch(20)\n",
        "test  = data.skip(train_size + val_size).batch(20)\n",
        "\n",
        "len(train), len(val), len(test)"
      ],
      "execution_count": 11,
      "outputs": [
        {
          "output_type": "stream",
          "name": "stdout",
          "text": [
            "10029 <TensorSliceDataset shapes: ({lyrics: (1,), scalars: (6,)}, {genre: (1,)}), types: ({lyrics: tf.string, scalars: tf.float64}, {genre: tf.int64})>\n"
          ]
        },
        {
          "output_type": "execute_result",
          "data": {
            "text/plain": [
              "(351, 51, 101)"
            ]
          },
          "metadata": {},
          "execution_count": 11
        }
      ]
    },
    {
      "cell_type": "code",
      "metadata": {
        "id": "W34_KfNCiCuT"
      },
      "source": [
        "size_vocabulary = 2000\n",
        "\n",
        "vectorize_layer = TextVectorization(\n",
        "    standardize=\"lower_and_strip_punctuation\",\n",
        "    max_tokens= size_vocabulary, # only consider this many words\n",
        "    output_mode='int',\n",
        "    output_sequence_length=500) \n",
        "\n",
        "vectorize_layer.adapt(train.map(lambda x, y: x[\"lyrics\"]))"
      ],
      "execution_count": 10,
      "outputs": []
    },
    {
      "cell_type": "code",
      "metadata": {
        "id": "Z4YL16VWfsyU"
      },
      "source": [
        "scalars_input = keras.Input(\n",
        "    shape = (len(scalars),), \n",
        "    name = \"scalars\",\n",
        "    dtype = \"float64\"\n",
        ")"
      ],
      "execution_count": 39,
      "outputs": []
    },
    {
      "cell_type": "code",
      "metadata": {
        "id": "aYNqF4Ihil3K"
      },
      "source": [
        "lyrics_input = keras.Input(\n",
        "    shape = (1,), \n",
        "    name = \"lyrics\",\n",
        "    dtype = \"string\"\n",
        ")"
      ],
      "execution_count": 40,
      "outputs": []
    },
    {
      "cell_type": "code",
      "metadata": {
        "colab": {
          "base_uri": "https://localhost:8080/"
        },
        "id": "R5GhI_0MeM6c",
        "outputId": "01a3b184-c00a-4034-ec24-03e45ea48702"
      },
      "source": [
        "print(scalars_input)"
      ],
      "execution_count": 41,
      "outputs": [
        {
          "output_type": "stream",
          "name": "stdout",
          "text": [
            "KerasTensor(type_spec=TensorSpec(shape=(None, 6), dtype=tf.float64, name='scalars'), name='scalars', description=\"created by layer 'scalars'\")\n"
          ]
        }
      ]
    },
    {
      "cell_type": "code",
      "metadata": {
        "colab": {
          "base_uri": "https://localhost:8080/"
        },
        "id": "3gKyRwLKeUQv",
        "outputId": "5f3178e8-19b1-4efb-94d1-bed86136c6d6"
      },
      "source": [
        "print(lyrics_input)"
      ],
      "execution_count": 42,
      "outputs": [
        {
          "output_type": "stream",
          "name": "stdout",
          "text": [
            "KerasTensor(type_spec=TensorSpec(shape=(None, 1), dtype=tf.string, name='lyrics'), name='lyrics', description=\"created by layer 'lyrics'\")\n"
          ]
        }
      ]
    },
    {
      "cell_type": "code",
      "metadata": {
        "id": "u7mrSBV9i3_z"
      },
      "source": [
        "lyrics_features = vectorize_layer(lyrics_input)\n",
        "lyrics_features = layers.Embedding(size_vocabulary, 7, name = \"embedding\")(lyrics_features)\n",
        "lyrics_features = layers.Dropout(0.2)(lyrics_features)\n",
        "lyrics_features = layers.GlobalAveragePooling1D()(lyrics_features)\n",
        "lyrics_features = layers.Dropout(0.2)(lyrics_features)\n",
        "lyrics_features = layers.Dense(64, activation='relu')(lyrics_features)"
      ],
      "execution_count": 13,
      "outputs": []
    },
    {
      "cell_type": "code",
      "metadata": {
        "id": "-0k9Ll44f1-z"
      },
      "source": [
        "scalar_features = layers.Dense(64, activation='relu')(scalars_input)"
      ],
      "execution_count": 14,
      "outputs": []
    },
    {
      "cell_type": "markdown",
      "metadata": {
        "id": "1o4f-7SGpl_K"
      },
      "source": [
        "In the following part, we are going to concatenate the output derived from lyrics pipeline and scalars pipeline. "
      ]
    },
    {
      "cell_type": "code",
      "metadata": {
        "id": "d-pW_HKjp22r"
      },
      "source": [
        "main = layers.concatenate([lyrics_features, scalar_features], axis = 1)\n",
        "main = layers.Dense(256, activation='relu')(main)\n",
        "main = layers.Dense(64, activation='relu')(main)\n",
        "main = layers.Dense(32, activation='relu')(main)\n",
        "output = layers.Dense(num_genres, name = \"genre\", activation = 'softmax')(main)"
      ],
      "execution_count": 15,
      "outputs": []
    },
    {
      "cell_type": "code",
      "metadata": {
        "id": "ougbhQfJgBkP"
      },
      "source": [
        "model = keras.Model(\n",
        "    inputs = [lyrics_input, scalars_input],\n",
        "    outputs = output\n",
        ")"
      ],
      "execution_count": 16,
      "outputs": []
    },
    {
      "cell_type": "markdown",
      "metadata": {
        "id": "jeZjByEMgxHL"
      },
      "source": [
        "So far, we have successfully built the model. Use the `plot_model()` function to take a look at the visualized structure of the model."
      ]
    },
    {
      "cell_type": "code",
      "metadata": {
        "id": "oLKFjZq1g9e2",
        "colab": {
          "base_uri": "https://localhost:8080/",
          "height": 1000
        },
        "outputId": "80cd7df4-45a4-4337-918c-7a3332a516f5"
      },
      "source": [
        "keras.utils.plot_model(model)"
      ],
      "execution_count": 17,
      "outputs": [
        {
          "output_type": "execute_result",
          "data": {
            "image/png": "[encoded data removed]",
            "text/plain": [
              "<IPython.core.display.Image object>"
            ]
          },
          "metadata": {},
          "execution_count": 17
        }
      ]
    },
    {
      "cell_type": "markdown",
      "metadata": {
        "id": "6AduQ6YIhI3G"
      },
      "source": [
        "Then, we start to train and evaluate the model."
      ]
    },
    {
      "cell_type": "code",
      "metadata": {
        "id": "U6cbmdFghClO"
      },
      "source": [
        "model.compile(optimizer = \"adam\",\n",
        "              loss = losses.SparseCategoricalCrossentropy(from_logits=False),\n",
        "              metrics=['accuracy']\n",
        ")"
      ],
      "execution_count": 18,
      "outputs": []
    },
    {
      "cell_type": "code",
      "metadata": {
        "id": "GdXDWLiChPUj",
        "colab": {
          "base_uri": "https://localhost:8080/"
        },
        "outputId": "72d4ff30-7e4f-4633-bcbb-3b7b592b0d0c"
      },
      "source": [
        "history = model.fit(train, \n",
        "                    validation_data=val,\n",
        "                    epochs = 120, \n",
        "                    verbose = True)"
      ],
      "execution_count": 19,
      "outputs": [
        {
          "output_type": "stream",
          "name": "stdout",
          "text": [
            "Epoch 1/60\n",
            "351/351 [==============================] - 3s 7ms/step - loss: 1.7517 - accuracy: 0.3011 - val_loss: 1.6091 - val_accuracy: 0.3533\n",
            "Epoch 2/60\n",
            "351/351 [==============================] - 2s 7ms/step - loss: 1.5903 - accuracy: 0.3623 - val_loss: 1.5632 - val_accuracy: 0.3713\n",
            "Epoch 3/60\n",
            "351/351 [==============================] - 2s 6ms/step - loss: 1.5433 - accuracy: 0.3843 - val_loss: 1.4895 - val_accuracy: 0.4082\n",
            "Epoch 4/60\n",
            "351/351 [==============================] - 2s 6ms/step - loss: 1.4934 - accuracy: 0.4178 - val_loss: 1.4757 - val_accuracy: 0.4331\n",
            "Epoch 5/60\n",
            "351/351 [==============================] - 2s 6ms/step - loss: 1.4312 - accuracy: 0.4449 - val_loss: 1.3636 - val_accuracy: 0.5000\n",
            "Epoch 6/60\n",
            "351/351 [==============================] - 2s 6ms/step - loss: 1.3827 - accuracy: 0.4762 - val_loss: 1.2812 - val_accuracy: 0.5369\n",
            "Epoch 7/60\n",
            "351/351 [==============================] - 2s 6ms/step - loss: 1.3427 - accuracy: 0.4902 - val_loss: 1.3195 - val_accuracy: 0.5240\n",
            "Epoch 8/60\n",
            "351/351 [==============================] - 2s 6ms/step - loss: 1.3132 - accuracy: 0.5075 - val_loss: 1.2724 - val_accuracy: 0.5170\n",
            "Epoch 9/60\n",
            "351/351 [==============================] - 2s 6ms/step - loss: 1.2877 - accuracy: 0.5239 - val_loss: 1.1998 - val_accuracy: 0.5599\n",
            "Epoch 10/60\n",
            "351/351 [==============================] - 2s 6ms/step - loss: 1.2623 - accuracy: 0.5299 - val_loss: 1.2377 - val_accuracy: 0.5349\n",
            "Epoch 11/60\n",
            "351/351 [==============================] - 2s 6ms/step - loss: 1.2373 - accuracy: 0.5433 - val_loss: 1.1712 - val_accuracy: 0.5649\n",
            "Epoch 12/60\n",
            "351/351 [==============================] - 2s 6ms/step - loss: 1.2215 - accuracy: 0.5540 - val_loss: 1.0737 - val_accuracy: 0.6098\n",
            "Epoch 13/60\n",
            "351/351 [==============================] - 2s 5ms/step - loss: 1.1810 - accuracy: 0.5651 - val_loss: 1.1337 - val_accuracy: 0.5848\n",
            "Epoch 14/60\n",
            "351/351 [==============================] - 2s 6ms/step - loss: 1.1620 - accuracy: 0.5769 - val_loss: 1.1151 - val_accuracy: 0.5928\n",
            "Epoch 15/60\n",
            "351/351 [==============================] - 2s 6ms/step - loss: 1.1373 - accuracy: 0.5859 - val_loss: 1.0600 - val_accuracy: 0.6248\n",
            "Epoch 16/60\n",
            "351/351 [==============================] - 2s 6ms/step - loss: 1.1413 - accuracy: 0.5819 - val_loss: 1.0714 - val_accuracy: 0.6158\n",
            "Epoch 17/60\n",
            "351/351 [==============================] - 2s 6ms/step - loss: 1.1257 - accuracy: 0.5887 - val_loss: 1.0254 - val_accuracy: 0.6238\n",
            "Epoch 18/60\n",
            "351/351 [==============================] - 2s 6ms/step - loss: 1.1080 - accuracy: 0.5962 - val_loss: 1.0075 - val_accuracy: 0.6537\n",
            "Epoch 19/60\n",
            "351/351 [==============================] - 2s 6ms/step - loss: 1.1012 - accuracy: 0.5957 - val_loss: 0.9440 - val_accuracy: 0.6607\n",
            "Epoch 20/60\n",
            "351/351 [==============================] - 2s 6ms/step - loss: 1.0847 - accuracy: 0.6026 - val_loss: 1.0130 - val_accuracy: 0.6188\n",
            "Epoch 21/60\n",
            "351/351 [==============================] - 2s 6ms/step - loss: 1.0730 - accuracy: 0.6071 - val_loss: 0.9722 - val_accuracy: 0.6447\n",
            "Epoch 22/60\n",
            "351/351 [==============================] - 2s 6ms/step - loss: 1.0604 - accuracy: 0.6114 - val_loss: 0.9758 - val_accuracy: 0.6387\n",
            "Epoch 23/60\n",
            "351/351 [==============================] - 2s 6ms/step - loss: 1.0683 - accuracy: 0.6080 - val_loss: 1.0369 - val_accuracy: 0.6228\n",
            "Epoch 24/60\n",
            "351/351 [==============================] - 2s 6ms/step - loss: 1.0565 - accuracy: 0.6151 - val_loss: 1.0334 - val_accuracy: 0.6218\n",
            "Epoch 25/60\n",
            "351/351 [==============================] - 2s 6ms/step - loss: 1.0260 - accuracy: 0.6323 - val_loss: 0.9564 - val_accuracy: 0.6647\n",
            "Epoch 26/60\n",
            "351/351 [==============================] - 2s 5ms/step - loss: 1.0413 - accuracy: 0.6255 - val_loss: 0.9327 - val_accuracy: 0.6707\n",
            "Epoch 27/60\n",
            "351/351 [==============================] - 2s 5ms/step - loss: 1.0372 - accuracy: 0.6229 - val_loss: 0.9707 - val_accuracy: 0.6637\n",
            "Epoch 28/60\n",
            "351/351 [==============================] - 2s 5ms/step - loss: 1.0380 - accuracy: 0.6158 - val_loss: 0.9699 - val_accuracy: 0.6617\n",
            "Epoch 29/60\n",
            "351/351 [==============================] - 2s 5ms/step - loss: 1.0191 - accuracy: 0.6235 - val_loss: 0.9299 - val_accuracy: 0.6766\n",
            "Epoch 30/60\n",
            "351/351 [==============================] - 2s 5ms/step - loss: 1.0232 - accuracy: 0.6302 - val_loss: 0.9678 - val_accuracy: 0.6367\n",
            "Epoch 31/60\n",
            "351/351 [==============================] - 2s 5ms/step - loss: 1.0114 - accuracy: 0.6329 - val_loss: 0.9915 - val_accuracy: 0.6487\n",
            "Epoch 32/60\n",
            "351/351 [==============================] - 2s 6ms/step - loss: 1.0078 - accuracy: 0.6285 - val_loss: 0.9213 - val_accuracy: 0.6737\n",
            "Epoch 33/60\n",
            "351/351 [==============================] - 2s 6ms/step - loss: 0.9988 - accuracy: 0.6442 - val_loss: 0.8966 - val_accuracy: 0.6786\n",
            "Epoch 34/60\n",
            "351/351 [==============================] - 2s 6ms/step - loss: 0.9928 - accuracy: 0.6385 - val_loss: 0.9234 - val_accuracy: 0.6497\n",
            "Epoch 35/60\n",
            "351/351 [==============================] - 2s 6ms/step - loss: 0.9917 - accuracy: 0.6390 - val_loss: 0.9037 - val_accuracy: 0.6707\n",
            "Epoch 36/60\n",
            "351/351 [==============================] - 2s 6ms/step - loss: 0.9756 - accuracy: 0.6400 - val_loss: 0.9246 - val_accuracy: 0.6737\n",
            "Epoch 37/60\n",
            "351/351 [==============================] - 2s 6ms/step - loss: 0.9880 - accuracy: 0.6293 - val_loss: 0.9019 - val_accuracy: 0.6916\n",
            "Epoch 38/60\n",
            "351/351 [==============================] - 2s 6ms/step - loss: 0.9906 - accuracy: 0.6358 - val_loss: 0.8801 - val_accuracy: 0.6846\n",
            "Epoch 39/60\n",
            "351/351 [==============================] - 2s 6ms/step - loss: 0.9711 - accuracy: 0.6469 - val_loss: 0.9083 - val_accuracy: 0.6687\n",
            "Epoch 40/60\n",
            "351/351 [==============================] - 2s 5ms/step - loss: 0.9691 - accuracy: 0.6510 - val_loss: 0.8402 - val_accuracy: 0.7166\n",
            "Epoch 41/60\n",
            "351/351 [==============================] - 2s 5ms/step - loss: 0.9714 - accuracy: 0.6523 - val_loss: 0.8341 - val_accuracy: 0.6986\n",
            "Epoch 42/60\n",
            "351/351 [==============================] - 2s 6ms/step - loss: 0.9585 - accuracy: 0.6483 - val_loss: 0.8776 - val_accuracy: 0.6737\n",
            "Epoch 43/60\n",
            "351/351 [==============================] - 2s 6ms/step - loss: 0.9544 - accuracy: 0.6479 - val_loss: 0.9143 - val_accuracy: 0.6916\n",
            "Epoch 44/60\n",
            "351/351 [==============================] - 2s 6ms/step - loss: 0.9667 - accuracy: 0.6470 - val_loss: 0.8603 - val_accuracy: 0.6986\n",
            "Epoch 45/60\n",
            "351/351 [==============================] - 2s 6ms/step - loss: 0.9488 - accuracy: 0.6548 - val_loss: 0.8247 - val_accuracy: 0.7146\n",
            "Epoch 46/60\n",
            "351/351 [==============================] - 2s 6ms/step - loss: 0.9377 - accuracy: 0.6521 - val_loss: 0.8046 - val_accuracy: 0.6986\n",
            "Epoch 47/60\n",
            "351/351 [==============================] - 2s 6ms/step - loss: 0.9372 - accuracy: 0.6614 - val_loss: 0.8470 - val_accuracy: 0.7006\n",
            "Epoch 48/60\n",
            "351/351 [==============================] - 2s 6ms/step - loss: 0.9282 - accuracy: 0.6648 - val_loss: 0.8416 - val_accuracy: 0.7076\n",
            "Epoch 49/60\n",
            "351/351 [==============================] - 2s 6ms/step - loss: 0.9320 - accuracy: 0.6574 - val_loss: 0.8359 - val_accuracy: 0.7056\n",
            "Epoch 50/60\n",
            "351/351 [==============================] - 2s 6ms/step - loss: 0.9394 - accuracy: 0.6574 - val_loss: 0.8888 - val_accuracy: 0.6836\n",
            "Epoch 51/60\n",
            "351/351 [==============================] - 2s 6ms/step - loss: 0.9253 - accuracy: 0.6591 - val_loss: 0.7554 - val_accuracy: 0.7345\n",
            "Epoch 52/60\n",
            "351/351 [==============================] - 2s 6ms/step - loss: 0.9222 - accuracy: 0.6658 - val_loss: 0.7597 - val_accuracy: 0.7206\n",
            "Epoch 53/60\n",
            "351/351 [==============================] - 2s 5ms/step - loss: 0.9226 - accuracy: 0.6605 - val_loss: 0.8177 - val_accuracy: 0.7106\n",
            "Epoch 54/60\n",
            "351/351 [==============================] - 2s 5ms/step - loss: 0.9203 - accuracy: 0.6701 - val_loss: 0.7889 - val_accuracy: 0.7076\n",
            "Epoch 55/60\n",
            "351/351 [==============================] - 2s 5ms/step - loss: 0.9178 - accuracy: 0.6644 - val_loss: 0.8246 - val_accuracy: 0.7116\n",
            "Epoch 56/60\n",
            "351/351 [==============================] - 2s 5ms/step - loss: 0.9244 - accuracy: 0.6647 - val_loss: 0.8006 - val_accuracy: 0.7136\n",
            "Epoch 57/60\n",
            "351/351 [==============================] - 2s 6ms/step - loss: 0.9118 - accuracy: 0.6642 - val_loss: 0.8888 - val_accuracy: 0.6796\n",
            "Epoch 58/60\n",
            "351/351 [==============================] - 2s 6ms/step - loss: 0.9102 - accuracy: 0.6702 - val_loss: 0.7624 - val_accuracy: 0.7365\n",
            "Epoch 59/60\n",
            "351/351 [==============================] - 2s 5ms/step - loss: 0.8918 - accuracy: 0.6744 - val_loss: 0.7942 - val_accuracy: 0.7186\n",
            "Epoch 60/60\n",
            "351/351 [==============================] - 2s 6ms/step - loss: 0.8930 - accuracy: 0.6748 - val_loss: 0.7364 - val_accuracy: 0.7355\n"
          ]
        }
      ]
    },
    {
      "cell_type": "code",
      "metadata": {
        "colab": {
          "base_uri": "https://localhost:8080/"
        },
        "id": "8sERE4qq1GOR",
        "outputId": "78872502-a209-41a3-9498-97467b4cba50"
      },
      "source": [
        "# delete later\n",
        "history = model.fit(train, \n",
        "                    validation_data=val,\n",
        "                    epochs = 20, \n",
        "                    verbose = True)"
      ],
      "execution_count": 22,
      "outputs": [
        {
          "output_type": "stream",
          "name": "stdout",
          "text": [
            "Epoch 1/20\n",
            "351/351 [==============================] - 2s 5ms/step - loss: 0.7663 - accuracy: 0.7212 - val_loss: 0.5711 - val_accuracy: 0.8004\n",
            "Epoch 2/20\n",
            "351/351 [==============================] - 2s 5ms/step - loss: 0.7491 - accuracy: 0.7248 - val_loss: 0.5903 - val_accuracy: 0.7794\n",
            "Epoch 3/20\n",
            "351/351 [==============================] - 2s 6ms/step - loss: 0.7502 - accuracy: 0.7259 - val_loss: 0.6615 - val_accuracy: 0.7754\n",
            "Epoch 4/20\n",
            "351/351 [==============================] - 2s 6ms/step - loss: 0.7598 - accuracy: 0.7256 - val_loss: 0.5368 - val_accuracy: 0.8234\n",
            "Epoch 5/20\n",
            "351/351 [==============================] - 2s 5ms/step - loss: 0.7548 - accuracy: 0.7207 - val_loss: 0.6378 - val_accuracy: 0.7695\n",
            "Epoch 6/20\n",
            "351/351 [==============================] - 2s 6ms/step - loss: 0.7447 - accuracy: 0.7215 - val_loss: 0.5406 - val_accuracy: 0.8154\n",
            "Epoch 7/20\n",
            "351/351 [==============================] - 2s 6ms/step - loss: 0.7527 - accuracy: 0.7204 - val_loss: 0.5771 - val_accuracy: 0.7894\n",
            "Epoch 8/20\n",
            "351/351 [==============================] - 2s 6ms/step - loss: 0.7258 - accuracy: 0.7380 - val_loss: 0.5442 - val_accuracy: 0.8164\n",
            "Epoch 9/20\n",
            "351/351 [==============================] - 2s 6ms/step - loss: 0.7485 - accuracy: 0.7269 - val_loss: 0.5688 - val_accuracy: 0.7944\n",
            "Epoch 10/20\n",
            "351/351 [==============================] - 2s 6ms/step - loss: 0.7507 - accuracy: 0.7228 - val_loss: 0.5509 - val_accuracy: 0.8253\n",
            "Epoch 11/20\n",
            "351/351 [==============================] - 2s 6ms/step - loss: 0.7384 - accuracy: 0.7285 - val_loss: 0.6320 - val_accuracy: 0.7625\n",
            "Epoch 12/20\n",
            "351/351 [==============================] - 2s 7ms/step - loss: 0.7241 - accuracy: 0.7319 - val_loss: 0.5326 - val_accuracy: 0.8094\n",
            "Epoch 13/20\n",
            "351/351 [==============================] - 2s 6ms/step - loss: 0.7229 - accuracy: 0.7328 - val_loss: 0.5870 - val_accuracy: 0.7884\n",
            "Epoch 14/20\n",
            "351/351 [==============================] - 2s 6ms/step - loss: 0.7169 - accuracy: 0.7402 - val_loss: 0.5268 - val_accuracy: 0.8184\n",
            "Epoch 15/20\n",
            "351/351 [==============================] - 2s 5ms/step - loss: 0.7246 - accuracy: 0.7323 - val_loss: 0.5419 - val_accuracy: 0.8104\n",
            "Epoch 16/20\n",
            "351/351 [==============================] - 2s 5ms/step - loss: 0.7185 - accuracy: 0.7365 - val_loss: 0.5869 - val_accuracy: 0.7844\n",
            "Epoch 17/20\n",
            "351/351 [==============================] - 2s 5ms/step - loss: 0.7337 - accuracy: 0.7330 - val_loss: 0.5853 - val_accuracy: 0.7854\n",
            "Epoch 18/20\n",
            "351/351 [==============================] - 2s 5ms/step - loss: 0.7304 - accuracy: 0.7333 - val_loss: 0.5500 - val_accuracy: 0.8074\n",
            "Epoch 19/20\n",
            "351/351 [==============================] - 2s 5ms/step - loss: 0.7140 - accuracy: 0.7335 - val_loss: 0.5400 - val_accuracy: 0.8014\n",
            "Epoch 20/20\n",
            "351/351 [==============================] - 2s 6ms/step - loss: 0.7134 - accuracy: 0.7377 - val_loss: 0.5923 - val_accuracy: 0.7774\n"
          ]
        }
      ]
    },
    {
      "cell_type": "code",
      "metadata": {
        "id": "RvoMBSDthmUy",
        "colab": {
          "base_uri": "https://localhost:8080/",
          "height": 312
        },
        "outputId": "e55b89bf-9ae2-43a7-f7ef-2066b05c6daf"
      },
      "source": [
        "from matplotlib import pyplot as plt\n",
        "# summarize history for accuracy\n",
        "plt.plot(history.history[\"accuracy\"], label = \"training\")\n",
        "plt.plot(history.history[\"val_accuracy\"], label = \"validation\")\n",
        "plt.title(\"Model Accuracy\")\n",
        "plt.xlabel(\"Epoch\")\n",
        "plt.ylabel(\"Accuracy\")\n",
        "plt.legend([\"training\",\"validation\"], loc = \"upper left\")\n"
      ],
      "execution_count": 22,
      "outputs": [
        {
          "output_type": "execute_result",
          "data": {
            "text/plain": [
              "<matplotlib.legend.Legend at 0x7f00f255ee10>"
            ]
          },
          "metadata": {},
          "execution_count": 22
        },
        {
          "output_type": "display_data",
          "data": {
            "image/png": "[encoded data removed]",
            "text/plain": [
              "<Figure size 432x288 with 1 Axes>"
            ]
          },
          "metadata": {
            "needs_background": "light"
          }
        }
      ]
    },
    {
      "cell_type": "markdown",
      "metadata": {
        "id": "Aq2pBOibCQv2"
      },
      "source": [
        "## Pickling the model"
      ]
    },
    {
      "cell_type": "code",
      "metadata": {
        "colab": {
          "base_uri": "https://localhost:8080/"
        },
        "id": "haS6c9myCQCf",
        "outputId": "867b7ba6-1024-4858-f199-946ce19c7d03"
      },
      "source": [
        "# from google.colab import drive\n",
        "# drive.mount('/content/gdrive')\n",
        "\n",
        "# model.save_weights('/content/gdrive/My Drive/fake_model')                                                                                                                                                                                                                                                                                                                                                                                                                                                                                                                                                                                                                                                                                                                                                                                                                                                                                                                                                                                                                                                                                                                                                                                                                                                                                                         \n",
        "\n",
        "# import pickle\n",
        "# filename = '/content/gdrive/My Drive/fake_model.pkl'\n",
        "# pickle.dump(model, open(filename, 'wb'))"
      ],
      "execution_count": 19,
      "outputs": [
        {
          "output_type": "stream",
          "name": "stdout",
          "text": [
            "Mounted at /content/gdrive\n"
          ]
        }
      ]
    },
    {
      "cell_type": "code",
      "metadata": {
        "colab": {
          "base_uri": "https://localhost:8080/"
        },
        "id": "VvFpoHO8BigB",
        "outputId": "08629678-419a-4b9d-833e-6f8173caef5e"
      },
      "source": [
        "from google.colab import drive\n",
        "drive.mount('/content/gdrive')\n",
        "import os\n",
        "# os.chdir(\"/content/gdrive/My Drive/fake_model3\")\n",
        "#drive.mount('/content/gdrive')\n",
        "model.save('/content/gdrive/MyDrive/fake_model4', save_format='tf')"
      ],
      "execution_count": 24,
      "outputs": [
        {
          "output_type": "stream",
          "name": "stdout",
          "text": [
            "Drive already mounted at /content/gdrive; to attempt to forcibly remount, call drive.mount(\"/content/gdrive\", force_remount=True).\n",
            "INFO:tensorflow:Assets written to: /content/gdrive/MyDrive/fake_model4/assets\n"
          ]
        }
      ]
    },
    {
      "cell_type": "code",
      "metadata": {
        "colab": {
          "base_uri": "https://localhost:8080/",
          "height": 429
        },
        "id": "rK6QiiKyxsAu",
        "outputId": "5790b94a-e2f3-4f9d-c651-586c128af463"
      },
      "source": [
        "test_lyrics = [\"abcdefg\"]\n",
        "test_id = \"75tjghj\"\n",
        "test_output = model.predict([test_lyrics,test_id])"
      ],
      "execution_count": 38,
      "outputs": [
        {
          "output_type": "stream",
          "name": "stderr",
          "text": [
            "/usr/local/lib/python3.7/dist-packages/numpy/core/_asarray.py:83: VisibleDeprecationWarning:\n",
            "\n",
            "Creating an ndarray from ragged nested sequences (which is a list-or-tuple of lists-or-tuples-or ndarrays with different lengths or shapes) is deprecated. If you meant to do this, you must specify 'dtype=object' when creating the ndarray\n",
            "\n"
          ]
        },
        {
          "output_type": "error",
          "ename": "ValueError",
          "evalue": "ignored",
          "traceback": [
            "\u001b[0;31m---------------------------------------------------------------------------\u001b[0m",
            "\u001b[0;31mValueError\u001b[0m                                Traceback (most recent call last)",
            "\u001b[0;32m<ipython-input-38-ab97a94a6678>\u001b[0m in \u001b[0;36m<module>\u001b[0;34m()\u001b[0m\n\u001b[1;32m      1\u001b[0m \u001b[0mtest_lyrics\u001b[0m \u001b[0;34m=\u001b[0m \u001b[0;34m[\u001b[0m\u001b[0;34m\"abcdefg\"\u001b[0m\u001b[0;34m]\u001b[0m\u001b[0;34m\u001b[0m\u001b[0;34m\u001b[0m\u001b[0m\n\u001b[1;32m      2\u001b[0m \u001b[0mtest_id\u001b[0m \u001b[0;34m=\u001b[0m \u001b[0;34m\"75tjghj\"\u001b[0m\u001b[0;34m\u001b[0m\u001b[0;34m\u001b[0m\u001b[0m\n\u001b[0;32m----> 3\u001b[0;31m \u001b[0mtest_output\u001b[0m \u001b[0;34m=\u001b[0m \u001b[0mmodel\u001b[0m\u001b[0;34m.\u001b[0m\u001b[0mpredict\u001b[0m\u001b[0;34m(\u001b[0m\u001b[0;34m[\u001b[0m\u001b[0mtest_lyrics\u001b[0m\u001b[0;34m,\u001b[0m\u001b[0mtest_id\u001b[0m\u001b[0;34m]\u001b[0m\u001b[0;34m)\u001b[0m\u001b[0;34m\u001b[0m\u001b[0;34m\u001b[0m\u001b[0m\n\u001b[0m",
            "\u001b[0;32m/usr/local/lib/python3.7/dist-packages/keras/utils/traceback_utils.py\u001b[0m in \u001b[0;36merror_handler\u001b[0;34m(*args, **kwargs)\u001b[0m\n\u001b[1;32m     65\u001b[0m     \u001b[0;32mexcept\u001b[0m \u001b[0mException\u001b[0m \u001b[0;32mas\u001b[0m \u001b[0me\u001b[0m\u001b[0;34m:\u001b[0m  \u001b[0;31m# pylint: disable=broad-except\u001b[0m\u001b[0;34m\u001b[0m\u001b[0;34m\u001b[0m\u001b[0m\n\u001b[1;32m     66\u001b[0m       \u001b[0mfiltered_tb\u001b[0m \u001b[0;34m=\u001b[0m \u001b[0m_process_traceback_frames\u001b[0m\u001b[0;34m(\u001b[0m\u001b[0me\u001b[0m\u001b[0;34m.\u001b[0m\u001b[0m__traceback__\u001b[0m\u001b[0;34m)\u001b[0m\u001b[0;34m\u001b[0m\u001b[0;34m\u001b[0m\u001b[0m\n\u001b[0;32m---> 67\u001b[0;31m       \u001b[0;32mraise\u001b[0m \u001b[0me\u001b[0m\u001b[0;34m.\u001b[0m\u001b[0mwith_traceback\u001b[0m\u001b[0;34m(\u001b[0m\u001b[0mfiltered_tb\u001b[0m\u001b[0;34m)\u001b[0m \u001b[0;32mfrom\u001b[0m \u001b[0;32mNone\u001b[0m\u001b[0;34m\u001b[0m\u001b[0;34m\u001b[0m\u001b[0m\n\u001b[0m\u001b[1;32m     68\u001b[0m     \u001b[0;32mfinally\u001b[0m\u001b[0;34m:\u001b[0m\u001b[0;34m\u001b[0m\u001b[0;34m\u001b[0m\u001b[0m\n\u001b[1;32m     69\u001b[0m       \u001b[0;32mdel\u001b[0m \u001b[0mfiltered_tb\u001b[0m\u001b[0;34m\u001b[0m\u001b[0;34m\u001b[0m\u001b[0m\n",
            "\u001b[0;32m/usr/local/lib/python3.7/dist-packages/tensorflow/python/framework/constant_op.py\u001b[0m in \u001b[0;36mconvert_to_eager_tensor\u001b[0;34m(value, ctx, dtype)\u001b[0m\n\u001b[1;32m    104\u001b[0m       \u001b[0mdtype\u001b[0m \u001b[0;34m=\u001b[0m \u001b[0mdtypes\u001b[0m\u001b[0;34m.\u001b[0m\u001b[0mas_dtype\u001b[0m\u001b[0;34m(\u001b[0m\u001b[0mdtype\u001b[0m\u001b[0;34m)\u001b[0m\u001b[0;34m.\u001b[0m\u001b[0mas_datatype_enum\u001b[0m\u001b[0;34m\u001b[0m\u001b[0;34m\u001b[0m\u001b[0m\n\u001b[1;32m    105\u001b[0m   \u001b[0mctx\u001b[0m\u001b[0;34m.\u001b[0m\u001b[0mensure_initialized\u001b[0m\u001b[0;34m(\u001b[0m\u001b[0;34m)\u001b[0m\u001b[0;34m\u001b[0m\u001b[0;34m\u001b[0m\u001b[0m\n\u001b[0;32m--> 106\u001b[0;31m   \u001b[0;32mreturn\u001b[0m \u001b[0mops\u001b[0m\u001b[0;34m.\u001b[0m\u001b[0mEagerTensor\u001b[0m\u001b[0;34m(\u001b[0m\u001b[0mvalue\u001b[0m\u001b[0;34m,\u001b[0m \u001b[0mctx\u001b[0m\u001b[0;34m.\u001b[0m\u001b[0mdevice_name\u001b[0m\u001b[0;34m,\u001b[0m \u001b[0mdtype\u001b[0m\u001b[0;34m)\u001b[0m\u001b[0;34m\u001b[0m\u001b[0;34m\u001b[0m\u001b[0m\n\u001b[0m\u001b[1;32m    107\u001b[0m \u001b[0;34m\u001b[0m\u001b[0m\n\u001b[1;32m    108\u001b[0m \u001b[0;34m\u001b[0m\u001b[0m\n",
            "\u001b[0;31mValueError\u001b[0m: Failed to convert a NumPy array to a Tensor (Unsupported object type list)."
          ]
        }
      ]
    },
    {
      "cell_type": "code",
      "metadata": {
        "colab": {
          "base_uri": "https://localhost:8080/"
        },
        "id": "D2kdJNPNEdEw",
        "outputId": "73818388-413f-4dfc-c3df-41f222278ec0"
      },
      "source": [
        "from google.colab import drive\n",
        "drive.mount('/content/drive')"
      ],
      "execution_count": 52,
      "outputs": [
        {
          "output_type": "stream",
          "name": "stdout",
          "text": [
            "Drive already mounted at /content/drive; to attempt to forcibly remount, call drive.mount(\"/content/drive\", force_remount=True).\n"
          ]
        }
      ]
    },
    {
      "cell_type": "code",
      "metadata": {
        "id": "Ly0G9eJtarge",
        "colab": {
          "base_uri": "https://localhost:8080/",
          "height": 295
        },
        "outputId": "f0c8706c-b314-4c30-8ca1-51ed88f11e53"
      },
      "source": [
        "# summarize history for loss\n",
        "# summarize history for loss\n",
        "plt.plot(history.history['loss'])\n",
        "plt.plot(history.history['val_loss'])\n",
        "plt.title('Model Loss')\n",
        "plt.ylabel('Loss')\n",
        "plt.xlabel('Epoch')\n",
        "plt.legend(['training', 'testing'], loc='upper left')\n",
        "plt.show()"
      ],
      "execution_count": null,
      "outputs": [
        {
          "output_type": "display_data",
          "data": {
            "image/png": "[encoded data removed]",
            "text/plain": [
              "<Figure size 432x288 with 1 Axes>"
            ]
          },
          "metadata": {
            "needs_background": "light"
          }
        }
      ]
    },
    {
      "cell_type": "code",
      "metadata": {
        "colab": {
          "base_uri": "https://localhost:8080/"
        },
        "id": "-hg3S3Y_2IpL",
        "outputId": "8bf3898c-a94a-4269-a223-d22b784e4d9f"
      },
      "source": [
        "import tensorflow as tf\n",
        "x = tf.constant([1, 2, 3])\n",
        "x.shape\n",
        "\n",
        "y = x[None,:]\n",
        "y.shape,x.shape"
      ],
      "execution_count": 3,
      "outputs": [
        {
          "output_type": "execute_result",
          "data": {
            "text/plain": [
              "(TensorShape([1, 3]), TensorShape([3]))"
            ]
          },
          "metadata": {},
          "execution_count": 3
        }
      ]
    }
  ]
}